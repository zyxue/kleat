{
 "cells": [
  {
   "cell_type": "code",
   "execution_count": 1,
   "metadata": {},
   "outputs": [],
   "source": [
    "from eda_imports import *\n",
    "from adjustText import adjust_text"
   ]
  },
  {
   "cell_type": "code",
   "execution_count": 2,
   "metadata": {},
   "outputs": [],
   "source": [
    "sys.path.insert(0, '../benchmark_scripts/')\n",
    "\n",
    "from train_arbor import load_df, load_polya_seq_df, map_to_ref, compare\n",
    "from ml_utils import KARBOR_FEATURE_COLS, calc_precision_recall_curve"
   ]
  },
  {
   "cell_type": "code",
   "execution_count": 3,
   "metadata": {},
   "outputs": [],
   "source": [
    "clf_pkl_files = sorted(glob.glob(\n",
    "    '../benchmark_transcriptome/tcga-run-4/benchmark-gradboost.GradientBoostingClassifier.tree_max_depth_3.pkl'\n",
    "))"
   ]
  },
  {
   "cell_type": "code",
   "execution_count": 4,
   "metadata": {},
   "outputs": [
    {
     "data": {
      "text/plain": [
       "1"
      ]
     },
     "execution_count": 4,
     "metadata": {},
     "output_type": "execute_result"
    }
   ],
   "source": [
    "len(clf_pkl_files)"
   ]
  },
  {
   "cell_type": "code",
   "execution_count": 5,
   "metadata": {},
   "outputs": [
    {
     "name": "stdout",
     "output_type": "stream",
     "text": [
      "working on benchmark-gradboost.GradientBoostingClassifier.tree_max_depth_3.pkl 3\n"
     ]
    }
   ],
   "source": [
    "clfs_dd = {}\n",
    "for pkl_file in clf_pkl_files:\n",
    "    tmax_depth = re.search('tree_max_depth_([0-9]+)', pkl_file).group(1)\n",
    "    tmax_depth = int(tmax_depth)\n",
    "    with open(pkl_file, 'rb') as inf:\n",
    "        print(f'working on {os.path.basename(pkl_file)}', tmax_depth)\n",
    "        clfs_dd[tmax_depth] = pickle.load(inf)"
   ]
  },
  {
   "cell_type": "code",
   "execution_count": 6,
   "metadata": {},
   "outputs": [
    {
     "name": "stderr",
     "output_type": "stream",
     "text": [
      "2018-08-01 12:27:57,490|INFO|reading /projects/cheny_prj/KLEAT_benchmarking/polyA_seq/Brain1.bed ...\n",
      "2018-08-01 12:28:29,653|INFO|grouping by ['seqname', 'strand']\n"
     ]
    },
    {
     "name": "stdout",
     "output_type": "stream",
     "text": [
      "0.0,"
     ]
    },
    {
     "name": "stderr",
     "output_type": "stream",
     "text": [
      "100%|██████████| 50/50 [00:00<00:00, 375.81it/s]\n",
      "2018-08-01 12:28:31,384|INFO|clustering clvs in parallel using 30 CPUs ...\n",
      "2018-08-01 12:30:19,023|INFO|concatenating clustered sub dataframes ...\n",
      "2018-08-01 12:30:30,786|INFO|grouping by ['seqname', 'strand']\n"
     ]
    },
    {
     "name": "stdout",
     "output_type": "stream",
     "text": [
      "0.01,"
     ]
    },
    {
     "name": "stderr",
     "output_type": "stream",
     "text": [
      "100%|██████████| 50/50 [00:00<00:00, 992.79it/s]\n",
      "2018-08-01 12:30:31,477|INFO|clustering clvs in parallel using 30 CPUs ...\n",
      "2018-08-01 12:30:46,699|INFO|concatenating clustered sub dataframes ...\n",
      "2018-08-01 12:30:50,993|INFO|grouping by ['seqname', 'strand']\n"
     ]
    },
    {
     "name": "stdout",
     "output_type": "stream",
     "text": [
      "0.02,"
     ]
    },
    {
     "name": "stderr",
     "output_type": "stream",
     "text": [
      "100%|██████████| 50/50 [00:00<00:00, 1370.97it/s]\n",
      "2018-08-01 12:30:51,547|INFO|clustering clvs in parallel using 30 CPUs ...\n",
      "2018-08-01 12:30:59,335|INFO|concatenating clustered sub dataframes ...\n",
      "2018-08-01 12:31:01,902|INFO|grouping by ['seqname', 'strand']\n",
      "  0%|          | 0/50 [00:00<?, ?it/s]"
     ]
    },
    {
     "name": "stdout",
     "output_type": "stream",
     "text": [
      "0.03,"
     ]
    },
    {
     "name": "stderr",
     "output_type": "stream",
     "text": [
      "100%|██████████| 50/50 [00:00<00:00, 1447.78it/s]\n",
      "2018-08-01 12:31:02,309|INFO|clustering clvs in parallel using 30 CPUs ...\n",
      "2018-08-01 12:31:07,328|INFO|concatenating clustered sub dataframes ...\n",
      "2018-08-01 12:31:09,251|INFO|grouping by ['seqname', 'strand']\n"
     ]
    },
    {
     "name": "stdout",
     "output_type": "stream",
     "text": [
      "0.04,"
     ]
    },
    {
     "name": "stderr",
     "output_type": "stream",
     "text": [
      "100%|██████████| 50/50 [00:00<00:00, 1928.38it/s]\n",
      "2018-08-01 12:31:09,715|INFO|clustering clvs in parallel using 30 CPUs ...\n",
      "2018-08-01 12:31:13,394|INFO|concatenating clustered sub dataframes ...\n",
      "2018-08-01 12:31:14,656|INFO|grouping by ['seqname', 'strand']\n"
     ]
    },
    {
     "name": "stdout",
     "output_type": "stream",
     "text": [
      "0.05,"
     ]
    },
    {
     "name": "stderr",
     "output_type": "stream",
     "text": [
      "100%|██████████| 50/50 [00:00<00:00, 2445.34it/s]\n",
      "2018-08-01 12:31:15,082|INFO|clustering clvs in parallel using 30 CPUs ...\n",
      "2018-08-01 12:31:18,473|INFO|concatenating clustered sub dataframes ...\n",
      "2018-08-01 12:31:19,654|INFO|grouping by ['seqname', 'strand']\n"
     ]
    },
    {
     "name": "stdout",
     "output_type": "stream",
     "text": [
      "0.06,"
     ]
    },
    {
     "name": "stderr",
     "output_type": "stream",
     "text": [
      "100%|██████████| 50/50 [00:00<00:00, 2379.10it/s]\n",
      "2018-08-01 12:31:20,098|INFO|clustering clvs in parallel using 30 CPUs ...\n",
      "2018-08-01 12:31:22,568|INFO|concatenating clustered sub dataframes ...\n",
      "2018-08-01 12:31:23,492|INFO|grouping by ['seqname', 'strand']\n",
      "100%|██████████| 50/50 [00:00<00:00, 2679.59it/s]"
     ]
    },
    {
     "name": "stdout",
     "output_type": "stream",
     "text": [
      "0.07,"
     ]
    },
    {
     "name": "stderr",
     "output_type": "stream",
     "text": [
      "\n",
      "2018-08-01 12:31:23,865|INFO|clustering clvs in parallel using 30 CPUs ...\n",
      "2018-08-01 12:31:25,920|INFO|concatenating clustered sub dataframes ...\n",
      "2018-08-01 12:31:26,886|INFO|grouping by ['seqname', 'strand']\n",
      "  0%|          | 0/50 [00:00<?, ?it/s]"
     ]
    },
    {
     "name": "stdout",
     "output_type": "stream",
     "text": [
      "0.08,"
     ]
    },
    {
     "name": "stderr",
     "output_type": "stream",
     "text": [
      "100%|██████████| 50/50 [00:00<00:00, 2718.42it/s]\n",
      "2018-08-01 12:31:27,378|INFO|clustering clvs in parallel using 30 CPUs ...\n",
      "2018-08-01 12:31:29,544|INFO|concatenating clustered sub dataframes ...\n",
      "2018-08-01 12:31:30,436|INFO|grouping by ['seqname', 'strand']\n",
      "100%|██████████| 50/50 [00:00<00:00, 2412.93it/s]"
     ]
    },
    {
     "name": "stdout",
     "output_type": "stream",
     "text": [
      "0.09,"
     ]
    },
    {
     "name": "stderr",
     "output_type": "stream",
     "text": [
      "\n",
      "2018-08-01 12:31:30,792|INFO|clustering clvs in parallel using 30 CPUs ...\n",
      "2018-08-01 12:31:32,658|INFO|concatenating clustered sub dataframes ...\n",
      "2018-08-01 12:31:33,524|INFO|grouping by ['seqname', 'strand']\n",
      "  0%|          | 0/50 [00:00<?, ?it/s]"
     ]
    },
    {
     "name": "stdout",
     "output_type": "stream",
     "text": [
      "0.1,"
     ]
    },
    {
     "name": "stderr",
     "output_type": "stream",
     "text": [
      "100%|██████████| 50/50 [00:00<00:00, 2570.07it/s]\n",
      "2018-08-01 12:31:33,942|INFO|clustering clvs in parallel using 30 CPUs ...\n",
      "2018-08-01 12:31:35,709|INFO|concatenating clustered sub dataframes ...\n",
      "2018-08-01 12:31:36,539|INFO|grouping by ['seqname', 'strand']\n",
      "100%|██████████| 50/50 [00:00<00:00, 2712.27it/s]"
     ]
    },
    {
     "name": "stdout",
     "output_type": "stream",
     "text": [
      "0.11,"
     ]
    },
    {
     "name": "stderr",
     "output_type": "stream",
     "text": [
      "\n",
      "2018-08-01 12:31:36,924|INFO|clustering clvs in parallel using 30 CPUs ...\n",
      "2018-08-01 12:31:38,686|INFO|concatenating clustered sub dataframes ...\n",
      "2018-08-01 12:31:39,443|INFO|grouping by ['seqname', 'strand']\n",
      "100%|██████████| 50/50 [00:00<00:00, 3080.24it/s]"
     ]
    },
    {
     "name": "stdout",
     "output_type": "stream",
     "text": [
      "0.12,"
     ]
    },
    {
     "name": "stderr",
     "output_type": "stream",
     "text": [
      "\n",
      "2018-08-01 12:31:39,727|INFO|clustering clvs in parallel using 30 CPUs ...\n",
      "2018-08-01 12:31:41,526|INFO|concatenating clustered sub dataframes ...\n",
      "2018-08-01 12:31:42,288|INFO|grouping by ['seqname', 'strand']\n",
      "100%|██████████| 50/50 [00:00<00:00, 2930.62it/s]"
     ]
    },
    {
     "name": "stdout",
     "output_type": "stream",
     "text": [
      "0.13,"
     ]
    },
    {
     "name": "stderr",
     "output_type": "stream",
     "text": [
      "\n",
      "2018-08-01 12:31:42,574|INFO|clustering clvs in parallel using 30 CPUs ...\n",
      "2018-08-01 12:31:43,933|INFO|concatenating clustered sub dataframes ...\n",
      "2018-08-01 12:31:44,646|INFO|grouping by ['seqname', 'strand']\n",
      "100%|██████████| 50/50 [00:00<00:00, 3000.05it/s]"
     ]
    },
    {
     "name": "stdout",
     "output_type": "stream",
     "text": [
      "0.14,"
     ]
    },
    {
     "name": "stderr",
     "output_type": "stream",
     "text": [
      "\n",
      "2018-08-01 12:31:45,015|INFO|clustering clvs in parallel using 30 CPUs ...\n",
      "2018-08-01 12:31:46,159|INFO|concatenating clustered sub dataframes ...\n",
      "2018-08-01 12:31:46,740|INFO|grouping by ['seqname', 'strand']\n",
      "100%|██████████| 50/50 [00:00<00:00, 3195.12it/s]"
     ]
    },
    {
     "name": "stdout",
     "output_type": "stream",
     "text": [
      "0.15,"
     ]
    },
    {
     "name": "stderr",
     "output_type": "stream",
     "text": [
      "\n",
      "2018-08-01 12:31:47,062|INFO|clustering clvs in parallel using 30 CPUs ...\n",
      "2018-08-01 12:31:48,314|INFO|concatenating clustered sub dataframes ...\n",
      "2018-08-01 12:31:48,896|INFO|grouping by ['seqname', 'strand']\n",
      "100%|██████████| 50/50 [00:00<00:00, 2207.67it/s]"
     ]
    },
    {
     "name": "stdout",
     "output_type": "stream",
     "text": [
      "0.16,"
     ]
    },
    {
     "name": "stderr",
     "output_type": "stream",
     "text": [
      "\n",
      "2018-08-01 12:31:49,248|INFO|clustering clvs in parallel using 30 CPUs ...\n",
      "2018-08-01 12:31:50,500|INFO|concatenating clustered sub dataframes ...\n",
      "2018-08-01 12:31:51,040|INFO|grouping by ['seqname', 'strand']\n",
      "100%|██████████| 50/50 [00:00<00:00, 3445.18it/s]"
     ]
    },
    {
     "name": "stdout",
     "output_type": "stream",
     "text": [
      "0.17,"
     ]
    },
    {
     "name": "stderr",
     "output_type": "stream",
     "text": [
      "\n",
      "2018-08-01 12:31:51,300|INFO|clustering clvs in parallel using 30 CPUs ...\n",
      "2018-08-01 12:31:52,559|INFO|concatenating clustered sub dataframes ...\n",
      "2018-08-01 12:31:53,090|INFO|grouping by ['seqname', 'strand']\n",
      "100%|██████████| 50/50 [00:00<00:00, 3008.05it/s]"
     ]
    },
    {
     "name": "stdout",
     "output_type": "stream",
     "text": [
      "0.18,"
     ]
    },
    {
     "name": "stderr",
     "output_type": "stream",
     "text": [
      "\n",
      "2018-08-01 12:31:53,430|INFO|clustering clvs in parallel using 30 CPUs ...\n",
      "2018-08-01 12:31:54,695|INFO|concatenating clustered sub dataframes ...\n",
      "2018-08-01 12:31:55,230|INFO|grouping by ['seqname', 'strand']\n",
      "100%|██████████| 50/50 [00:00<00:00, 3101.65it/s]"
     ]
    },
    {
     "name": "stdout",
     "output_type": "stream",
     "text": [
      "0.19,"
     ]
    },
    {
     "name": "stderr",
     "output_type": "stream",
     "text": [
      "\n",
      "2018-08-01 12:31:55,578|INFO|clustering clvs in parallel using 30 CPUs ...\n",
      "2018-08-01 12:31:56,731|INFO|concatenating clustered sub dataframes ...\n",
      "2018-08-01 12:31:57,332|INFO|grouping by ['seqname', 'strand']\n",
      "100%|██████████| 50/50 [00:00<00:00, 3101.65it/s]"
     ]
    },
    {
     "name": "stdout",
     "output_type": "stream",
     "text": [
      "0.2,"
     ]
    },
    {
     "name": "stderr",
     "output_type": "stream",
     "text": [
      "\n",
      "2018-08-01 12:31:57,647|INFO|clustering clvs in parallel using 30 CPUs ...\n",
      "2018-08-01 12:31:58,821|INFO|concatenating clustered sub dataframes ...\n",
      "2018-08-01 12:31:59,340|INFO|grouping by ['seqname', 'strand']\n",
      "100%|██████████| 50/50 [00:00<00:00, 2879.28it/s]"
     ]
    },
    {
     "name": "stdout",
     "output_type": "stream",
     "text": [
      "0.21,"
     ]
    },
    {
     "name": "stderr",
     "output_type": "stream",
     "text": [
      "\n",
      "2018-08-01 12:31:59,679|INFO|clustering clvs in parallel using 30 CPUs ...\n",
      "2018-08-01 12:32:00,733|INFO|concatenating clustered sub dataframes ...\n",
      "2018-08-01 12:32:01,197|INFO|grouping by ['seqname', 'strand']\n",
      "100%|██████████| 50/50 [00:00<00:00, 3646.90it/s]"
     ]
    },
    {
     "name": "stdout",
     "output_type": "stream",
     "text": [
      "0.22,"
     ]
    },
    {
     "name": "stderr",
     "output_type": "stream",
     "text": [
      "\n",
      "2018-08-01 12:32:01,526|INFO|clustering clvs in parallel using 30 CPUs ...\n",
      "2018-08-01 12:32:02,470|INFO|concatenating clustered sub dataframes ...\n",
      "2018-08-01 12:32:02,958|INFO|grouping by ['seqname', 'strand']\n",
      "100%|██████████| 50/50 [00:00<00:00, 3355.82it/s]"
     ]
    },
    {
     "name": "stdout",
     "output_type": "stream",
     "text": [
      "0.23,"
     ]
    },
    {
     "name": "stderr",
     "output_type": "stream",
     "text": [
      "\n",
      "2018-08-01 12:32:03,227|INFO|clustering clvs in parallel using 30 CPUs ...\n",
      "2018-08-01 12:32:04,075|INFO|concatenating clustered sub dataframes ...\n",
      "2018-08-01 12:32:04,492|INFO|grouping by ['seqname', 'strand']\n",
      "100%|██████████| 50/50 [00:00<00:00, 3435.98it/s]"
     ]
    },
    {
     "name": "stdout",
     "output_type": "stream",
     "text": [
      "0.24,"
     ]
    },
    {
     "name": "stderr",
     "output_type": "stream",
     "text": [
      "\n",
      "2018-08-01 12:32:04,833|INFO|clustering clvs in parallel using 30 CPUs ...\n",
      "2018-08-01 12:32:05,675|INFO|concatenating clustered sub dataframes ...\n",
      "2018-08-01 12:32:06,114|INFO|grouping by ['seqname', 'strand']\n",
      "100%|██████████| 50/50 [00:00<00:00, 3708.62it/s]"
     ]
    },
    {
     "name": "stdout",
     "output_type": "stream",
     "text": [
      "0.25,"
     ]
    },
    {
     "name": "stderr",
     "output_type": "stream",
     "text": [
      "\n",
      "2018-08-01 12:32:06,376|INFO|clustering clvs in parallel using 30 CPUs ...\n",
      "2018-08-01 12:32:07,344|INFO|concatenating clustered sub dataframes ...\n",
      "2018-08-01 12:32:07,763|INFO|grouping by ['seqname', 'strand']\n",
      "100%|██████████| 50/50 [00:00<00:00, 3375.48it/s]"
     ]
    },
    {
     "name": "stdout",
     "output_type": "stream",
     "text": [
      "0.26,"
     ]
    },
    {
     "name": "stderr",
     "output_type": "stream",
     "text": [
      "\n",
      "2018-08-01 12:32:08,124|INFO|clustering clvs in parallel using 30 CPUs ...\n",
      "2018-08-01 12:32:08,976|INFO|concatenating clustered sub dataframes ...\n",
      "2018-08-01 12:32:09,397|INFO|grouping by ['seqname', 'strand']\n",
      "100%|██████████| 50/50 [00:00<00:00, 3940.76it/s]"
     ]
    },
    {
     "name": "stdout",
     "output_type": "stream",
     "text": [
      "0.27,"
     ]
    },
    {
     "name": "stderr",
     "output_type": "stream",
     "text": [
      "\n",
      "2018-08-01 12:32:09,642|INFO|clustering clvs in parallel using 30 CPUs ...\n",
      "2018-08-01 12:32:10,392|INFO|concatenating clustered sub dataframes ...\n",
      "2018-08-01 12:32:10,868|INFO|grouping by ['seqname', 'strand']\n",
      "100%|██████████| 50/50 [00:00<00:00, 3414.50it/s]"
     ]
    },
    {
     "name": "stdout",
     "output_type": "stream",
     "text": [
      "0.28,"
     ]
    },
    {
     "name": "stderr",
     "output_type": "stream",
     "text": [
      "\n",
      "2018-08-01 12:32:11,232|INFO|clustering clvs in parallel using 30 CPUs ...\n",
      "2018-08-01 12:32:12,076|INFO|concatenating clustered sub dataframes ...\n",
      "2018-08-01 12:32:12,597|INFO|grouping by ['seqname', 'strand']\n",
      "100%|██████████| 50/50 [00:00<00:00, 3178.13it/s]"
     ]
    },
    {
     "name": "stdout",
     "output_type": "stream",
     "text": [
      "0.29,"
     ]
    },
    {
     "name": "stderr",
     "output_type": "stream",
     "text": [
      "\n",
      "2018-08-01 12:32:12,881|INFO|clustering clvs in parallel using 30 CPUs ...\n",
      "2018-08-01 12:32:13,940|INFO|concatenating clustered sub dataframes ...\n",
      "2018-08-01 12:32:14,348|INFO|grouping by ['seqname', 'strand']\n",
      "100%|██████████| 50/50 [00:00<00:00, 3932.26it/s]"
     ]
    },
    {
     "name": "stdout",
     "output_type": "stream",
     "text": [
      "0.3,"
     ]
    },
    {
     "name": "stderr",
     "output_type": "stream",
     "text": [
      "\n",
      "2018-08-01 12:32:14,671|INFO|clustering clvs in parallel using 30 CPUs ...\n",
      "2018-08-01 12:32:15,422|INFO|concatenating clustered sub dataframes ...\n",
      "2018-08-01 12:32:15,901|INFO|grouping by ['seqname', 'strand']\n",
      "100%|██████████| 50/50 [00:00<00:00, 3226.78it/s]"
     ]
    },
    {
     "name": "stdout",
     "output_type": "stream",
     "text": [
      "0.31,"
     ]
    },
    {
     "name": "stderr",
     "output_type": "stream",
     "text": [
      "\n",
      "2018-08-01 12:32:16,174|INFO|clustering clvs in parallel using 30 CPUs ...\n",
      "2018-08-01 12:32:16,915|INFO|concatenating clustered sub dataframes ...\n",
      "2018-08-01 12:32:17,336|INFO|grouping by ['seqname', 'strand']\n",
      "100%|██████████| 50/50 [00:00<00:00, 3389.77it/s]"
     ]
    },
    {
     "name": "stdout",
     "output_type": "stream",
     "text": [
      "0.32,"
     ]
    },
    {
     "name": "stderr",
     "output_type": "stream",
     "text": [
      "\n",
      "2018-08-01 12:32:17,696|INFO|clustering clvs in parallel using 30 CPUs ...\n",
      "2018-08-01 12:32:18,441|INFO|concatenating clustered sub dataframes ...\n",
      "2018-08-01 12:32:18,836|INFO|grouping by ['seqname', 'strand']\n",
      "100%|██████████| 50/50 [00:00<00:00, 4114.73it/s]"
     ]
    },
    {
     "name": "stdout",
     "output_type": "stream",
     "text": [
      "0.33,"
     ]
    },
    {
     "name": "stderr",
     "output_type": "stream",
     "text": [
      "\n",
      "2018-08-01 12:32:19,093|INFO|clustering clvs in parallel using 30 CPUs ...\n",
      "2018-08-01 12:32:19,845|INFO|concatenating clustered sub dataframes ...\n",
      "2018-08-01 12:32:20,242|INFO|grouping by ['seqname', 'strand']\n",
      "100%|██████████| 50/50 [00:00<00:00, 3439.70it/s]"
     ]
    },
    {
     "name": "stdout",
     "output_type": "stream",
     "text": [
      "0.34,"
     ]
    },
    {
     "name": "stderr",
     "output_type": "stream",
     "text": [
      "\n",
      "2018-08-01 12:32:20,513|INFO|clustering clvs in parallel using 30 CPUs ...\n",
      "2018-08-01 12:32:21,387|INFO|concatenating clustered sub dataframes ...\n",
      "2018-08-01 12:32:21,878|INFO|grouping by ['seqname', 'strand']\n",
      "100%|██████████| 50/50 [00:00<00:00, 3535.74it/s]"
     ]
    },
    {
     "name": "stdout",
     "output_type": "stream",
     "text": [
      "0.35000000000000003,"
     ]
    },
    {
     "name": "stderr",
     "output_type": "stream",
     "text": [
      "\n",
      "2018-08-01 12:32:22,165|INFO|clustering clvs in parallel using 30 CPUs ...\n",
      "2018-08-01 12:32:22,912|INFO|concatenating clustered sub dataframes ...\n",
      "2018-08-01 12:32:23,299|INFO|grouping by ['seqname', 'strand']\n",
      "100%|██████████| 50/50 [00:00<00:00, 4113.68it/s]"
     ]
    },
    {
     "name": "stdout",
     "output_type": "stream",
     "text": [
      "0.36,"
     ]
    },
    {
     "name": "stderr",
     "output_type": "stream",
     "text": [
      "\n",
      "2018-08-01 12:32:23,540|INFO|clustering clvs in parallel using 30 CPUs ...\n",
      "2018-08-01 12:32:24,293|INFO|concatenating clustered sub dataframes ...\n",
      "2018-08-01 12:32:24,664|INFO|grouping by ['seqname', 'strand']\n",
      "100%|██████████| 50/50 [00:00<00:00, 3980.10it/s]"
     ]
    },
    {
     "name": "stdout",
     "output_type": "stream",
     "text": [
      "0.37,"
     ]
    },
    {
     "name": "stderr",
     "output_type": "stream",
     "text": [
      "\n",
      "2018-08-01 12:32:24,986|INFO|clustering clvs in parallel using 30 CPUs ...\n",
      "2018-08-01 12:32:25,731|INFO|concatenating clustered sub dataframes ...\n",
      "2018-08-01 12:32:26,118|INFO|grouping by ['seqname', 'strand']\n",
      "100%|██████████| 50/50 [00:00<00:00, 3731.85it/s]"
     ]
    },
    {
     "name": "stdout",
     "output_type": "stream",
     "text": [
      "0.38,"
     ]
    },
    {
     "name": "stderr",
     "output_type": "stream",
     "text": [
      "\n",
      "2018-08-01 12:32:26,372|INFO|clustering clvs in parallel using 30 CPUs ...\n",
      "2018-08-01 12:32:27,009|INFO|concatenating clustered sub dataframes ...\n",
      "2018-08-01 12:32:27,394|INFO|grouping by ['seqname', 'strand']\n",
      "100%|██████████| 50/50 [00:00<00:00, 3446.26it/s]"
     ]
    },
    {
     "name": "stdout",
     "output_type": "stream",
     "text": [
      "0.39,"
     ]
    },
    {
     "name": "stderr",
     "output_type": "stream",
     "text": [
      "\n",
      "2018-08-01 12:32:27,837|INFO|clustering clvs in parallel using 30 CPUs ...\n",
      "2018-08-01 12:32:28,581|INFO|concatenating clustered sub dataframes ...\n",
      "2018-08-01 12:32:28,967|INFO|grouping by ['seqname', 'strand']\n",
      "100%|██████████| 50/50 [00:00<00:00, 3614.41it/s]"
     ]
    },
    {
     "name": "stdout",
     "output_type": "stream",
     "text": [
      "0.4,"
     ]
    },
    {
     "name": "stderr",
     "output_type": "stream",
     "text": [
      "\n",
      "2018-08-01 12:32:29,240|INFO|clustering clvs in parallel using 30 CPUs ...\n",
      "2018-08-01 12:32:29,986|INFO|concatenating clustered sub dataframes ...\n",
      "2018-08-01 12:32:30,356|INFO|grouping by ['seqname', 'strand']\n",
      "100%|██████████| 50/50 [00:00<00:00, 3662.89it/s]"
     ]
    },
    {
     "name": "stdout",
     "output_type": "stream",
     "text": [
      "0.41000000000000003,"
     ]
    },
    {
     "name": "stderr",
     "output_type": "stream",
     "text": [
      "\n",
      "2018-08-01 12:32:30,652|INFO|clustering clvs in parallel using 30 CPUs ...\n",
      "2018-08-01 12:32:32,069|INFO|concatenating clustered sub dataframes ...\n",
      "2018-08-01 12:32:32,510|INFO|grouping by ['seqname', 'strand']\n",
      "100%|██████████| 50/50 [00:00<00:00, 4115.53it/s]"
     ]
    },
    {
     "name": "stdout",
     "output_type": "stream",
     "text": [
      "0.42,"
     ]
    },
    {
     "name": "stderr",
     "output_type": "stream",
     "text": [
      "\n",
      "2018-08-01 12:32:32,766|INFO|clustering clvs in parallel using 30 CPUs ...\n",
      "2018-08-01 12:32:33,511|INFO|concatenating clustered sub dataframes ...\n",
      "2018-08-01 12:32:33,967|INFO|grouping by ['seqname', 'strand']\n",
      "100%|██████████| 50/50 [00:00<00:00, 3871.21it/s]"
     ]
    },
    {
     "name": "stdout",
     "output_type": "stream",
     "text": [
      "0.43,"
     ]
    },
    {
     "name": "stderr",
     "output_type": "stream",
     "text": [
      "\n",
      "2018-08-01 12:32:34,239|INFO|clustering clvs in parallel using 30 CPUs ...\n",
      "2018-08-01 12:32:34,985|INFO|concatenating clustered sub dataframes ...\n",
      "2018-08-01 12:32:35,367|INFO|grouping by ['seqname', 'strand']\n",
      "100%|██████████| 50/50 [00:00<00:00, 3578.09it/s]"
     ]
    },
    {
     "name": "stdout",
     "output_type": "stream",
     "text": [
      "0.44,"
     ]
    },
    {
     "name": "stderr",
     "output_type": "stream",
     "text": [
      "\n",
      "2018-08-01 12:32:35,706|INFO|clustering clvs in parallel using 30 CPUs ...\n",
      "2018-08-01 12:32:36,365|INFO|concatenating clustered sub dataframes ...\n",
      "2018-08-01 12:32:36,746|INFO|grouping by ['seqname', 'strand']\n",
      "100%|██████████| 50/50 [00:00<00:00, 3538.42it/s]"
     ]
    },
    {
     "name": "stdout",
     "output_type": "stream",
     "text": [
      "0.45,"
     ]
    },
    {
     "name": "stderr",
     "output_type": "stream",
     "text": [
      "\n",
      "2018-08-01 12:32:37,017|INFO|clustering clvs in parallel using 30 CPUs ...\n",
      "2018-08-01 12:32:37,879|INFO|concatenating clustered sub dataframes ...\n",
      "2018-08-01 12:32:38,248|INFO|grouping by ['seqname', 'strand']\n",
      "100%|██████████| 50/50 [00:00<00:00, 3559.20it/s]"
     ]
    },
    {
     "name": "stdout",
     "output_type": "stream",
     "text": [
      "0.46,"
     ]
    },
    {
     "name": "stderr",
     "output_type": "stream",
     "text": [
      "\n",
      "2018-08-01 12:32:38,565|INFO|clustering clvs in parallel using 30 CPUs ...\n",
      "2018-08-01 12:32:39,209|INFO|concatenating clustered sub dataframes ...\n",
      "2018-08-01 12:32:39,624|INFO|grouping by ['seqname', 'strand']\n",
      "100%|██████████| 50/50 [00:00<00:00, 3501.97it/s]"
     ]
    },
    {
     "name": "stdout",
     "output_type": "stream",
     "text": [
      "0.47000000000000003,"
     ]
    },
    {
     "name": "stderr",
     "output_type": "stream",
     "text": [
      "\n",
      "2018-08-01 12:32:40,030|INFO|clustering clvs in parallel using 30 CPUs ...\n",
      "2018-08-01 12:32:40,776|INFO|concatenating clustered sub dataframes ...\n",
      "2018-08-01 12:32:41,185|INFO|grouping by ['seqname', 'strand']\n",
      "100%|██████████| 50/50 [00:00<00:00, 3473.66it/s]"
     ]
    },
    {
     "name": "stdout",
     "output_type": "stream",
     "text": [
      "0.48,"
     ]
    },
    {
     "name": "stderr",
     "output_type": "stream",
     "text": [
      "\n",
      "2018-08-01 12:32:41,484|INFO|clustering clvs in parallel using 30 CPUs ...\n",
      "2018-08-01 12:32:42,338|INFO|concatenating clustered sub dataframes ...\n",
      "2018-08-01 12:32:42,728|INFO|grouping by ['seqname', 'strand']\n",
      "100%|██████████| 50/50 [00:00<00:00, 3563.92it/s]"
     ]
    },
    {
     "name": "stdout",
     "output_type": "stream",
     "text": [
      "0.49,"
     ]
    },
    {
     "name": "stderr",
     "output_type": "stream",
     "text": [
      "\n",
      "2018-08-01 12:32:43,072|INFO|clustering clvs in parallel using 30 CPUs ...\n",
      "2018-08-01 12:32:43,713|INFO|concatenating clustered sub dataframes ...\n",
      "2018-08-01 12:32:44,077|INFO|grouping by ['seqname', 'strand']\n",
      "100%|██████████| 50/50 [00:00<00:00, 3705.02it/s]"
     ]
    },
    {
     "name": "stdout",
     "output_type": "stream",
     "text": [
      "0.5,"
     ]
    },
    {
     "name": "stderr",
     "output_type": "stream",
     "text": [
      "\n",
      "2018-08-01 12:32:44,363|INFO|clustering clvs in parallel using 30 CPUs ...\n",
      "2018-08-01 12:32:45,005|INFO|concatenating clustered sub dataframes ...\n",
      "2018-08-01 12:32:45,368|INFO|grouping by ['seqname', 'strand']\n",
      "100%|██████████| 50/50 [00:00<00:00, 3691.19it/s]"
     ]
    },
    {
     "name": "stdout",
     "output_type": "stream",
     "text": [
      "0.51,"
     ]
    },
    {
     "name": "stderr",
     "output_type": "stream",
     "text": [
      "\n",
      "2018-08-01 12:32:45,647|INFO|clustering clvs in parallel using 30 CPUs ...\n",
      "2018-08-01 12:32:46,391|INFO|concatenating clustered sub dataframes ...\n",
      "2018-08-01 12:32:46,764|INFO|grouping by ['seqname', 'strand']\n",
      "100%|██████████| 50/50 [00:00<00:00, 3704.76it/s]"
     ]
    },
    {
     "name": "stdout",
     "output_type": "stream",
     "text": [
      "0.52,"
     ]
    },
    {
     "name": "stderr",
     "output_type": "stream",
     "text": [
      "\n",
      "2018-08-01 12:32:47,106|INFO|clustering clvs in parallel using 30 CPUs ...\n",
      "2018-08-01 12:32:47,956|INFO|concatenating clustered sub dataframes ...\n",
      "2018-08-01 12:32:48,310|INFO|grouping by ['seqname', 'strand']\n",
      "100%|██████████| 50/50 [00:00<00:00, 3711.90it/s]"
     ]
    },
    {
     "name": "stdout",
     "output_type": "stream",
     "text": [
      "0.53,"
     ]
    },
    {
     "name": "stderr",
     "output_type": "stream",
     "text": [
      "\n",
      "2018-08-01 12:32:48,586|INFO|clustering clvs in parallel using 30 CPUs ...\n",
      "2018-08-01 12:32:49,339|INFO|concatenating clustered sub dataframes ...\n",
      "2018-08-01 12:32:49,664|INFO|grouping by ['seqname', 'strand']\n",
      "100%|██████████| 50/50 [00:00<00:00, 4006.33it/s]"
     ]
    },
    {
     "name": "stdout",
     "output_type": "stream",
     "text": [
      "0.54,"
     ]
    },
    {
     "name": "stderr",
     "output_type": "stream",
     "text": [
      "\n",
      "2018-08-01 12:32:49,915|INFO|clustering clvs in parallel using 30 CPUs ...\n",
      "2018-08-01 12:32:50,872|INFO|concatenating clustered sub dataframes ...\n",
      "2018-08-01 12:32:51,224|INFO|grouping by ['seqname', 'strand']\n",
      "100%|██████████| 50/50 [00:00<00:00, 3554.31it/s]"
     ]
    },
    {
     "name": "stdout",
     "output_type": "stream",
     "text": [
      "0.55,"
     ]
    },
    {
     "name": "stderr",
     "output_type": "stream",
     "text": [
      "\n",
      "2018-08-01 12:32:51,525|INFO|clustering clvs in parallel using 30 CPUs ...\n",
      "2018-08-01 12:32:52,172|INFO|concatenating clustered sub dataframes ...\n",
      "2018-08-01 12:32:52,526|INFO|grouping by ['seqname', 'strand']\n",
      "100%|██████████| 50/50 [00:00<00:00, 3654.40it/s]"
     ]
    },
    {
     "name": "stdout",
     "output_type": "stream",
     "text": [
      "0.56,"
     ]
    },
    {
     "name": "stderr",
     "output_type": "stream",
     "text": [
      "\n",
      "2018-08-01 12:32:52,854|INFO|clustering clvs in parallel using 30 CPUs ...\n",
      "2018-08-01 12:32:53,404|INFO|concatenating clustered sub dataframes ...\n",
      "2018-08-01 12:32:53,762|INFO|grouping by ['seqname', 'strand']\n",
      "100%|██████████| 50/50 [00:00<00:00, 3961.08it/s]"
     ]
    },
    {
     "name": "stdout",
     "output_type": "stream",
     "text": [
      "0.5700000000000001,"
     ]
    },
    {
     "name": "stderr",
     "output_type": "stream",
     "text": [
      "\n",
      "2018-08-01 12:32:54,020|INFO|clustering clvs in parallel using 30 CPUs ...\n",
      "2018-08-01 12:32:54,574|INFO|concatenating clustered sub dataframes ...\n",
      "2018-08-01 12:32:54,928|INFO|grouping by ['seqname', 'strand']\n",
      "100%|██████████| 50/50 [00:00<00:00, 3803.87it/s]"
     ]
    },
    {
     "name": "stdout",
     "output_type": "stream",
     "text": [
      "0.58,"
     ]
    },
    {
     "name": "stderr",
     "output_type": "stream",
     "text": [
      "\n",
      "2018-08-01 12:32:55,191|INFO|clustering clvs in parallel using 30 CPUs ...\n",
      "2018-08-01 12:32:55,844|INFO|concatenating clustered sub dataframes ...\n",
      "2018-08-01 12:32:56,196|INFO|grouping by ['seqname', 'strand']\n",
      "100%|██████████| 50/50 [00:00<00:00, 3712.30it/s]"
     ]
    },
    {
     "name": "stdout",
     "output_type": "stream",
     "text": [
      "0.59,"
     ]
    },
    {
     "name": "stderr",
     "output_type": "stream",
     "text": [
      "\n",
      "2018-08-01 12:32:56,475|INFO|clustering clvs in parallel using 30 CPUs ...\n",
      "2018-08-01 12:32:57,220|INFO|concatenating clustered sub dataframes ...\n",
      "2018-08-01 12:32:57,571|INFO|grouping by ['seqname', 'strand']\n",
      "100%|██████████| 50/50 [00:00<00:00, 3575.34it/s]"
     ]
    },
    {
     "name": "stdout",
     "output_type": "stream",
     "text": [
      "0.6,"
     ]
    },
    {
     "name": "stderr",
     "output_type": "stream",
     "text": [
      "\n",
      "2018-08-01 12:32:57,916|INFO|clustering clvs in parallel using 30 CPUs ...\n",
      "2018-08-01 12:32:58,570|INFO|concatenating clustered sub dataframes ...\n",
      "2018-08-01 12:32:58,902|INFO|grouping by ['seqname', 'strand']\n",
      "100%|██████████| 50/50 [00:00<00:00, 3855.84it/s]"
     ]
    },
    {
     "name": "stdout",
     "output_type": "stream",
     "text": [
      "0.61,"
     ]
    },
    {
     "name": "stderr",
     "output_type": "stream",
     "text": [
      "\n",
      "2018-08-01 12:32:59,166|INFO|clustering clvs in parallel using 30 CPUs ...\n",
      "2018-08-01 12:32:59,910|INFO|concatenating clustered sub dataframes ...\n",
      "2018-08-01 12:33:00,235|INFO|grouping by ['seqname', 'strand']\n",
      "100%|██████████| 50/50 [00:00<00:00, 3799.33it/s]"
     ]
    },
    {
     "name": "stdout",
     "output_type": "stream",
     "text": [
      "0.62,"
     ]
    },
    {
     "name": "stderr",
     "output_type": "stream",
     "text": [
      "\n",
      "2018-08-01 12:33:00,502|INFO|clustering clvs in parallel using 30 CPUs ...\n",
      "2018-08-01 12:33:01,151|INFO|concatenating clustered sub dataframes ...\n",
      "2018-08-01 12:33:01,501|INFO|grouping by ['seqname', 'strand']\n",
      "100%|██████████| 50/50 [00:00<00:00, 3488.45it/s]"
     ]
    },
    {
     "name": "stdout",
     "output_type": "stream",
     "text": [
      "0.63,"
     ]
    },
    {
     "name": "stderr",
     "output_type": "stream",
     "text": [
      "\n",
      "2018-08-01 12:33:01,868|INFO|clustering clvs in parallel using 30 CPUs ...\n",
      "2018-08-01 12:33:02,414|INFO|concatenating clustered sub dataframes ...\n",
      "2018-08-01 12:33:02,828|INFO|grouping by ['seqname', 'strand']\n",
      "100%|██████████| 50/50 [00:00<00:00, 3661.04it/s]"
     ]
    },
    {
     "name": "stdout",
     "output_type": "stream",
     "text": [
      "0.64,"
     ]
    },
    {
     "name": "stderr",
     "output_type": "stream",
     "text": [
      "\n",
      "2018-08-01 12:33:03,090|INFO|clustering clvs in parallel using 30 CPUs ...\n",
      "2018-08-01 12:33:03,630|INFO|concatenating clustered sub dataframes ...\n",
      "2018-08-01 12:33:03,993|INFO|grouping by ['seqname', 'strand']\n",
      "100%|██████████| 50/50 [00:00<00:00, 3348.21it/s]"
     ]
    },
    {
     "name": "stdout",
     "output_type": "stream",
     "text": [
      "0.65,"
     ]
    },
    {
     "name": "stderr",
     "output_type": "stream",
     "text": [
      "\n",
      "2018-08-01 12:33:04,296|INFO|clustering clvs in parallel using 30 CPUs ...\n",
      "2018-08-01 12:33:04,842|INFO|concatenating clustered sub dataframes ...\n",
      "2018-08-01 12:33:05,187|INFO|grouping by ['seqname', 'strand']\n",
      "100%|██████████| 50/50 [00:00<00:00, 3561.07it/s]"
     ]
    },
    {
     "name": "stdout",
     "output_type": "stream",
     "text": [
      "0.66,"
     ]
    },
    {
     "name": "stderr",
     "output_type": "stream",
     "text": [
      "\n",
      "2018-08-01 12:33:05,526|INFO|clustering clvs in parallel using 30 CPUs ...\n",
      "2018-08-01 12:33:06,273|INFO|concatenating clustered sub dataframes ...\n",
      "2018-08-01 12:33:06,609|INFO|grouping by ['seqname', 'strand']\n",
      "100%|██████████| 50/50 [00:00<00:00, 3625.84it/s]"
     ]
    },
    {
     "name": "stdout",
     "output_type": "stream",
     "text": [
      "0.67,"
     ]
    },
    {
     "name": "stderr",
     "output_type": "stream",
     "text": [
      "\n",
      "2018-08-01 12:33:06,874|INFO|clustering clvs in parallel using 30 CPUs ...\n",
      "2018-08-01 12:33:07,409|INFO|concatenating clustered sub dataframes ...\n",
      "2018-08-01 12:33:07,727|INFO|grouping by ['seqname', 'strand']\n",
      "100%|██████████| 50/50 [00:00<00:00, 3746.99it/s]"
     ]
    },
    {
     "name": "stdout",
     "output_type": "stream",
     "text": [
      "0.68,"
     ]
    },
    {
     "name": "stderr",
     "output_type": "stream",
     "text": [
      "\n",
      "2018-08-01 12:33:08,013|INFO|clustering clvs in parallel using 30 CPUs ...\n",
      "2018-08-01 12:33:08,665|INFO|concatenating clustered sub dataframes ...\n",
      "2018-08-01 12:33:08,990|INFO|grouping by ['seqname', 'strand']\n",
      "100%|██████████| 50/50 [00:00<00:00, 4160.27it/s]"
     ]
    },
    {
     "name": "stdout",
     "output_type": "stream",
     "text": [
      "0.6900000000000001,"
     ]
    },
    {
     "name": "stderr",
     "output_type": "stream",
     "text": [
      "\n",
      "2018-08-01 12:33:09,324|INFO|clustering clvs in parallel using 30 CPUs ...\n",
      "2018-08-01 12:33:09,972|INFO|concatenating clustered sub dataframes ...\n",
      "2018-08-01 12:33:10,270|INFO|grouping by ['seqname', 'strand']\n",
      "100%|██████████| 50/50 [00:00<00:00, 4145.80it/s]"
     ]
    },
    {
     "name": "stdout",
     "output_type": "stream",
     "text": [
      "0.7000000000000001,"
     ]
    },
    {
     "name": "stderr",
     "output_type": "stream",
     "text": [
      "\n",
      "2018-08-01 12:33:10,535|INFO|clustering clvs in parallel using 30 CPUs ...\n",
      "2018-08-01 12:33:11,093|INFO|concatenating clustered sub dataframes ...\n",
      "2018-08-01 12:33:11,421|INFO|grouping by ['seqname', 'strand']\n",
      "100%|██████████| 50/50 [00:00<00:00, 4168.87it/s]"
     ]
    },
    {
     "name": "stdout",
     "output_type": "stream",
     "text": [
      "0.71,"
     ]
    },
    {
     "name": "stderr",
     "output_type": "stream",
     "text": [
      "\n",
      "2018-08-01 12:33:11,683|INFO|clustering clvs in parallel using 30 CPUs ...\n",
      "2018-08-01 12:33:12,233|INFO|concatenating clustered sub dataframes ...\n",
      "2018-08-01 12:33:12,556|INFO|grouping by ['seqname', 'strand']\n",
      "100%|██████████| 50/50 [00:00<00:00, 3618.40it/s]"
     ]
    },
    {
     "name": "stdout",
     "output_type": "stream",
     "text": [
      "0.72,"
     ]
    },
    {
     "name": "stderr",
     "output_type": "stream",
     "text": [
      "\n",
      "2018-08-01 12:33:12,896|INFO|clustering clvs in parallel using 30 CPUs ...\n",
      "2018-08-01 12:33:13,436|INFO|concatenating clustered sub dataframes ...\n",
      "2018-08-01 12:33:13,744|INFO|grouping by ['seqname', 'strand']\n",
      "100%|██████████| 50/50 [00:00<00:00, 3809.13it/s]"
     ]
    },
    {
     "name": "stdout",
     "output_type": "stream",
     "text": [
      "0.73,"
     ]
    },
    {
     "name": "stderr",
     "output_type": "stream",
     "text": [
      "\n",
      "2018-08-01 12:33:14,013|INFO|clustering clvs in parallel using 30 CPUs ...\n",
      "2018-08-01 12:33:14,556|INFO|concatenating clustered sub dataframes ...\n",
      "2018-08-01 12:33:14,922|INFO|grouping by ['seqname', 'strand']\n",
      "100%|██████████| 50/50 [00:00<00:00, 3655.23it/s]"
     ]
    },
    {
     "name": "stdout",
     "output_type": "stream",
     "text": [
      "0.74,"
     ]
    },
    {
     "name": "stderr",
     "output_type": "stream",
     "text": [
      "\n",
      "2018-08-01 12:33:15,208|INFO|clustering clvs in parallel using 30 CPUs ...\n",
      "2018-08-01 12:33:15,687|INFO|concatenating clustered sub dataframes ...\n",
      "2018-08-01 12:33:16,027|INFO|grouping by ['seqname', 'strand']\n",
      "100%|██████████| 50/50 [00:00<00:00, 3625.59it/s]"
     ]
    },
    {
     "name": "stdout",
     "output_type": "stream",
     "text": [
      "0.75,"
     ]
    },
    {
     "name": "stderr",
     "output_type": "stream",
     "text": [
      "\n",
      "2018-08-01 12:33:16,324|INFO|clustering clvs in parallel using 30 CPUs ...\n",
      "2018-08-01 12:33:17,071|INFO|concatenating clustered sub dataframes ...\n",
      "2018-08-01 12:33:17,470|INFO|grouping by ['seqname', 'strand']\n",
      "100%|██████████| 50/50 [00:00<00:00, 3791.50it/s]"
     ]
    },
    {
     "name": "stdout",
     "output_type": "stream",
     "text": [
      "0.76,"
     ]
    },
    {
     "name": "stderr",
     "output_type": "stream",
     "text": [
      "\n",
      "2018-08-01 12:33:17,750|INFO|clustering clvs in parallel using 30 CPUs ...\n",
      "2018-08-01 12:33:18,388|INFO|concatenating clustered sub dataframes ...\n",
      "2018-08-01 12:33:18,723|INFO|grouping by ['seqname', 'strand']\n",
      "100%|██████████| 50/50 [00:00<00:00, 3818.63it/s]"
     ]
    },
    {
     "name": "stdout",
     "output_type": "stream",
     "text": [
      "0.77,"
     ]
    },
    {
     "name": "stderr",
     "output_type": "stream",
     "text": [
      "\n",
      "2018-08-01 12:33:19,003|INFO|clustering clvs in parallel using 30 CPUs ...\n",
      "2018-08-01 12:33:19,649|INFO|concatenating clustered sub dataframes ...\n",
      "2018-08-01 12:33:19,947|INFO|grouping by ['seqname', 'strand']\n",
      "100%|██████████| 50/50 [00:00<00:00, 4019.15it/s]"
     ]
    },
    {
     "name": "stdout",
     "output_type": "stream",
     "text": [
      "0.78,"
     ]
    },
    {
     "name": "stderr",
     "output_type": "stream",
     "text": [
      "\n",
      "2018-08-01 12:33:20,202|INFO|clustering clvs in parallel using 30 CPUs ...\n",
      "2018-08-01 12:33:20,743|INFO|concatenating clustered sub dataframes ...\n",
      "2018-08-01 12:33:21,053|INFO|grouping by ['seqname', 'strand']\n",
      "100%|██████████| 50/50 [00:00<00:00, 485.79it/s]"
     ]
    },
    {
     "name": "stdout",
     "output_type": "stream",
     "text": [
      "0.79,"
     ]
    },
    {
     "name": "stderr",
     "output_type": "stream",
     "text": [
      "\n",
      "2018-08-01 12:33:21,397|INFO|clustering clvs in parallel using 30 CPUs ...\n",
      "2018-08-01 12:33:21,844|INFO|concatenating clustered sub dataframes ...\n",
      "2018-08-01 12:33:22,164|INFO|grouping by ['seqname', 'strand']\n",
      "100%|██████████| 50/50 [00:00<00:00, 3786.09it/s]"
     ]
    },
    {
     "name": "stdout",
     "output_type": "stream",
     "text": [
      "0.8,"
     ]
    },
    {
     "name": "stderr",
     "output_type": "stream",
     "text": [
      "\n",
      "2018-08-01 12:33:22,451|INFO|clustering clvs in parallel using 30 CPUs ...\n",
      "2018-08-01 12:33:22,992|INFO|concatenating clustered sub dataframes ...\n",
      "2018-08-01 12:33:23,295|INFO|grouping by ['seqname', 'strand']\n",
      "100%|██████████| 50/50 [00:00<00:00, 4003.04it/s]"
     ]
    },
    {
     "name": "stdout",
     "output_type": "stream",
     "text": [
      "0.81,"
     ]
    },
    {
     "name": "stderr",
     "output_type": "stream",
     "text": [
      "\n",
      "2018-08-01 12:33:23,564|INFO|clustering clvs in parallel using 30 CPUs ...\n",
      "2018-08-01 12:33:24,211|INFO|concatenating clustered sub dataframes ...\n",
      "2018-08-01 12:33:24,512|INFO|grouping by ['seqname', 'strand']\n",
      "100%|██████████| 50/50 [00:00<00:00, 3848.83it/s]"
     ]
    },
    {
     "name": "stdout",
     "output_type": "stream",
     "text": [
      "0.8200000000000001,"
     ]
    },
    {
     "name": "stderr",
     "output_type": "stream",
     "text": [
      "\n",
      "2018-08-01 12:33:24,784|INFO|clustering clvs in parallel using 30 CPUs ...\n",
      "2018-08-01 12:33:25,242|INFO|concatenating clustered sub dataframes ...\n",
      "2018-08-01 12:33:25,539|INFO|grouping by ['seqname', 'strand']\n",
      "100%|██████████| 49/49 [00:00<00:00, 3702.68it/s]"
     ]
    },
    {
     "name": "stdout",
     "output_type": "stream",
     "text": [
      "0.8300000000000001,"
     ]
    },
    {
     "name": "stderr",
     "output_type": "stream",
     "text": [
      "\n",
      "2018-08-01 12:33:25,882|INFO|clustering clvs in parallel using 30 CPUs ...\n",
      "2018-08-01 12:33:26,425|INFO|concatenating clustered sub dataframes ...\n",
      "2018-08-01 12:33:26,720|INFO|grouping by ['seqname', 'strand']\n",
      "100%|██████████| 49/49 [00:00<00:00, 3690.84it/s]"
     ]
    },
    {
     "name": "stdout",
     "output_type": "stream",
     "text": [
      "0.84,"
     ]
    },
    {
     "name": "stderr",
     "output_type": "stream",
     "text": [
      "\n",
      "2018-08-01 12:33:27,019|INFO|clustering clvs in parallel using 30 CPUs ...\n",
      "2018-08-01 12:33:27,672|INFO|concatenating clustered sub dataframes ...\n",
      "2018-08-01 12:33:27,948|INFO|grouping by ['seqname', 'strand']\n",
      "100%|██████████| 48/48 [00:00<00:00, 3948.35it/s]"
     ]
    },
    {
     "name": "stdout",
     "output_type": "stream",
     "text": [
      "0.85,"
     ]
    },
    {
     "name": "stderr",
     "output_type": "stream",
     "text": [
      "\n",
      "2018-08-01 12:33:28,218|INFO|clustering clvs in parallel using 30 CPUs ...\n",
      "2018-08-01 12:33:28,770|INFO|concatenating clustered sub dataframes ...\n",
      "2018-08-01 12:33:29,069|INFO|grouping by ['seqname', 'strand']\n",
      "100%|██████████| 48/48 [00:00<00:00, 4096.33it/s]"
     ]
    },
    {
     "name": "stdout",
     "output_type": "stream",
     "text": [
      "0.86,"
     ]
    },
    {
     "name": "stderr",
     "output_type": "stream",
     "text": [
      "\n",
      "2018-08-01 12:33:29,312|INFO|clustering clvs in parallel using 30 CPUs ...\n",
      "2018-08-01 12:33:29,860|INFO|concatenating clustered sub dataframes ...\n",
      "2018-08-01 12:33:30,142|INFO|grouping by ['seqname', 'strand']\n",
      "100%|██████████| 48/48 [00:00<00:00, 4148.50it/s]"
     ]
    },
    {
     "name": "stdout",
     "output_type": "stream",
     "text": [
      "0.87,"
     ]
    },
    {
     "name": "stderr",
     "output_type": "stream",
     "text": [
      "\n",
      "2018-08-01 12:33:30,501|INFO|clustering clvs in parallel using 30 CPUs ...\n",
      "2018-08-01 12:33:30,949|INFO|concatenating clustered sub dataframes ...\n",
      "2018-08-01 12:33:31,232|INFO|grouping by ['seqname', 'strand']\n",
      "100%|██████████| 48/48 [00:00<00:00, 3638.65it/s]"
     ]
    },
    {
     "name": "stdout",
     "output_type": "stream",
     "text": [
      "0.88,"
     ]
    },
    {
     "name": "stderr",
     "output_type": "stream",
     "text": [
      "\n",
      "2018-08-01 12:33:31,518|INFO|clustering clvs in parallel using 30 CPUs ...\n",
      "2018-08-01 12:33:31,974|INFO|concatenating clustered sub dataframes ...\n",
      "2018-08-01 12:33:32,257|INFO|grouping by ['seqname', 'strand']\n",
      "100%|██████████| 48/48 [00:00<00:00, 3761.43it/s]"
     ]
    },
    {
     "name": "stdout",
     "output_type": "stream",
     "text": [
      "0.89,"
     ]
    },
    {
     "name": "stderr",
     "output_type": "stream",
     "text": [
      "\n",
      "2018-08-01 12:33:32,529|INFO|clustering clvs in parallel using 30 CPUs ...\n",
      "2018-08-01 12:33:33,079|INFO|concatenating clustered sub dataframes ...\n",
      "2018-08-01 12:33:33,378|INFO|grouping by ['seqname', 'strand']\n",
      "100%|██████████| 48/48 [00:00<00:00, 3922.81it/s]"
     ]
    },
    {
     "name": "stdout",
     "output_type": "stream",
     "text": [
      "0.9,"
     ]
    },
    {
     "name": "stderr",
     "output_type": "stream",
     "text": [
      "\n",
      "2018-08-01 12:33:33,645|INFO|clustering clvs in parallel using 30 CPUs ...\n",
      "2018-08-01 12:33:34,104|INFO|concatenating clustered sub dataframes ...\n",
      "2018-08-01 12:33:34,401|INFO|grouping by ['seqname', 'strand']\n",
      "100%|██████████| 48/48 [00:00<00:00, 1962.92it/s]"
     ]
    },
    {
     "name": "stdout",
     "output_type": "stream",
     "text": [
      "0.91,"
     ]
    },
    {
     "name": "stderr",
     "output_type": "stream",
     "text": [
      "\n",
      "2018-08-01 12:33:34,804|INFO|clustering clvs in parallel using 30 CPUs ...\n",
      "2018-08-01 12:33:35,362|INFO|concatenating clustered sub dataframes ...\n",
      "2018-08-01 12:33:35,628|INFO|grouping by ['seqname', 'strand']\n",
      "100%|██████████| 48/48 [00:00<00:00, 3910.62it/s]"
     ]
    },
    {
     "name": "stdout",
     "output_type": "stream",
     "text": [
      "0.92,"
     ]
    },
    {
     "name": "stderr",
     "output_type": "stream",
     "text": [
      "\n",
      "2018-08-01 12:33:35,915|INFO|clustering clvs in parallel using 30 CPUs ...\n",
      "2018-08-01 12:33:36,371|INFO|concatenating clustered sub dataframes ...\n",
      "2018-08-01 12:33:36,664|INFO|grouping by ['seqname', 'strand']\n",
      "100%|██████████| 48/48 [00:00<00:00, 3861.57it/s]"
     ]
    },
    {
     "name": "stdout",
     "output_type": "stream",
     "text": [
      "0.93,"
     ]
    },
    {
     "name": "stderr",
     "output_type": "stream",
     "text": [
      "\n",
      "2018-08-01 12:33:36,932|INFO|clustering clvs in parallel using 30 CPUs ...\n",
      "2018-08-01 12:33:37,405|INFO|concatenating clustered sub dataframes ...\n",
      "2018-08-01 12:33:37,692|INFO|grouping by ['seqname', 'strand']\n",
      "100%|██████████| 48/48 [00:00<00:00, 4103.60it/s]"
     ]
    },
    {
     "name": "stdout",
     "output_type": "stream",
     "text": [
      "0.9400000000000001,"
     ]
    },
    {
     "name": "stderr",
     "output_type": "stream",
     "text": [
      "\n",
      "2018-08-01 12:33:37,950|INFO|clustering clvs in parallel using 30 CPUs ...\n",
      "2018-08-01 12:33:38,431|INFO|concatenating clustered sub dataframes ...\n",
      "2018-08-01 12:33:38,691|INFO|grouping by ['seqname', 'strand']\n",
      "100%|██████████| 48/48 [00:00<00:00, 3974.47it/s]"
     ]
    },
    {
     "name": "stdout",
     "output_type": "stream",
     "text": [
      "0.9500000000000001,"
     ]
    },
    {
     "name": "stderr",
     "output_type": "stream",
     "text": [
      "\n",
      "2018-08-01 12:33:38,954|INFO|clustering clvs in parallel using 30 CPUs ...\n",
      "2018-08-01 12:33:39,426|INFO|concatenating clustered sub dataframes ...\n",
      "2018-08-01 12:33:39,708|INFO|grouping by ['seqname', 'strand']\n",
      "100%|██████████| 47/47 [00:00<00:00, 3655.81it/s]"
     ]
    },
    {
     "name": "stdout",
     "output_type": "stream",
     "text": [
      "0.96,"
     ]
    },
    {
     "name": "stderr",
     "output_type": "stream",
     "text": [
      "\n",
      "2018-08-01 12:33:40,072|INFO|clustering clvs in parallel using 30 CPUs ...\n",
      "2018-08-01 12:33:40,416|INFO|concatenating clustered sub dataframes ...\n",
      "2018-08-01 12:33:40,657|INFO|grouping by ['seqname', 'strand']\n",
      "100%|██████████| 47/47 [00:00<00:00, 3884.46it/s]"
     ]
    },
    {
     "name": "stdout",
     "output_type": "stream",
     "text": [
      "0.97,"
     ]
    },
    {
     "name": "stderr",
     "output_type": "stream",
     "text": [
      "\n",
      "2018-08-01 12:33:40,943|INFO|clustering clvs in parallel using 30 CPUs ...\n",
      "2018-08-01 12:33:41,279|INFO|concatenating clustered sub dataframes ...\n",
      "2018-08-01 12:33:41,544|INFO|grouping by ['seqname', 'strand']\n",
      "100%|██████████| 46/46 [00:00<00:00, 4126.31it/s]"
     ]
    },
    {
     "name": "stdout",
     "output_type": "stream",
     "text": [
      "0.98,"
     ]
    },
    {
     "name": "stderr",
     "output_type": "stream",
     "text": [
      "\n",
      "2018-08-01 12:33:41,805|INFO|clustering clvs in parallel using 30 CPUs ...\n",
      "2018-08-01 12:33:42,060|INFO|concatenating clustered sub dataframes ...\n"
     ]
    },
    {
     "name": "stdout",
     "output_type": "stream",
     "text": [
      "0.99,1.0,"
     ]
    },
    {
     "name": "stderr",
     "output_type": "stream",
     "text": [
      "2018-08-01 12:33:47,916|INFO|reading /projects/cheny_prj/KLEAT_benchmarking/polyA_seq/Brain2.bed ...\n",
      "2018-08-01 12:34:38,175|INFO|grouping by ['seqname', 'strand']\n"
     ]
    },
    {
     "name": "stdout",
     "output_type": "stream",
     "text": [
      "0.0,"
     ]
    },
    {
     "name": "stderr",
     "output_type": "stream",
     "text": [
      "100%|██████████| 50/50 [00:00<00:00, 148.77it/s]\n",
      "2018-08-01 12:34:41,493|INFO|clustering clvs in parallel using 30 CPUs ...\n",
      "2018-08-01 12:55:19,310|INFO|concatenating clustered sub dataframes ...\n",
      "2018-08-01 12:55:47,030|INFO|grouping by ['seqname', 'strand']\n"
     ]
    },
    {
     "name": "stdout",
     "output_type": "stream",
     "text": [
      "0.01,"
     ]
    },
    {
     "name": "stderr",
     "output_type": "stream",
     "text": [
      "100%|██████████| 50/50 [00:00<00:00, 510.61it/s]\n",
      "2018-08-01 12:55:48,178|INFO|clustering clvs in parallel using 30 CPUs ...\n",
      "2018-08-01 12:56:24,247|INFO|concatenating clustered sub dataframes ...\n",
      "2018-08-01 12:56:33,612|INFO|grouping by ['seqname', 'strand']\n"
     ]
    },
    {
     "name": "stdout",
     "output_type": "stream",
     "text": [
      "0.02,"
     ]
    },
    {
     "name": "stderr",
     "output_type": "stream",
     "text": [
      "100%|██████████| 50/50 [00:00<00:00, 866.97it/s]\n",
      "2018-08-01 12:56:34,469|INFO|clustering clvs in parallel using 30 CPUs ...\n",
      "2018-08-01 12:56:49,118|INFO|concatenating clustered sub dataframes ...\n",
      "2018-08-01 12:56:53,479|INFO|grouping by ['seqname', 'strand']\n"
     ]
    },
    {
     "name": "stdout",
     "output_type": "stream",
     "text": [
      "0.03,"
     ]
    },
    {
     "name": "stderr",
     "output_type": "stream",
     "text": [
      "100%|██████████| 50/50 [00:00<00:00, 1378.65it/s]\n",
      "2018-08-01 12:56:54,097|INFO|clustering clvs in parallel using 30 CPUs ...\n",
      "2018-08-01 12:57:04,420|INFO|concatenating clustered sub dataframes ...\n",
      "2018-08-01 12:57:07,403|INFO|grouping by ['seqname', 'strand']\n"
     ]
    },
    {
     "name": "stdout",
     "output_type": "stream",
     "text": [
      "0.04,"
     ]
    },
    {
     "name": "stderr",
     "output_type": "stream",
     "text": [
      "100%|██████████| 50/50 [00:00<00:00, 1695.48it/s]\n",
      "2018-08-01 12:57:07,935|INFO|clustering clvs in parallel using 30 CPUs ...\n",
      "2018-08-01 12:57:14,040|INFO|concatenating clustered sub dataframes ...\n",
      "2018-08-01 12:57:16,168|INFO|grouping by ['seqname', 'strand']\n",
      "  0%|          | 0/50 [00:00<?, ?it/s]"
     ]
    },
    {
     "name": "stdout",
     "output_type": "stream",
     "text": [
      "0.05,"
     ]
    },
    {
     "name": "stderr",
     "output_type": "stream",
     "text": [
      "100%|██████████| 50/50 [00:00<00:00, 1698.79it/s]\n",
      "2018-08-01 12:57:16,653|INFO|clustering clvs in parallel using 30 CPUs ...\n",
      "2018-08-01 12:57:21,688|INFO|concatenating clustered sub dataframes ...\n",
      "2018-08-01 12:57:23,324|INFO|grouping by ['seqname', 'strand']\n"
     ]
    },
    {
     "name": "stdout",
     "output_type": "stream",
     "text": [
      "0.06,"
     ]
    },
    {
     "name": "stderr",
     "output_type": "stream",
     "text": [
      "100%|██████████| 50/50 [00:00<00:00, 2212.05it/s]\n",
      "2018-08-01 12:57:23,834|INFO|clustering clvs in parallel using 30 CPUs ...\n",
      "2018-08-01 12:57:28,114|INFO|concatenating clustered sub dataframes ...\n",
      "2018-08-01 12:57:29,801|INFO|grouping by ['seqname', 'strand']\n"
     ]
    },
    {
     "name": "stdout",
     "output_type": "stream",
     "text": [
      "0.07,"
     ]
    },
    {
     "name": "stderr",
     "output_type": "stream",
     "text": [
      "100%|██████████| 50/50 [00:00<00:00, 1962.38it/s]\n",
      "2018-08-01 12:57:30,392|INFO|clustering clvs in parallel using 30 CPUs ...\n",
      "2018-08-01 12:57:34,482|INFO|concatenating clustered sub dataframes ...\n",
      "2018-08-01 12:57:35,919|INFO|grouping by ['seqname', 'strand']\n"
     ]
    },
    {
     "name": "stdout",
     "output_type": "stream",
     "text": [
      "0.08,"
     ]
    },
    {
     "name": "stderr",
     "output_type": "stream",
     "text": [
      "100%|██████████| 50/50 [00:00<00:00, 2112.85it/s]\n",
      "2018-08-01 12:57:36,496|INFO|clustering clvs in parallel using 30 CPUs ...\n",
      "2018-08-01 12:57:39,671|INFO|concatenating clustered sub dataframes ...\n",
      "2018-08-01 12:57:40,970|INFO|grouping by ['seqname', 'strand']\n"
     ]
    },
    {
     "name": "stdout",
     "output_type": "stream",
     "text": [
      "0.09,"
     ]
    },
    {
     "name": "stderr",
     "output_type": "stream",
     "text": [
      "100%|██████████| 50/50 [00:00<00:00, 2163.51it/s]\n",
      "2018-08-01 12:57:41,552|INFO|clustering clvs in parallel using 30 CPUs ...\n",
      "2018-08-01 12:57:44,637|INFO|concatenating clustered sub dataframes ...\n",
      "2018-08-01 12:57:45,881|INFO|grouping by ['seqname', 'strand']\n"
     ]
    },
    {
     "name": "stdout",
     "output_type": "stream",
     "text": [
      "0.1,"
     ]
    },
    {
     "name": "stderr",
     "output_type": "stream",
     "text": [
      "100%|██████████| 50/50 [00:00<00:00, 1884.35it/s]\n",
      "2018-08-01 12:57:46,409|INFO|clustering clvs in parallel using 30 CPUs ...\n",
      "2018-08-01 12:57:49,108|INFO|concatenating clustered sub dataframes ...\n",
      "2018-08-01 12:57:50,229|INFO|grouping by ['seqname', 'strand']\n",
      "  0%|          | 0/50 [00:00<?, ?it/s]"
     ]
    },
    {
     "name": "stdout",
     "output_type": "stream",
     "text": [
      "0.11,"
     ]
    },
    {
     "name": "stderr",
     "output_type": "stream",
     "text": [
      "100%|██████████| 50/50 [00:00<00:00, 2402.51it/s]\n",
      "2018-08-01 12:57:50,714|INFO|clustering clvs in parallel using 30 CPUs ...\n",
      "2018-08-01 12:57:53,785|INFO|concatenating clustered sub dataframes ...\n",
      "2018-08-01 12:57:54,867|INFO|grouping by ['seqname', 'strand']\n",
      "100%|██████████| 50/50 [00:00<00:00, 2556.35it/s]"
     ]
    },
    {
     "name": "stdout",
     "output_type": "stream",
     "text": [
      "0.12,"
     ]
    },
    {
     "name": "stderr",
     "output_type": "stream",
     "text": [
      "\n",
      "2018-08-01 12:57:55,312|INFO|clustering clvs in parallel using 30 CPUs ...\n",
      "2018-08-01 12:57:57,486|INFO|concatenating clustered sub dataframes ...\n",
      "2018-08-01 12:57:58,423|INFO|grouping by ['seqname', 'strand']\n",
      "100%|██████████| 50/50 [00:00<00:00, 2578.44it/s]"
     ]
    },
    {
     "name": "stdout",
     "output_type": "stream",
     "text": [
      "0.13,"
     ]
    },
    {
     "name": "stderr",
     "output_type": "stream",
     "text": [
      "\n",
      "2018-08-01 12:57:58,883|INFO|clustering clvs in parallel using 30 CPUs ...\n",
      "2018-08-01 12:58:01,057|INFO|concatenating clustered sub dataframes ...\n",
      "2018-08-01 12:58:02,125|INFO|grouping by ['seqname', 'strand']\n"
     ]
    },
    {
     "name": "stdout",
     "output_type": "stream",
     "text": [
      "0.14,"
     ]
    },
    {
     "name": "stderr",
     "output_type": "stream",
     "text": [
      "100%|██████████| 50/50 [00:00<00:00, 2582.19it/s]\n",
      "2018-08-01 12:58:02,677|INFO|clustering clvs in parallel using 30 CPUs ...\n",
      "2018-08-01 12:58:04,455|INFO|concatenating clustered sub dataframes ...\n",
      "2018-08-01 12:58:05,251|INFO|grouping by ['seqname', 'strand']\n",
      "  0%|          | 0/50 [00:00<?, ?it/s]"
     ]
    },
    {
     "name": "stdout",
     "output_type": "stream",
     "text": [
      "0.15,"
     ]
    },
    {
     "name": "stderr",
     "output_type": "stream",
     "text": [
      "100%|██████████| 50/50 [00:00<00:00, 2823.19it/s]\n",
      "2018-08-01 12:58:05,749|INFO|clustering clvs in parallel using 30 CPUs ...\n",
      "2018-08-01 12:58:07,312|INFO|concatenating clustered sub dataframes ...\n",
      "2018-08-01 12:58:08,060|INFO|grouping by ['seqname', 'strand']\n",
      "100%|██████████| 50/50 [00:00<00:00, 2820.80it/s]"
     ]
    },
    {
     "name": "stdout",
     "output_type": "stream",
     "text": [
      "0.16,"
     ]
    },
    {
     "name": "stderr",
     "output_type": "stream",
     "text": [
      "\n",
      "2018-08-01 12:58:08,535|INFO|clustering clvs in parallel using 30 CPUs ...\n",
      "2018-08-01 12:58:09,998|INFO|concatenating clustered sub dataframes ...\n",
      "2018-08-01 12:58:10,745|INFO|grouping by ['seqname', 'strand']\n"
     ]
    },
    {
     "name": "stdout",
     "output_type": "stream",
     "text": [
      "0.17,"
     ]
    },
    {
     "name": "stderr",
     "output_type": "stream",
     "text": [
      "100%|██████████| 50/50 [00:00<00:00, 3073.52it/s]\n",
      "2018-08-01 12:58:11,213|INFO|clustering clvs in parallel using 30 CPUs ...\n",
      "2018-08-01 12:58:12,890|INFO|concatenating clustered sub dataframes ...\n",
      "2018-08-01 12:58:13,549|INFO|grouping by ['seqname', 'strand']\n",
      "100%|██████████| 50/50 [00:00<00:00, 2969.17it/s]"
     ]
    },
    {
     "name": "stdout",
     "output_type": "stream",
     "text": [
      "0.18,"
     ]
    },
    {
     "name": "stderr",
     "output_type": "stream",
     "text": [
      "\n",
      "2018-08-01 12:58:13,917|INFO|clustering clvs in parallel using 30 CPUs ...\n",
      "2018-08-01 12:58:15,415|INFO|concatenating clustered sub dataframes ...\n",
      "2018-08-01 12:58:16,080|INFO|grouping by ['seqname', 'strand']\n",
      "100%|██████████| 50/50 [00:00<00:00, 3059.30it/s]"
     ]
    },
    {
     "name": "stdout",
     "output_type": "stream",
     "text": [
      "0.19,"
     ]
    },
    {
     "name": "stderr",
     "output_type": "stream",
     "text": [
      "\n",
      "2018-08-01 12:58:16,543|INFO|clustering clvs in parallel using 30 CPUs ...\n",
      "2018-08-01 12:58:17,797|INFO|concatenating clustered sub dataframes ...\n",
      "2018-08-01 12:58:18,459|INFO|grouping by ['seqname', 'strand']\n",
      "100%|██████████| 50/50 [00:00<00:00, 2988.55it/s]"
     ]
    },
    {
     "name": "stdout",
     "output_type": "stream",
     "text": [
      "0.2,"
     ]
    },
    {
     "name": "stderr",
     "output_type": "stream",
     "text": [
      "\n",
      "2018-08-01 12:58:18,982|INFO|clustering clvs in parallel using 30 CPUs ...\n",
      "2018-08-01 12:58:20,235|INFO|concatenating clustered sub dataframes ...\n",
      "2018-08-01 12:58:20,955|INFO|grouping by ['seqname', 'strand']\n"
     ]
    },
    {
     "name": "stdout",
     "output_type": "stream",
     "text": [
      "0.21,"
     ]
    },
    {
     "name": "stderr",
     "output_type": "stream",
     "text": [
      "100%|██████████| 50/50 [00:00<00:00, 2631.70it/s]\n",
      "2018-08-01 12:58:21,462|INFO|clustering clvs in parallel using 30 CPUs ...\n",
      "2018-08-01 12:58:22,723|INFO|concatenating clustered sub dataframes ...\n",
      "2018-08-01 12:58:23,304|INFO|grouping by ['seqname', 'strand']\n",
      "100%|██████████| 50/50 [00:00<00:00, 3207.64it/s]"
     ]
    },
    {
     "name": "stdout",
     "output_type": "stream",
     "text": [
      "0.22,"
     ]
    },
    {
     "name": "stderr",
     "output_type": "stream",
     "text": [
      "\n",
      "2018-08-01 12:58:23,691|INFO|clustering clvs in parallel using 30 CPUs ...\n",
      "2018-08-01 12:58:25,068|INFO|concatenating clustered sub dataframes ...\n",
      "2018-08-01 12:58:25,638|INFO|grouping by ['seqname', 'strand']\n",
      "100%|██████████| 50/50 [00:00<00:00, 3053.56it/s]"
     ]
    },
    {
     "name": "stdout",
     "output_type": "stream",
     "text": [
      "0.23,"
     ]
    },
    {
     "name": "stderr",
     "output_type": "stream",
     "text": [
      "\n",
      "2018-08-01 12:58:26,080|INFO|clustering clvs in parallel using 30 CPUs ...\n",
      "2018-08-01 12:58:27,347|INFO|concatenating clustered sub dataframes ...\n",
      "2018-08-01 12:58:27,955|INFO|grouping by ['seqname', 'strand']\n",
      "100%|██████████| 50/50 [00:00<00:00, 3248.23it/s]"
     ]
    },
    {
     "name": "stdout",
     "output_type": "stream",
     "text": [
      "0.24,"
     ]
    },
    {
     "name": "stderr",
     "output_type": "stream",
     "text": [
      "\n",
      "2018-08-01 12:58:28,305|INFO|clustering clvs in parallel using 30 CPUs ...\n",
      "2018-08-01 12:58:29,366|INFO|concatenating clustered sub dataframes ...\n",
      "2018-08-01 12:58:29,930|INFO|grouping by ['seqname', 'strand']\n",
      "100%|██████████| 50/50 [00:00<00:00, 3129.05it/s]"
     ]
    },
    {
     "name": "stdout",
     "output_type": "stream",
     "text": [
      "0.25,"
     ]
    },
    {
     "name": "stderr",
     "output_type": "stream",
     "text": [
      "\n",
      "2018-08-01 12:58:30,370|INFO|clustering clvs in parallel using 30 CPUs ...\n",
      "2018-08-01 12:58:31,540|INFO|concatenating clustered sub dataframes ...\n",
      "2018-08-01 12:58:32,057|INFO|grouping by ['seqname', 'strand']\n",
      "100%|██████████| 50/50 [00:00<00:00, 2565.48it/s]"
     ]
    },
    {
     "name": "stdout",
     "output_type": "stream",
     "text": [
      "0.26,"
     ]
    },
    {
     "name": "stderr",
     "output_type": "stream",
     "text": [
      "\n",
      "2018-08-01 12:58:32,572|INFO|clustering clvs in parallel using 30 CPUs ...\n",
      "2018-08-01 12:58:33,555|INFO|concatenating clustered sub dataframes ...\n",
      "2018-08-01 12:58:34,133|INFO|grouping by ['seqname', 'strand']\n",
      "100%|██████████| 50/50 [00:00<00:00, 3159.41it/s]"
     ]
    },
    {
     "name": "stdout",
     "output_type": "stream",
     "text": [
      "0.27,"
     ]
    },
    {
     "name": "stderr",
     "output_type": "stream",
     "text": [
      "\n",
      "2018-08-01 12:58:34,506|INFO|clustering clvs in parallel using 30 CPUs ...\n",
      "2018-08-01 12:58:35,465|INFO|concatenating clustered sub dataframes ...\n",
      "2018-08-01 12:58:35,957|INFO|grouping by ['seqname', 'strand']\n",
      "100%|██████████| 50/50 [00:00<00:00, 3359.37it/s]"
     ]
    },
    {
     "name": "stdout",
     "output_type": "stream",
     "text": [
      "0.28,"
     ]
    },
    {
     "name": "stderr",
     "output_type": "stream",
     "text": [
      "\n",
      "2018-08-01 12:58:36,384|INFO|clustering clvs in parallel using 30 CPUs ...\n",
      "2018-08-01 12:58:37,441|INFO|concatenating clustered sub dataframes ...\n",
      "2018-08-01 12:58:38,039|INFO|grouping by ['seqname', 'strand']\n",
      "100%|██████████| 50/50 [00:00<00:00, 2770.68it/s]"
     ]
    },
    {
     "name": "stdout",
     "output_type": "stream",
     "text": [
      "0.29,"
     ]
    },
    {
     "name": "stderr",
     "output_type": "stream",
     "text": [
      "\n",
      "2018-08-01 12:58:38,451|INFO|clustering clvs in parallel using 30 CPUs ...\n",
      "2018-08-01 12:58:39,626|INFO|concatenating clustered sub dataframes ...\n",
      "2018-08-01 12:58:40,096|INFO|grouping by ['seqname', 'strand']\n",
      "100%|██████████| 50/50 [00:00<00:00, 3451.08it/s]"
     ]
    },
    {
     "name": "stdout",
     "output_type": "stream",
     "text": [
      "0.3,"
     ]
    },
    {
     "name": "stderr",
     "output_type": "stream",
     "text": [
      "\n",
      "2018-08-01 12:58:40,535|INFO|clustering clvs in parallel using 30 CPUs ...\n",
      "2018-08-01 12:58:41,498|INFO|concatenating clustered sub dataframes ...\n",
      "2018-08-01 12:58:42,066|INFO|grouping by ['seqname', 'strand']\n",
      "100%|██████████| 50/50 [00:00<00:00, 3351.53it/s]"
     ]
    },
    {
     "name": "stdout",
     "output_type": "stream",
     "text": [
      "0.31,"
     ]
    },
    {
     "name": "stderr",
     "output_type": "stream",
     "text": [
      "\n",
      "2018-08-01 12:58:42,427|INFO|clustering clvs in parallel using 30 CPUs ...\n",
      "2018-08-01 12:58:43,387|INFO|concatenating clustered sub dataframes ...\n",
      "2018-08-01 12:58:43,878|INFO|grouping by ['seqname', 'strand']\n",
      "100%|██████████| 50/50 [00:00<00:00, 3336.49it/s]"
     ]
    },
    {
     "name": "stdout",
     "output_type": "stream",
     "text": [
      "0.32,"
     ]
    },
    {
     "name": "stderr",
     "output_type": "stream",
     "text": [
      "\n",
      "2018-08-01 12:58:44,312|INFO|clustering clvs in parallel using 30 CPUs ...\n",
      "2018-08-01 12:58:45,183|INFO|concatenating clustered sub dataframes ...\n",
      "2018-08-01 12:58:45,660|INFO|grouping by ['seqname', 'strand']\n",
      "100%|██████████| 50/50 [00:00<00:00, 3390.98it/s]"
     ]
    },
    {
     "name": "stdout",
     "output_type": "stream",
     "text": [
      "0.33,"
     ]
    },
    {
     "name": "stderr",
     "output_type": "stream",
     "text": [
      "\n",
      "2018-08-01 12:58:46,034|INFO|clustering clvs in parallel using 30 CPUs ...\n",
      "2018-08-01 12:58:46,889|INFO|concatenating clustered sub dataframes ...\n",
      "2018-08-01 12:58:47,435|INFO|grouping by ['seqname', 'strand']\n",
      "100%|██████████| 50/50 [00:00<00:00, 3328.76it/s]"
     ]
    },
    {
     "name": "stdout",
     "output_type": "stream",
     "text": [
      "0.34,"
     ]
    },
    {
     "name": "stderr",
     "output_type": "stream",
     "text": [
      "\n",
      "2018-08-01 12:58:47,796|INFO|clustering clvs in parallel using 30 CPUs ...\n",
      "2018-08-01 12:58:48,757|INFO|concatenating clustered sub dataframes ...\n",
      "2018-08-01 12:58:49,209|INFO|grouping by ['seqname', 'strand']\n",
      "100%|██████████| 50/50 [00:00<00:00, 2801.28it/s]"
     ]
    },
    {
     "name": "stdout",
     "output_type": "stream",
     "text": [
      "0.35000000000000003,"
     ]
    },
    {
     "name": "stderr",
     "output_type": "stream",
     "text": [
      "\n",
      "2018-08-01 12:58:49,582|INFO|clustering clvs in parallel using 30 CPUs ...\n",
      "2018-08-01 12:58:50,749|INFO|concatenating clustered sub dataframes ...\n",
      "2018-08-01 12:58:51,209|INFO|grouping by ['seqname', 'strand']\n",
      "100%|██████████| 50/50 [00:00<00:00, 3949.29it/s]"
     ]
    },
    {
     "name": "stdout",
     "output_type": "stream",
     "text": [
      "0.36,"
     ]
    },
    {
     "name": "stderr",
     "output_type": "stream",
     "text": [
      "\n",
      "2018-08-01 12:58:51,553|INFO|clustering clvs in parallel using 30 CPUs ...\n",
      "2018-08-01 12:58:52,399|INFO|concatenating clustered sub dataframes ...\n",
      "2018-08-01 12:58:52,807|INFO|grouping by ['seqname', 'strand']\n",
      "100%|██████████| 50/50 [00:00<00:00, 4030.27it/s]"
     ]
    },
    {
     "name": "stdout",
     "output_type": "stream",
     "text": [
      "0.37,"
     ]
    },
    {
     "name": "stderr",
     "output_type": "stream",
     "text": [
      "\n",
      "2018-08-01 12:58:53,133|INFO|clustering clvs in parallel using 30 CPUs ...\n",
      "2018-08-01 12:58:53,984|INFO|concatenating clustered sub dataframes ...\n",
      "2018-08-01 12:58:54,482|INFO|grouping by ['seqname', 'strand']\n",
      "100%|██████████| 50/50 [00:00<00:00, 3556.48it/s]"
     ]
    },
    {
     "name": "stdout",
     "output_type": "stream",
     "text": [
      "0.38,"
     ]
    },
    {
     "name": "stderr",
     "output_type": "stream",
     "text": [
      "\n",
      "2018-08-01 12:58:54,827|INFO|clustering clvs in parallel using 30 CPUs ...\n",
      "2018-08-01 12:58:55,797|INFO|concatenating clustered sub dataframes ...\n",
      "2018-08-01 12:58:56,270|INFO|grouping by ['seqname', 'strand']\n",
      "100%|██████████| 50/50 [00:00<00:00, 3393.94it/s]"
     ]
    },
    {
     "name": "stdout",
     "output_type": "stream",
     "text": [
      "0.39,"
     ]
    },
    {
     "name": "stderr",
     "output_type": "stream",
     "text": [
      "\n",
      "2018-08-01 12:58:56,636|INFO|clustering clvs in parallel using 30 CPUs ...\n",
      "2018-08-01 12:58:57,498|INFO|concatenating clustered sub dataframes ...\n",
      "2018-08-01 12:58:57,921|INFO|grouping by ['seqname', 'strand']\n",
      "100%|██████████| 50/50 [00:00<00:00, 3620.90it/s]"
     ]
    },
    {
     "name": "stdout",
     "output_type": "stream",
     "text": [
      "0.4,"
     ]
    },
    {
     "name": "stderr",
     "output_type": "stream",
     "text": [
      "\n",
      "2018-08-01 12:58:58,329|INFO|clustering clvs in parallel using 30 CPUs ...\n",
      "2018-08-01 12:58:59,098|INFO|concatenating clustered sub dataframes ...\n",
      "2018-08-01 12:58:59,527|INFO|grouping by ['seqname', 'strand']\n",
      "100%|██████████| 50/50 [00:00<00:00, 3472.45it/s]"
     ]
    },
    {
     "name": "stdout",
     "output_type": "stream",
     "text": [
      "0.41000000000000003,"
     ]
    },
    {
     "name": "stderr",
     "output_type": "stream",
     "text": [
      "\n",
      "2018-08-01 12:58:59,917|INFO|clustering clvs in parallel using 30 CPUs ...\n",
      "2018-08-01 12:59:00,774|INFO|concatenating clustered sub dataframes ...\n",
      "2018-08-01 12:59:01,224|INFO|grouping by ['seqname', 'strand']\n",
      "100%|██████████| 50/50 [00:00<00:00, 3430.25it/s]"
     ]
    },
    {
     "name": "stdout",
     "output_type": "stream",
     "text": [
      "0.42,"
     ]
    },
    {
     "name": "stderr",
     "output_type": "stream",
     "text": [
      "\n",
      "2018-08-01 12:59:01,688|INFO|clustering clvs in parallel using 30 CPUs ...\n",
      "2018-08-01 12:59:02,752|INFO|concatenating clustered sub dataframes ...\n",
      "2018-08-01 12:59:03,153|INFO|grouping by ['seqname', 'strand']\n",
      "100%|██████████| 50/50 [00:00<00:00, 3619.77it/s]"
     ]
    },
    {
     "name": "stdout",
     "output_type": "stream",
     "text": [
      "0.43,"
     ]
    },
    {
     "name": "stderr",
     "output_type": "stream",
     "text": [
      "\n",
      "2018-08-01 12:59:03,496|INFO|clustering clvs in parallel using 30 CPUs ...\n",
      "2018-08-01 12:59:04,254|INFO|concatenating clustered sub dataframes ...\n",
      "2018-08-01 12:59:04,710|INFO|grouping by ['seqname', 'strand']\n",
      "100%|██████████| 50/50 [00:00<00:00, 2919.20it/s]"
     ]
    },
    {
     "name": "stdout",
     "output_type": "stream",
     "text": [
      "0.44,"
     ]
    },
    {
     "name": "stderr",
     "output_type": "stream",
     "text": [
      "\n",
      "2018-08-01 12:59:05,075|INFO|clustering clvs in parallel using 30 CPUs ...\n",
      "2018-08-01 12:59:05,932|INFO|concatenating clustered sub dataframes ...\n",
      "2018-08-01 12:59:06,438|INFO|grouping by ['seqname', 'strand']\n",
      "100%|██████████| 50/50 [00:00<00:00, 3367.51it/s]"
     ]
    },
    {
     "name": "stdout",
     "output_type": "stream",
     "text": [
      "0.45,"
     ]
    },
    {
     "name": "stderr",
     "output_type": "stream",
     "text": [
      "\n",
      "2018-08-01 12:59:06,793|INFO|clustering clvs in parallel using 30 CPUs ...\n",
      "2018-08-01 12:59:07,665|INFO|concatenating clustered sub dataframes ...\n",
      "2018-08-01 12:59:08,115|INFO|grouping by ['seqname', 'strand']\n",
      "100%|██████████| 50/50 [00:00<00:00, 3981.61it/s]"
     ]
    },
    {
     "name": "stdout",
     "output_type": "stream",
     "text": [
      "0.46,"
     ]
    },
    {
     "name": "stderr",
     "output_type": "stream",
     "text": [
      "\n",
      "2018-08-01 12:59:08,433|INFO|clustering clvs in parallel using 30 CPUs ...\n",
      "2018-08-01 12:59:09,387|INFO|concatenating clustered sub dataframes ...\n",
      "2018-08-01 12:59:09,796|INFO|grouping by ['seqname', 'strand']\n",
      "100%|██████████| 50/50 [00:00<00:00, 3411.17it/s]"
     ]
    },
    {
     "name": "stdout",
     "output_type": "stream",
     "text": [
      "0.47000000000000003,"
     ]
    },
    {
     "name": "stderr",
     "output_type": "stream",
     "text": [
      "\n",
      "2018-08-01 12:59:10,264|INFO|clustering clvs in parallel using 30 CPUs ...\n",
      "2018-08-01 12:59:11,020|INFO|concatenating clustered sub dataframes ...\n",
      "2018-08-01 12:59:11,409|INFO|grouping by ['seqname', 'strand']\n",
      "100%|██████████| 50/50 [00:00<00:00, 3568.59it/s]"
     ]
    },
    {
     "name": "stdout",
     "output_type": "stream",
     "text": [
      "0.48,"
     ]
    },
    {
     "name": "stderr",
     "output_type": "stream",
     "text": [
      "\n",
      "2018-08-01 12:59:11,775|INFO|clustering clvs in parallel using 30 CPUs ...\n",
      "2018-08-01 12:59:12,543|INFO|concatenating clustered sub dataframes ...\n",
      "2018-08-01 12:59:12,966|INFO|grouping by ['seqname', 'strand']\n",
      "100%|██████████| 50/50 [00:00<00:00, 3472.85it/s]"
     ]
    },
    {
     "name": "stdout",
     "output_type": "stream",
     "text": [
      "0.49,"
     ]
    },
    {
     "name": "stderr",
     "output_type": "stream",
     "text": [
      "\n",
      "2018-08-01 12:59:13,328|INFO|clustering clvs in parallel using 30 CPUs ...\n",
      "2018-08-01 12:59:13,988|INFO|concatenating clustered sub dataframes ...\n",
      "2018-08-01 12:59:14,390|INFO|grouping by ['seqname', 'strand']\n",
      "100%|██████████| 50/50 [00:00<00:00, 3245.46it/s]"
     ]
    },
    {
     "name": "stdout",
     "output_type": "stream",
     "text": [
      "0.5,"
     ]
    },
    {
     "name": "stderr",
     "output_type": "stream",
     "text": [
      "\n",
      "2018-08-01 12:59:14,813|INFO|clustering clvs in parallel using 30 CPUs ...\n",
      "2018-08-01 12:59:15,470|INFO|concatenating clustered sub dataframes ...\n",
      "2018-08-01 12:59:15,900|INFO|grouping by ['seqname', 'strand']\n",
      "100%|██████████| 50/50 [00:00<00:00, 3494.96it/s]"
     ]
    },
    {
     "name": "stdout",
     "output_type": "stream",
     "text": [
      "0.51,"
     ]
    },
    {
     "name": "stderr",
     "output_type": "stream",
     "text": [
      "\n",
      "2018-08-01 12:59:16,275|INFO|clustering clvs in parallel using 30 CPUs ...\n",
      "2018-08-01 12:59:16,923|INFO|concatenating clustered sub dataframes ...\n",
      "2018-08-01 12:59:17,283|INFO|grouping by ['seqname', 'strand']\n",
      "100%|██████████| 50/50 [00:00<00:00, 3515.17it/s]"
     ]
    },
    {
     "name": "stdout",
     "output_type": "stream",
     "text": [
      "0.52,"
     ]
    },
    {
     "name": "stderr",
     "output_type": "stream",
     "text": [
      "\n",
      "2018-08-01 12:59:17,720|INFO|clustering clvs in parallel using 30 CPUs ...\n",
      "2018-08-01 12:59:18,388|INFO|concatenating clustered sub dataframes ...\n",
      "2018-08-01 12:59:18,761|INFO|grouping by ['seqname', 'strand']\n",
      "100%|██████████| 50/50 [00:00<00:00, 3660.21it/s]"
     ]
    },
    {
     "name": "stdout",
     "output_type": "stream",
     "text": [
      "0.53,"
     ]
    },
    {
     "name": "stderr",
     "output_type": "stream",
     "text": [
      "\n",
      "2018-08-01 12:59:19,100|INFO|clustering clvs in parallel using 30 CPUs ...\n",
      "2018-08-01 12:59:19,752|INFO|concatenating clustered sub dataframes ...\n",
      "2018-08-01 12:59:20,123|INFO|grouping by ['seqname', 'strand']\n",
      "100%|██████████| 50/50 [00:00<00:00, 3455.86it/s]"
     ]
    },
    {
     "name": "stdout",
     "output_type": "stream",
     "text": [
      "0.54,"
     ]
    },
    {
     "name": "stderr",
     "output_type": "stream",
     "text": [
      "\n",
      "2018-08-01 12:59:20,498|INFO|clustering clvs in parallel using 30 CPUs ...\n",
      "2018-08-01 12:59:21,459|INFO|concatenating clustered sub dataframes ...\n",
      "2018-08-01 12:59:21,873|INFO|grouping by ['seqname', 'strand']\n",
      "100%|██████████| 50/50 [00:00<00:00, 3360.93it/s]"
     ]
    },
    {
     "name": "stdout",
     "output_type": "stream",
     "text": [
      "0.55,"
     ]
    },
    {
     "name": "stderr",
     "output_type": "stream",
     "text": [
      "\n",
      "2018-08-01 12:59:22,337|INFO|clustering clvs in parallel using 30 CPUs ...\n",
      "2018-08-01 12:59:22,976|INFO|concatenating clustered sub dataframes ...\n",
      "2018-08-01 12:59:23,368|INFO|grouping by ['seqname', 'strand']\n",
      "100%|██████████| 50/50 [00:00<00:00, 3468.66it/s]"
     ]
    },
    {
     "name": "stdout",
     "output_type": "stream",
     "text": [
      "0.56,"
     ]
    },
    {
     "name": "stderr",
     "output_type": "stream",
     "text": [
      "\n",
      "2018-08-01 12:59:23,726|INFO|clustering clvs in parallel using 30 CPUs ...\n",
      "2018-08-01 12:59:24,397|INFO|concatenating clustered sub dataframes ...\n",
      "2018-08-01 12:59:24,798|INFO|grouping by ['seqname', 'strand']\n",
      "100%|██████████| 50/50 [00:00<00:00, 3485.96it/s]"
     ]
    },
    {
     "name": "stdout",
     "output_type": "stream",
     "text": [
      "0.5700000000000001,"
     ]
    },
    {
     "name": "stderr",
     "output_type": "stream",
     "text": [
      "\n",
      "2018-08-01 12:59:25,153|INFO|clustering clvs in parallel using 30 CPUs ...\n",
      "2018-08-01 12:59:26,007|INFO|concatenating clustered sub dataframes ...\n",
      "2018-08-01 12:59:26,376|INFO|grouping by ['seqname', 'strand']\n",
      "100%|██████████| 50/50 [00:00<00:00, 3778.38it/s]"
     ]
    },
    {
     "name": "stdout",
     "output_type": "stream",
     "text": [
      "0.58,"
     ]
    },
    {
     "name": "stderr",
     "output_type": "stream",
     "text": [
      "\n",
      "2018-08-01 12:59:26,856|INFO|clustering clvs in parallel using 30 CPUs ...\n",
      "2018-08-01 12:59:27,717|INFO|concatenating clustered sub dataframes ...\n",
      "2018-08-01 12:59:28,092|INFO|grouping by ['seqname', 'strand']\n",
      "100%|██████████| 50/50 [00:00<00:00, 3750.07it/s]"
     ]
    },
    {
     "name": "stdout",
     "output_type": "stream",
     "text": [
      "0.59,"
     ]
    },
    {
     "name": "stderr",
     "output_type": "stream",
     "text": [
      "\n",
      "2018-08-01 12:59:28,457|INFO|clustering clvs in parallel using 30 CPUs ...\n",
      "2018-08-01 12:59:29,116|INFO|concatenating clustered sub dataframes ...\n",
      "2018-08-01 12:59:29,519|INFO|grouping by ['seqname', 'strand']\n",
      "100%|██████████| 50/50 [00:00<00:00, 3529.55it/s]"
     ]
    },
    {
     "name": "stdout",
     "output_type": "stream",
     "text": [
      "0.6,"
     ]
    },
    {
     "name": "stderr",
     "output_type": "stream",
     "text": [
      "\n",
      "2018-08-01 12:59:29,936|INFO|clustering clvs in parallel using 30 CPUs ...\n",
      "2018-08-01 12:59:30,605|INFO|concatenating clustered sub dataframes ...\n",
      "2018-08-01 12:59:30,973|INFO|grouping by ['seqname', 'strand']\n",
      "100%|██████████| 50/50 [00:00<00:00, 3496.42it/s]"
     ]
    },
    {
     "name": "stdout",
     "output_type": "stream",
     "text": [
      "0.61,"
     ]
    },
    {
     "name": "stderr",
     "output_type": "stream",
     "text": [
      "\n",
      "2018-08-01 12:59:31,400|INFO|clustering clvs in parallel using 30 CPUs ...\n",
      "2018-08-01 12:59:32,168|INFO|concatenating clustered sub dataframes ...\n",
      "2018-08-01 12:59:32,514|INFO|grouping by ['seqname', 'strand']\n",
      "100%|██████████| 50/50 [00:00<00:00, 3900.81it/s]"
     ]
    },
    {
     "name": "stdout",
     "output_type": "stream",
     "text": [
      "0.62,"
     ]
    },
    {
     "name": "stderr",
     "output_type": "stream",
     "text": [
      "\n",
      "2018-08-01 12:59:32,858|INFO|clustering clvs in parallel using 30 CPUs ...\n",
      "2018-08-01 12:59:33,607|INFO|concatenating clustered sub dataframes ...\n",
      "2018-08-01 12:59:33,973|INFO|grouping by ['seqname', 'strand']\n",
      "100%|██████████| 50/50 [00:00<00:00, 3649.25it/s]"
     ]
    },
    {
     "name": "stdout",
     "output_type": "stream",
     "text": [
      "0.63,"
     ]
    },
    {
     "name": "stderr",
     "output_type": "stream",
     "text": [
      "\n",
      "2018-08-01 12:59:34,335|INFO|clustering clvs in parallel using 30 CPUs ...\n",
      "2018-08-01 12:59:34,988|INFO|concatenating clustered sub dataframes ...\n",
      "2018-08-01 12:59:35,338|INFO|grouping by ['seqname', 'strand']\n",
      "100%|██████████| 50/50 [00:00<00:00, 4040.37it/s]"
     ]
    },
    {
     "name": "stdout",
     "output_type": "stream",
     "text": [
      "0.64,"
     ]
    },
    {
     "name": "stderr",
     "output_type": "stream",
     "text": [
      "\n",
      "2018-08-01 12:59:35,723|INFO|clustering clvs in parallel using 30 CPUs ...\n",
      "2018-08-01 12:59:36,282|INFO|concatenating clustered sub dataframes ...\n",
      "2018-08-01 12:59:36,572|INFO|grouping by ['seqname', 'strand']\n",
      "100%|██████████| 50/50 [00:00<00:00, 4255.93it/s]"
     ]
    },
    {
     "name": "stdout",
     "output_type": "stream",
     "text": [
      "0.65,"
     ]
    },
    {
     "name": "stderr",
     "output_type": "stream",
     "text": [
      "\n",
      "2018-08-01 12:59:36,878|INFO|clustering clvs in parallel using 30 CPUs ...\n",
      "2018-08-01 12:59:37,528|INFO|concatenating clustered sub dataframes ...\n",
      "2018-08-01 12:59:37,884|INFO|grouping by ['seqname', 'strand']\n",
      "100%|██████████| 50/50 [00:00<00:00, 3547.34it/s]"
     ]
    },
    {
     "name": "stdout",
     "output_type": "stream",
     "text": [
      "0.66,"
     ]
    },
    {
     "name": "stderr",
     "output_type": "stream",
     "text": [
      "\n",
      "2018-08-01 12:59:38,204|INFO|clustering clvs in parallel using 30 CPUs ...\n",
      "2018-08-01 12:59:38,860|INFO|concatenating clustered sub dataframes ...\n",
      "2018-08-01 12:59:39,210|INFO|grouping by ['seqname', 'strand']\n",
      "100%|██████████| 50/50 [00:00<00:00, 3597.61it/s]"
     ]
    },
    {
     "name": "stdout",
     "output_type": "stream",
     "text": [
      "0.67,"
     ]
    },
    {
     "name": "stderr",
     "output_type": "stream",
     "text": [
      "\n",
      "2018-08-01 12:59:39,665|INFO|clustering clvs in parallel using 30 CPUs ...\n",
      "2018-08-01 12:59:40,245|INFO|concatenating clustered sub dataframes ...\n",
      "2018-08-01 12:59:40,664|INFO|grouping by ['seqname', 'strand']\n",
      "100%|██████████| 50/50 [00:00<00:00, 3218.12it/s]"
     ]
    },
    {
     "name": "stdout",
     "output_type": "stream",
     "text": [
      "0.68,"
     ]
    },
    {
     "name": "stderr",
     "output_type": "stream",
     "text": [
      "\n",
      "2018-08-01 12:59:41,029|INFO|clustering clvs in parallel using 30 CPUs ...\n",
      "2018-08-01 12:59:41,650|INFO|concatenating clustered sub dataframes ...\n",
      "2018-08-01 12:59:41,972|INFO|grouping by ['seqname', 'strand']\n",
      "100%|██████████| 50/50 [00:00<00:00, 3783.97it/s]"
     ]
    },
    {
     "name": "stdout",
     "output_type": "stream",
     "text": [
      "0.6900000000000001,"
     ]
    },
    {
     "name": "stderr",
     "output_type": "stream",
     "text": [
      "\n",
      "2018-08-01 12:59:42,346|INFO|clustering clvs in parallel using 30 CPUs ...\n",
      "2018-08-01 12:59:42,992|INFO|concatenating clustered sub dataframes ...\n",
      "2018-08-01 12:59:43,448|INFO|grouping by ['seqname', 'strand']\n",
      "100%|██████████| 50/50 [00:00<00:00, 1913.69it/s]"
     ]
    },
    {
     "name": "stdout",
     "output_type": "stream",
     "text": [
      "0.7000000000000001,"
     ]
    },
    {
     "name": "stderr",
     "output_type": "stream",
     "text": [
      "\n",
      "2018-08-01 12:59:43,908|INFO|clustering clvs in parallel using 30 CPUs ...\n",
      "2018-08-01 12:59:44,449|INFO|concatenating clustered sub dataframes ...\n",
      "2018-08-01 12:59:44,792|INFO|grouping by ['seqname', 'strand']\n",
      "100%|██████████| 50/50 [00:00<00:00, 3045.84it/s]"
     ]
    },
    {
     "name": "stdout",
     "output_type": "stream",
     "text": [
      "0.71,"
     ]
    },
    {
     "name": "stderr",
     "output_type": "stream",
     "text": [
      "\n",
      "2018-08-01 12:59:45,159|INFO|clustering clvs in parallel using 30 CPUs ...\n",
      "2018-08-01 12:59:45,705|INFO|concatenating clustered sub dataframes ...\n",
      "2018-08-01 12:59:46,062|INFO|grouping by ['seqname', 'strand']\n",
      "100%|██████████| 50/50 [00:00<00:00, 3629.55it/s]"
     ]
    },
    {
     "name": "stdout",
     "output_type": "stream",
     "text": [
      "0.72,"
     ]
    },
    {
     "name": "stderr",
     "output_type": "stream",
     "text": [
      "\n",
      "2018-08-01 12:59:46,425|INFO|clustering clvs in parallel using 30 CPUs ...\n",
      "2018-08-01 12:59:46,972|INFO|concatenating clustered sub dataframes ...\n",
      "2018-08-01 12:59:47,343|INFO|grouping by ['seqname', 'strand']\n",
      "100%|██████████| 50/50 [00:00<00:00, 3589.11it/s]"
     ]
    },
    {
     "name": "stdout",
     "output_type": "stream",
     "text": [
      "0.73,"
     ]
    },
    {
     "name": "stderr",
     "output_type": "stream",
     "text": [
      "\n",
      "2018-08-01 12:59:47,798|INFO|clustering clvs in parallel using 30 CPUs ...\n",
      "2018-08-01 12:59:48,369|INFO|concatenating clustered sub dataframes ...\n",
      "2018-08-01 12:59:48,779|INFO|grouping by ['seqname', 'strand']\n",
      "100%|██████████| 50/50 [00:00<00:00, 3607.13it/s]"
     ]
    },
    {
     "name": "stdout",
     "output_type": "stream",
     "text": [
      "0.74,"
     ]
    },
    {
     "name": "stderr",
     "output_type": "stream",
     "text": [
      "\n",
      "2018-08-01 12:59:49,113|INFO|clustering clvs in parallel using 30 CPUs ...\n",
      "2018-08-01 12:59:49,673|INFO|concatenating clustered sub dataframes ...\n",
      "2018-08-01 12:59:50,031|INFO|grouping by ['seqname', 'strand']\n",
      "100%|██████████| 50/50 [00:00<00:00, 3627.85it/s]"
     ]
    },
    {
     "name": "stdout",
     "output_type": "stream",
     "text": [
      "0.75,"
     ]
    },
    {
     "name": "stderr",
     "output_type": "stream",
     "text": [
      "\n",
      "2018-08-01 12:59:50,407|INFO|clustering clvs in parallel using 30 CPUs ...\n",
      "2018-08-01 12:59:51,064|INFO|concatenating clustered sub dataframes ...\n",
      "2018-08-01 12:59:51,487|INFO|grouping by ['seqname', 'strand']\n",
      "100%|██████████| 50/50 [00:00<00:00, 3177.74it/s]"
     ]
    },
    {
     "name": "stdout",
     "output_type": "stream",
     "text": [
      "0.76,"
     ]
    },
    {
     "name": "stderr",
     "output_type": "stream",
     "text": [
      "\n",
      "2018-08-01 12:59:51,853|INFO|clustering clvs in parallel using 30 CPUs ...\n",
      "2018-08-01 12:59:52,407|INFO|concatenating clustered sub dataframes ...\n",
      "2018-08-01 12:59:52,816|INFO|grouping by ['seqname', 'strand']\n",
      "100%|██████████| 49/49 [00:00<00:00, 3488.79it/s]"
     ]
    },
    {
     "name": "stdout",
     "output_type": "stream",
     "text": [
      "0.77,"
     ]
    },
    {
     "name": "stderr",
     "output_type": "stream",
     "text": [
      "\n",
      "2018-08-01 12:59:53,302|INFO|clustering clvs in parallel using 30 CPUs ...\n",
      "2018-08-01 12:59:53,847|INFO|concatenating clustered sub dataframes ...\n",
      "2018-08-01 12:59:54,162|INFO|grouping by ['seqname', 'strand']\n",
      "100%|██████████| 49/49 [00:00<00:00, 3615.21it/s]"
     ]
    },
    {
     "name": "stdout",
     "output_type": "stream",
     "text": [
      "0.78,"
     ]
    },
    {
     "name": "stderr",
     "output_type": "stream",
     "text": [
      "\n",
      "2018-08-01 12:59:54,531|INFO|clustering clvs in parallel using 30 CPUs ...\n",
      "2018-08-01 12:59:55,084|INFO|concatenating clustered sub dataframes ...\n",
      "2018-08-01 12:59:55,436|INFO|grouping by ['seqname', 'strand']\n",
      "100%|██████████| 49/49 [00:00<00:00, 3617.69it/s]"
     ]
    },
    {
     "name": "stdout",
     "output_type": "stream",
     "text": [
      "0.79,"
     ]
    },
    {
     "name": "stderr",
     "output_type": "stream",
     "text": [
      "\n",
      "2018-08-01 12:59:55,803|INFO|clustering clvs in parallel using 30 CPUs ...\n",
      "2018-08-01 12:59:56,484|INFO|concatenating clustered sub dataframes ...\n",
      "2018-08-01 12:59:56,820|INFO|grouping by ['seqname', 'strand']\n",
      "100%|██████████| 49/49 [00:00<00:00, 3582.31it/s]"
     ]
    },
    {
     "name": "stdout",
     "output_type": "stream",
     "text": [
      "0.8,"
     ]
    },
    {
     "name": "stderr",
     "output_type": "stream",
     "text": [
      "\n",
      "2018-08-01 12:59:57,162|INFO|clustering clvs in parallel using 30 CPUs ...\n",
      "2018-08-01 12:59:57,714|INFO|concatenating clustered sub dataframes ...\n",
      "2018-08-01 12:59:58,038|INFO|grouping by ['seqname', 'strand']\n",
      "100%|██████████| 49/49 [00:00<00:00, 3532.80it/s]"
     ]
    },
    {
     "name": "stdout",
     "output_type": "stream",
     "text": [
      "0.81,"
     ]
    },
    {
     "name": "stderr",
     "output_type": "stream",
     "text": [
      "\n",
      "2018-08-01 12:59:58,597|INFO|clustering clvs in parallel using 30 CPUs ...\n",
      "2018-08-01 12:59:59,278|INFO|concatenating clustered sub dataframes ...\n",
      "2018-08-01 12:59:59,673|INFO|grouping by ['seqname', 'strand']\n",
      "100%|██████████| 49/49 [00:00<00:00, 3475.39it/s]"
     ]
    },
    {
     "name": "stdout",
     "output_type": "stream",
     "text": [
      "0.8200000000000001,"
     ]
    },
    {
     "name": "stderr",
     "output_type": "stream",
     "text": [
      "\n",
      "2018-08-01 13:00:00,035|INFO|clustering clvs in parallel using 30 CPUs ...\n",
      "2018-08-01 13:00:00,591|INFO|concatenating clustered sub dataframes ...\n",
      "2018-08-01 13:00:00,938|INFO|grouping by ['seqname', 'strand']\n",
      "100%|██████████| 49/49 [00:00<00:00, 3789.73it/s]"
     ]
    },
    {
     "name": "stdout",
     "output_type": "stream",
     "text": [
      "0.8300000000000001,"
     ]
    },
    {
     "name": "stderr",
     "output_type": "stream",
     "text": [
      "\n",
      "2018-08-01 13:00:01,264|INFO|clustering clvs in parallel using 30 CPUs ...\n",
      "2018-08-01 13:00:01,828|INFO|concatenating clustered sub dataframes ...\n",
      "2018-08-01 13:00:02,213|INFO|grouping by ['seqname', 'strand']\n",
      "100%|██████████| 49/49 [00:00<00:00, 3483.23it/s]"
     ]
    },
    {
     "name": "stdout",
     "output_type": "stream",
     "text": [
      "0.84,"
     ]
    },
    {
     "name": "stderr",
     "output_type": "stream",
     "text": [
      "\n",
      "2018-08-01 13:00:02,554|INFO|clustering clvs in parallel using 30 CPUs ...\n",
      "2018-08-01 13:00:03,030|INFO|concatenating clustered sub dataframes ...\n",
      "2018-08-01 13:00:03,345|INFO|grouping by ['seqname', 'strand']\n",
      "100%|██████████| 49/49 [00:00<00:00, 3807.99it/s]"
     ]
    },
    {
     "name": "stdout",
     "output_type": "stream",
     "text": [
      "0.85,"
     ]
    },
    {
     "name": "stderr",
     "output_type": "stream",
     "text": [
      "\n",
      "2018-08-01 13:00:03,738|INFO|clustering clvs in parallel using 30 CPUs ...\n",
      "2018-08-01 13:00:04,295|INFO|concatenating clustered sub dataframes ...\n",
      "2018-08-01 13:00:04,621|INFO|grouping by ['seqname', 'strand']\n",
      "100%|██████████| 49/49 [00:00<00:00, 3739.12it/s]"
     ]
    },
    {
     "name": "stdout",
     "output_type": "stream",
     "text": [
      "0.86,"
     ]
    },
    {
     "name": "stderr",
     "output_type": "stream",
     "text": [
      "\n",
      "2018-08-01 13:00:04,978|INFO|clustering clvs in parallel using 30 CPUs ...\n",
      "2018-08-01 13:00:05,438|INFO|concatenating clustered sub dataframes ...\n",
      "2018-08-01 13:00:05,797|INFO|grouping by ['seqname', 'strand']\n",
      "100%|██████████| 49/49 [00:00<00:00, 3816.47it/s]"
     ]
    },
    {
     "name": "stdout",
     "output_type": "stream",
     "text": [
      "0.87,"
     ]
    },
    {
     "name": "stderr",
     "output_type": "stream",
     "text": [
      "\n",
      "2018-08-01 13:00:06,134|INFO|clustering clvs in parallel using 30 CPUs ...\n",
      "2018-08-01 13:00:06,591|INFO|concatenating clustered sub dataframes ...\n",
      "2018-08-01 13:00:06,951|INFO|grouping by ['seqname', 'strand']\n",
      "100%|██████████| 49/49 [00:00<00:00, 3095.61it/s]"
     ]
    },
    {
     "name": "stdout",
     "output_type": "stream",
     "text": [
      "0.88,"
     ]
    },
    {
     "name": "stderr",
     "output_type": "stream",
     "text": [
      "\n",
      "2018-08-01 13:00:07,312|INFO|clustering clvs in parallel using 30 CPUs ...\n",
      "2018-08-01 13:00:07,874|INFO|concatenating clustered sub dataframes ...\n",
      "2018-08-01 13:00:08,178|INFO|grouping by ['seqname', 'strand']\n",
      "100%|██████████| 49/49 [00:00<00:00, 3704.68it/s]"
     ]
    },
    {
     "name": "stdout",
     "output_type": "stream",
     "text": [
      "0.89,"
     ]
    },
    {
     "name": "stderr",
     "output_type": "stream",
     "text": [
      "\n",
      "2018-08-01 13:00:08,526|INFO|clustering clvs in parallel using 30 CPUs ...\n",
      "2018-08-01 13:00:09,074|INFO|concatenating clustered sub dataframes ...\n",
      "2018-08-01 13:00:09,364|INFO|grouping by ['seqname', 'strand']\n",
      "100%|██████████| 48/48 [00:00<00:00, 3803.42it/s]"
     ]
    },
    {
     "name": "stdout",
     "output_type": "stream",
     "text": [
      "0.9,"
     ]
    },
    {
     "name": "stderr",
     "output_type": "stream",
     "text": [
      "\n",
      "2018-08-01 13:00:10,101|INFO|clustering clvs in parallel using 30 CPUs ...\n",
      "2018-08-01 13:00:10,657|INFO|concatenating clustered sub dataframes ...\n",
      "2018-08-01 13:00:11,018|INFO|grouping by ['seqname', 'strand']\n",
      "100%|██████████| 48/48 [00:00<00:00, 2734.41it/s]"
     ]
    },
    {
     "name": "stdout",
     "output_type": "stream",
     "text": [
      "0.91,"
     ]
    },
    {
     "name": "stderr",
     "output_type": "stream",
     "text": [
      "\n",
      "2018-08-01 13:00:11,374|INFO|clustering clvs in parallel using 30 CPUs ...\n",
      "2018-08-01 13:00:11,738|INFO|concatenating clustered sub dataframes ...\n",
      "2018-08-01 13:00:12,028|INFO|grouping by ['seqname', 'strand']\n",
      "100%|██████████| 48/48 [00:00<00:00, 3939.08it/s]"
     ]
    },
    {
     "name": "stdout",
     "output_type": "stream",
     "text": [
      "0.92,"
     ]
    },
    {
     "name": "stderr",
     "output_type": "stream",
     "text": [
      "\n",
      "2018-08-01 13:00:12,383|INFO|clustering clvs in parallel using 30 CPUs ...\n",
      "2018-08-01 13:00:12,751|INFO|concatenating clustered sub dataframes ...\n",
      "2018-08-01 13:00:12,988|INFO|grouping by ['seqname', 'strand']\n",
      "100%|██████████| 48/48 [00:00<00:00, 3924.57it/s]"
     ]
    },
    {
     "name": "stdout",
     "output_type": "stream",
     "text": [
      "0.93,"
     ]
    },
    {
     "name": "stderr",
     "output_type": "stream",
     "text": [
      "\n",
      "2018-08-01 13:00:13,404|INFO|clustering clvs in parallel using 30 CPUs ...\n",
      "2018-08-01 13:00:13,861|INFO|concatenating clustered sub dataframes ...\n",
      "2018-08-01 13:00:14,137|INFO|grouping by ['seqname', 'strand']\n",
      "100%|██████████| 48/48 [00:00<00:00, 3838.08it/s]"
     ]
    },
    {
     "name": "stdout",
     "output_type": "stream",
     "text": [
      "0.9400000000000001,"
     ]
    },
    {
     "name": "stderr",
     "output_type": "stream",
     "text": [
      "\n",
      "2018-08-01 13:00:14,465|INFO|clustering clvs in parallel using 30 CPUs ...\n",
      "2018-08-01 13:00:14,845|INFO|concatenating clustered sub dataframes ...\n",
      "2018-08-01 13:00:15,072|INFO|grouping by ['seqname', 'strand']\n",
      "100%|██████████| 48/48 [00:00<00:00, 4054.10it/s]"
     ]
    },
    {
     "name": "stdout",
     "output_type": "stream",
     "text": [
      "0.9500000000000001,"
     ]
    },
    {
     "name": "stderr",
     "output_type": "stream",
     "text": [
      "\n",
      "2018-08-01 13:00:15,443|INFO|clustering clvs in parallel using 30 CPUs ...\n",
      "2018-08-01 13:00:15,801|INFO|concatenating clustered sub dataframes ...\n",
      "2018-08-01 13:00:16,041|INFO|grouping by ['seqname', 'strand']\n",
      "100%|██████████| 47/47 [00:00<00:00, 3906.16it/s]"
     ]
    },
    {
     "name": "stdout",
     "output_type": "stream",
     "text": [
      "0.96,"
     ]
    },
    {
     "name": "stderr",
     "output_type": "stream",
     "text": [
      "\n",
      "2018-08-01 13:00:16,384|INFO|clustering clvs in parallel using 30 CPUs ...\n",
      "2018-08-01 13:00:16,741|INFO|concatenating clustered sub dataframes ...\n",
      "2018-08-01 13:00:16,993|INFO|grouping by ['seqname', 'strand']\n",
      "100%|██████████| 47/47 [00:00<00:00, 3959.75it/s]"
     ]
    },
    {
     "name": "stdout",
     "output_type": "stream",
     "text": [
      "0.97,"
     ]
    },
    {
     "name": "stderr",
     "output_type": "stream",
     "text": [
      "\n",
      "2018-08-01 13:00:17,347|INFO|clustering clvs in parallel using 30 CPUs ...\n",
      "2018-08-01 13:00:17,592|INFO|concatenating clustered sub dataframes ...\n",
      "2018-08-01 13:00:17,818|INFO|grouping by ['seqname', 'strand']\n",
      "100%|██████████| 46/46 [00:00<00:00, 3687.72it/s]"
     ]
    },
    {
     "name": "stdout",
     "output_type": "stream",
     "text": [
      "0.98,"
     ]
    },
    {
     "name": "stderr",
     "output_type": "stream",
     "text": [
      "\n",
      "2018-08-01 13:00:18,164|INFO|clustering clvs in parallel using 30 CPUs ...\n",
      "2018-08-01 13:00:18,446|INFO|concatenating clustered sub dataframes ...\n"
     ]
    },
    {
     "name": "stdout",
     "output_type": "stream",
     "text": [
      "0.99,1.0,"
     ]
    },
    {
     "name": "stderr",
     "output_type": "stream",
     "text": [
      "2018-08-01 13:00:20,743|INFO|reading /projects/cheny_prj/KLEAT_benchmarking/polyA_seq/UHR1.bed ...\n",
      "2018-08-01 13:00:43,101|INFO|grouping by ['seqname', 'strand']\n"
     ]
    },
    {
     "name": "stdout",
     "output_type": "stream",
     "text": [
      "0.0,"
     ]
    },
    {
     "name": "stderr",
     "output_type": "stream",
     "text": [
      "100%|██████████| 50/50 [00:00<00:00, 403.81it/s]\n",
      "2018-08-01 13:00:44,507|INFO|clustering clvs in parallel using 30 CPUs ...\n",
      "2018-08-01 13:01:33,504|INFO|concatenating clustered sub dataframes ...\n",
      "2018-08-01 13:01:44,657|INFO|grouping by ['seqname', 'strand']\n"
     ]
    },
    {
     "name": "stdout",
     "output_type": "stream",
     "text": [
      "0.01,"
     ]
    },
    {
     "name": "stderr",
     "output_type": "stream",
     "text": [
      "100%|██████████| 50/50 [00:00<00:00, 1080.13it/s]\n",
      "2018-08-01 13:01:45,315|INFO|clustering clvs in parallel using 30 CPUs ...\n",
      "2018-08-01 13:01:59,588|INFO|concatenating clustered sub dataframes ...\n",
      "2018-08-01 13:02:03,558|INFO|grouping by ['seqname', 'strand']\n"
     ]
    },
    {
     "name": "stdout",
     "output_type": "stream",
     "text": [
      "0.02,"
     ]
    },
    {
     "name": "stderr",
     "output_type": "stream",
     "text": [
      "100%|██████████| 50/50 [00:00<00:00, 1455.90it/s]\n",
      "2018-08-01 13:02:04,130|INFO|clustering clvs in parallel using 30 CPUs ...\n",
      "2018-08-01 13:02:10,629|INFO|concatenating clustered sub dataframes ...\n",
      "2018-08-01 13:02:12,775|INFO|grouping by ['seqname', 'strand']\n"
     ]
    },
    {
     "name": "stdout",
     "output_type": "stream",
     "text": [
      "0.03,"
     ]
    },
    {
     "name": "stderr",
     "output_type": "stream",
     "text": [
      "100%|██████████| 50/50 [00:00<00:00, 1988.29it/s]\n",
      "2018-08-01 13:02:13,286|INFO|clustering clvs in parallel using 30 CPUs ...\n",
      "2018-08-01 13:02:18,173|INFO|concatenating clustered sub dataframes ...\n",
      "2018-08-01 13:02:19,679|INFO|grouping by ['seqname', 'strand']\n",
      "100%|██████████| 50/50 [00:00<00:00, 2355.85it/s]"
     ]
    },
    {
     "name": "stdout",
     "output_type": "stream",
     "text": [
      "0.04,"
     ]
    },
    {
     "name": "stderr",
     "output_type": "stream",
     "text": [
      "\n",
      "2018-08-01 13:02:20,080|INFO|clustering clvs in parallel using 30 CPUs ...\n",
      "2018-08-01 13:02:23,769|INFO|concatenating clustered sub dataframes ...\n",
      "2018-08-01 13:02:25,110|INFO|grouping by ['seqname', 'strand']\n",
      "100%|██████████| 50/50 [00:00<00:00, 2265.38it/s]"
     ]
    },
    {
     "name": "stdout",
     "output_type": "stream",
     "text": [
      "0.05,"
     ]
    },
    {
     "name": "stderr",
     "output_type": "stream",
     "text": [
      "\n",
      "2018-08-01 13:02:25,524|INFO|clustering clvs in parallel using 30 CPUs ...\n",
      "2018-08-01 13:02:28,307|INFO|concatenating clustered sub dataframes ...\n",
      "2018-08-01 13:02:29,339|INFO|grouping by ['seqname', 'strand']\n",
      "100%|██████████| 50/50 [00:00<00:00, 2575.82it/s]"
     ]
    },
    {
     "name": "stdout",
     "output_type": "stream",
     "text": [
      "0.06,"
     ]
    },
    {
     "name": "stderr",
     "output_type": "stream",
     "text": [
      "\n",
      "2018-08-01 13:02:29,762|INFO|clustering clvs in parallel using 30 CPUs ...\n",
      "2018-08-01 13:02:32,019|INFO|concatenating clustered sub dataframes ...\n",
      "2018-08-01 13:02:33,034|INFO|grouping by ['seqname', 'strand']\n",
      "100%|██████████| 50/50 [00:00<00:00, 2457.78it/s]"
     ]
    },
    {
     "name": "stdout",
     "output_type": "stream",
     "text": [
      "0.07,"
     ]
    },
    {
     "name": "stderr",
     "output_type": "stream",
     "text": [
      "\n",
      "2018-08-01 13:02:33,438|INFO|clustering clvs in parallel using 30 CPUs ...\n",
      "2018-08-01 13:02:35,523|INFO|concatenating clustered sub dataframes ...\n",
      "2018-08-01 13:02:36,553|INFO|grouping by ['seqname', 'strand']\n",
      "100%|██████████| 50/50 [00:00<00:00, 2516.08it/s]"
     ]
    },
    {
     "name": "stdout",
     "output_type": "stream",
     "text": [
      "0.08,"
     ]
    },
    {
     "name": "stderr",
     "output_type": "stream",
     "text": [
      "\n",
      "2018-08-01 13:02:36,963|INFO|clustering clvs in parallel using 30 CPUs ...\n",
      "2018-08-01 13:02:39,132|INFO|concatenating clustered sub dataframes ...\n",
      "2018-08-01 13:02:39,946|INFO|grouping by ['seqname', 'strand']\n",
      "100%|██████████| 50/50 [00:00<00:00, 2863.48it/s]"
     ]
    },
    {
     "name": "stdout",
     "output_type": "stream",
     "text": [
      "0.09,"
     ]
    },
    {
     "name": "stderr",
     "output_type": "stream",
     "text": [
      "\n",
      "2018-08-01 13:02:40,381|INFO|clustering clvs in parallel using 30 CPUs ...\n",
      "2018-08-01 13:02:42,145|INFO|concatenating clustered sub dataframes ...\n",
      "2018-08-01 13:02:42,898|INFO|grouping by ['seqname', 'strand']\n",
      "100%|██████████| 50/50 [00:00<00:00, 3132.04it/s]"
     ]
    },
    {
     "name": "stdout",
     "output_type": "stream",
     "text": [
      "0.1,"
     ]
    },
    {
     "name": "stderr",
     "output_type": "stream",
     "text": [
      "\n",
      "2018-08-01 13:02:43,289|INFO|clustering clvs in parallel using 30 CPUs ...\n",
      "2018-08-01 13:02:44,956|INFO|concatenating clustered sub dataframes ...\n",
      "2018-08-01 13:02:45,675|INFO|grouping by ['seqname', 'strand']\n",
      "100%|██████████| 50/50 [00:00<00:00, 3117.33it/s]"
     ]
    },
    {
     "name": "stdout",
     "output_type": "stream",
     "text": [
      "0.11,"
     ]
    },
    {
     "name": "stderr",
     "output_type": "stream",
     "text": [
      "\n",
      "2018-08-01 13:02:46,104|INFO|clustering clvs in parallel using 30 CPUs ...\n",
      "2018-08-01 13:02:47,763|INFO|concatenating clustered sub dataframes ...\n",
      "2018-08-01 13:02:48,518|INFO|grouping by ['seqname', 'strand']\n",
      "100%|██████████| 50/50 [00:00<00:00, 2927.76it/s]"
     ]
    },
    {
     "name": "stdout",
     "output_type": "stream",
     "text": [
      "0.12,"
     ]
    },
    {
     "name": "stderr",
     "output_type": "stream",
     "text": [
      "\n",
      "2018-08-01 13:02:48,900|INFO|clustering clvs in parallel using 30 CPUs ...\n",
      "2018-08-01 13:02:50,154|INFO|concatenating clustered sub dataframes ...\n",
      "2018-08-01 13:02:50,795|INFO|grouping by ['seqname', 'strand']\n",
      "100%|██████████| 50/50 [00:00<00:00, 3039.70it/s]"
     ]
    },
    {
     "name": "stdout",
     "output_type": "stream",
     "text": [
      "0.13,"
     ]
    },
    {
     "name": "stderr",
     "output_type": "stream",
     "text": [
      "\n",
      "2018-08-01 13:02:51,204|INFO|clustering clvs in parallel using 30 CPUs ...\n",
      "2018-08-01 13:02:52,655|INFO|concatenating clustered sub dataframes ...\n",
      "2018-08-01 13:02:53,285|INFO|grouping by ['seqname', 'strand']\n",
      "100%|██████████| 50/50 [00:00<00:00, 3180.01it/s]"
     ]
    },
    {
     "name": "stdout",
     "output_type": "stream",
     "text": [
      "0.14,"
     ]
    },
    {
     "name": "stderr",
     "output_type": "stream",
     "text": [
      "\n",
      "2018-08-01 13:02:53,592|INFO|clustering clvs in parallel using 30 CPUs ...\n",
      "2018-08-01 13:02:54,960|INFO|concatenating clustered sub dataframes ...\n",
      "2018-08-01 13:02:55,599|INFO|grouping by ['seqname', 'strand']\n",
      "100%|██████████| 50/50 [00:00<00:00, 3252.81it/s]"
     ]
    },
    {
     "name": "stdout",
     "output_type": "stream",
     "text": [
      "0.15,"
     ]
    },
    {
     "name": "stderr",
     "output_type": "stream",
     "text": [
      "\n",
      "2018-08-01 13:02:55,922|INFO|clustering clvs in parallel using 30 CPUs ...\n",
      "2018-08-01 13:02:57,390|INFO|concatenating clustered sub dataframes ...\n",
      "2018-08-01 13:02:57,940|INFO|grouping by ['seqname', 'strand']\n",
      "100%|██████████| 50/50 [00:00<00:00, 3145.76it/s]"
     ]
    },
    {
     "name": "stdout",
     "output_type": "stream",
     "text": [
      "0.16,"
     ]
    },
    {
     "name": "stderr",
     "output_type": "stream",
     "text": [
      "\n",
      "2018-08-01 13:02:58,357|INFO|clustering clvs in parallel using 30 CPUs ...\n",
      "2018-08-01 13:02:59,422|INFO|concatenating clustered sub dataframes ...\n",
      "2018-08-01 13:02:59,953|INFO|grouping by ['seqname', 'strand']\n",
      "100%|██████████| 50/50 [00:00<00:00, 3236.40it/s]"
     ]
    },
    {
     "name": "stdout",
     "output_type": "stream",
     "text": [
      "0.17,"
     ]
    },
    {
     "name": "stderr",
     "output_type": "stream",
     "text": [
      "\n",
      "2018-08-01 13:03:00,268|INFO|clustering clvs in parallel using 30 CPUs ...\n",
      "2018-08-01 13:03:01,234|INFO|concatenating clustered sub dataframes ...\n",
      "2018-08-01 13:03:01,760|INFO|grouping by ['seqname', 'strand']\n",
      "100%|██████████| 50/50 [00:00<00:00, 3284.65it/s]"
     ]
    },
    {
     "name": "stdout",
     "output_type": "stream",
     "text": [
      "0.18,"
     ]
    },
    {
     "name": "stderr",
     "output_type": "stream",
     "text": [
      "\n",
      "2018-08-01 13:03:02,167|INFO|clustering clvs in parallel using 30 CPUs ...\n",
      "2018-08-01 13:03:03,136|INFO|concatenating clustered sub dataframes ...\n",
      "2018-08-01 13:03:03,614|INFO|grouping by ['seqname', 'strand']\n",
      "100%|██████████| 50/50 [00:00<00:00, 2869.00it/s]"
     ]
    },
    {
     "name": "stdout",
     "output_type": "stream",
     "text": [
      "0.19,"
     ]
    },
    {
     "name": "stderr",
     "output_type": "stream",
     "text": [
      "\n",
      "2018-08-01 13:03:03,921|INFO|clustering clvs in parallel using 30 CPUs ...\n",
      "2018-08-01 13:03:04,986|INFO|concatenating clustered sub dataframes ...\n",
      "2018-08-01 13:03:05,561|INFO|grouping by ['seqname', 'strand']\n",
      "100%|██████████| 50/50 [00:00<00:00, 3370.33it/s]"
     ]
    },
    {
     "name": "stdout",
     "output_type": "stream",
     "text": [
      "0.2,"
     ]
    },
    {
     "name": "stderr",
     "output_type": "stream",
     "text": [
      "\n",
      "2018-08-01 13:03:05,878|INFO|clustering clvs in parallel using 30 CPUs ...\n",
      "2018-08-01 13:03:06,851|INFO|concatenating clustered sub dataframes ...\n",
      "2018-08-01 13:03:07,324|INFO|grouping by ['seqname', 'strand']\n",
      "100%|██████████| 50/50 [00:00<00:00, 3331.09it/s]"
     ]
    },
    {
     "name": "stdout",
     "output_type": "stream",
     "text": [
      "0.21,"
     ]
    },
    {
     "name": "stderr",
     "output_type": "stream",
     "text": [
      "\n",
      "2018-08-01 13:03:07,717|INFO|clustering clvs in parallel using 30 CPUs ...\n",
      "2018-08-01 13:03:08,769|INFO|concatenating clustered sub dataframes ...\n",
      "2018-08-01 13:03:09,243|INFO|grouping by ['seqname', 'strand']\n",
      "100%|██████████| 50/50 [00:00<00:00, 2600.99it/s]"
     ]
    },
    {
     "name": "stdout",
     "output_type": "stream",
     "text": [
      "0.22,"
     ]
    },
    {
     "name": "stderr",
     "output_type": "stream",
     "text": [
      "\n",
      "2018-08-01 13:03:09,564|INFO|clustering clvs in parallel using 30 CPUs ...\n",
      "2018-08-01 13:03:10,517|INFO|concatenating clustered sub dataframes ...\n",
      "2018-08-01 13:03:10,983|INFO|grouping by ['seqname', 'strand']\n",
      "100%|██████████| 50/50 [00:00<00:00, 3414.61it/s]"
     ]
    },
    {
     "name": "stdout",
     "output_type": "stream",
     "text": [
      "0.23,"
     ]
    },
    {
     "name": "stderr",
     "output_type": "stream",
     "text": [
      "\n",
      "2018-08-01 13:03:11,292|INFO|clustering clvs in parallel using 30 CPUs ...\n",
      "2018-08-01 13:03:12,142|INFO|concatenating clustered sub dataframes ...\n",
      "2018-08-01 13:03:12,565|INFO|grouping by ['seqname', 'strand']\n",
      "100%|██████████| 50/50 [00:00<00:00, 3462.88it/s]"
     ]
    },
    {
     "name": "stdout",
     "output_type": "stream",
     "text": [
      "0.24,"
     ]
    },
    {
     "name": "stderr",
     "output_type": "stream",
     "text": [
      "\n",
      "2018-08-01 13:03:12,939|INFO|clustering clvs in parallel using 30 CPUs ...\n",
      "2018-08-01 13:03:13,993|INFO|concatenating clustered sub dataframes ...\n",
      "2018-08-01 13:03:14,397|INFO|grouping by ['seqname', 'strand']\n",
      "100%|██████████| 50/50 [00:00<00:00, 3548.54it/s]"
     ]
    },
    {
     "name": "stdout",
     "output_type": "stream",
     "text": [
      "0.25,"
     ]
    },
    {
     "name": "stderr",
     "output_type": "stream",
     "text": [
      "\n",
      "2018-08-01 13:03:14,701|INFO|clustering clvs in parallel using 30 CPUs ...\n",
      "2018-08-01 13:03:15,558|INFO|concatenating clustered sub dataframes ...\n",
      "2018-08-01 13:03:15,950|INFO|grouping by ['seqname', 'strand']\n",
      "100%|██████████| 50/50 [00:00<00:00, 3536.39it/s]"
     ]
    },
    {
     "name": "stdout",
     "output_type": "stream",
     "text": [
      "0.26,"
     ]
    },
    {
     "name": "stderr",
     "output_type": "stream",
     "text": [
      "\n",
      "2018-08-01 13:03:16,279|INFO|clustering clvs in parallel using 30 CPUs ...\n",
      "2018-08-01 13:03:17,432|INFO|concatenating clustered sub dataframes ...\n",
      "2018-08-01 13:03:17,879|INFO|grouping by ['seqname', 'strand']\n",
      "100%|██████████| 50/50 [00:00<00:00, 3342.66it/s]"
     ]
    },
    {
     "name": "stdout",
     "output_type": "stream",
     "text": [
      "0.27,"
     ]
    },
    {
     "name": "stderr",
     "output_type": "stream",
     "text": [
      "\n",
      "2018-08-01 13:03:18,297|INFO|clustering clvs in parallel using 30 CPUs ...\n",
      "2018-08-01 13:03:19,259|INFO|concatenating clustered sub dataframes ...\n",
      "2018-08-01 13:03:19,689|INFO|grouping by ['seqname', 'strand']\n",
      "100%|██████████| 50/50 [00:00<00:00, 3495.20it/s]"
     ]
    },
    {
     "name": "stdout",
     "output_type": "stream",
     "text": [
      "0.28,"
     ]
    },
    {
     "name": "stderr",
     "output_type": "stream",
     "text": [
      "\n",
      "2018-08-01 13:03:20,005|INFO|clustering clvs in parallel using 30 CPUs ...\n",
      "2018-08-01 13:03:20,849|INFO|concatenating clustered sub dataframes ...\n",
      "2018-08-01 13:03:21,248|INFO|grouping by ['seqname', 'strand']\n",
      "100%|██████████| 50/50 [00:00<00:00, 3630.24it/s]"
     ]
    },
    {
     "name": "stdout",
     "output_type": "stream",
     "text": [
      "0.29,"
     ]
    },
    {
     "name": "stderr",
     "output_type": "stream",
     "text": [
      "\n",
      "2018-08-01 13:03:21,605|INFO|clustering clvs in parallel using 30 CPUs ...\n",
      "2018-08-01 13:03:22,377|INFO|concatenating clustered sub dataframes ...\n",
      "2018-08-01 13:03:22,796|INFO|grouping by ['seqname', 'strand']\n",
      "100%|██████████| 50/50 [00:00<00:00, 3697.83it/s]"
     ]
    },
    {
     "name": "stdout",
     "output_type": "stream",
     "text": [
      "0.3,"
     ]
    },
    {
     "name": "stderr",
     "output_type": "stream",
     "text": [
      "\n",
      "2018-08-01 13:03:23,101|INFO|clustering clvs in parallel using 30 CPUs ...\n",
      "2018-08-01 13:03:23,855|INFO|concatenating clustered sub dataframes ...\n",
      "2018-08-01 13:03:24,243|INFO|grouping by ['seqname', 'strand']\n",
      "100%|██████████| 50/50 [00:00<00:00, 3512.99it/s]"
     ]
    },
    {
     "name": "stdout",
     "output_type": "stream",
     "text": [
      "0.31,"
     ]
    },
    {
     "name": "stderr",
     "output_type": "stream",
     "text": [
      "\n",
      "2018-08-01 13:03:24,553|INFO|clustering clvs in parallel using 30 CPUs ...\n",
      "2018-08-01 13:03:25,405|INFO|concatenating clustered sub dataframes ...\n",
      "2018-08-01 13:03:25,824|INFO|grouping by ['seqname', 'strand']\n",
      "100%|██████████| 50/50 [00:00<00:00, 3462.02it/s]"
     ]
    },
    {
     "name": "stdout",
     "output_type": "stream",
     "text": [
      "0.32,"
     ]
    },
    {
     "name": "stderr",
     "output_type": "stream",
     "text": [
      "\n",
      "2018-08-01 13:03:26,199|INFO|clustering clvs in parallel using 30 CPUs ...\n",
      "2018-08-01 13:03:26,961|INFO|concatenating clustered sub dataframes ...\n",
      "2018-08-01 13:03:27,366|INFO|grouping by ['seqname', 'strand']\n",
      "100%|██████████| 50/50 [00:00<00:00, 3488.22it/s]"
     ]
    },
    {
     "name": "stdout",
     "output_type": "stream",
     "text": [
      "0.33,"
     ]
    },
    {
     "name": "stderr",
     "output_type": "stream",
     "text": [
      "\n",
      "2018-08-01 13:03:27,694|INFO|clustering clvs in parallel using 30 CPUs ...\n",
      "2018-08-01 13:03:28,346|INFO|concatenating clustered sub dataframes ...\n",
      "2018-08-01 13:03:28,729|INFO|grouping by ['seqname', 'strand']\n",
      "100%|██████████| 50/50 [00:00<00:00, 3530.56it/s]"
     ]
    },
    {
     "name": "stdout",
     "output_type": "stream",
     "text": [
      "0.34,"
     ]
    },
    {
     "name": "stderr",
     "output_type": "stream",
     "text": [
      "\n",
      "2018-08-01 13:03:29,043|INFO|clustering clvs in parallel using 30 CPUs ...\n",
      "2018-08-01 13:03:29,798|INFO|concatenating clustered sub dataframes ...\n",
      "2018-08-01 13:03:30,178|INFO|grouping by ['seqname', 'strand']\n",
      "100%|██████████| 50/50 [00:00<00:00, 3467.63it/s]"
     ]
    },
    {
     "name": "stdout",
     "output_type": "stream",
     "text": [
      "0.35000000000000003,"
     ]
    },
    {
     "name": "stderr",
     "output_type": "stream",
     "text": [
      "\n",
      "2018-08-01 13:03:30,560|INFO|clustering clvs in parallel using 30 CPUs ...\n",
      "2018-08-01 13:03:31,208|INFO|concatenating clustered sub dataframes ...\n",
      "2018-08-01 13:03:31,587|INFO|grouping by ['seqname', 'strand']\n",
      "100%|██████████| 50/50 [00:00<00:00, 3637.98it/s]"
     ]
    },
    {
     "name": "stdout",
     "output_type": "stream",
     "text": [
      "0.36,"
     ]
    },
    {
     "name": "stderr",
     "output_type": "stream",
     "text": [
      "\n",
      "2018-08-01 13:03:31,896|INFO|clustering clvs in parallel using 30 CPUs ...\n",
      "2018-08-01 13:03:32,535|INFO|concatenating clustered sub dataframes ...\n",
      "2018-08-01 13:03:32,921|INFO|grouping by ['seqname', 'strand']\n",
      "100%|██████████| 50/50 [00:00<00:00, 3344.74it/s]"
     ]
    },
    {
     "name": "stdout",
     "output_type": "stream",
     "text": [
      "0.37,"
     ]
    },
    {
     "name": "stderr",
     "output_type": "stream",
     "text": [
      "\n",
      "2018-08-01 13:03:33,419|INFO|clustering clvs in parallel using 30 CPUs ...\n",
      "2018-08-01 13:03:34,388|INFO|concatenating clustered sub dataframes ...\n",
      "2018-08-01 13:03:34,744|INFO|grouping by ['seqname', 'strand']\n",
      "100%|██████████| 50/50 [00:00<00:00, 3632.88it/s]"
     ]
    },
    {
     "name": "stdout",
     "output_type": "stream",
     "text": [
      "0.38,"
     ]
    },
    {
     "name": "stderr",
     "output_type": "stream",
     "text": [
      "\n",
      "2018-08-01 13:03:35,054|INFO|clustering clvs in parallel using 30 CPUs ...\n",
      "2018-08-01 13:03:35,803|INFO|concatenating clustered sub dataframes ...\n",
      "2018-08-01 13:03:36,192|INFO|grouping by ['seqname', 'strand']\n",
      "100%|██████████| 50/50 [00:00<00:00, 3667.89it/s]"
     ]
    },
    {
     "name": "stdout",
     "output_type": "stream",
     "text": [
      "0.39,"
     ]
    },
    {
     "name": "stderr",
     "output_type": "stream",
     "text": [
      "\n",
      "2018-08-01 13:03:36,493|INFO|clustering clvs in parallel using 30 CPUs ...\n",
      "2018-08-01 13:03:37,372|INFO|concatenating clustered sub dataframes ...\n",
      "2018-08-01 13:03:37,748|INFO|grouping by ['seqname', 'strand']\n",
      "100%|██████████| 49/49 [00:00<00:00, 3497.39it/s]"
     ]
    },
    {
     "name": "stdout",
     "output_type": "stream",
     "text": [
      "0.4,"
     ]
    },
    {
     "name": "stderr",
     "output_type": "stream",
     "text": [
      "\n",
      "2018-08-01 13:03:38,187|INFO|clustering clvs in parallel using 30 CPUs ...\n",
      "2018-08-01 13:03:38,852|INFO|concatenating clustered sub dataframes ...\n",
      "2018-08-01 13:03:39,214|INFO|grouping by ['seqname', 'strand']\n",
      "100%|██████████| 49/49 [00:00<00:00, 3592.08it/s]"
     ]
    },
    {
     "name": "stdout",
     "output_type": "stream",
     "text": [
      "0.41000000000000003,"
     ]
    },
    {
     "name": "stderr",
     "output_type": "stream",
     "text": [
      "\n",
      "2018-08-01 13:03:39,518|INFO|clustering clvs in parallel using 30 CPUs ...\n",
      "2018-08-01 13:03:40,278|INFO|concatenating clustered sub dataframes ...\n",
      "2018-08-01 13:03:40,652|INFO|grouping by ['seqname', 'strand']\n",
      "100%|██████████| 49/49 [00:00<00:00, 3798.77it/s]"
     ]
    },
    {
     "name": "stdout",
     "output_type": "stream",
     "text": [
      "0.42,"
     ]
    },
    {
     "name": "stderr",
     "output_type": "stream",
     "text": [
      "\n",
      "2018-08-01 13:03:40,988|INFO|clustering clvs in parallel using 30 CPUs ...\n",
      "2018-08-01 13:03:41,850|INFO|concatenating clustered sub dataframes ...\n",
      "2018-08-01 13:03:42,219|INFO|grouping by ['seqname', 'strand']\n",
      "100%|██████████| 49/49 [00:00<00:00, 3525.05it/s]"
     ]
    },
    {
     "name": "stdout",
     "output_type": "stream",
     "text": [
      "0.43,"
     ]
    },
    {
     "name": "stderr",
     "output_type": "stream",
     "text": [
      "\n",
      "2018-08-01 13:03:42,644|INFO|clustering clvs in parallel using 30 CPUs ...\n",
      "2018-08-01 13:03:43,289|INFO|concatenating clustered sub dataframes ...\n",
      "2018-08-01 13:03:43,669|INFO|grouping by ['seqname', 'strand']\n",
      "100%|██████████| 49/49 [00:00<00:00, 3613.43it/s]"
     ]
    },
    {
     "name": "stdout",
     "output_type": "stream",
     "text": [
      "0.44,"
     ]
    },
    {
     "name": "stderr",
     "output_type": "stream",
     "text": [
      "\n",
      "2018-08-01 13:03:43,985|INFO|clustering clvs in parallel using 30 CPUs ...\n",
      "2018-08-01 13:03:44,666|INFO|concatenating clustered sub dataframes ...\n",
      "2018-08-01 13:03:45,016|INFO|grouping by ['seqname', 'strand']\n",
      "100%|██████████| 49/49 [00:00<00:00, 3813.36it/s]"
     ]
    },
    {
     "name": "stdout",
     "output_type": "stream",
     "text": [
      "0.45,"
     ]
    },
    {
     "name": "stderr",
     "output_type": "stream",
     "text": [
      "\n",
      "2018-08-01 13:03:45,312|INFO|clustering clvs in parallel using 30 CPUs ...\n",
      "2018-08-01 13:03:46,064|INFO|concatenating clustered sub dataframes ...\n",
      "2018-08-01 13:03:46,453|INFO|grouping by ['seqname', 'strand']\n",
      "100%|██████████| 49/49 [00:00<00:00, 2620.67it/s]"
     ]
    },
    {
     "name": "stdout",
     "output_type": "stream",
     "text": [
      "0.46,"
     ]
    },
    {
     "name": "stderr",
     "output_type": "stream",
     "text": [
      "\n",
      "2018-08-01 13:03:46,846|INFO|clustering clvs in parallel using 30 CPUs ...\n",
      "2018-08-01 13:03:47,494|INFO|concatenating clustered sub dataframes ...\n",
      "2018-08-01 13:03:47,888|INFO|grouping by ['seqname', 'strand']\n",
      "100%|██████████| 49/49 [00:00<00:00, 3608.23it/s]"
     ]
    },
    {
     "name": "stdout",
     "output_type": "stream",
     "text": [
      "0.47000000000000003,"
     ]
    },
    {
     "name": "stderr",
     "output_type": "stream",
     "text": [
      "\n",
      "2018-08-01 13:03:48,179|INFO|clustering clvs in parallel using 30 CPUs ...\n",
      "2018-08-01 13:03:48,833|INFO|concatenating clustered sub dataframes ...\n",
      "2018-08-01 13:03:49,172|INFO|grouping by ['seqname', 'strand']\n",
      "100%|██████████| 49/49 [00:00<00:00, 3860.78it/s]"
     ]
    },
    {
     "name": "stdout",
     "output_type": "stream",
     "text": [
      "0.48,"
     ]
    },
    {
     "name": "stderr",
     "output_type": "stream",
     "text": [
      "\n",
      "2018-08-01 13:03:49,472|INFO|clustering clvs in parallel using 30 CPUs ...\n",
      "2018-08-01 13:03:50,222|INFO|concatenating clustered sub dataframes ...\n",
      "2018-08-01 13:03:50,579|INFO|grouping by ['seqname', 'strand']\n",
      "100%|██████████| 49/49 [00:00<00:00, 3718.76it/s]"
     ]
    },
    {
     "name": "stdout",
     "output_type": "stream",
     "text": [
      "0.49,"
     ]
    },
    {
     "name": "stderr",
     "output_type": "stream",
     "text": [
      "\n",
      "2018-08-01 13:03:50,971|INFO|clustering clvs in parallel using 30 CPUs ...\n",
      "2018-08-01 13:03:51,719|INFO|concatenating clustered sub dataframes ...\n",
      "2018-08-01 13:03:52,057|INFO|grouping by ['seqname', 'strand']\n",
      "100%|██████████| 49/49 [00:00<00:00, 3883.10it/s]"
     ]
    },
    {
     "name": "stdout",
     "output_type": "stream",
     "text": [
      "0.5,"
     ]
    },
    {
     "name": "stderr",
     "output_type": "stream",
     "text": [
      "\n",
      "2018-08-01 13:03:52,354|INFO|clustering clvs in parallel using 30 CPUs ...\n",
      "2018-08-01 13:03:52,995|INFO|concatenating clustered sub dataframes ...\n",
      "2018-08-01 13:03:53,338|INFO|grouping by ['seqname', 'strand']\n",
      "100%|██████████| 49/49 [00:00<00:00, 3668.25it/s]"
     ]
    },
    {
     "name": "stdout",
     "output_type": "stream",
     "text": [
      "0.51,"
     ]
    },
    {
     "name": "stderr",
     "output_type": "stream",
     "text": [
      "\n",
      "2018-08-01 13:03:53,651|INFO|clustering clvs in parallel using 30 CPUs ...\n",
      "2018-08-01 13:03:54,310|INFO|concatenating clustered sub dataframes ...\n",
      "2018-08-01 13:03:54,679|INFO|grouping by ['seqname', 'strand']\n",
      "100%|██████████| 49/49 [00:00<00:00, 3869.36it/s]"
     ]
    },
    {
     "name": "stdout",
     "output_type": "stream",
     "text": [
      "0.52,"
     ]
    },
    {
     "name": "stderr",
     "output_type": "stream",
     "text": [
      "\n",
      "2018-08-01 13:03:55,071|INFO|clustering clvs in parallel using 30 CPUs ...\n",
      "2018-08-01 13:03:55,740|INFO|concatenating clustered sub dataframes ...\n",
      "2018-08-01 13:03:56,070|INFO|grouping by ['seqname', 'strand']\n",
      "100%|██████████| 49/49 [00:00<00:00, 3643.86it/s]"
     ]
    },
    {
     "name": "stdout",
     "output_type": "stream",
     "text": [
      "0.53,"
     ]
    },
    {
     "name": "stderr",
     "output_type": "stream",
     "text": [
      "\n",
      "2018-08-01 13:03:56,387|INFO|clustering clvs in parallel using 30 CPUs ...\n",
      "2018-08-01 13:03:57,140|INFO|concatenating clustered sub dataframes ...\n",
      "2018-08-01 13:03:57,491|INFO|grouping by ['seqname', 'strand']\n",
      "100%|██████████| 49/49 [00:00<00:00, 3756.69it/s]"
     ]
    },
    {
     "name": "stdout",
     "output_type": "stream",
     "text": [
      "0.54,"
     ]
    },
    {
     "name": "stderr",
     "output_type": "stream",
     "text": [
      "\n",
      "2018-08-01 13:03:57,808|INFO|clustering clvs in parallel using 30 CPUs ...\n",
      "2018-08-01 13:03:58,479|INFO|concatenating clustered sub dataframes ...\n",
      "2018-08-01 13:03:58,816|INFO|grouping by ['seqname', 'strand']\n",
      "100%|██████████| 49/49 [00:00<00:00, 3861.87it/s]"
     ]
    },
    {
     "name": "stdout",
     "output_type": "stream",
     "text": [
      "0.55,"
     ]
    },
    {
     "name": "stderr",
     "output_type": "stream",
     "text": [
      "\n",
      "2018-08-01 13:03:59,102|INFO|clustering clvs in parallel using 30 CPUs ...\n",
      "2018-08-01 13:04:00,572|INFO|concatenating clustered sub dataframes ...\n",
      "2018-08-01 13:04:00,940|INFO|grouping by ['seqname', 'strand']\n",
      "100%|██████████| 49/49 [00:00<00:00, 3009.18it/s]"
     ]
    },
    {
     "name": "stdout",
     "output_type": "stream",
     "text": [
      "0.56,"
     ]
    },
    {
     "name": "stderr",
     "output_type": "stream",
     "text": [
      "\n",
      "2018-08-01 13:04:01,260|INFO|clustering clvs in parallel using 30 CPUs ...\n",
      "2018-08-01 13:04:02,003|INFO|concatenating clustered sub dataframes ...\n",
      "2018-08-01 13:04:02,386|INFO|grouping by ['seqname', 'strand']\n",
      "100%|██████████| 49/49 [00:00<00:00, 3550.38it/s]"
     ]
    },
    {
     "name": "stdout",
     "output_type": "stream",
     "text": [
      "0.5700000000000001,"
     ]
    },
    {
     "name": "stderr",
     "output_type": "stream",
     "text": [
      "\n",
      "2018-08-01 13:04:02,721|INFO|clustering clvs in parallel using 30 CPUs ...\n",
      "2018-08-01 13:04:03,369|INFO|concatenating clustered sub dataframes ...\n",
      "2018-08-01 13:04:03,709|INFO|grouping by ['seqname', 'strand']\n",
      "100%|██████████| 49/49 [00:00<00:00, 3710.23it/s]"
     ]
    },
    {
     "name": "stdout",
     "output_type": "stream",
     "text": [
      "0.58,"
     ]
    },
    {
     "name": "stderr",
     "output_type": "stream",
     "text": [
      "\n",
      "2018-08-01 13:04:04,003|INFO|clustering clvs in parallel using 30 CPUs ...\n",
      "2018-08-01 13:04:04,555|INFO|concatenating clustered sub dataframes ...\n",
      "2018-08-01 13:04:04,895|INFO|grouping by ['seqname', 'strand']\n",
      "100%|██████████| 49/49 [00:00<00:00, 3508.92it/s]"
     ]
    },
    {
     "name": "stdout",
     "output_type": "stream",
     "text": [
      "0.59,"
     ]
    },
    {
     "name": "stderr",
     "output_type": "stream",
     "text": [
      "\n",
      "2018-08-01 13:04:05,306|INFO|clustering clvs in parallel using 30 CPUs ...\n",
      "2018-08-01 13:04:05,953|INFO|concatenating clustered sub dataframes ...\n",
      "2018-08-01 13:04:06,314|INFO|grouping by ['seqname', 'strand']\n",
      "100%|██████████| 49/49 [00:00<00:00, 3750.72it/s]"
     ]
    },
    {
     "name": "stdout",
     "output_type": "stream",
     "text": [
      "0.6,"
     ]
    },
    {
     "name": "stderr",
     "output_type": "stream",
     "text": [
      "\n",
      "2018-08-01 13:04:06,670|INFO|clustering clvs in parallel using 30 CPUs ...\n",
      "2018-08-01 13:04:07,317|INFO|concatenating clustered sub dataframes ...\n",
      "2018-08-01 13:04:07,652|INFO|grouping by ['seqname', 'strand']\n",
      "100%|██████████| 49/49 [00:00<00:00, 2760.49it/s]"
     ]
    },
    {
     "name": "stdout",
     "output_type": "stream",
     "text": [
      "0.61,"
     ]
    },
    {
     "name": "stderr",
     "output_type": "stream",
     "text": [
      "\n",
      "2018-08-01 13:04:07,966|INFO|clustering clvs in parallel using 30 CPUs ...\n",
      "2018-08-01 13:04:08,726|INFO|concatenating clustered sub dataframes ...\n",
      "2018-08-01 13:04:09,054|INFO|grouping by ['seqname', 'strand']\n",
      "100%|██████████| 49/49 [00:00<00:00, 3457.44it/s]"
     ]
    },
    {
     "name": "stdout",
     "output_type": "stream",
     "text": [
      "0.62,"
     ]
    },
    {
     "name": "stderr",
     "output_type": "stream",
     "text": [
      "\n",
      "2018-08-01 13:04:09,434|INFO|clustering clvs in parallel using 30 CPUs ...\n",
      "2018-08-01 13:04:09,989|INFO|concatenating clustered sub dataframes ...\n",
      "2018-08-01 13:04:10,274|INFO|grouping by ['seqname', 'strand']\n",
      "100%|██████████| 49/49 [00:00<00:00, 4142.65it/s]"
     ]
    },
    {
     "name": "stdout",
     "output_type": "stream",
     "text": [
      "0.63,"
     ]
    },
    {
     "name": "stderr",
     "output_type": "stream",
     "text": [
      "\n",
      "2018-08-01 13:04:10,573|INFO|clustering clvs in parallel using 30 CPUs ...\n",
      "2018-08-01 13:04:11,115|INFO|concatenating clustered sub dataframes ...\n",
      "2018-08-01 13:04:11,461|INFO|grouping by ['seqname', 'strand']\n",
      "100%|██████████| 49/49 [00:00<00:00, 3731.45it/s]"
     ]
    },
    {
     "name": "stdout",
     "output_type": "stream",
     "text": [
      "0.64,"
     ]
    },
    {
     "name": "stderr",
     "output_type": "stream",
     "text": [
      "\n",
      "2018-08-01 13:04:11,757|INFO|clustering clvs in parallel using 30 CPUs ...\n",
      "2018-08-01 13:04:12,302|INFO|concatenating clustered sub dataframes ...\n",
      "2018-08-01 13:04:12,610|INFO|grouping by ['seqname', 'strand']\n",
      "100%|██████████| 49/49 [00:00<00:00, 3895.76it/s]"
     ]
    },
    {
     "name": "stdout",
     "output_type": "stream",
     "text": [
      "0.65,"
     ]
    },
    {
     "name": "stderr",
     "output_type": "stream",
     "text": [
      "\n",
      "2018-08-01 13:04:12,900|INFO|clustering clvs in parallel using 30 CPUs ...\n",
      "2018-08-01 13:04:13,443|INFO|concatenating clustered sub dataframes ...\n",
      "2018-08-01 13:04:13,900|INFO|grouping by ['seqname', 'strand']\n",
      "100%|██████████| 49/49 [00:00<00:00, 3686.28it/s]"
     ]
    },
    {
     "name": "stdout",
     "output_type": "stream",
     "text": [
      "0.66,"
     ]
    },
    {
     "name": "stderr",
     "output_type": "stream",
     "text": [
      "\n",
      "2018-08-01 13:04:14,189|INFO|clustering clvs in parallel using 30 CPUs ...\n",
      "2018-08-01 13:04:14,765|INFO|concatenating clustered sub dataframes ...\n",
      "2018-08-01 13:04:15,106|INFO|grouping by ['seqname', 'strand']\n",
      "100%|██████████| 49/49 [00:00<00:00, 3922.83it/s]"
     ]
    },
    {
     "name": "stdout",
     "output_type": "stream",
     "text": [
      "0.67,"
     ]
    },
    {
     "name": "stderr",
     "output_type": "stream",
     "text": [
      "\n",
      "2018-08-01 13:04:15,414|INFO|clustering clvs in parallel using 30 CPUs ...\n",
      "2018-08-01 13:04:15,957|INFO|concatenating clustered sub dataframes ...\n",
      "2018-08-01 13:04:16,316|INFO|grouping by ['seqname', 'strand']\n",
      "100%|██████████| 49/49 [00:00<00:00, 3492.17it/s]"
     ]
    },
    {
     "name": "stdout",
     "output_type": "stream",
     "text": [
      "0.68,"
     ]
    },
    {
     "name": "stderr",
     "output_type": "stream",
     "text": [
      "\n",
      "2018-08-01 13:04:16,635|INFO|clustering clvs in parallel using 30 CPUs ...\n",
      "2018-08-01 13:04:17,181|INFO|concatenating clustered sub dataframes ...\n",
      "2018-08-01 13:04:17,512|INFO|grouping by ['seqname', 'strand']\n",
      "100%|██████████| 49/49 [00:00<00:00, 3500.19it/s]"
     ]
    },
    {
     "name": "stdout",
     "output_type": "stream",
     "text": [
      "0.6900000000000001,"
     ]
    },
    {
     "name": "stderr",
     "output_type": "stream",
     "text": [
      "\n",
      "2018-08-01 13:04:17,894|INFO|clustering clvs in parallel using 30 CPUs ...\n",
      "2018-08-01 13:04:18,572|INFO|concatenating clustered sub dataframes ...\n",
      "2018-08-01 13:04:18,926|INFO|grouping by ['seqname', 'strand']\n",
      "100%|██████████| 49/49 [00:00<00:00, 3656.50it/s]"
     ]
    },
    {
     "name": "stdout",
     "output_type": "stream",
     "text": [
      "0.7000000000000001,"
     ]
    },
    {
     "name": "stderr",
     "output_type": "stream",
     "text": [
      "\n",
      "2018-08-01 13:04:19,255|INFO|clustering clvs in parallel using 30 CPUs ...\n",
      "2018-08-01 13:04:19,898|INFO|concatenating clustered sub dataframes ...\n",
      "2018-08-01 13:04:20,250|INFO|grouping by ['seqname', 'strand']\n",
      "100%|██████████| 49/49 [00:00<00:00, 3587.50it/s]"
     ]
    },
    {
     "name": "stdout",
     "output_type": "stream",
     "text": [
      "0.71,"
     ]
    },
    {
     "name": "stderr",
     "output_type": "stream",
     "text": [
      "\n",
      "2018-08-01 13:04:20,586|INFO|clustering clvs in parallel using 30 CPUs ...\n",
      "2018-08-01 13:04:21,136|INFO|concatenating clustered sub dataframes ...\n",
      "2018-08-01 13:04:21,476|INFO|grouping by ['seqname', 'strand']\n",
      "100%|██████████| 49/49 [00:00<00:00, 3787.64it/s]"
     ]
    },
    {
     "name": "stdout",
     "output_type": "stream",
     "text": [
      "0.72,"
     ]
    },
    {
     "name": "stderr",
     "output_type": "stream",
     "text": [
      "\n",
      "2018-08-01 13:04:21,776|INFO|clustering clvs in parallel using 30 CPUs ...\n",
      "2018-08-01 13:04:22,327|INFO|concatenating clustered sub dataframes ...\n",
      "2018-08-01 13:04:22,625|INFO|grouping by ['seqname', 'strand']\n",
      "100%|██████████| 49/49 [00:00<00:00, 3742.66it/s]"
     ]
    },
    {
     "name": "stdout",
     "output_type": "stream",
     "text": [
      "0.73,"
     ]
    },
    {
     "name": "stderr",
     "output_type": "stream",
     "text": [
      "\n",
      "2018-08-01 13:04:22,976|INFO|clustering clvs in parallel using 30 CPUs ...\n",
      "2018-08-01 13:04:23,629|INFO|concatenating clustered sub dataframes ...\n",
      "2018-08-01 13:04:23,945|INFO|grouping by ['seqname', 'strand']\n",
      "100%|██████████| 49/49 [00:00<00:00, 3806.29it/s]"
     ]
    },
    {
     "name": "stdout",
     "output_type": "stream",
     "text": [
      "0.74,"
     ]
    },
    {
     "name": "stderr",
     "output_type": "stream",
     "text": [
      "\n",
      "2018-08-01 13:04:24,264|INFO|clustering clvs in parallel using 30 CPUs ...\n",
      "2018-08-01 13:04:24,707|INFO|concatenating clustered sub dataframes ...\n",
      "2018-08-01 13:04:25,021|INFO|grouping by ['seqname', 'strand']\n",
      "100%|██████████| 49/49 [00:00<00:00, 3701.21it/s]"
     ]
    },
    {
     "name": "stdout",
     "output_type": "stream",
     "text": [
      "0.75,"
     ]
    },
    {
     "name": "stderr",
     "output_type": "stream",
     "text": [
      "\n",
      "2018-08-01 13:04:25,323|INFO|clustering clvs in parallel using 30 CPUs ...\n",
      "2018-08-01 13:04:25,882|INFO|concatenating clustered sub dataframes ...\n",
      "2018-08-01 13:04:26,226|INFO|grouping by ['seqname', 'strand']\n",
      "100%|██████████| 49/49 [00:00<00:00, 3407.80it/s]"
     ]
    },
    {
     "name": "stdout",
     "output_type": "stream",
     "text": [
      "0.76,"
     ]
    },
    {
     "name": "stderr",
     "output_type": "stream",
     "text": [
      "\n",
      "2018-08-01 13:04:26,539|INFO|clustering clvs in parallel using 30 CPUs ...\n",
      "2018-08-01 13:04:27,084|INFO|concatenating clustered sub dataframes ...\n",
      "2018-08-01 13:04:27,418|INFO|grouping by ['seqname', 'strand']\n",
      "100%|██████████| 49/49 [00:00<00:00, 3486.06it/s]"
     ]
    },
    {
     "name": "stdout",
     "output_type": "stream",
     "text": [
      "0.77,"
     ]
    },
    {
     "name": "stderr",
     "output_type": "stream",
     "text": [
      "\n",
      "2018-08-01 13:04:27,738|INFO|clustering clvs in parallel using 30 CPUs ...\n",
      "2018-08-01 13:04:28,282|INFO|concatenating clustered sub dataframes ...\n",
      "2018-08-01 13:04:28,596|INFO|grouping by ['seqname', 'strand']\n",
      "100%|██████████| 49/49 [00:00<00:00, 4035.20it/s]"
     ]
    },
    {
     "name": "stdout",
     "output_type": "stream",
     "text": [
      "0.78,"
     ]
    },
    {
     "name": "stderr",
     "output_type": "stream",
     "text": [
      "\n",
      "2018-08-01 13:04:28,886|INFO|clustering clvs in parallel using 30 CPUs ...\n",
      "2018-08-01 13:04:29,331|INFO|concatenating clustered sub dataframes ...\n",
      "2018-08-01 13:04:29,604|INFO|grouping by ['seqname', 'strand']\n",
      "100%|██████████| 49/49 [00:00<00:00, 4071.90it/s]"
     ]
    },
    {
     "name": "stdout",
     "output_type": "stream",
     "text": [
      "0.79,"
     ]
    },
    {
     "name": "stderr",
     "output_type": "stream",
     "text": [
      "\n",
      "2018-08-01 13:04:29,940|INFO|clustering clvs in parallel using 30 CPUs ...\n",
      "2018-08-01 13:04:30,413|INFO|concatenating clustered sub dataframes ...\n",
      "2018-08-01 13:04:30,751|INFO|grouping by ['seqname', 'strand']\n",
      "100%|██████████| 49/49 [00:00<00:00, 3709.03it/s]"
     ]
    },
    {
     "name": "stdout",
     "output_type": "stream",
     "text": [
      "0.8,"
     ]
    },
    {
     "name": "stderr",
     "output_type": "stream",
     "text": [
      "\n",
      "2018-08-01 13:04:31,057|INFO|clustering clvs in parallel using 30 CPUs ...\n",
      "2018-08-01 13:04:31,529|INFO|concatenating clustered sub dataframes ...\n",
      "2018-08-01 13:04:31,831|INFO|grouping by ['seqname', 'strand']\n",
      "100%|██████████| 49/49 [00:00<00:00, 3873.59it/s]"
     ]
    },
    {
     "name": "stdout",
     "output_type": "stream",
     "text": [
      "0.81,"
     ]
    },
    {
     "name": "stderr",
     "output_type": "stream",
     "text": [
      "\n",
      "2018-08-01 13:04:32,124|INFO|clustering clvs in parallel using 30 CPUs ...\n",
      "2018-08-01 13:04:32,672|INFO|concatenating clustered sub dataframes ...\n",
      "2018-08-01 13:04:33,009|INFO|grouping by ['seqname', 'strand']\n",
      "100%|██████████| 49/49 [00:00<00:00, 3777.54it/s]"
     ]
    },
    {
     "name": "stdout",
     "output_type": "stream",
     "text": [
      "0.8200000000000001,"
     ]
    },
    {
     "name": "stderr",
     "output_type": "stream",
     "text": [
      "\n",
      "2018-08-01 13:04:33,299|INFO|clustering clvs in parallel using 30 CPUs ...\n",
      "2018-08-01 13:04:33,756|INFO|concatenating clustered sub dataframes ...\n",
      "2018-08-01 13:04:34,046|INFO|grouping by ['seqname', 'strand']\n",
      "100%|██████████| 49/49 [00:00<00:00, 555.98it/s]"
     ]
    },
    {
     "name": "stdout",
     "output_type": "stream",
     "text": [
      "0.8300000000000001,"
     ]
    },
    {
     "name": "stderr",
     "output_type": "stream",
     "text": [
      "\n",
      "2018-08-01 13:04:34,423|INFO|clustering clvs in parallel using 30 CPUs ...\n",
      "2018-08-01 13:04:34,873|INFO|concatenating clustered sub dataframes ...\n",
      "2018-08-01 13:04:35,174|INFO|grouping by ['seqname', 'strand']\n",
      "100%|██████████| 48/48 [00:00<00:00, 3797.47it/s]"
     ]
    },
    {
     "name": "stdout",
     "output_type": "stream",
     "text": [
      "0.84,"
     ]
    },
    {
     "name": "stderr",
     "output_type": "stream",
     "text": [
      "\n",
      "2018-08-01 13:04:35,469|INFO|clustering clvs in parallel using 30 CPUs ...\n",
      "2018-08-01 13:04:36,017|INFO|concatenating clustered sub dataframes ...\n",
      "2018-08-01 13:04:36,323|INFO|grouping by ['seqname', 'strand']\n",
      "100%|██████████| 48/48 [00:00<00:00, 3803.35it/s]"
     ]
    },
    {
     "name": "stdout",
     "output_type": "stream",
     "text": [
      "0.85,"
     ]
    },
    {
     "name": "stderr",
     "output_type": "stream",
     "text": [
      "\n",
      "2018-08-01 13:04:36,622|INFO|clustering clvs in parallel using 30 CPUs ...\n",
      "2018-08-01 13:04:37,273|INFO|concatenating clustered sub dataframes ...\n",
      "2018-08-01 13:04:37,572|INFO|grouping by ['seqname', 'strand']\n",
      "100%|██████████| 48/48 [00:00<00:00, 3820.31it/s]"
     ]
    },
    {
     "name": "stdout",
     "output_type": "stream",
     "text": [
      "0.86,"
     ]
    },
    {
     "name": "stderr",
     "output_type": "stream",
     "text": [
      "\n",
      "2018-08-01 13:04:37,878|INFO|clustering clvs in parallel using 30 CPUs ...\n",
      "2018-08-01 13:04:38,331|INFO|concatenating clustered sub dataframes ...\n",
      "2018-08-01 13:04:38,617|INFO|grouping by ['seqname', 'strand']\n",
      "100%|██████████| 48/48 [00:00<00:00, 3566.21it/s]"
     ]
    },
    {
     "name": "stdout",
     "output_type": "stream",
     "text": [
      "0.87,"
     ]
    },
    {
     "name": "stderr",
     "output_type": "stream",
     "text": [
      "\n",
      "2018-08-01 13:04:38,915|INFO|clustering clvs in parallel using 30 CPUs ...\n",
      "2018-08-01 13:04:39,466|INFO|concatenating clustered sub dataframes ...\n",
      "2018-08-01 13:04:39,779|INFO|grouping by ['seqname', 'strand']\n",
      "100%|██████████| 48/48 [00:00<00:00, 3709.72it/s]"
     ]
    },
    {
     "name": "stdout",
     "output_type": "stream",
     "text": [
      "0.88,"
     ]
    },
    {
     "name": "stderr",
     "output_type": "stream",
     "text": [
      "\n",
      "2018-08-01 13:04:40,085|INFO|clustering clvs in parallel using 30 CPUs ...\n",
      "2018-08-01 13:04:40,531|INFO|concatenating clustered sub dataframes ...\n",
      "2018-08-01 13:04:40,787|INFO|grouping by ['seqname', 'strand']\n",
      "100%|██████████| 48/48 [00:00<00:00, 3958.52it/s]"
     ]
    },
    {
     "name": "stdout",
     "output_type": "stream",
     "text": [
      "0.89,"
     ]
    },
    {
     "name": "stderr",
     "output_type": "stream",
     "text": [
      "\n",
      "2018-08-01 13:04:41,222|INFO|clustering clvs in parallel using 30 CPUs ...\n",
      "2018-08-01 13:04:41,765|INFO|concatenating clustered sub dataframes ...\n",
      "2018-08-01 13:04:42,045|INFO|grouping by ['seqname', 'strand']\n",
      "100%|██████████| 48/48 [00:00<00:00, 3877.03it/s]"
     ]
    },
    {
     "name": "stdout",
     "output_type": "stream",
     "text": [
      "0.9,"
     ]
    },
    {
     "name": "stderr",
     "output_type": "stream",
     "text": [
      "\n",
      "2018-08-01 13:04:42,351|INFO|clustering clvs in parallel using 30 CPUs ...\n",
      "2018-08-01 13:04:42,799|INFO|concatenating clustered sub dataframes ...\n",
      "2018-08-01 13:04:43,083|INFO|grouping by ['seqname', 'strand']\n",
      "100%|██████████| 48/48 [00:00<00:00, 3834.28it/s]"
     ]
    },
    {
     "name": "stdout",
     "output_type": "stream",
     "text": [
      "0.91,"
     ]
    },
    {
     "name": "stderr",
     "output_type": "stream",
     "text": [
      "\n",
      "2018-08-01 13:04:43,393|INFO|clustering clvs in parallel using 30 CPUs ...\n",
      "2018-08-01 13:04:43,845|INFO|concatenating clustered sub dataframes ...\n",
      "2018-08-01 13:04:44,154|INFO|grouping by ['seqname', 'strand']\n",
      "100%|██████████| 48/48 [00:00<00:00, 3793.82it/s]"
     ]
    },
    {
     "name": "stdout",
     "output_type": "stream",
     "text": [
      "0.92,"
     ]
    },
    {
     "name": "stderr",
     "output_type": "stream",
     "text": [
      "\n",
      "2018-08-01 13:04:44,448|INFO|clustering clvs in parallel using 30 CPUs ...\n",
      "2018-08-01 13:04:44,891|INFO|concatenating clustered sub dataframes ...\n",
      "2018-08-01 13:04:45,135|INFO|grouping by ['seqname', 'strand']\n",
      "100%|██████████| 48/48 [00:00<00:00, 3953.55it/s]"
     ]
    },
    {
     "name": "stdout",
     "output_type": "stream",
     "text": [
      "0.93,"
     ]
    },
    {
     "name": "stderr",
     "output_type": "stream",
     "text": [
      "\n",
      "2018-08-01 13:04:45,432|INFO|clustering clvs in parallel using 30 CPUs ...\n",
      "2018-08-01 13:04:45,887|INFO|concatenating clustered sub dataframes ...\n",
      "2018-08-01 13:04:46,170|INFO|grouping by ['seqname', 'strand']\n",
      "100%|██████████| 48/48 [00:00<00:00, 3902.96it/s]"
     ]
    },
    {
     "name": "stdout",
     "output_type": "stream",
     "text": [
      "0.9400000000000001,"
     ]
    },
    {
     "name": "stderr",
     "output_type": "stream",
     "text": [
      "\n",
      "2018-08-01 13:04:46,479|INFO|clustering clvs in parallel using 30 CPUs ...\n",
      "2018-08-01 13:04:46,946|INFO|concatenating clustered sub dataframes ...\n",
      "2018-08-01 13:04:47,212|INFO|grouping by ['seqname', 'strand']\n",
      "100%|██████████| 47/47 [00:00<00:00, 582.90it/s]"
     ]
    },
    {
     "name": "stdout",
     "output_type": "stream",
     "text": [
      "0.9500000000000001,"
     ]
    },
    {
     "name": "stderr",
     "output_type": "stream",
     "text": [
      "\n",
      "2018-08-01 13:04:47,583|INFO|clustering clvs in parallel using 30 CPUs ...\n",
      "2018-08-01 13:04:48,030|INFO|concatenating clustered sub dataframes ...\n",
      "2018-08-01 13:04:48,314|INFO|grouping by ['seqname', 'strand']\n",
      "100%|██████████| 47/47 [00:00<00:00, 3880.71it/s]"
     ]
    },
    {
     "name": "stdout",
     "output_type": "stream",
     "text": [
      "0.96,"
     ]
    },
    {
     "name": "stderr",
     "output_type": "stream",
     "text": [
      "\n",
      "2018-08-01 13:04:48,596|INFO|clustering clvs in parallel using 30 CPUs ...\n",
      "2018-08-01 13:04:48,954|INFO|concatenating clustered sub dataframes ...\n",
      "2018-08-01 13:04:49,202|INFO|grouping by ['seqname', 'strand']\n",
      "100%|██████████| 47/47 [00:00<00:00, 3844.68it/s]"
     ]
    },
    {
     "name": "stdout",
     "output_type": "stream",
     "text": [
      "0.97,"
     ]
    },
    {
     "name": "stderr",
     "output_type": "stream",
     "text": [
      "\n",
      "2018-08-01 13:04:49,495|INFO|clustering clvs in parallel using 30 CPUs ...\n",
      "2018-08-01 13:04:49,847|INFO|concatenating clustered sub dataframes ...\n",
      "2018-08-01 13:04:50,115|INFO|grouping by ['seqname', 'strand']\n",
      "100%|██████████| 46/46 [00:00<00:00, 3897.19it/s]"
     ]
    },
    {
     "name": "stdout",
     "output_type": "stream",
     "text": [
      "0.98,"
     ]
    },
    {
     "name": "stderr",
     "output_type": "stream",
     "text": [
      "\n",
      "2018-08-01 13:04:50,410|INFO|clustering clvs in parallel using 30 CPUs ...\n",
      "2018-08-01 13:04:50,668|INFO|concatenating clustered sub dataframes ...\n"
     ]
    },
    {
     "name": "stdout",
     "output_type": "stream",
     "text": [
      "0.99,1.0,"
     ]
    },
    {
     "name": "stderr",
     "output_type": "stream",
     "text": [
      "2018-08-01 13:04:53,757|INFO|reading /projects/cheny_prj/KLEAT_benchmarking/polyA_seq/UHR2.bed ...\n",
      "2018-08-01 13:05:18,768|INFO|grouping by ['seqname', 'strand']\n"
     ]
    },
    {
     "name": "stdout",
     "output_type": "stream",
     "text": [
      "0.0,"
     ]
    },
    {
     "name": "stderr",
     "output_type": "stream",
     "text": [
      "100%|██████████| 50/50 [00:00<00:00, 332.67it/s]\n",
      "2018-08-01 13:05:20,475|INFO|clustering clvs in parallel using 30 CPUs ...\n",
      "2018-08-01 13:06:31,881|INFO|concatenating clustered sub dataframes ...\n",
      "2018-08-01 13:06:49,192|INFO|grouping by ['seqname', 'strand']\n"
     ]
    },
    {
     "name": "stdout",
     "output_type": "stream",
     "text": [
      "0.01,"
     ]
    },
    {
     "name": "stderr",
     "output_type": "stream",
     "text": [
      "100%|██████████| 50/50 [00:00<00:00, 871.56it/s]\n",
      "2018-08-01 13:06:49,950|INFO|clustering clvs in parallel using 30 CPUs ...\n",
      "2018-08-01 13:07:08,041|INFO|concatenating clustered sub dataframes ...\n",
      "2018-08-01 13:07:12,813|INFO|grouping by ['seqname', 'strand']\n"
     ]
    },
    {
     "name": "stdout",
     "output_type": "stream",
     "text": [
      "0.02,"
     ]
    },
    {
     "name": "stderr",
     "output_type": "stream",
     "text": [
      "100%|██████████| 50/50 [00:00<00:00, 1406.27it/s]\n",
      "2018-08-01 13:07:13,368|INFO|clustering clvs in parallel using 30 CPUs ...\n",
      "2018-08-01 13:07:22,288|INFO|concatenating clustered sub dataframes ...\n",
      "2018-08-01 13:07:25,436|INFO|grouping by ['seqname', 'strand']\n"
     ]
    },
    {
     "name": "stdout",
     "output_type": "stream",
     "text": [
      "0.03,"
     ]
    },
    {
     "name": "stderr",
     "output_type": "stream",
     "text": [
      "100%|██████████| 50/50 [00:00<00:00, 1538.89it/s]\n",
      "2018-08-01 13:07:25,950|INFO|clustering clvs in parallel using 30 CPUs ...\n",
      "2018-08-01 13:07:32,047|INFO|concatenating clustered sub dataframes ...\n",
      "2018-08-01 13:07:34,323|INFO|grouping by ['seqname', 'strand']\n"
     ]
    },
    {
     "name": "stdout",
     "output_type": "stream",
     "text": [
      "0.04,"
     ]
    },
    {
     "name": "stderr",
     "output_type": "stream",
     "text": [
      "100%|██████████| 50/50 [00:00<00:00, 1778.66it/s]\n",
      "2018-08-01 13:07:34,869|INFO|clustering clvs in parallel using 30 CPUs ...\n",
      "2018-08-01 13:07:39,475|INFO|concatenating clustered sub dataframes ...\n",
      "2018-08-01 13:07:41,099|INFO|grouping by ['seqname', 'strand']\n"
     ]
    },
    {
     "name": "stdout",
     "output_type": "stream",
     "text": [
      "0.05,"
     ]
    },
    {
     "name": "stderr",
     "output_type": "stream",
     "text": [
      "100%|██████████| 50/50 [00:00<00:00, 2084.85it/s]\n",
      "2018-08-01 13:07:41,562|INFO|clustering clvs in parallel using 30 CPUs ...\n",
      "2018-08-01 13:07:44,945|INFO|concatenating clustered sub dataframes ...\n",
      "2018-08-01 13:07:46,235|INFO|grouping by ['seqname', 'strand']\n",
      "100%|██████████| 50/50 [00:00<00:00, 2454.96it/s]"
     ]
    },
    {
     "name": "stdout",
     "output_type": "stream",
     "text": [
      "0.06,"
     ]
    },
    {
     "name": "stderr",
     "output_type": "stream",
     "text": [
      "\n",
      "2018-08-01 13:07:46,682|INFO|clustering clvs in parallel using 30 CPUs ...\n",
      "2018-08-01 13:07:49,775|INFO|concatenating clustered sub dataframes ...\n",
      "2018-08-01 13:07:50,873|INFO|grouping by ['seqname', 'strand']\n",
      "100%|██████████| 50/50 [00:00<00:00, 2434.92it/s]"
     ]
    },
    {
     "name": "stdout",
     "output_type": "stream",
     "text": [
      "0.07,"
     ]
    },
    {
     "name": "stderr",
     "output_type": "stream",
     "text": [
      "\n",
      "2018-08-01 13:07:51,299|INFO|clustering clvs in parallel using 30 CPUs ...\n",
      "2018-08-01 13:07:53,764|INFO|concatenating clustered sub dataframes ...\n",
      "2018-08-01 13:07:54,855|INFO|grouping by ['seqname', 'strand']\n",
      "  0%|          | 0/50 [00:00<?, ?it/s]"
     ]
    },
    {
     "name": "stdout",
     "output_type": "stream",
     "text": [
      "0.08,"
     ]
    },
    {
     "name": "stderr",
     "output_type": "stream",
     "text": [
      "100%|██████████| 50/50 [00:00<00:00, 2393.35it/s]\n",
      "2018-08-01 13:07:55,322|INFO|clustering clvs in parallel using 30 CPUs ...\n",
      "2018-08-01 13:07:57,908|INFO|concatenating clustered sub dataframes ...\n",
      "2018-08-01 13:07:58,925|INFO|grouping by ['seqname', 'strand']\n",
      "100%|██████████| 50/50 [00:00<00:00, 2517.71it/s]"
     ]
    },
    {
     "name": "stdout",
     "output_type": "stream",
     "text": [
      "0.09,"
     ]
    },
    {
     "name": "stderr",
     "output_type": "stream",
     "text": [
      "\n",
      "2018-08-01 13:07:59,358|INFO|clustering clvs in parallel using 30 CPUs ...\n",
      "2018-08-01 13:08:01,335|INFO|concatenating clustered sub dataframes ...\n",
      "2018-08-01 13:08:02,274|INFO|grouping by ['seqname', 'strand']\n",
      "100%|██████████| 50/50 [00:00<00:00, 2575.06it/s]"
     ]
    },
    {
     "name": "stdout",
     "output_type": "stream",
     "text": [
      "0.1,"
     ]
    },
    {
     "name": "stderr",
     "output_type": "stream",
     "text": [
      "\n",
      "2018-08-01 13:08:02,756|INFO|clustering clvs in parallel using 30 CPUs ...\n",
      "2018-08-01 13:08:04,823|INFO|concatenating clustered sub dataframes ...\n",
      "2018-08-01 13:08:05,739|INFO|grouping by ['seqname', 'strand']\n",
      "100%|██████████| 50/50 [00:00<00:00, 2465.47it/s]"
     ]
    },
    {
     "name": "stdout",
     "output_type": "stream",
     "text": [
      "0.11,"
     ]
    },
    {
     "name": "stderr",
     "output_type": "stream",
     "text": [
      "\n",
      "2018-08-01 13:08:06,178|INFO|clustering clvs in parallel using 30 CPUs ...\n",
      "2018-08-01 13:08:08,139|INFO|concatenating clustered sub dataframes ...\n",
      "2018-08-01 13:08:09,018|INFO|grouping by ['seqname', 'strand']\n",
      "100%|██████████| 50/50 [00:00<00:00, 2929.11it/s]"
     ]
    },
    {
     "name": "stdout",
     "output_type": "stream",
     "text": [
      "0.12,"
     ]
    },
    {
     "name": "stderr",
     "output_type": "stream",
     "text": [
      "\n",
      "2018-08-01 13:08:09,459|INFO|clustering clvs in parallel using 30 CPUs ...\n",
      "2018-08-01 13:08:11,109|INFO|concatenating clustered sub dataframes ...\n",
      "2018-08-01 13:08:11,903|INFO|grouping by ['seqname', 'strand']\n",
      "100%|██████████| 50/50 [00:00<00:00, 2793.22it/s]"
     ]
    },
    {
     "name": "stdout",
     "output_type": "stream",
     "text": [
      "0.13,"
     ]
    },
    {
     "name": "stderr",
     "output_type": "stream",
     "text": [
      "\n",
      "2018-08-01 13:08:12,341|INFO|clustering clvs in parallel using 30 CPUs ...\n",
      "2018-08-01 13:08:14,319|INFO|concatenating clustered sub dataframes ...\n",
      "2018-08-01 13:08:15,092|INFO|grouping by ['seqname', 'strand']\n",
      "100%|██████████| 50/50 [00:00<00:00, 3350.56it/s]"
     ]
    },
    {
     "name": "stdout",
     "output_type": "stream",
     "text": [
      "0.14,"
     ]
    },
    {
     "name": "stderr",
     "output_type": "stream",
     "text": [
      "\n",
      "2018-08-01 13:08:15,559|INFO|clustering clvs in parallel using 30 CPUs ...\n",
      "2018-08-01 13:08:16,815|INFO|concatenating clustered sub dataframes ...\n",
      "2018-08-01 13:08:17,470|INFO|grouping by ['seqname', 'strand']\n",
      "100%|██████████| 50/50 [00:00<00:00, 2909.56it/s]"
     ]
    },
    {
     "name": "stdout",
     "output_type": "stream",
     "text": [
      "0.15,"
     ]
    },
    {
     "name": "stderr",
     "output_type": "stream",
     "text": [
      "\n",
      "2018-08-01 13:08:17,889|INFO|clustering clvs in parallel using 30 CPUs ...\n",
      "2018-08-01 13:08:19,146|INFO|concatenating clustered sub dataframes ...\n",
      "2018-08-01 13:08:19,804|INFO|grouping by ['seqname', 'strand']\n",
      "100%|██████████| 50/50 [00:00<00:00, 3030.39it/s]"
     ]
    },
    {
     "name": "stdout",
     "output_type": "stream",
     "text": [
      "0.16,"
     ]
    },
    {
     "name": "stderr",
     "output_type": "stream",
     "text": [
      "\n",
      "2018-08-01 13:08:20,128|INFO|clustering clvs in parallel using 30 CPUs ...\n",
      "2018-08-01 13:08:21,290|INFO|concatenating clustered sub dataframes ...\n",
      "2018-08-01 13:08:21,878|INFO|grouping by ['seqname', 'strand']\n",
      "100%|██████████| 50/50 [00:00<00:00, 3100.78it/s]"
     ]
    },
    {
     "name": "stdout",
     "output_type": "stream",
     "text": [
      "0.17,"
     ]
    },
    {
     "name": "stderr",
     "output_type": "stream",
     "text": [
      "\n",
      "2018-08-01 13:08:22,255|INFO|clustering clvs in parallel using 30 CPUs ...\n",
      "2018-08-01 13:08:23,620|INFO|concatenating clustered sub dataframes ...\n",
      "2018-08-01 13:08:24,155|INFO|grouping by ['seqname', 'strand']\n",
      "100%|██████████| 50/50 [00:00<00:00, 3478.73it/s]"
     ]
    },
    {
     "name": "stdout",
     "output_type": "stream",
     "text": [
      "0.18,"
     ]
    },
    {
     "name": "stderr",
     "output_type": "stream",
     "text": [
      "\n",
      "2018-08-01 13:08:24,504|INFO|clustering clvs in parallel using 30 CPUs ...\n",
      "2018-08-01 13:08:25,880|INFO|concatenating clustered sub dataframes ...\n",
      "2018-08-01 13:08:26,447|INFO|grouping by ['seqname', 'strand']\n",
      "100%|██████████| 50/50 [00:00<00:00, 3278.13it/s]"
     ]
    },
    {
     "name": "stdout",
     "output_type": "stream",
     "text": [
      "0.19,"
     ]
    },
    {
     "name": "stderr",
     "output_type": "stream",
     "text": [
      "\n",
      "2018-08-01 13:08:26,765|INFO|clustering clvs in parallel using 30 CPUs ...\n",
      "2018-08-01 13:08:27,928|INFO|concatenating clustered sub dataframes ...\n",
      "2018-08-01 13:08:28,580|INFO|grouping by ['seqname', 'strand']\n",
      "100%|██████████| 50/50 [00:00<00:00, 3072.44it/s]"
     ]
    },
    {
     "name": "stdout",
     "output_type": "stream",
     "text": [
      "0.2,"
     ]
    },
    {
     "name": "stderr",
     "output_type": "stream",
     "text": [
      "\n",
      "2018-08-01 13:08:28,893|INFO|clustering clvs in parallel using 30 CPUs ...\n",
      "2018-08-01 13:08:29,950|INFO|concatenating clustered sub dataframes ...\n",
      "2018-08-01 13:08:30,493|INFO|grouping by ['seqname', 'strand']\n",
      "100%|██████████| 50/50 [00:00<00:00, 3392.46it/s]"
     ]
    },
    {
     "name": "stdout",
     "output_type": "stream",
     "text": [
      "0.21,"
     ]
    },
    {
     "name": "stderr",
     "output_type": "stream",
     "text": [
      "\n",
      "2018-08-01 13:08:30,903|INFO|clustering clvs in parallel using 30 CPUs ...\n",
      "2018-08-01 13:08:31,862|INFO|concatenating clustered sub dataframes ...\n",
      "2018-08-01 13:08:32,363|INFO|grouping by ['seqname', 'strand']\n",
      "100%|██████████| 50/50 [00:00<00:00, 3380.54it/s]"
     ]
    },
    {
     "name": "stdout",
     "output_type": "stream",
     "text": [
      "0.22,"
     ]
    },
    {
     "name": "stderr",
     "output_type": "stream",
     "text": [
      "\n",
      "2018-08-01 13:08:32,692|INFO|clustering clvs in parallel using 30 CPUs ...\n",
      "2018-08-01 13:08:34,059|INFO|concatenating clustered sub dataframes ...\n",
      "2018-08-01 13:08:34,562|INFO|grouping by ['seqname', 'strand']\n",
      "100%|██████████| 50/50 [00:00<00:00, 3326.38it/s]"
     ]
    },
    {
     "name": "stdout",
     "output_type": "stream",
     "text": [
      "0.23,"
     ]
    },
    {
     "name": "stderr",
     "output_type": "stream",
     "text": [
      "\n",
      "2018-08-01 13:08:34,988|INFO|clustering clvs in parallel using 30 CPUs ...\n",
      "2018-08-01 13:08:35,833|INFO|concatenating clustered sub dataframes ...\n",
      "2018-08-01 13:08:36,276|INFO|grouping by ['seqname', 'strand']\n",
      "100%|██████████| 50/50 [00:00<00:00, 3969.62it/s]"
     ]
    },
    {
     "name": "stdout",
     "output_type": "stream",
     "text": [
      "0.24,"
     ]
    },
    {
     "name": "stderr",
     "output_type": "stream",
     "text": [
      "\n",
      "2018-08-01 13:08:36,554|INFO|clustering clvs in parallel using 30 CPUs ...\n",
      "2018-08-01 13:08:37,419|INFO|concatenating clustered sub dataframes ...\n",
      "2018-08-01 13:08:37,861|INFO|grouping by ['seqname', 'strand']\n",
      "100%|██████████| 50/50 [00:00<00:00, 3471.36it/s]"
     ]
    },
    {
     "name": "stdout",
     "output_type": "stream",
     "text": [
      "0.25,"
     ]
    },
    {
     "name": "stderr",
     "output_type": "stream",
     "text": [
      "\n",
      "2018-08-01 13:08:38,213|INFO|clustering clvs in parallel using 30 CPUs ...\n",
      "2018-08-01 13:08:39,176|INFO|concatenating clustered sub dataframes ...\n",
      "2018-08-01 13:08:39,634|INFO|grouping by ['seqname', 'strand']\n",
      "100%|██████████| 50/50 [00:00<00:00, 3507.41it/s]"
     ]
    },
    {
     "name": "stdout",
     "output_type": "stream",
     "text": [
      "0.26,"
     ]
    },
    {
     "name": "stderr",
     "output_type": "stream",
     "text": [
      "\n",
      "2018-08-01 13:08:39,931|INFO|clustering clvs in parallel using 30 CPUs ...\n",
      "2018-08-01 13:08:40,697|INFO|concatenating clustered sub dataframes ...\n",
      "2018-08-01 13:08:41,132|INFO|grouping by ['seqname', 'strand']\n",
      "100%|██████████| 50/50 [00:00<00:00, 3760.49it/s]"
     ]
    },
    {
     "name": "stdout",
     "output_type": "stream",
     "text": [
      "0.27,"
     ]
    },
    {
     "name": "stderr",
     "output_type": "stream",
     "text": [
      "\n",
      "2018-08-01 13:08:41,481|INFO|clustering clvs in parallel using 30 CPUs ...\n",
      "2018-08-01 13:08:42,344|INFO|concatenating clustered sub dataframes ...\n",
      "2018-08-01 13:08:42,783|INFO|grouping by ['seqname', 'strand']\n",
      "100%|██████████| 50/50 [00:00<00:00, 3456.31it/s]"
     ]
    },
    {
     "name": "stdout",
     "output_type": "stream",
     "text": [
      "0.28,"
     ]
    },
    {
     "name": "stderr",
     "output_type": "stream",
     "text": [
      "\n",
      "2018-08-01 13:08:43,088|INFO|clustering clvs in parallel using 30 CPUs ...\n",
      "2018-08-01 13:08:44,151|INFO|concatenating clustered sub dataframes ...\n",
      "2018-08-01 13:08:44,566|INFO|grouping by ['seqname', 'strand']\n",
      "100%|██████████| 50/50 [00:00<00:00, 3494.61it/s]"
     ]
    },
    {
     "name": "stdout",
     "output_type": "stream",
     "text": [
      "0.29,"
     ]
    },
    {
     "name": "stderr",
     "output_type": "stream",
     "text": [
      "\n",
      "2018-08-01 13:08:44,948|INFO|clustering clvs in parallel using 30 CPUs ...\n",
      "2018-08-01 13:08:45,828|INFO|concatenating clustered sub dataframes ...\n",
      "2018-08-01 13:08:46,219|INFO|grouping by ['seqname', 'strand']\n",
      "100%|██████████| 50/50 [00:00<00:00, 3697.64it/s]"
     ]
    },
    {
     "name": "stdout",
     "output_type": "stream",
     "text": [
      "0.3,"
     ]
    },
    {
     "name": "stderr",
     "output_type": "stream",
     "text": [
      "\n",
      "2018-08-01 13:08:46,524|INFO|clustering clvs in parallel using 30 CPUs ...\n",
      "2018-08-01 13:08:47,279|INFO|concatenating clustered sub dataframes ...\n",
      "2018-08-01 13:08:47,749|INFO|grouping by ['seqname', 'strand']\n",
      "100%|██████████| 50/50 [00:00<00:00, 3306.45it/s]"
     ]
    },
    {
     "name": "stdout",
     "output_type": "stream",
     "text": [
      "0.31,"
     ]
    },
    {
     "name": "stderr",
     "output_type": "stream",
     "text": [
      "\n",
      "2018-08-01 13:08:48,153|INFO|clustering clvs in parallel using 30 CPUs ...\n",
      "2018-08-01 13:08:48,900|INFO|concatenating clustered sub dataframes ...\n",
      "2018-08-01 13:08:49,335|INFO|grouping by ['seqname', 'strand']\n",
      "100%|██████████| 50/50 [00:00<00:00, 3544.76it/s]"
     ]
    },
    {
     "name": "stdout",
     "output_type": "stream",
     "text": [
      "0.32,"
     ]
    },
    {
     "name": "stderr",
     "output_type": "stream",
     "text": [
      "\n",
      "2018-08-01 13:08:49,635|INFO|clustering clvs in parallel using 30 CPUs ...\n",
      "2018-08-01 13:08:50,499|INFO|concatenating clustered sub dataframes ...\n",
      "2018-08-01 13:08:50,910|INFO|grouping by ['seqname', 'strand']\n",
      "100%|██████████| 50/50 [00:00<00:00, 3864.79it/s]"
     ]
    },
    {
     "name": "stdout",
     "output_type": "stream",
     "text": [
      "0.33,"
     ]
    },
    {
     "name": "stderr",
     "output_type": "stream",
     "text": [
      "\n",
      "2018-08-01 13:08:51,265|INFO|clustering clvs in parallel using 30 CPUs ...\n",
      "2018-08-01 13:08:52,015|INFO|concatenating clustered sub dataframes ...\n",
      "2018-08-01 13:08:52,446|INFO|grouping by ['seqname', 'strand']\n",
      "100%|██████████| 50/50 [00:00<00:00, 3583.83it/s]"
     ]
    },
    {
     "name": "stdout",
     "output_type": "stream",
     "text": [
      "0.34,"
     ]
    },
    {
     "name": "stderr",
     "output_type": "stream",
     "text": [
      "\n",
      "2018-08-01 13:08:52,742|INFO|clustering clvs in parallel using 30 CPUs ...\n",
      "2018-08-01 13:08:53,695|INFO|concatenating clustered sub dataframes ...\n",
      "2018-08-01 13:08:54,050|INFO|grouping by ['seqname', 'strand']\n",
      "100%|██████████| 50/50 [00:00<00:00, 4076.02it/s]"
     ]
    },
    {
     "name": "stdout",
     "output_type": "stream",
     "text": [
      "0.35000000000000003,"
     ]
    },
    {
     "name": "stderr",
     "output_type": "stream",
     "text": [
      "\n",
      "2018-08-01 13:08:54,403|INFO|clustering clvs in parallel using 30 CPUs ...\n",
      "2018-08-01 13:08:55,068|INFO|concatenating clustered sub dataframes ...\n",
      "2018-08-01 13:08:55,468|INFO|grouping by ['seqname', 'strand']\n",
      "100%|██████████| 50/50 [00:00<00:00, 4050.98it/s]"
     ]
    },
    {
     "name": "stdout",
     "output_type": "stream",
     "text": [
      "0.36,"
     ]
    },
    {
     "name": "stderr",
     "output_type": "stream",
     "text": [
      "\n",
      "2018-08-01 13:08:55,767|INFO|clustering clvs in parallel using 30 CPUs ...\n",
      "2018-08-01 13:08:56,623|INFO|concatenating clustered sub dataframes ...\n",
      "2018-08-01 13:08:57,034|INFO|grouping by ['seqname', 'strand']\n",
      "100%|██████████| 50/50 [00:00<00:00, 3573.94it/s]"
     ]
    },
    {
     "name": "stdout",
     "output_type": "stream",
     "text": [
      "0.37,"
     ]
    },
    {
     "name": "stderr",
     "output_type": "stream",
     "text": [
      "\n",
      "2018-08-01 13:08:57,350|INFO|clustering clvs in parallel using 30 CPUs ...\n",
      "2018-08-01 13:08:58,101|INFO|concatenating clustered sub dataframes ...\n",
      "2018-08-01 13:08:58,614|INFO|grouping by ['seqname', 'strand']\n",
      "100%|██████████| 50/50 [00:00<00:00, 3502.78it/s]"
     ]
    },
    {
     "name": "stdout",
     "output_type": "stream",
     "text": [
      "0.38,"
     ]
    },
    {
     "name": "stderr",
     "output_type": "stream",
     "text": [
      "\n",
      "2018-08-01 13:08:58,930|INFO|clustering clvs in parallel using 30 CPUs ...\n",
      "2018-08-01 13:08:59,591|INFO|concatenating clustered sub dataframes ...\n",
      "2018-08-01 13:08:59,980|INFO|grouping by ['seqname', 'strand']\n",
      "100%|██████████| 50/50 [00:00<00:00, 3509.00it/s]"
     ]
    },
    {
     "name": "stdout",
     "output_type": "stream",
     "text": [
      "0.39,"
     ]
    },
    {
     "name": "stderr",
     "output_type": "stream",
     "text": [
      "\n",
      "2018-08-01 13:09:00,332|INFO|clustering clvs in parallel using 30 CPUs ...\n",
      "2018-08-01 13:09:00,975|INFO|concatenating clustered sub dataframes ...\n",
      "2018-08-01 13:09:01,381|INFO|grouping by ['seqname', 'strand']\n",
      "100%|██████████| 50/50 [00:00<00:00, 3472.34it/s]"
     ]
    },
    {
     "name": "stdout",
     "output_type": "stream",
     "text": [
      "0.4,"
     ]
    },
    {
     "name": "stderr",
     "output_type": "stream",
     "text": [
      "\n",
      "2018-08-01 13:09:01,775|INFO|clustering clvs in parallel using 30 CPUs ...\n",
      "2018-08-01 13:09:02,529|INFO|concatenating clustered sub dataframes ...\n",
      "2018-08-01 13:09:02,922|INFO|grouping by ['seqname', 'strand']\n",
      "100%|██████████| 50/50 [00:00<00:00, 3606.45it/s]"
     ]
    },
    {
     "name": "stdout",
     "output_type": "stream",
     "text": [
      "0.41000000000000003,"
     ]
    },
    {
     "name": "stderr",
     "output_type": "stream",
     "text": [
      "\n",
      "2018-08-01 13:09:03,276|INFO|clustering clvs in parallel using 30 CPUs ...\n",
      "2018-08-01 13:09:03,926|INFO|concatenating clustered sub dataframes ...\n",
      "2018-08-01 13:09:04,311|INFO|grouping by ['seqname', 'strand']\n",
      "100%|██████████| 50/50 [00:00<00:00, 3607.69it/s]"
     ]
    },
    {
     "name": "stdout",
     "output_type": "stream",
     "text": [
      "0.42,"
     ]
    },
    {
     "name": "stderr",
     "output_type": "stream",
     "text": [
      "\n",
      "2018-08-01 13:09:04,622|INFO|clustering clvs in parallel using 30 CPUs ...\n",
      "2018-08-01 13:09:05,477|INFO|concatenating clustered sub dataframes ...\n",
      "2018-08-01 13:09:05,932|INFO|grouping by ['seqname', 'strand']\n",
      "100%|██████████| 50/50 [00:00<00:00, 3655.74it/s]"
     ]
    },
    {
     "name": "stdout",
     "output_type": "stream",
     "text": [
      "0.43,"
     ]
    },
    {
     "name": "stderr",
     "output_type": "stream",
     "text": [
      "\n",
      "2018-08-01 13:09:06,231|INFO|clustering clvs in parallel using 30 CPUs ...\n",
      "2018-08-01 13:09:07,104|INFO|concatenating clustered sub dataframes ...\n",
      "2018-08-01 13:09:07,484|INFO|grouping by ['seqname', 'strand']\n",
      "100%|██████████| 50/50 [00:00<00:00, 3571.87it/s]"
     ]
    },
    {
     "name": "stdout",
     "output_type": "stream",
     "text": [
      "0.44,"
     ]
    },
    {
     "name": "stderr",
     "output_type": "stream",
     "text": [
      "\n",
      "2018-08-01 13:09:07,796|INFO|clustering clvs in parallel using 30 CPUs ...\n",
      "2018-08-01 13:09:08,446|INFO|concatenating clustered sub dataframes ...\n",
      "2018-08-01 13:09:08,818|INFO|grouping by ['seqname', 'strand']\n",
      "100%|██████████| 50/50 [00:00<00:00, 3509.17it/s]"
     ]
    },
    {
     "name": "stdout",
     "output_type": "stream",
     "text": [
      "0.45,"
     ]
    },
    {
     "name": "stderr",
     "output_type": "stream",
     "text": [
      "\n",
      "2018-08-01 13:09:09,222|INFO|clustering clvs in parallel using 30 CPUs ...\n",
      "2018-08-01 13:09:10,068|INFO|concatenating clustered sub dataframes ...\n",
      "2018-08-01 13:09:10,452|INFO|grouping by ['seqname', 'strand']\n",
      "100%|██████████| 50/50 [00:00<00:00, 3647.98it/s]"
     ]
    },
    {
     "name": "stdout",
     "output_type": "stream",
     "text": [
      "0.46,"
     ]
    },
    {
     "name": "stderr",
     "output_type": "stream",
     "text": [
      "\n",
      "2018-08-01 13:09:10,780|INFO|clustering clvs in parallel using 30 CPUs ...\n",
      "2018-08-01 13:09:11,425|INFO|concatenating clustered sub dataframes ...\n",
      "2018-08-01 13:09:11,872|INFO|grouping by ['seqname', 'strand']\n",
      "100%|██████████| 50/50 [00:00<00:00, 3449.94it/s]"
     ]
    },
    {
     "name": "stdout",
     "output_type": "stream",
     "text": [
      "0.47000000000000003,"
     ]
    },
    {
     "name": "stderr",
     "output_type": "stream",
     "text": [
      "\n",
      "2018-08-01 13:09:12,248|INFO|clustering clvs in parallel using 30 CPUs ...\n",
      "2018-08-01 13:09:13,510|INFO|concatenating clustered sub dataframes ...\n",
      "2018-08-01 13:09:13,984|INFO|grouping by ['seqname', 'strand']\n",
      "100%|██████████| 50/50 [00:00<00:00, 3528.90it/s]"
     ]
    },
    {
     "name": "stdout",
     "output_type": "stream",
     "text": [
      "0.48,"
     ]
    },
    {
     "name": "stderr",
     "output_type": "stream",
     "text": [
      "\n",
      "2018-08-01 13:09:14,296|INFO|clustering clvs in parallel using 30 CPUs ...\n",
      "2018-08-01 13:09:14,956|INFO|concatenating clustered sub dataframes ...\n",
      "2018-08-01 13:09:15,339|INFO|grouping by ['seqname', 'strand']\n",
      "100%|██████████| 50/50 [00:00<00:00, 3650.33it/s]"
     ]
    },
    {
     "name": "stdout",
     "output_type": "stream",
     "text": [
      "0.49,"
     ]
    },
    {
     "name": "stderr",
     "output_type": "stream",
     "text": [
      "\n",
      "2018-08-01 13:09:15,672|INFO|clustering clvs in parallel using 30 CPUs ...\n",
      "2018-08-01 13:09:16,316|INFO|concatenating clustered sub dataframes ...\n",
      "2018-08-01 13:09:16,705|INFO|grouping by ['seqname', 'strand']\n",
      "100%|██████████| 50/50 [00:00<00:00, 3531.69it/s]"
     ]
    },
    {
     "name": "stdout",
     "output_type": "stream",
     "text": [
      "0.5,"
     ]
    },
    {
     "name": "stderr",
     "output_type": "stream",
     "text": [
      "\n",
      "2018-08-01 13:09:17,111|INFO|clustering clvs in parallel using 30 CPUs ...\n",
      "2018-08-01 13:09:17,765|INFO|concatenating clustered sub dataframes ...\n",
      "2018-08-01 13:09:18,138|INFO|grouping by ['seqname', 'strand']\n",
      "100%|██████████| 50/50 [00:00<00:00, 3591.38it/s]"
     ]
    },
    {
     "name": "stdout",
     "output_type": "stream",
     "text": [
      "0.51,"
     ]
    },
    {
     "name": "stderr",
     "output_type": "stream",
     "text": [
      "\n",
      "2018-08-01 13:09:18,453|INFO|clustering clvs in parallel using 30 CPUs ...\n",
      "2018-08-01 13:09:19,096|INFO|concatenating clustered sub dataframes ...\n",
      "2018-08-01 13:09:19,455|INFO|grouping by ['seqname', 'strand']\n",
      "100%|██████████| 50/50 [00:00<00:00, 3651.67it/s]"
     ]
    },
    {
     "name": "stdout",
     "output_type": "stream",
     "text": [
      "0.52,"
     ]
    },
    {
     "name": "stderr",
     "output_type": "stream",
     "text": [
      "\n",
      "2018-08-01 13:09:19,749|INFO|clustering clvs in parallel using 30 CPUs ...\n",
      "2018-08-01 13:09:20,410|INFO|concatenating clustered sub dataframes ...\n",
      "2018-08-01 13:09:20,779|INFO|grouping by ['seqname', 'strand']\n",
      "100%|██████████| 50/50 [00:00<00:00, 3708.56it/s]"
     ]
    },
    {
     "name": "stdout",
     "output_type": "stream",
     "text": [
      "0.53,"
     ]
    },
    {
     "name": "stderr",
     "output_type": "stream",
     "text": [
      "\n",
      "2018-08-01 13:09:21,096|INFO|clustering clvs in parallel using 30 CPUs ...\n",
      "2018-08-01 13:09:21,859|INFO|concatenating clustered sub dataframes ...\n",
      "2018-08-01 13:09:22,195|INFO|grouping by ['seqname', 'strand']\n",
      "100%|██████████| 50/50 [00:00<00:00, 3819.53it/s]"
     ]
    },
    {
     "name": "stdout",
     "output_type": "stream",
     "text": [
      "0.54,"
     ]
    },
    {
     "name": "stderr",
     "output_type": "stream",
     "text": [
      "\n",
      "2018-08-01 13:09:22,567|INFO|clustering clvs in parallel using 30 CPUs ...\n",
      "2018-08-01 13:09:23,110|INFO|concatenating clustered sub dataframes ...\n",
      "2018-08-01 13:09:23,439|INFO|grouping by ['seqname', 'strand']\n",
      "100%|██████████| 50/50 [00:00<00:00, 3723.24it/s]"
     ]
    },
    {
     "name": "stdout",
     "output_type": "stream",
     "text": [
      "0.55,"
     ]
    },
    {
     "name": "stderr",
     "output_type": "stream",
     "text": [
      "\n",
      "2018-08-01 13:09:23,724|INFO|clustering clvs in parallel using 30 CPUs ...\n",
      "2018-08-01 13:09:24,387|INFO|concatenating clustered sub dataframes ...\n",
      "2018-08-01 13:09:24,799|INFO|grouping by ['seqname', 'strand']\n",
      "100%|██████████| 49/49 [00:00<00:00, 3499.06it/s]"
     ]
    },
    {
     "name": "stdout",
     "output_type": "stream",
     "text": [
      "0.56,"
     ]
    },
    {
     "name": "stderr",
     "output_type": "stream",
     "text": [
      "\n",
      "2018-08-01 13:09:25,115|INFO|clustering clvs in parallel using 30 CPUs ...\n",
      "2018-08-01 13:09:25,864|INFO|concatenating clustered sub dataframes ...\n",
      "2018-08-01 13:09:26,213|INFO|grouping by ['seqname', 'strand']\n",
      "100%|██████████| 49/49 [00:00<00:00, 3707.69it/s]"
     ]
    },
    {
     "name": "stdout",
     "output_type": "stream",
     "text": [
      "0.5700000000000001,"
     ]
    },
    {
     "name": "stderr",
     "output_type": "stream",
     "text": [
      "\n",
      "2018-08-01 13:09:26,515|INFO|clustering clvs in parallel using 30 CPUs ...\n",
      "2018-08-01 13:09:27,168|INFO|concatenating clustered sub dataframes ...\n",
      "2018-08-01 13:09:27,621|INFO|grouping by ['seqname', 'strand']\n",
      "100%|██████████| 49/49 [00:00<00:00, 3694.76it/s]"
     ]
    },
    {
     "name": "stdout",
     "output_type": "stream",
     "text": [
      "0.58,"
     ]
    },
    {
     "name": "stderr",
     "output_type": "stream",
     "text": [
      "\n",
      "2018-08-01 13:09:27,910|INFO|clustering clvs in parallel using 30 CPUs ...\n",
      "2018-08-01 13:09:28,769|INFO|concatenating clustered sub dataframes ...\n",
      "2018-08-01 13:09:29,138|INFO|grouping by ['seqname', 'strand']\n",
      "100%|██████████| 49/49 [00:00<00:00, 3946.63it/s]"
     ]
    },
    {
     "name": "stdout",
     "output_type": "stream",
     "text": [
      "0.59,"
     ]
    },
    {
     "name": "stderr",
     "output_type": "stream",
     "text": [
      "\n",
      "2018-08-01 13:09:29,458|INFO|clustering clvs in parallel using 30 CPUs ...\n",
      "2018-08-01 13:09:30,220|INFO|concatenating clustered sub dataframes ...\n",
      "2018-08-01 13:09:30,582|INFO|grouping by ['seqname', 'strand']\n",
      "100%|██████████| 49/49 [00:00<00:00, 3415.39it/s]"
     ]
    },
    {
     "name": "stdout",
     "output_type": "stream",
     "text": [
      "0.6,"
     ]
    },
    {
     "name": "stderr",
     "output_type": "stream",
     "text": [
      "\n",
      "2018-08-01 13:09:30,998|INFO|clustering clvs in parallel using 30 CPUs ...\n",
      "2018-08-01 13:09:31,648|INFO|concatenating clustered sub dataframes ...\n",
      "2018-08-01 13:09:32,010|INFO|grouping by ['seqname', 'strand']\n",
      "100%|██████████| 49/49 [00:00<00:00, 3650.07it/s]"
     ]
    },
    {
     "name": "stdout",
     "output_type": "stream",
     "text": [
      "0.61,"
     ]
    },
    {
     "name": "stderr",
     "output_type": "stream",
     "text": [
      "\n",
      "2018-08-01 13:09:32,312|INFO|clustering clvs in parallel using 30 CPUs ...\n",
      "2018-08-01 13:09:33,068|INFO|concatenating clustered sub dataframes ...\n",
      "2018-08-01 13:09:33,429|INFO|grouping by ['seqname', 'strand']\n",
      "100%|██████████| 49/49 [00:00<00:00, 3793.09it/s]"
     ]
    },
    {
     "name": "stdout",
     "output_type": "stream",
     "text": [
      "0.62,"
     ]
    },
    {
     "name": "stderr",
     "output_type": "stream",
     "text": [
      "\n",
      "2018-08-01 13:09:33,744|INFO|clustering clvs in parallel using 30 CPUs ...\n",
      "2018-08-01 13:09:34,492|INFO|concatenating clustered sub dataframes ...\n",
      "2018-08-01 13:09:34,877|INFO|grouping by ['seqname', 'strand']\n",
      "100%|██████████| 49/49 [00:00<00:00, 3646.38it/s]"
     ]
    },
    {
     "name": "stdout",
     "output_type": "stream",
     "text": [
      "0.63,"
     ]
    },
    {
     "name": "stderr",
     "output_type": "stream",
     "text": [
      "\n",
      "2018-08-01 13:09:35,212|INFO|clustering clvs in parallel using 30 CPUs ...\n",
      "2018-08-01 13:09:35,903|INFO|concatenating clustered sub dataframes ...\n",
      "2018-08-01 13:09:36,357|INFO|grouping by ['seqname', 'strand']\n",
      "100%|██████████| 49/49 [00:00<00:00, 3518.35it/s]"
     ]
    },
    {
     "name": "stdout",
     "output_type": "stream",
     "text": [
      "0.64,"
     ]
    },
    {
     "name": "stderr",
     "output_type": "stream",
     "text": [
      "\n",
      "2018-08-01 13:09:36,672|INFO|clustering clvs in parallel using 30 CPUs ...\n",
      "2018-08-01 13:09:37,226|INFO|concatenating clustered sub dataframes ...\n",
      "2018-08-01 13:09:37,593|INFO|grouping by ['seqname', 'strand']\n",
      "100%|██████████| 49/49 [00:00<00:00, 3767.64it/s]"
     ]
    },
    {
     "name": "stdout",
     "output_type": "stream",
     "text": [
      "0.65,"
     ]
    },
    {
     "name": "stderr",
     "output_type": "stream",
     "text": [
      "\n",
      "2018-08-01 13:09:37,886|INFO|clustering clvs in parallel using 30 CPUs ...\n",
      "2018-08-01 13:09:38,440|INFO|concatenating clustered sub dataframes ...\n",
      "2018-08-01 13:09:38,779|INFO|grouping by ['seqname', 'strand']\n",
      "100%|██████████| 49/49 [00:00<00:00, 3629.32it/s]"
     ]
    },
    {
     "name": "stdout",
     "output_type": "stream",
     "text": [
      "0.66,"
     ]
    },
    {
     "name": "stderr",
     "output_type": "stream",
     "text": [
      "\n",
      "2018-08-01 13:09:39,084|INFO|clustering clvs in parallel using 30 CPUs ...\n",
      "2018-08-01 13:09:39,656|INFO|concatenating clustered sub dataframes ...\n",
      "2018-08-01 13:09:40,084|INFO|grouping by ['seqname', 'strand']\n",
      "100%|██████████| 49/49 [00:00<00:00, 3601.21it/s]"
     ]
    },
    {
     "name": "stdout",
     "output_type": "stream",
     "text": [
      "0.67,"
     ]
    },
    {
     "name": "stderr",
     "output_type": "stream",
     "text": [
      "\n",
      "2018-08-01 13:09:40,403|INFO|clustering clvs in parallel using 30 CPUs ...\n",
      "2018-08-01 13:09:41,055|INFO|concatenating clustered sub dataframes ...\n",
      "2018-08-01 13:09:41,378|INFO|grouping by ['seqname', 'strand']\n",
      "100%|██████████| 49/49 [00:00<00:00, 4084.77it/s]"
     ]
    },
    {
     "name": "stdout",
     "output_type": "stream",
     "text": [
      "0.68,"
     ]
    },
    {
     "name": "stderr",
     "output_type": "stream",
     "text": [
      "\n",
      "2018-08-01 13:09:41,692|INFO|clustering clvs in parallel using 30 CPUs ...\n",
      "2018-08-01 13:09:42,239|INFO|concatenating clustered sub dataframes ...\n",
      "2018-08-01 13:09:42,615|INFO|grouping by ['seqname', 'strand']\n",
      "100%|██████████| 49/49 [00:00<00:00, 3750.93it/s]"
     ]
    },
    {
     "name": "stdout",
     "output_type": "stream",
     "text": [
      "0.6900000000000001,"
     ]
    },
    {
     "name": "stderr",
     "output_type": "stream",
     "text": [
      "\n",
      "2018-08-01 13:09:42,951|INFO|clustering clvs in parallel using 30 CPUs ...\n",
      "2018-08-01 13:09:43,598|INFO|concatenating clustered sub dataframes ...\n",
      "2018-08-01 13:09:43,944|INFO|grouping by ['seqname', 'strand']\n",
      "100%|██████████| 49/49 [00:00<00:00, 3602.15it/s]"
     ]
    },
    {
     "name": "stdout",
     "output_type": "stream",
     "text": [
      "0.7000000000000001,"
     ]
    },
    {
     "name": "stderr",
     "output_type": "stream",
     "text": [
      "\n",
      "2018-08-01 13:09:44,318|INFO|clustering clvs in parallel using 30 CPUs ...\n",
      "2018-08-01 13:09:44,864|INFO|concatenating clustered sub dataframes ...\n",
      "2018-08-01 13:09:45,205|INFO|grouping by ['seqname', 'strand']\n",
      "100%|██████████| 49/49 [00:00<00:00, 3679.41it/s]"
     ]
    },
    {
     "name": "stdout",
     "output_type": "stream",
     "text": [
      "0.71,"
     ]
    },
    {
     "name": "stderr",
     "output_type": "stream",
     "text": [
      "\n",
      "2018-08-01 13:09:45,529|INFO|clustering clvs in parallel using 30 CPUs ...\n",
      "2018-08-01 13:09:46,082|INFO|concatenating clustered sub dataframes ...\n",
      "2018-08-01 13:09:46,434|INFO|grouping by ['seqname', 'strand']\n",
      "100%|██████████| 49/49 [00:00<00:00, 3937.41it/s]"
     ]
    },
    {
     "name": "stdout",
     "output_type": "stream",
     "text": [
      "0.72,"
     ]
    },
    {
     "name": "stderr",
     "output_type": "stream",
     "text": [
      "\n",
      "2018-08-01 13:09:46,731|INFO|clustering clvs in parallel using 30 CPUs ...\n",
      "2018-08-01 13:09:47,283|INFO|concatenating clustered sub dataframes ...\n",
      "2018-08-01 13:09:47,626|INFO|grouping by ['seqname', 'strand']\n",
      "100%|██████████| 49/49 [00:00<00:00, 3900.72it/s]"
     ]
    },
    {
     "name": "stdout",
     "output_type": "stream",
     "text": [
      "0.73,"
     ]
    },
    {
     "name": "stderr",
     "output_type": "stream",
     "text": [
      "\n",
      "2018-08-01 13:09:47,980|INFO|clustering clvs in parallel using 30 CPUs ...\n",
      "2018-08-01 13:09:48,552|INFO|concatenating clustered sub dataframes ...\n",
      "2018-08-01 13:09:48,887|INFO|grouping by ['seqname', 'strand']\n",
      "100%|██████████| 49/49 [00:00<00:00, 3765.02it/s]"
     ]
    },
    {
     "name": "stdout",
     "output_type": "stream",
     "text": [
      "0.74,"
     ]
    },
    {
     "name": "stderr",
     "output_type": "stream",
     "text": [
      "\n",
      "2018-08-01 13:09:49,181|INFO|clustering clvs in parallel using 30 CPUs ...\n",
      "2018-08-01 13:09:49,727|INFO|concatenating clustered sub dataframes ...\n",
      "2018-08-01 13:09:50,056|INFO|grouping by ['seqname', 'strand']\n",
      "100%|██████████| 49/49 [00:00<00:00, 4321.48it/s]"
     ]
    },
    {
     "name": "stdout",
     "output_type": "stream",
     "text": [
      "0.75,"
     ]
    },
    {
     "name": "stderr",
     "output_type": "stream",
     "text": [
      "\n",
      "2018-08-01 13:09:50,343|INFO|clustering clvs in parallel using 30 CPUs ...\n",
      "2018-08-01 13:09:51,090|INFO|concatenating clustered sub dataframes ...\n",
      "2018-08-01 13:09:51,395|INFO|grouping by ['seqname', 'strand']\n",
      "100%|██████████| 49/49 [00:00<00:00, 3778.58it/s]"
     ]
    },
    {
     "name": "stdout",
     "output_type": "stream",
     "text": [
      "0.76,"
     ]
    },
    {
     "name": "stderr",
     "output_type": "stream",
     "text": [
      "\n",
      "2018-08-01 13:09:51,705|INFO|clustering clvs in parallel using 30 CPUs ...\n",
      "2018-08-01 13:09:52,263|INFO|concatenating clustered sub dataframes ...\n",
      "2018-08-01 13:09:52,682|INFO|grouping by ['seqname', 'strand']\n",
      "100%|██████████| 49/49 [00:00<00:00, 3780.11it/s]"
     ]
    },
    {
     "name": "stdout",
     "output_type": "stream",
     "text": [
      "0.77,"
     ]
    },
    {
     "name": "stderr",
     "output_type": "stream",
     "text": [
      "\n",
      "2018-08-01 13:09:52,980|INFO|clustering clvs in parallel using 30 CPUs ...\n",
      "2018-08-01 13:09:53,542|INFO|concatenating clustered sub dataframes ...\n",
      "2018-08-01 13:09:53,850|INFO|grouping by ['seqname', 'strand']\n",
      "100%|██████████| 49/49 [00:00<00:00, 3769.57it/s]"
     ]
    },
    {
     "name": "stdout",
     "output_type": "stream",
     "text": [
      "0.78,"
     ]
    },
    {
     "name": "stderr",
     "output_type": "stream",
     "text": [
      "\n",
      "2018-08-01 13:09:54,150|INFO|clustering clvs in parallel using 30 CPUs ...\n",
      "2018-08-01 13:09:54,698|INFO|concatenating clustered sub dataframes ...\n",
      "2018-08-01 13:09:55,043|INFO|grouping by ['seqname', 'strand']\n",
      "100%|██████████| 49/49 [00:00<00:00, 3778.86it/s]"
     ]
    },
    {
     "name": "stdout",
     "output_type": "stream",
     "text": [
      "0.79,"
     ]
    },
    {
     "name": "stderr",
     "output_type": "stream",
     "text": [
      "\n",
      "2018-08-01 13:09:55,362|INFO|clustering clvs in parallel using 30 CPUs ...\n",
      "2018-08-01 13:09:55,876|INFO|concatenating clustered sub dataframes ...\n",
      "2018-08-01 13:09:56,212|INFO|grouping by ['seqname', 'strand']\n",
      "100%|██████████| 49/49 [00:00<00:00, 3509.46it/s]"
     ]
    },
    {
     "name": "stdout",
     "output_type": "stream",
     "text": [
      "0.8,"
     ]
    },
    {
     "name": "stderr",
     "output_type": "stream",
     "text": [
      "\n",
      "2018-08-01 13:09:56,518|INFO|clustering clvs in parallel using 30 CPUs ...\n",
      "2018-08-01 13:09:57,079|INFO|concatenating clustered sub dataframes ...\n",
      "2018-08-01 13:09:57,426|INFO|grouping by ['seqname', 'strand']\n",
      "100%|██████████| 49/49 [00:00<00:00, 3516.72it/s]"
     ]
    },
    {
     "name": "stdout",
     "output_type": "stream",
     "text": [
      "0.81,"
     ]
    },
    {
     "name": "stderr",
     "output_type": "stream",
     "text": [
      "\n",
      "2018-08-01 13:09:57,826|INFO|clustering clvs in parallel using 30 CPUs ...\n",
      "2018-08-01 13:09:58,287|INFO|concatenating clustered sub dataframes ...\n",
      "2018-08-01 13:09:58,624|INFO|grouping by ['seqname', 'strand']\n",
      "100%|██████████| 49/49 [00:00<00:00, 3812.86it/s]"
     ]
    },
    {
     "name": "stdout",
     "output_type": "stream",
     "text": [
      "0.8200000000000001,"
     ]
    },
    {
     "name": "stderr",
     "output_type": "stream",
     "text": [
      "\n",
      "2018-08-01 13:09:58,930|INFO|clustering clvs in parallel using 30 CPUs ...\n",
      "2018-08-01 13:09:59,372|INFO|concatenating clustered sub dataframes ...\n",
      "2018-08-01 13:09:59,702|INFO|grouping by ['seqname', 'strand']\n",
      "100%|██████████| 49/49 [00:00<00:00, 3812.44it/s]"
     ]
    },
    {
     "name": "stdout",
     "output_type": "stream",
     "text": [
      "0.8300000000000001,"
     ]
    },
    {
     "name": "stderr",
     "output_type": "stream",
     "text": [
      "\n",
      "2018-08-01 13:10:00,002|INFO|clustering clvs in parallel using 30 CPUs ...\n",
      "2018-08-01 13:10:00,553|INFO|concatenating clustered sub dataframes ...\n",
      "2018-08-01 13:10:00,854|INFO|grouping by ['seqname', 'strand']\n",
      "100%|██████████| 49/49 [00:00<00:00, 3800.80it/s]"
     ]
    },
    {
     "name": "stdout",
     "output_type": "stream",
     "text": [
      "0.84,"
     ]
    },
    {
     "name": "stderr",
     "output_type": "stream",
     "text": [
      "\n",
      "2018-08-01 13:10:01,155|INFO|clustering clvs in parallel using 30 CPUs ...\n",
      "2018-08-01 13:10:01,596|INFO|concatenating clustered sub dataframes ...\n",
      "2018-08-01 13:10:01,900|INFO|grouping by ['seqname', 'strand']\n",
      "100%|██████████| 49/49 [00:00<00:00, 3515.04it/s]"
     ]
    },
    {
     "name": "stdout",
     "output_type": "stream",
     "text": [
      "0.85,"
     ]
    },
    {
     "name": "stderr",
     "output_type": "stream",
     "text": [
      "\n",
      "2018-08-01 13:10:02,285|INFO|clustering clvs in parallel using 30 CPUs ...\n",
      "2018-08-01 13:10:02,830|INFO|concatenating clustered sub dataframes ...\n",
      "2018-08-01 13:10:03,125|INFO|grouping by ['seqname', 'strand']\n",
      "100%|██████████| 49/49 [00:00<00:00, 3729.22it/s]"
     ]
    },
    {
     "name": "stdout",
     "output_type": "stream",
     "text": [
      "0.86,"
     ]
    },
    {
     "name": "stderr",
     "output_type": "stream",
     "text": [
      "\n",
      "2018-08-01 13:10:03,419|INFO|clustering clvs in parallel using 30 CPUs ...\n",
      "2018-08-01 13:10:03,985|INFO|concatenating clustered sub dataframes ...\n",
      "2018-08-01 13:10:04,316|INFO|grouping by ['seqname', 'strand']\n",
      "100%|██████████| 49/49 [00:00<00:00, 3752.92it/s]"
     ]
    },
    {
     "name": "stdout",
     "output_type": "stream",
     "text": [
      "0.87,"
     ]
    },
    {
     "name": "stderr",
     "output_type": "stream",
     "text": [
      "\n",
      "2018-08-01 13:10:04,631|INFO|clustering clvs in parallel using 30 CPUs ...\n",
      "2018-08-01 13:10:05,186|INFO|concatenating clustered sub dataframes ...\n",
      "2018-08-01 13:10:05,534|INFO|grouping by ['seqname', 'strand']\n",
      "100%|██████████| 49/49 [00:00<00:00, 3518.65it/s]"
     ]
    },
    {
     "name": "stdout",
     "output_type": "stream",
     "text": [
      "0.88,"
     ]
    },
    {
     "name": "stderr",
     "output_type": "stream",
     "text": [
      "\n",
      "2018-08-01 13:10:05,841|INFO|clustering clvs in parallel using 30 CPUs ...\n",
      "2018-08-01 13:10:06,338|INFO|concatenating clustered sub dataframes ...\n",
      "2018-08-01 13:10:06,636|INFO|grouping by ['seqname', 'strand']\n",
      "100%|██████████| 49/49 [00:00<00:00, 3808.20it/s]"
     ]
    },
    {
     "name": "stdout",
     "output_type": "stream",
     "text": [
      "0.89,"
     ]
    },
    {
     "name": "stderr",
     "output_type": "stream",
     "text": [
      "\n",
      "2018-08-01 13:10:07,021|INFO|clustering clvs in parallel using 30 CPUs ...\n",
      "2018-08-01 13:10:07,459|INFO|concatenating clustered sub dataframes ...\n",
      "2018-08-01 13:10:07,779|INFO|grouping by ['seqname', 'strand']\n",
      "100%|██████████| 49/49 [00:00<00:00, 3811.17it/s]"
     ]
    },
    {
     "name": "stdout",
     "output_type": "stream",
     "text": [
      "0.9,"
     ]
    },
    {
     "name": "stderr",
     "output_type": "stream",
     "text": [
      "\n",
      "2018-08-01 13:10:08,079|INFO|clustering clvs in parallel using 30 CPUs ...\n",
      "2018-08-01 13:10:08,534|INFO|concatenating clustered sub dataframes ...\n",
      "2018-08-01 13:10:08,816|INFO|grouping by ['seqname', 'strand']\n",
      "100%|██████████| 49/49 [00:00<00:00, 3896.28it/s]"
     ]
    },
    {
     "name": "stdout",
     "output_type": "stream",
     "text": [
      "0.91,"
     ]
    },
    {
     "name": "stderr",
     "output_type": "stream",
     "text": [
      "\n",
      "2018-08-01 13:10:09,127|INFO|clustering clvs in parallel using 30 CPUs ...\n",
      "2018-08-01 13:10:09,584|INFO|concatenating clustered sub dataframes ...\n",
      "2018-08-01 13:10:09,884|INFO|grouping by ['seqname', 'strand']\n",
      "100%|██████████| 49/49 [00:00<00:00, 3640.24it/s]"
     ]
    },
    {
     "name": "stdout",
     "output_type": "stream",
     "text": [
      "0.92,"
     ]
    },
    {
     "name": "stderr",
     "output_type": "stream",
     "text": [
      "\n",
      "2018-08-01 13:10:10,190|INFO|clustering clvs in parallel using 30 CPUs ...\n",
      "2018-08-01 13:10:10,644|INFO|concatenating clustered sub dataframes ...\n",
      "2018-08-01 13:10:10,936|INFO|grouping by ['seqname', 'strand']\n",
      "100%|██████████| 49/49 [00:00<00:00, 3999.16it/s]"
     ]
    },
    {
     "name": "stdout",
     "output_type": "stream",
     "text": [
      "0.93,"
     ]
    },
    {
     "name": "stderr",
     "output_type": "stream",
     "text": [
      "\n",
      "2018-08-01 13:10:11,222|INFO|clustering clvs in parallel using 30 CPUs ...\n",
      "2018-08-01 13:10:11,573|INFO|concatenating clustered sub dataframes ...\n",
      "2018-08-01 13:10:11,820|INFO|grouping by ['seqname', 'strand']\n",
      "100%|██████████| 49/49 [00:00<00:00, 4188.41it/s]"
     ]
    },
    {
     "name": "stdout",
     "output_type": "stream",
     "text": [
      "0.9400000000000001,"
     ]
    },
    {
     "name": "stderr",
     "output_type": "stream",
     "text": [
      "\n",
      "2018-08-01 13:10:12,107|INFO|clustering clvs in parallel using 30 CPUs ...\n",
      "2018-08-01 13:10:12,453|INFO|concatenating clustered sub dataframes ...\n",
      "2018-08-01 13:10:12,745|INFO|grouping by ['seqname', 'strand']\n",
      "100%|██████████| 49/49 [00:00<00:00, 3850.58it/s]"
     ]
    },
    {
     "name": "stdout",
     "output_type": "stream",
     "text": [
      "0.9500000000000001,"
     ]
    },
    {
     "name": "stderr",
     "output_type": "stream",
     "text": [
      "\n",
      "2018-08-01 13:10:13,044|INFO|clustering clvs in parallel using 30 CPUs ...\n",
      "2018-08-01 13:10:13,488|INFO|concatenating clustered sub dataframes ...\n",
      "2018-08-01 13:10:13,758|INFO|grouping by ['seqname', 'strand']\n",
      "100%|██████████| 49/49 [00:00<00:00, 3890.30it/s]"
     ]
    },
    {
     "name": "stdout",
     "output_type": "stream",
     "text": [
      "0.96,"
     ]
    },
    {
     "name": "stderr",
     "output_type": "stream",
     "text": [
      "\n",
      "2018-08-01 13:10:14,067|INFO|clustering clvs in parallel using 30 CPUs ...\n",
      "2018-08-01 13:10:14,526|INFO|concatenating clustered sub dataframes ...\n",
      "2018-08-01 13:10:14,836|INFO|grouping by ['seqname', 'strand']\n",
      "100%|██████████| 48/48 [00:00<00:00, 3986.27it/s]"
     ]
    },
    {
     "name": "stdout",
     "output_type": "stream",
     "text": [
      "0.97,"
     ]
    },
    {
     "name": "stderr",
     "output_type": "stream",
     "text": [
      "\n",
      "2018-08-01 13:10:15,142|INFO|clustering clvs in parallel using 30 CPUs ...\n",
      "2018-08-01 13:10:15,485|INFO|concatenating clustered sub dataframes ...\n",
      "2018-08-01 13:10:15,735|INFO|grouping by ['seqname', 'strand']\n",
      "100%|██████████| 48/48 [00:00<00:00, 3703.99it/s]"
     ]
    },
    {
     "name": "stdout",
     "output_type": "stream",
     "text": [
      "0.98,"
     ]
    },
    {
     "name": "stderr",
     "output_type": "stream",
     "text": [
      "\n",
      "2018-08-01 13:10:16,045|INFO|clustering clvs in parallel using 30 CPUs ...\n",
      "2018-08-01 13:10:16,326|INFO|concatenating clustered sub dataframes ...\n"
     ]
    },
    {
     "name": "stdout",
     "output_type": "stream",
     "text": [
      "0.99,1.0,CPU times: user 8min 22s, sys: 2min 15s, total: 10min 37s\n",
      "Wall time: 42min 21s\n"
     ]
    }
   ],
   "source": [
    "%%time\n",
    "dfs = []\n",
    "thresholds = np.arange(0, 1.01, 0.01)\n",
    "map_cutoff = 50\n",
    "for sample_id in [\n",
    "    'HBRC4',\n",
    "    'HBRC6',\n",
    "    'UHRC1',\n",
    "    'UHRC2'\n",
    "]:\n",
    "    adf = pd.read_pickle(f'../benchmark_transcriptome/{sample_id}.ml_ready.pkl')\n",
    "    assert adf[['seqname', 'strand', 'clv']].drop_duplicates().shape[0] == adf.shape[0]\n",
    "\n",
    "    df_ref = load_polya_seq_df(sample_id)\n",
    "\n",
    "    for tmax_depth, clf in clfs_dd.items():\n",
    "        adf['pred_prob'] = clf.predict_proba(adf[KARBOR_FEATURE_COLS])[:,1]\n",
    "        bdf = adf[['seqname', 'strand', 'clv', 'pred_prob']].copy()\n",
    "\n",
    "        df_res = calc_precision_recall_curve(\n",
    "            bdf, df_ref, map_cutoff=50, cluster_cutoff=20, thresholds=thresholds, num_cpus=30)\n",
    "        df_res['tree_max_depth'] = tmax_depth\n",
    "        df_res['sample_id'] = sample_id\n",
    "        dfs.append(df_res)"
   ]
  },
  {
   "cell_type": "code",
   "execution_count": 7,
   "metadata": {},
   "outputs": [],
   "source": [
    "ndf = pd.concat(dfs)"
   ]
  },
  {
   "cell_type": "code",
   "execution_count": 8,
   "metadata": {},
   "outputs": [
    {
     "data": {
      "text/plain": [
       "(101, 6)"
      ]
     },
     "execution_count": 8,
     "metadata": {},
     "output_type": "execute_result"
    }
   ],
   "source": [
    "ndf.shape"
   ]
  },
  {
   "cell_type": "code",
   "execution_count": 10,
   "metadata": {},
   "outputs": [
    {
     "data": {
      "text/plain": [
       "UHRC1    101\n",
       "Name: sample_id, dtype: int64"
      ]
     },
     "execution_count": 10,
     "metadata": {},
     "output_type": "execute_result"
    }
   ],
   "source": [
    "ndf.sample_id.value_counts()"
   ]
  },
  {
   "cell_type": "code",
   "execution_count": 9,
   "metadata": {},
   "outputs": [],
   "source": [
    "ndf.to_csv('../benchmark_transcriptome/tcga-run-4/benchmark-gradboost.pr_curve.granular.csv', index=False)"
   ]
  }
 ],
 "metadata": {
  "anaconda-cloud": {},
  "kernelspec": {
   "display_name": "Python 3",
   "language": "python",
   "name": "python3"
  },
  "language_info": {
   "codemirror_mode": {
    "name": "ipython",
    "version": 3
   },
   "file_extension": ".py",
   "mimetype": "text/x-python",
   "name": "python",
   "nbconvert_exporter": "python",
   "pygments_lexer": "ipython3",
   "version": "3.6.4"
  }
 },
 "nbformat": 4,
 "nbformat_minor": 2
}
