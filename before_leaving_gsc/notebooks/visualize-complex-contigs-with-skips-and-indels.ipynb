{
 "cells": [
  {
   "cell_type": "code",
   "execution_count": 1,
   "metadata": {},
   "outputs": [
    {
     "name": "stdout",
     "output_type": "stream",
     "text": [
      "seaborn not found\n"
     ]
    }
   ],
   "source": [
    "from eda_imports import *"
   ]
  },
  {
   "cell_type": "code",
   "execution_count": 2,
   "metadata": {},
   "outputs": [],
   "source": [
    "import kleat.misc.settings as S\n",
    "import kleat.misc.utils as U"
   ]
  },
  {
   "cell_type": "code",
   "execution_count": 3,
   "metadata": {},
   "outputs": [],
   "source": [
    "import pysam\n",
    "import matplotlib.patches as patches\n",
    "from matplotlib.collections import PatchCollection"
   ]
  },
  {
   "cell_type": "code",
   "execution_count": 4,
   "metadata": {},
   "outputs": [],
   "source": [
    "DATA_DIR='/projects/btl/zxue/tasrkleat-TCGA-results/tasrkleat-TCGA-analysis-scripts/benchmark-kleat.bk/UHR/C1/tasrkleat-results'\n",
    "c2g_bam = pysam.AlignmentFile(os.path.join(DATA_DIR, 'align_contigs2genome/cba.sorted.bam'))\n",
    "r2c_bam = pysam.AlignmentFile(os.path.join(DATA_DIR, 'align_reads2contigs/cba.sorted.bam'))"
   ]
  },
  {
   "cell_type": "code",
   "execution_count": 6,
   "metadata": {},
   "outputs": [],
   "source": [
    "seqname = 'chr12'\n",
    "contig_name = 'A1.J26218'"
   ]
  },
  {
   "cell_type": "code",
   "execution_count": 7,
   "metadata": {},
   "outputs": [],
   "source": [
    "# for contig in c2g_bam.fetch(contig=seqname):\n",
    "for contig in c2g_bam:\n",
    "    if contig.query_name == contig_name:\n",
    "#         if contig.reference_name == 'chr1':\n",
    "#             print(contig.cigarstring)\n",
    "#             break\n",
    "#         if contig.reference_name == 'chr12':\n",
    "#             print(contig.cigarstring)\n",
    "        break"
   ]
  },
  {
   "cell_type": "code",
   "execution_count": 8,
   "metadata": {},
   "outputs": [],
   "source": [
    "reads = r2c_bam.fetch(contig.query_name)"
   ]
  },
  {
   "cell_type": "code",
   "execution_count": 9,
   "metadata": {},
   "outputs": [],
   "source": [
    "cigar_events_color_dd = {\n",
    "    S.BAM_CMATCH: 'green',      # 0\n",
    "    S.BAM_CSOFT_CLIP: 'red',    # 4\n",
    "    S.BAM_CHARD_CLIP: 'orange', # 5\n",
    "    S.BAM_CDEL: 'blue',         # 2\n",
    "    S.BAM_CINS: 'cyan',         # 1\n",
    "    S.BAM_CREF_SKIP: 'black',   # 3\n",
    "}\n",
    "\n",
    "cigar_events_height_dd = {\n",
    "    S.BAM_CMATCH: 0.02,       # 0\n",
    "    S.BAM_CSOFT_CLIP: 0.04,   # 4\n",
    "    S.BAM_CHARD_CLIP: 0.04,   # 5\n",
    "    S.BAM_CDEL: 0.08,         # 2\n",
    "    S.BAM_CINS: 0.08,         # 1\n",
    "#     S.BAM_CREF_SKIP: 'black',\n",
    "}"
   ]
  },
  {
   "cell_type": "code",
   "execution_count": 15,
   "metadata": {},
   "outputs": [
    {
     "data": {
      "text/plain": [
       "(0, 0.4)"
      ]
     },
     "execution_count": 15,
     "metadata": {},
     "output_type": "execute_result"
    },
    {
     "data": {
      "image/png": "[encoded data removed]",
      "text/plain": [
       "<Figure size 1296x216 with 1 Axes>"
      ]
     },
     "metadata": {},
     "output_type": "display_data"
    }
   ],
   "source": [
    "fig = plt.figure(figsize=(18, 3))\n",
    "ax = fig.add_subplot(111)\n",
    "\n",
    "cx = 0   # current x  \n",
    "cy = 0.2 # current y, the center of a patch, not the bottom\n",
    "contig_height = read_height = 0.05\n",
    "# hdelta = 0\n",
    "# vdelta = 0.01\n",
    "\n",
    "# plot the contig aligned to the genome\n",
    "total_span = contig.reference_end - contig.reference_start\n",
    "for k, (key, raw_span) in enumerate(contig.cigartuples):\n",
    "#     print((key, raw_span))\n",
    "    if key == S.BAM_CREF_SKIP:\n",
    "        span = total_span * 0.008   # arbitraily set to one tens\n",
    "    else:\n",
    "        span = raw_span\n",
    "\n",
    "    if key in [S.BAM_CMATCH, S.BAM_CSOFT_CLIP, S.BAM_CHARD_CLIP]:\n",
    "        width = span\n",
    "        height = cigar_events_height_dd[key]\n",
    "        x = cx\n",
    "        y = cy - height * 0.5\n",
    "        fc = cigar_events_color_dd[key]\n",
    "        patch = patches.Rectangle((x, y), width, height, facecolor=fc, edgecolor='none')\n",
    "        ax.add_patch(patch)\n",
    "        \n",
    "        pat_x = x + patch.get_width() / 2.0\n",
    "        pat_y = y + patch.get_height()/2.0\n",
    "        \n",
    "        if key == S.BAM_CHARD_CLIP:\n",
    "            txt = 'HC'\n",
    "        elif key == S.BAM_CSOFT_CLIP:\n",
    "            txt = 'SC'\n",
    "        elif key == S.BAM_CMATCH:\n",
    "            txt = ''\n",
    "        else:\n",
    "            raise\n",
    "        ax.annotate(txt, (pat_x, pat_y), color='w', weight='bold', fontsize=10, ha='center', va='center')\n",
    "        cx += span\n",
    "    elif key in [S.BAM_CREF_SKIP, S.BAM_CDEL]:\n",
    "        xs = [cx, cx + span]\n",
    "        ys = [cy, cy]\n",
    "        color = cigar_events_color_dd[key]\n",
    "        ax.plot(xs, ys, ':', color=color)\n",
    "        \n",
    "        if key == S.BAM_CREF_SKIP:\n",
    "            txt = f'skip-{raw_span}bp'\n",
    "        elif key == S.BAM_CDEL:\n",
    "            txt = f'del-{raw_span}bp'\n",
    "        ax.text(cx + span * 0.5, cy - 0.01, txt, va='top', ha='center', rotation=90)\n",
    "        cx += span\n",
    "    elif key in [S.BAM_CINS]:\n",
    "        pat = patches.Polygon([[cx, cy], [cx-span/2, cy + 0.1], [cx + span/2, cy + 0.1]],\n",
    "                                facecolor='black', edgecolor='grey')\n",
    "        print(pat)\n",
    "        ax.add_patch(pat)\n",
    "        ax.text(cx + span * 0.5, cy + 0.03, f'In-{span}bp', va='bottom', ha='center', rotation=45)\n",
    "    else:\n",
    "        raise ValueError(f'TODO implement handle {key}')\n",
    "\n",
    "# plot the reads aligned\n",
    "for read in r2c_bam.fetch(contig=contig.query_name):\n",
    "    break\n",
    "\n",
    "\n",
    "strand = '<==' if contig.is_reverse else '==>'\n",
    "ax.set_title(f'contig {contig.query_name}, {strand}')\n",
    "ax.grid(lw=0.5)\n",
    "\n",
    "ax.set_xlim(0 - 20, cx + 20)\n",
    "ax.set_ylim(0, 0.4)"
   ]
  },
  {
   "cell_type": "code",
   "execution_count": null,
   "metadata": {},
   "outputs": [],
   "source": []
  },
  {
   "cell_type": "code",
   "execution_count": 138,
   "metadata": {},
   "outputs": [
    {
     "name": "stdout",
     "output_type": "stream",
     "text": [
      "Poly((1465.52, 0.2) ...)\n"
     ]
    },
    {
     "data": {
      "text/plain": [
       "(0, 0.4)"
      ]
     },
     "execution_count": 138,
     "metadata": {},
     "output_type": "execute_result"
    },
    {
     "data": {
      "image/png": "[encoded data removed]",
      "text/plain": [
       "<Figure size 1296x216 with 1 Axes>"
      ]
     },
     "metadata": {},
     "output_type": "display_data"
    }
   ],
   "source": [
    "fig = plt.figure(figsize=(18, 3))\n",
    "ax = fig.add_subplot(111)\n",
    "\n",
    "cx = 0   # current x  \n",
    "cy = 0.2 # current y, the center of a patch, not the bottom\n",
    "contig_height = read_height = 0.05\n",
    "# hdelta = 0\n",
    "# vdelta = 0.01\n",
    "\n",
    "# plot the contig aligned to the genome\n",
    "total_span = contig.reference_end - contig.reference_start\n",
    "for k, (key, raw_span) in enumerate(contig.cigartuples):\n",
    "#     print((key, raw_span))\n",
    "    if key == S.BAM_CREF_SKIP:\n",
    "        span = total_span * 0.008   # arbitraily set to one tens\n",
    "    else:\n",
    "        span = raw_span\n",
    "\n",
    "    if key in [S.BAM_CMATCH, S.BAM_CSOFT_CLIP, S.BAM_CHARD_CLIP]:\n",
    "        width = span\n",
    "        height = cigar_events_height_dd[key]\n",
    "        x = cx\n",
    "        y = cy - height * 0.5\n",
    "        fc = cigar_events_color_dd[key]\n",
    "        patch = patches.Rectangle((x, y), width, height, facecolor=fc, edgecolor='none')\n",
    "        ax.add_patch(patch)\n",
    "        \n",
    "        pat_x = x + patch.get_width() / 2.0\n",
    "        pat_y = y + patch.get_height()/2.0\n",
    "        \n",
    "        if key == S.BAM_CHARD_CLIP:\n",
    "            txt = 'HC'\n",
    "        elif key == S.BAM_CSOFT_CLIP:\n",
    "            txt = 'SC'\n",
    "        elif key == S.BAM_CMATCH:\n",
    "            txt = 'M'\n",
    "        else:\n",
    "            raise\n",
    "        ax.annotate(txt, (pat_x, pat_y), color='w', weight='bold', fontsize=10, ha='center', va='center')\n",
    "        cx += span\n",
    "    elif key in [S.BAM_CREF_SKIP, S.BAM_CDEL]:\n",
    "        xs = [cx, cx + span]\n",
    "        ys = [cy, cy]\n",
    "        color = cigar_events_color_dd[key]\n",
    "        ax.plot(xs, ys, ':', color=color)\n",
    "        \n",
    "        if key == S.BAM_CREF_SKIP:\n",
    "            txt = f'skip-{raw_span}bp'\n",
    "        elif key == S.BAM_CDEL:\n",
    "            txt = f'del-{raw_span}bp'\n",
    "        ax.text(cx + span * 0.5, cy - 0.01, txt, va='top', ha='center', rotation=90)\n",
    "        cx += span\n",
    "    elif key in [S.BAM_CINS]:\n",
    "        pat = patches.Polygon([[cx, cy], [cx-span/2, cy + 0.1], [cx + span/2, cy + 0.1]],\n",
    "                                facecolor='black', edgecolor='grey')\n",
    "        print(pat)\n",
    "        ax.add_patch(pat)\n",
    "        ax.text(cx + span * 0.5, cy + 0.03, f'In-{span}bp', va='bottom', ha='center', rotation=45)\n",
    "    else:\n",
    "        raise ValueError(f'TODO implement handle {key}')\n",
    "\n",
    "# plot the reads aligned\n",
    "for read in r2c_bam.fetch(contig=contig.query_name):\n",
    "    break\n",
    "\n",
    "\n",
    "strand = '<==' if contig.is_reverse else '==>'\n",
    "ax.set_title(f'contig is reversed when aligned to genome: {strand}')\n",
    "\n",
    "ax.set_xlim(0 - 20, cx + 20)\n",
    "ax.set_ylim(0, 0.4)"
   ]
  },
  {
   "cell_type": "code",
   "execution_count": null,
   "metadata": {},
   "outputs": [],
   "source": []
  },
  {
   "cell_type": "code",
   "execution_count": null,
   "metadata": {},
   "outputs": [],
   "source": []
  },
  {
   "cell_type": "code",
   "execution_count": null,
   "metadata": {},
   "outputs": [],
   "source": []
  },
  {
   "cell_type": "code",
   "execution_count": null,
   "metadata": {},
   "outputs": [],
   "source": []
  },
  {
   "cell_type": "code",
   "execution_count": null,
   "metadata": {},
   "outputs": [],
   "source": []
  },
  {
   "cell_type": "code",
   "execution_count": null,
   "metadata": {},
   "outputs": [],
   "source": []
  },
  {
   "cell_type": "code",
   "execution_count": null,
   "metadata": {},
   "outputs": [],
   "source": []
  },
  {
   "cell_type": "markdown",
   "metadata": {},
   "source": [
    "# Reversed contig"
   ]
  },
  {
   "cell_type": "code",
   "execution_count": 6,
   "metadata": {},
   "outputs": [],
   "source": [
    "seqname = 'chr17'\n",
    "contig_name = 'A0.S101753'"
   ]
  },
  {
   "cell_type": "code",
   "execution_count": 7,
   "metadata": {},
   "outputs": [],
   "source": [
    "for contig in c2g_bam.fetch(contig=seqname):\n",
    "    if contig.query_name == contig_name:\n",
    "        break"
   ]
  },
  {
   "cell_type": "code",
   "execution_count": 8,
   "metadata": {},
   "outputs": [],
   "source": [
    "reads = r2c_bam.fetch(contig.query_name)"
   ]
  },
  {
   "cell_type": "code",
   "execution_count": 9,
   "metadata": {},
   "outputs": [
    {
     "data": {
      "text/plain": [
       "'470M3563N25M2S'"
      ]
     },
     "execution_count": 9,
     "metadata": {},
     "output_type": "execute_result"
    }
   ],
   "source": [
    "contig.cigarstring"
   ]
  },
  {
   "cell_type": "code",
   "execution_count": 10,
   "metadata": {},
   "outputs": [
    {
     "data": {
      "text/plain": [
       "[(0, 470), (3, 3563), (0, 25), (4, 2)]"
      ]
     },
     "execution_count": 10,
     "metadata": {},
     "output_type": "execute_result"
    }
   ],
   "source": [
    "contig.cigartuples"
   ]
  },
  {
   "cell_type": "code",
   "execution_count": 11,
   "metadata": {},
   "outputs": [
    {
     "data": {
      "text/plain": [
       "3"
      ]
     },
     "execution_count": 11,
     "metadata": {},
     "output_type": "execute_result"
    }
   ],
   "source": [
    "S.BAM_CREF_SKIP"
   ]
  },
  {
   "cell_type": "code",
   "execution_count": 12,
   "metadata": {},
   "outputs": [],
   "source": [
    "cigar_events_color_dd = {\n",
    "    S.BAM_CMATCH: 'green',      # 0\n",
    "    S.BAM_CSOFT_CLIP: 'red',    # 4\n",
    "    S.BAM_CHARD_CLIP: 'orange', # 5\n",
    "    S.BAM_CDEL: 'blue',         # 2\n",
    "    S.BAM_CINS: 'cyan',         # 1\n",
    "    S.BAM_CREF_SKIP: 'black',   # 3\n",
    "}\n",
    "\n",
    "cigar_events_height_dd = {\n",
    "    S.BAM_CMATCH: 0.02,       # 0\n",
    "    S.BAM_CSOFT_CLIP: 0.04,   # 4\n",
    "    S.BAM_CHARD_CLIP: 0.04,   # 5\n",
    "    S.BAM_CDEL: 0.08,         # 2\n",
    "    S.BAM_CINS: 0.08,         # 1\n",
    "#     S.BAM_CREF_SKIP: 'black',\n",
    "}"
   ]
  },
  {
   "cell_type": "markdown",
   "metadata": {},
   "source": [
    "make skip length constant"
   ]
  },
  {
   "cell_type": "code",
   "execution_count": 13,
   "metadata": {},
   "outputs": [
    {
     "data": {
      "text/plain": [
       "True"
      ]
     },
     "execution_count": 13,
     "metadata": {},
     "output_type": "execute_result"
    }
   ],
   "source": [
    "contig.is_reverse"
   ]
  },
  {
   "cell_type": "code",
   "execution_count": 18,
   "metadata": {},
   "outputs": [
    {
     "name": "stdout",
     "output_type": "stream",
     "text": [
      "(0, 2)\n",
      "(3, 470)\n",
      "(0, 20.29)\n",
      "(4, 25)\n"
     ]
    },
    {
     "data": {
      "text/plain": [
       "(0, 0.4)"
      ]
     },
     "execution_count": 18,
     "metadata": {},
     "output_type": "execute_result"
    },
    {
     "data": {
      "image/png": "[encoded data removed]",
      "text/plain": [
       "<Figure size 1296x216 with 1 Axes>"
      ]
     },
     "metadata": {},
     "output_type": "display_data"
    }
   ],
   "source": [
    "fig = plt.figure(figsize=(18, 3))\n",
    "ax = fig.add_subplot(111)\n",
    "\n",
    "cx = 0   # current x  \n",
    "cy = 0.2 # current y, the center of a patch, not the bottom\n",
    "contig_height = read_height = 0.05\n",
    "# hdelta = 0\n",
    "# vdelta = 0.01\n",
    "\n",
    "# plot the contig aligned to the genome\n",
    "total_span = contig.reference_end - contig.reference_start\n",
    "for k, (key, raw_span) in enumerate(contig.cigartuples):\n",
    "    print((key, span))\n",
    "    if key == S.BAM_CREF_SKIP:\n",
    "        span = total_span * 0.005   # arbitraily set to one tens\n",
    "    else:\n",
    "        span = raw_span\n",
    "\n",
    "    if key in [S.BAM_CMATCH, S.BAM_CSOFT_CLIP]:\n",
    "        width = span\n",
    "        height = cigar_events_height_dd[key]\n",
    "        x = cx\n",
    "        y = cy - height * 0.5\n",
    "        fc = cigar_events_color_dd[key]\n",
    "        patch = patches.Rectangle((x, y), width, height, facecolor=fc, edgecolor='none')\n",
    "        ax.add_patch(patch)\n",
    "    elif key in [S.BAM_CREF_SKIP]:     \n",
    "        xs = [cx, cx + span]\n",
    "        ys = [cy, cy]\n",
    "        color = cigar_events_color_dd[key]\n",
    "        ax.plot(xs, ys, ':', color=color)\n",
    "        ax.text(cx + span * 0.5, cy, f'{raw_span}bp', va='top', ha='center', rotation=90)\n",
    "    else:\n",
    "        raise ValueError(f'TODO implement handle {key}')\n",
    "    cx += span\n",
    "\n",
    "# plot the reads aligned\n",
    "for read in r2c_bam.fetch(contig=contig.query_name):\n",
    "    break\n",
    "\n",
    "ax.set_title(f'contig is reversed when aligned to genome: {contig.is_reverse}')\n",
    "\n",
    "ax.set_xlim(0 - 20, cx + 20)\n",
    "ax.set_ylim(0, 0.4)"
   ]
  },
  {
   "cell_type": "code",
   "execution_count": null,
   "metadata": {},
   "outputs": [],
   "source": []
  },
  {
   "cell_type": "code",
   "execution_count": null,
   "metadata": {},
   "outputs": [],
   "source": []
  },
  {
   "cell_type": "code",
   "execution_count": null,
   "metadata": {},
   "outputs": [],
   "source": []
  },
  {
   "cell_type": "code",
   "execution_count": null,
   "metadata": {},
   "outputs": [],
   "source": []
  },
  {
   "cell_type": "code",
   "execution_count": null,
   "metadata": {},
   "outputs": [],
   "source": []
  },
  {
   "cell_type": "code",
   "execution_count": null,
   "metadata": {},
   "outputs": [],
   "source": []
  },
  {
   "cell_type": "code",
   "execution_count": null,
   "metadata": {},
   "outputs": [],
   "source": []
  },
  {
   "cell_type": "code",
   "execution_count": null,
   "metadata": {},
   "outputs": [],
   "source": []
  },
  {
   "cell_type": "code",
   "execution_count": null,
   "metadata": {},
   "outputs": [],
   "source": []
  },
  {
   "cell_type": "code",
   "execution_count": null,
   "metadata": {},
   "outputs": [],
   "source": []
  }
 ],
 "metadata": {
  "kernelspec": {
   "display_name": "Python 3",
   "language": "python",
   "name": "python3"
  },
  "language_info": {
   "codemirror_mode": {
    "name": "ipython",
    "version": 3
   },
   "file_extension": ".py",
   "mimetype": "text/x-python",
   "name": "python",
   "nbconvert_exporter": "python",
   "pygments_lexer": "ipython3",
   "version": "3.6.4"
  }
 },
 "nbformat": 4,
 "nbformat_minor": 2
}
