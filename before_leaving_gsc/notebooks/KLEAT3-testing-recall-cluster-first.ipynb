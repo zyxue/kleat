{
 "cells": [
  {
   "cell_type": "code",
   "execution_count": 7,
   "metadata": {},
   "outputs": [],
   "source": [
    "from eda_imports import *\n",
    "\n",
    "import pysam\n",
    "\n",
    "import kleat.misc.settings as S\n",
    "import kleat.misc.utils as U"
   ]
  },
  {
   "cell_type": "code",
   "execution_count": 2,
   "metadata": {},
   "outputs": [],
   "source": [
    "adf = pd.read_pickle('../benchmark_transcriptome/cluster-first/HBRC6.pkl')"
   ]
  },
  {
   "cell_type": "code",
   "execution_count": 4,
   "metadata": {},
   "outputs": [
    {
     "data": {
      "text/plain": [
       "(2214056, 30)"
      ]
     },
     "execution_count": 4,
     "metadata": {},
     "output_type": "execute_result"
    }
   ],
   "source": [
    "adf.shape"
   ]
  },
  {
   "cell_type": "code",
   "execution_count": 3,
   "metadata": {},
   "outputs": [],
   "source": [
    "lele_df = pd.read_pickle('../benchmark_transcriptome/tcga-run-3/HBRC6.pkl')"
   ]
  },
  {
   "cell_type": "code",
   "execution_count": 5,
   "metadata": {},
   "outputs": [
    {
     "data": {
      "text/plain": [
       "(2300727, 30)"
      ]
     },
     "execution_count": 5,
     "metadata": {},
     "output_type": "execute_result"
    }
   ],
   "source": [
    "lele_df.shape"
   ]
  },
  {
   "cell_type": "code",
   "execution_count": 12,
   "metadata": {},
   "outputs": [
    {
     "data": {
      "text/plain": [
       "(-10, 300)"
      ]
     },
     "execution_count": 12,
     "metadata": {},
     "output_type": "execute_result"
    },
    {
     "data": {
      "image/png": "[encoded data removed]",
      "text/plain": [
       "<Figure size 432x288 with 1 Axes>"
      ]
     },
     "metadata": {},
     "output_type": "display_data"
    }
   ],
   "source": [
    "ax = plt.axes()\n",
    "\n",
    "bins = np.linspace(0, 300, 50)\n",
    "adf.num_total_contigs.plot.hist(bins=bins, histtype='step', ax=ax, label='cluster-first')\n",
    "lele_df.num_total_contigs.plot.hist(bins=bins, histtype='step', ax=ax, label='not-cluster-first')\n",
    "ax.set_yscale('log')\n",
    "ax.legend()\n",
    "ax.set_xlim(-10, 300)"
   ]
  },
  {
   "cell_type": "code",
   "execution_count": 9,
   "metadata": {},
   "outputs": [
    {
     "data": {
      "text/plain": [
       "count    805569.000000\n",
       "mean     1.145263     \n",
       "std      3.646358     \n",
       "min      1.000000     \n",
       "25%      1.000000     \n",
       "50%      1.000000     \n",
       "75%      1.000000     \n",
       "max      1594.000000  \n",
       "Name: num_total_contigs, dtype: float64"
      ]
     },
     "execution_count": 9,
     "metadata": {},
     "output_type": "execute_result"
    }
   ],
   "source": [
    "adf.num_total_contigs.astype(int).describe()"
   ]
  },
  {
   "cell_type": "code",
   "execution_count": 10,
   "metadata": {},
   "outputs": [
    {
     "data": {
      "text/plain": [
       "count    870121.000000\n",
       "mean     1.060299     \n",
       "std      0.522455     \n",
       "min      1.000000     \n",
       "25%      1.000000     \n",
       "50%      1.000000     \n",
       "75%      1.000000     \n",
       "max      74.000000    \n",
       "Name: num_total_contigs, dtype: float64"
      ]
     },
     "execution_count": 10,
     "metadata": {},
     "output_type": "execute_result"
    }
   ],
   "source": [
    "lele_df.num_total_contigs.astype(int).describe()"
   ]
  },
  {
   "cell_type": "code",
   "execution_count": 6,
   "metadata": {},
   "outputs": [
    {
     "data": {
      "text/html": [
       "<div>\n",
       "<style scoped>\n",
       "    .dataframe tbody tr th:only-of-type {\n",
       "        vertical-align: middle;\n",
       "    }\n",
       "\n",
       "    .dataframe tbody tr th {\n",
       "        vertical-align: top;\n",
       "    }\n",
       "\n",
       "    .dataframe thead th {\n",
       "        text-align: right;\n",
       "    }\n",
       "</style>\n",
       "<table border=\"1\" class=\"dataframe\">\n",
       "  <thead>\n",
       "    <tr style=\"text-align: right;\">\n",
       "      <th></th>\n",
       "      <th>seqname</th>\n",
       "      <th>strand</th>\n",
       "      <th>clv</th>\n",
       "      <th>aclv</th>\n",
       "      <th>gene_name</th>\n",
       "      <th>gene_id</th>\n",
       "      <th>signed_dist_to_aclv</th>\n",
       "      <th>evidence_type</th>\n",
       "      <th>contig_ids_at_pos</th>\n",
       "      <th>max_contig_len</th>\n",
       "      <th>max_contig_mapq</th>\n",
       "      <th>any_contig_is_hardclipped</th>\n",
       "      <th>num_suffix_contigs</th>\n",
       "      <th>num_bridge_contigs</th>\n",
       "      <th>num_link_contigs</th>\n",
       "      <th>num_blank_contigs</th>\n",
       "      <th>num_total_contigs</th>\n",
       "      <th>num_suffix_reads</th>\n",
       "      <th>max_suffix_contig_tail_len</th>\n",
       "      <th>num_bridge_reads</th>\n",
       "      <th>max_bridge_read_tail_len</th>\n",
       "      <th>num_link_reads</th>\n",
       "      <th>ctg_hex</th>\n",
       "      <th>ctg_hex_id</th>\n",
       "      <th>ctg_hex_pos</th>\n",
       "      <th>ctg_hex_dist</th>\n",
       "      <th>ref_hex</th>\n",
       "      <th>ref_hex_id</th>\n",
       "      <th>ref_hex_pos</th>\n",
       "      <th>ref_hex_dist</th>\n",
       "    </tr>\n",
       "  </thead>\n",
       "  <tbody>\n",
       "    <tr>\n",
       "      <th>0</th>\n",
       "      <td>chr1</td>\n",
       "      <td>+</td>\n",
       "      <td>12199</td>\n",
       "      <td>13671</td>\n",
       "      <td>DDX11L1</td>\n",
       "      <td>ENSG00000223972</td>\n",
       "      <td>-1472</td>\n",
       "      <td>blank</td>\n",
       "      <td>E0.U.254180@78</td>\n",
       "      <td>79</td>\n",
       "      <td>1</td>\n",
       "      <td>False</td>\n",
       "      <td>0</td>\n",
       "      <td>0</td>\n",
       "      <td>0</td>\n",
       "      <td>1</td>\n",
       "      <td>1</td>\n",
       "      <td>0</td>\n",
       "      <td>0</td>\n",
       "      <td>0</td>\n",
       "      <td>0</td>\n",
       "      <td>0</td>\n",
       "      <td>NA</td>\n",
       "      <td>-1</td>\n",
       "      <td>-1</td>\n",
       "      <td>-1</td>\n",
       "      <td>NA</td>\n",
       "      <td>-1</td>\n",
       "      <td>-1</td>\n",
       "      <td>-1</td>\n",
       "    </tr>\n",
       "    <tr>\n",
       "      <th>1</th>\n",
       "      <td>chr1</td>\n",
       "      <td>+</td>\n",
       "      <td>14748</td>\n",
       "      <td>14413</td>\n",
       "      <td>DDX11L1</td>\n",
       "      <td>ENSG00000223972</td>\n",
       "      <td>335</td>\n",
       "      <td>blank</td>\n",
       "      <td>E0.U.314563@74</td>\n",
       "      <td>40</td>\n",
       "      <td>0</td>\n",
       "      <td>True</td>\n",
       "      <td>0</td>\n",
       "      <td>0</td>\n",
       "      <td>0</td>\n",
       "      <td>1</td>\n",
       "      <td>1</td>\n",
       "      <td>0</td>\n",
       "      <td>0</td>\n",
       "      <td>0</td>\n",
       "      <td>0</td>\n",
       "      <td>0</td>\n",
       "      <td>NA</td>\n",
       "      <td>-1</td>\n",
       "      <td>-1</td>\n",
       "      <td>-1</td>\n",
       "      <td>NA</td>\n",
       "      <td>-1</td>\n",
       "      <td>-1</td>\n",
       "      <td>-1</td>\n",
       "    </tr>\n",
       "    <tr>\n",
       "      <th>2</th>\n",
       "      <td>chr1</td>\n",
       "      <td>+</td>\n",
       "      <td>15202</td>\n",
       "      <td>14413</td>\n",
       "      <td>DDX11L1</td>\n",
       "      <td>ENSG00000223972</td>\n",
       "      <td>789</td>\n",
       "      <td>blank</td>\n",
       "      <td>E1.L.11074@363</td>\n",
       "      <td>364</td>\n",
       "      <td>3</td>\n",
       "      <td>False</td>\n",
       "      <td>0</td>\n",
       "      <td>0</td>\n",
       "      <td>0</td>\n",
       "      <td>1</td>\n",
       "      <td>1</td>\n",
       "      <td>0</td>\n",
       "      <td>0</td>\n",
       "      <td>0</td>\n",
       "      <td>0</td>\n",
       "      <td>0</td>\n",
       "      <td>NA</td>\n",
       "      <td>-1</td>\n",
       "      <td>-1</td>\n",
       "      <td>-1</td>\n",
       "      <td>NA</td>\n",
       "      <td>-1</td>\n",
       "      <td>-1</td>\n",
       "      <td>-1</td>\n",
       "    </tr>\n",
       "    <tr>\n",
       "      <th>3</th>\n",
       "      <td>chr1</td>\n",
       "      <td>+</td>\n",
       "      <td>15423</td>\n",
       "      <td>14413</td>\n",
       "      <td>DDX11L1</td>\n",
       "      <td>ENSG00000223972</td>\n",
       "      <td>1010</td>\n",
       "      <td>blank</td>\n",
       "      <td>E1.S.21558@305</td>\n",
       "      <td>306</td>\n",
       "      <td>40</td>\n",
       "      <td>False</td>\n",
       "      <td>0</td>\n",
       "      <td>0</td>\n",
       "      <td>0</td>\n",
       "      <td>1</td>\n",
       "      <td>1</td>\n",
       "      <td>0</td>\n",
       "      <td>0</td>\n",
       "      <td>0</td>\n",
       "      <td>0</td>\n",
       "      <td>0</td>\n",
       "      <td>NA</td>\n",
       "      <td>-1</td>\n",
       "      <td>-1</td>\n",
       "      <td>-1</td>\n",
       "      <td>NA</td>\n",
       "      <td>-1</td>\n",
       "      <td>-1</td>\n",
       "      <td>-1</td>\n",
       "    </tr>\n",
       "    <tr>\n",
       "      <th>4</th>\n",
       "      <td>chr1</td>\n",
       "      <td>+</td>\n",
       "      <td>15609</td>\n",
       "      <td>14413</td>\n",
       "      <td>DDX11L1</td>\n",
       "      <td>ENSG00000223972</td>\n",
       "      <td>1196</td>\n",
       "      <td>blank</td>\n",
       "      <td>01.L.357906@184</td>\n",
       "      <td>185</td>\n",
       "      <td>2</td>\n",
       "      <td>False</td>\n",
       "      <td>0</td>\n",
       "      <td>0</td>\n",
       "      <td>0</td>\n",
       "      <td>1</td>\n",
       "      <td>1</td>\n",
       "      <td>0</td>\n",
       "      <td>0</td>\n",
       "      <td>0</td>\n",
       "      <td>0</td>\n",
       "      <td>0</td>\n",
       "      <td>NA</td>\n",
       "      <td>-1</td>\n",
       "      <td>-1</td>\n",
       "      <td>-1</td>\n",
       "      <td>NA</td>\n",
       "      <td>-1</td>\n",
       "      <td>-1</td>\n",
       "      <td>-1</td>\n",
       "    </tr>\n",
       "  </tbody>\n",
       "</table>\n",
       "</div>"
      ],
      "text/plain": [
       "  seqname strand    clv   aclv gene_name          gene_id  signed_dist_to_aclv evidence_type contig_ids_at_pos max_contig_len max_contig_mapq any_contig_is_hardclipped num_suffix_contigs num_bridge_contigs num_link_contigs num_blank_contigs num_total_contigs num_suffix_reads  \\\n",
       "0  chr1    +      12199  13671  DDX11L1   ENSG00000223972 -1472                 blank         E0.U.254180@78    79             1               False                     0                  0                  0                1                 1                 0                 \n",
       "1  chr1    +      14748  14413  DDX11L1   ENSG00000223972  335                  blank         E0.U.314563@74    40             0               True                      0                  0                  0                1                 1                 0                 \n",
       "2  chr1    +      15202  14413  DDX11L1   ENSG00000223972  789                  blank         E1.L.11074@363    364            3               False                     0                  0                  0                1                 1                 0                 \n",
       "3  chr1    +      15423  14413  DDX11L1   ENSG00000223972  1010                 blank         E1.S.21558@305    306            40              False                     0                  0                  0                1                 1                 0                 \n",
       "4  chr1    +      15609  14413  DDX11L1   ENSG00000223972  1196                 blank         01.L.357906@184   185            2               False                     0                  0                  0                1                 1                 0                 \n",
       "\n",
       "  max_suffix_contig_tail_len num_bridge_reads max_bridge_read_tail_len num_link_reads ctg_hex ctg_hex_id ctg_hex_pos ctg_hex_dist ref_hex ref_hex_id ref_hex_pos ref_hex_dist  \n",
       "0  0                          0                0                        0              NA      -1         -1          -1           NA      -1         -1          -1           \n",
       "1  0                          0                0                        0              NA      -1         -1          -1           NA      -1         -1          -1           \n",
       "2  0                          0                0                        0              NA      -1         -1          -1           NA      -1         -1          -1           \n",
       "3  0                          0                0                        0              NA      -1         -1          -1           NA      -1         -1          -1           \n",
       "4  0                          0                0                        0              NA      -1         -1          -1           NA      -1         -1          -1           "
      ]
     },
     "execution_count": 6,
     "metadata": {},
     "output_type": "execute_result"
    }
   ],
   "source": [
    "adf.head()"
   ]
  },
  {
   "cell_type": "code",
   "execution_count": 4,
   "metadata": {},
   "outputs": [
    {
     "data": {
      "text/plain": [
       "(805569, 30)"
      ]
     },
     "execution_count": 4,
     "metadata": {},
     "output_type": "execute_result"
    }
   ],
   "source": [
    "adf.shape"
   ]
  },
  {
   "cell_type": "code",
   "execution_count": 7,
   "metadata": {},
   "outputs": [
    {
     "data": {
      "text/html": [
       "<div>\n",
       "<style scoped>\n",
       "    .dataframe tbody tr th:only-of-type {\n",
       "        vertical-align: middle;\n",
       "    }\n",
       "\n",
       "    .dataframe tbody tr th {\n",
       "        vertical-align: top;\n",
       "    }\n",
       "\n",
       "    .dataframe thead th {\n",
       "        text-align: right;\n",
       "    }\n",
       "</style>\n",
       "<table border=\"1\" class=\"dataframe\">\n",
       "  <thead>\n",
       "    <tr style=\"text-align: right;\">\n",
       "      <th></th>\n",
       "      <th>seqname</th>\n",
       "      <th>strand</th>\n",
       "      <th>clv</th>\n",
       "      <th>aclv</th>\n",
       "      <th>gene_name</th>\n",
       "      <th>gene_id</th>\n",
       "      <th>signed_dist_to_aclv</th>\n",
       "      <th>evidence_type</th>\n",
       "      <th>contig_ids_at_pos</th>\n",
       "      <th>max_contig_len</th>\n",
       "      <th>max_contig_mapq</th>\n",
       "      <th>any_contig_is_hardclipped</th>\n",
       "      <th>num_suffix_contigs</th>\n",
       "      <th>num_bridge_contigs</th>\n",
       "      <th>num_link_contigs</th>\n",
       "      <th>num_blank_contigs</th>\n",
       "      <th>num_total_contigs</th>\n",
       "      <th>num_suffix_reads</th>\n",
       "      <th>max_suffix_contig_tail_len</th>\n",
       "      <th>num_bridge_reads</th>\n",
       "      <th>max_bridge_read_tail_len</th>\n",
       "      <th>num_link_reads</th>\n",
       "      <th>ctg_hex</th>\n",
       "      <th>ctg_hex_id</th>\n",
       "      <th>ctg_hex_pos</th>\n",
       "      <th>ctg_hex_dist</th>\n",
       "      <th>ref_hex</th>\n",
       "      <th>ref_hex_id</th>\n",
       "      <th>ref_hex_pos</th>\n",
       "      <th>ref_hex_dist</th>\n",
       "    </tr>\n",
       "  </thead>\n",
       "  <tbody>\n",
       "    <tr>\n",
       "      <th>837828</th>\n",
       "      <td>chrM</td>\n",
       "      <td>-</td>\n",
       "      <td>2681</td>\n",
       "      <td>4328</td>\n",
       "      <td>MT-TQ</td>\n",
       "      <td>ENSG00000210107</td>\n",
       "      <td>-1647</td>\n",
       "      <td>blank|bridge</td>\n",
       "      <td>01.L.369628@0|01.L.374653@0|01.L.378103@0|01.U.1046489@0|01.U.1094958@0|01.U.1224012@0|01.U.407189@0|01.U.407441@0|01.U.407882@0|01.U.408153@0|01.U.408384@0|01.U.408593@0|01.U.409017@0|01.U.409154@0|01.U.409439@0|01.U.409616@0|01.U.409697@0|01.U.412270@0|01.U.414058@0|01.U.416740@0|01.U.417500@0|01.U.418924@0|01.U.419698@0|01.U.420015@0|01.U.420373@0|01.U.422090@0|01.U.422658@0|01.U.423468@0|01.U.424123@0|01.U.426761@0|01.U.426941@0|01.U.427618@0|01.U.427640@0|01.U.428613@0|01.U.429022@0|01.U.429249@0|01.U.430072@0|01.U.430233@0|01.U.430547@0|01.U.430864@0|01.U.430925@0|01.U.431334@0|01.U.432140@0|01.U.434175@0|01.U.434711@0|01.U.456186@0|01.U.499012@0|01.U.505519@0|01.U.508456@0|01.U.534791@0|01.U.548860@0|01.U.574818@0|01.U.617630@0|01.U.669391@0|01.U.678894@0|01.U.723841@0|01.U.733899@0|01.U.752304@0|01.U.801889@0|01.U.801905@0|01.U.802911@0|01.U.825846@0|01.U.915882@0|01.U.926280@0|01.U.952250@0|E0.U.118888@0|E0.U.120761@0|E0.U.121394@0|E0.U.121851@0|E0.U.122019@0|E0.U.283586@0|E0.U.320370@0|E0.U.343797@0|E0.U.348859@0</td>\n",
       "      <td>222</td>\n",
       "      <td>40</td>\n",
       "      <td>True</td>\n",
       "      <td>0</td>\n",
       "      <td>1</td>\n",
       "      <td>0</td>\n",
       "      <td>73</td>\n",
       "      <td>74</td>\n",
       "      <td>0</td>\n",
       "      <td>0</td>\n",
       "      <td>1</td>\n",
       "      <td>1</td>\n",
       "      <td>0</td>\n",
       "      <td>NA</td>\n",
       "      <td>-1</td>\n",
       "      <td>-1</td>\n",
       "      <td>-1</td>\n",
       "      <td>NA</td>\n",
       "      <td>-1</td>\n",
       "      <td>-1</td>\n",
       "      <td>-1</td>\n",
       "    </tr>\n",
       "    <tr>\n",
       "      <th>833972</th>\n",
       "      <td>chrM</td>\n",
       "      <td>+</td>\n",
       "      <td>2756</td>\n",
       "      <td>3230</td>\n",
       "      <td>MT-RNR2</td>\n",
       "      <td>ENSG00000210082</td>\n",
       "      <td>-474</td>\n",
       "      <td>blank|bridge|suffix</td>\n",
       "      <td>01.L.355862@101|01.L.363689@162|01.L.364880@80|01.L.365497@125|01.L.381339@140|01.L.384226@102|01.L.385617@81|01.U.1016422@83|01.U.1086210@82|01.U.1133220@75|01.U.1188320@99|01.U.1190053@73|01.U.1229066@75|01.U.406821@75|01.U.407189@75|01.U.407353@75|01.U.408003@91|01.U.408159@87|01.U.408403@75|01.U.408796@79|01.U.408853@72|01.U.409154@83|01.U.409300@75|01.U.416640@75|01.U.417369@92|01.U.422090@84|01.U.422162@75|01.U.422247@75|01.U.425429@91|01.U.425730@75|01.U.427335@74|01.U.427526@90|01.U.427753@75|01.U.428841@85|01.U.430072@75|01.U.430547@75|01.U.430744@73|01.U.431587@75|01.U.431918@85|01.U.432020@75|01.U.432759@75|01.U.433298@75|01.U.433804@75|01.U.433895@75|01.U.434626@89|01.U.435061@95|01.U.521476@87|01.U.558050@74|01.U.669391@84|01.U.706269@92|01.U.777388@78|01.U.801905@75|01.U.869887@75|01.U.915882@84|01.U.931806@83|E0.L.41382@67|E0.L.60040@99|E0.L.60421@78|E0.L.63879@86|E0.U.118239@90|E0.U.118862@76|E0.U.118932@90|E0.U.120761@75|E0.U.174115@83|E0.U.259878@91|E0.U.343797@75|E1.L.13140@81|E1.L.14565@90|E1.U.25709@91|E1.U.27604@102|E2.U.24916@101|E4.L.3@2445</td>\n",
       "      <td>5210</td>\n",
       "      <td>40</td>\n",
       "      <td>True</td>\n",
       "      <td>35</td>\n",
       "      <td>20</td>\n",
       "      <td>0</td>\n",
       "      <td>17</td>\n",
       "      <td>72</td>\n",
       "      <td>0</td>\n",
       "      <td>5</td>\n",
       "      <td>33</td>\n",
       "      <td>7</td>\n",
       "      <td>0</td>\n",
       "      <td>AAAAAG</td>\n",
       "      <td>7</td>\n",
       "      <td>2715</td>\n",
       "      <td>41</td>\n",
       "      <td>NA</td>\n",
       "      <td>-1</td>\n",
       "      <td>-1</td>\n",
       "      <td>-1</td>\n",
       "    </tr>\n",
       "    <tr>\n",
       "      <th>838867</th>\n",
       "      <td>chrM</td>\n",
       "      <td>-</td>\n",
       "      <td>8376</td>\n",
       "      <td>7445</td>\n",
       "      <td>MT-TS1</td>\n",
       "      <td>ENSG00000210151</td>\n",
       "      <td>931</td>\n",
       "      <td>blank</td>\n",
       "      <td>01.L.351159@0|01.L.360454@0|01.L.360536@0|01.L.364485@0|01.L.365309@0|01.L.370483@0|01.L.373878@0|01.L.379101@0|01.L.382246@0|01.S.391516@0|01.U.1009322@0|01.U.1010626@0|01.U.1058213@0|01.U.1059799@0|01.U.1112540@0|01.U.1158523@0|01.U.1185684@0|01.U.1196491@0|01.U.1204818@0|01.U.409073@0|01.U.409395@0|01.U.410902@0|01.U.412015@0|01.U.415069@0|01.U.416804@0|01.U.416977@0|01.U.420428@0|01.U.422575@0|01.U.423565@0|01.U.425319@0|01.U.425518@0|01.U.426603@0|01.U.428728@0|01.U.428781@0|01.U.431655@0|01.U.431706@0|01.U.432076@0|01.U.432529@0|01.U.432593@0|01.U.433679@0|01.U.434005@0|01.U.466901@0|01.U.470549@0|01.U.484785@0|01.U.545636@0|01.U.561752@0|01.U.614813@0|01.U.620644@0|01.U.659156@0|01.U.672406@0|01.U.680794@0|01.U.698053@0|01.U.713914@0|01.U.766883@0|01.U.786297@0|01.U.795133@0|01.U.845331@0|01.U.914178@0|01.U.958702@0|01.U.975849@0|01.U.985732@0|E0.L.30336@0|E0.L.44207@0|E0.L.68130@0|E0.U.118142@0|E0.U.119251@0|E0.U.119515@0|E0.U.121017@0|E0.U.184598@0|E1.L.14611@0|E1.S.18218@0</td>\n",
       "      <td>290</td>\n",
       "      <td>40</td>\n",
       "      <td>True</td>\n",
       "      <td>0</td>\n",
       "      <td>0</td>\n",
       "      <td>0</td>\n",
       "      <td>71</td>\n",
       "      <td>71</td>\n",
       "      <td>0</td>\n",
       "      <td>0</td>\n",
       "      <td>0</td>\n",
       "      <td>0</td>\n",
       "      <td>0</td>\n",
       "      <td>TTTAAA</td>\n",
       "      <td>3</td>\n",
       "      <td>8423</td>\n",
       "      <td>47</td>\n",
       "      <td>NA</td>\n",
       "      <td>-1</td>\n",
       "      <td>-1</td>\n",
       "      <td>-1</td>\n",
       "    </tr>\n",
       "    <tr>\n",
       "      <th>838870</th>\n",
       "      <td>chrM</td>\n",
       "      <td>-</td>\n",
       "      <td>8383</td>\n",
       "      <td>7445</td>\n",
       "      <td>MT-TS1</td>\n",
       "      <td>ENSG00000210151</td>\n",
       "      <td>938</td>\n",
       "      <td>blank</td>\n",
       "      <td>01.L.350224@0|01.L.356914@0|01.L.358602@0|01.L.362974@0|01.L.367646@0|01.L.367647@0|01.L.371100@0|01.L.373832@0|01.L.375218@0|01.L.378063@0|01.L.379011@0|01.L.379048@0|01.L.383733@0|01.L.384674@0|01.S.390032@0|01.S.401521@0|01.U.1025789@0|01.U.1114906@0|01.U.1123497@0|01.U.1159705@0|01.U.1187728@0|01.U.1195706@0|01.U.1196803@0|01.U.409244@0|01.U.410254@0|01.U.412333@0|01.U.413689@0|01.U.418612@0|01.U.420525@0|01.U.423199@0|01.U.426127@0|01.U.426691@0|01.U.427240@0|01.U.427882@0|01.U.430425@0|01.U.432823@0|01.U.433031@0|01.U.433153@0|01.U.433528@0|01.U.434487@0|01.U.435090@0|01.U.454160@0|01.U.456699@0|01.U.458903@0|01.U.560118@0|01.U.573928@0|01.U.574646@0|01.U.595544@0|01.U.605024@0|01.U.607632@0|01.U.618204@0|01.U.622756@0|01.U.715026@0|01.U.756644@0|01.U.759451@0|01.U.786539@0|01.U.843005@0|01.U.874497@0|01.U.888943@0|01.U.941262@0|01.U.955287@0|01.U.977177@0|01.U.982545@0|E0.U.121950@0|E0.U.137624@0|E1.L.15789@0|E1.U.25506@0|E1.U.25790@0|E1.U.26853@0</td>\n",
       "      <td>294</td>\n",
       "      <td>40</td>\n",
       "      <td>False</td>\n",
       "      <td>0</td>\n",
       "      <td>0</td>\n",
       "      <td>0</td>\n",
       "      <td>69</td>\n",
       "      <td>69</td>\n",
       "      <td>0</td>\n",
       "      <td>0</td>\n",
       "      <td>0</td>\n",
       "      <td>0</td>\n",
       "      <td>0</td>\n",
       "      <td>AAAAAG</td>\n",
       "      <td>7</td>\n",
       "      <td>8428</td>\n",
       "      <td>45</td>\n",
       "      <td>NA</td>\n",
       "      <td>-1</td>\n",
       "      <td>-1</td>\n",
       "      <td>-1</td>\n",
       "    </tr>\n",
       "    <tr>\n",
       "      <th>610</th>\n",
       "      <td>chr1</td>\n",
       "      <td>+</td>\n",
       "      <td>569170</td>\n",
       "      <td>569122</td>\n",
       "      <td>MTATP8P1</td>\n",
       "      <td>ENSG00000240409</td>\n",
       "      <td>48</td>\n",
       "      <td>blank|bridge</td>\n",
       "      <td>01.U.1025095@74|01.U.1052370@74|01.U.1076619@74|01.U.1097160@74|01.U.1128912@74|01.U.1130361@74|01.U.1156001@74|01.U.1159025@74|01.U.1159464@74|01.U.1177699@74|01.U.1182440@74|01.U.1192587@74|01.U.1215390@74|01.U.415806@74|01.U.462650@74|01.U.481337@74|01.U.486390@74|01.U.527526@74|01.U.532796@75|01.U.534636@74|01.U.534855@74|01.U.550896@74|01.U.577675@75|01.U.582824@74|01.U.593919@74|01.U.607358@74|01.U.626320@74|01.U.629813@74|01.U.634947@74|01.U.638502@74|01.U.662085@74|01.U.675885@74|01.U.676593@74|01.U.685501@74|01.U.725271@74|01.U.728624@74|01.U.745647@74|01.U.782842@75|01.U.784255@74|01.U.812084@74|01.U.819592@74|01.U.833382@75|01.U.846932@74|01.U.874405@74|01.U.883429@74|01.U.899066@74|01.U.910960@74|01.U.926068@74|01.U.929592@74|01.U.932946@74|01.U.939802@74|01.U.968949@74|01.U.970103@74|01.U.972504@74|01.U.973996@74|01.U.992796@74|01.U.994361@74|E0.U.123988@74|E0.U.139890@74|E0.U.194869@75|E0.U.197087@75|E0.U.252104@75|E0.U.275373@75|E0.U.345276@75</td>\n",
       "      <td>76</td>\n",
       "      <td>40</td>\n",
       "      <td>True</td>\n",
       "      <td>0</td>\n",
       "      <td>4</td>\n",
       "      <td>0</td>\n",
       "      <td>60</td>\n",
       "      <td>64</td>\n",
       "      <td>0</td>\n",
       "      <td>0</td>\n",
       "      <td>5</td>\n",
       "      <td>1</td>\n",
       "      <td>0</td>\n",
       "      <td>NA</td>\n",
       "      <td>-1</td>\n",
       "      <td>-1</td>\n",
       "      <td>-1</td>\n",
       "      <td>NA</td>\n",
       "      <td>-1</td>\n",
       "      <td>-1</td>\n",
       "      <td>-1</td>\n",
       "    </tr>\n",
       "  </tbody>\n",
       "</table>\n",
       "</div>"
      ],
      "text/plain": [
       "       seqname strand     clv    aclv gene_name          gene_id  signed_dist_to_aclv        evidence_type  \\\n",
       "837828  chrM    -      2681    4328    MT-TQ     ENSG00000210107 -1647                 blank|bridge          \n",
       "833972  chrM    +      2756    3230    MT-RNR2   ENSG00000210082 -474                  blank|bridge|suffix   \n",
       "838867  chrM    -      8376    7445    MT-TS1    ENSG00000210151  931                  blank                 \n",
       "838870  chrM    -      8383    7445    MT-TS1    ENSG00000210151  938                  blank                 \n",
       "610     chr1    +      569170  569122  MTATP8P1  ENSG00000240409  48                   blank|bridge          \n",
       "\n",
       "                                                                                                                                                                                                                                                                                                                                                                                                                                                                                                                                                                                                                                                                                                                                                                                                                                                                                                                                                                                                                                                                                                               contig_ids_at_pos  \\\n",
       "837828  01.L.369628@0|01.L.374653@0|01.L.378103@0|01.U.1046489@0|01.U.1094958@0|01.U.1224012@0|01.U.407189@0|01.U.407441@0|01.U.407882@0|01.U.408153@0|01.U.408384@0|01.U.408593@0|01.U.409017@0|01.U.409154@0|01.U.409439@0|01.U.409616@0|01.U.409697@0|01.U.412270@0|01.U.414058@0|01.U.416740@0|01.U.417500@0|01.U.418924@0|01.U.419698@0|01.U.420015@0|01.U.420373@0|01.U.422090@0|01.U.422658@0|01.U.423468@0|01.U.424123@0|01.U.426761@0|01.U.426941@0|01.U.427618@0|01.U.427640@0|01.U.428613@0|01.U.429022@0|01.U.429249@0|01.U.430072@0|01.U.430233@0|01.U.430547@0|01.U.430864@0|01.U.430925@0|01.U.431334@0|01.U.432140@0|01.U.434175@0|01.U.434711@0|01.U.456186@0|01.U.499012@0|01.U.505519@0|01.U.508456@0|01.U.534791@0|01.U.548860@0|01.U.574818@0|01.U.617630@0|01.U.669391@0|01.U.678894@0|01.U.723841@0|01.U.733899@0|01.U.752304@0|01.U.801889@0|01.U.801905@0|01.U.802911@0|01.U.825846@0|01.U.915882@0|01.U.926280@0|01.U.952250@0|E0.U.118888@0|E0.U.120761@0|E0.U.121394@0|E0.U.121851@0|E0.U.122019@0|E0.U.283586@0|E0.U.320370@0|E0.U.343797@0|E0.U.348859@0                                             \n",
       "833972  01.L.355862@101|01.L.363689@162|01.L.364880@80|01.L.365497@125|01.L.381339@140|01.L.384226@102|01.L.385617@81|01.U.1016422@83|01.U.1086210@82|01.U.1133220@75|01.U.1188320@99|01.U.1190053@73|01.U.1229066@75|01.U.406821@75|01.U.407189@75|01.U.407353@75|01.U.408003@91|01.U.408159@87|01.U.408403@75|01.U.408796@79|01.U.408853@72|01.U.409154@83|01.U.409300@75|01.U.416640@75|01.U.417369@92|01.U.422090@84|01.U.422162@75|01.U.422247@75|01.U.425429@91|01.U.425730@75|01.U.427335@74|01.U.427526@90|01.U.427753@75|01.U.428841@85|01.U.430072@75|01.U.430547@75|01.U.430744@73|01.U.431587@75|01.U.431918@85|01.U.432020@75|01.U.432759@75|01.U.433298@75|01.U.433804@75|01.U.433895@75|01.U.434626@89|01.U.435061@95|01.U.521476@87|01.U.558050@74|01.U.669391@84|01.U.706269@92|01.U.777388@78|01.U.801905@75|01.U.869887@75|01.U.915882@84|01.U.931806@83|E0.L.41382@67|E0.L.60040@99|E0.L.60421@78|E0.L.63879@86|E0.U.118239@90|E0.U.118862@76|E0.U.118932@90|E0.U.120761@75|E0.U.174115@83|E0.U.259878@91|E0.U.343797@75|E1.L.13140@81|E1.L.14565@90|E1.U.25709@91|E1.U.27604@102|E2.U.24916@101|E4.L.3@2445   \n",
       "838867  01.L.351159@0|01.L.360454@0|01.L.360536@0|01.L.364485@0|01.L.365309@0|01.L.370483@0|01.L.373878@0|01.L.379101@0|01.L.382246@0|01.S.391516@0|01.U.1009322@0|01.U.1010626@0|01.U.1058213@0|01.U.1059799@0|01.U.1112540@0|01.U.1158523@0|01.U.1185684@0|01.U.1196491@0|01.U.1204818@0|01.U.409073@0|01.U.409395@0|01.U.410902@0|01.U.412015@0|01.U.415069@0|01.U.416804@0|01.U.416977@0|01.U.420428@0|01.U.422575@0|01.U.423565@0|01.U.425319@0|01.U.425518@0|01.U.426603@0|01.U.428728@0|01.U.428781@0|01.U.431655@0|01.U.431706@0|01.U.432076@0|01.U.432529@0|01.U.432593@0|01.U.433679@0|01.U.434005@0|01.U.466901@0|01.U.470549@0|01.U.484785@0|01.U.545636@0|01.U.561752@0|01.U.614813@0|01.U.620644@0|01.U.659156@0|01.U.672406@0|01.U.680794@0|01.U.698053@0|01.U.713914@0|01.U.766883@0|01.U.786297@0|01.U.795133@0|01.U.845331@0|01.U.914178@0|01.U.958702@0|01.U.975849@0|01.U.985732@0|E0.L.30336@0|E0.L.44207@0|E0.L.68130@0|E0.U.118142@0|E0.U.119251@0|E0.U.119515@0|E0.U.121017@0|E0.U.184598@0|E1.L.14611@0|E1.S.18218@0                                                                                      \n",
       "838870  01.L.350224@0|01.L.356914@0|01.L.358602@0|01.L.362974@0|01.L.367646@0|01.L.367647@0|01.L.371100@0|01.L.373832@0|01.L.375218@0|01.L.378063@0|01.L.379011@0|01.L.379048@0|01.L.383733@0|01.L.384674@0|01.S.390032@0|01.S.401521@0|01.U.1025789@0|01.U.1114906@0|01.U.1123497@0|01.U.1159705@0|01.U.1187728@0|01.U.1195706@0|01.U.1196803@0|01.U.409244@0|01.U.410254@0|01.U.412333@0|01.U.413689@0|01.U.418612@0|01.U.420525@0|01.U.423199@0|01.U.426127@0|01.U.426691@0|01.U.427240@0|01.U.427882@0|01.U.430425@0|01.U.432823@0|01.U.433031@0|01.U.433153@0|01.U.433528@0|01.U.434487@0|01.U.435090@0|01.U.454160@0|01.U.456699@0|01.U.458903@0|01.U.560118@0|01.U.573928@0|01.U.574646@0|01.U.595544@0|01.U.605024@0|01.U.607632@0|01.U.618204@0|01.U.622756@0|01.U.715026@0|01.U.756644@0|01.U.759451@0|01.U.786539@0|01.U.843005@0|01.U.874497@0|01.U.888943@0|01.U.941262@0|01.U.955287@0|01.U.977177@0|01.U.982545@0|E0.U.121950@0|E0.U.137624@0|E1.L.15789@0|E1.U.25506@0|E1.U.25790@0|E1.U.26853@0                                                                                                                   \n",
       "610     01.U.1025095@74|01.U.1052370@74|01.U.1076619@74|01.U.1097160@74|01.U.1128912@74|01.U.1130361@74|01.U.1156001@74|01.U.1159025@74|01.U.1159464@74|01.U.1177699@74|01.U.1182440@74|01.U.1192587@74|01.U.1215390@74|01.U.415806@74|01.U.462650@74|01.U.481337@74|01.U.486390@74|01.U.527526@74|01.U.532796@75|01.U.534636@74|01.U.534855@74|01.U.550896@74|01.U.577675@75|01.U.582824@74|01.U.593919@74|01.U.607358@74|01.U.626320@74|01.U.629813@74|01.U.634947@74|01.U.638502@74|01.U.662085@74|01.U.675885@74|01.U.676593@74|01.U.685501@74|01.U.725271@74|01.U.728624@74|01.U.745647@74|01.U.782842@75|01.U.784255@74|01.U.812084@74|01.U.819592@74|01.U.833382@75|01.U.846932@74|01.U.874405@74|01.U.883429@74|01.U.899066@74|01.U.910960@74|01.U.926068@74|01.U.929592@74|01.U.932946@74|01.U.939802@74|01.U.968949@74|01.U.970103@74|01.U.972504@74|01.U.973996@74|01.U.992796@74|01.U.994361@74|E0.U.123988@74|E0.U.139890@74|E0.U.194869@75|E0.U.197087@75|E0.U.252104@75|E0.U.275373@75|E0.U.345276@75                                                                                                               \n",
       "\n",
       "       max_contig_len max_contig_mapq any_contig_is_hardclipped num_suffix_contigs num_bridge_contigs num_link_contigs num_blank_contigs num_total_contigs num_suffix_reads max_suffix_contig_tail_len num_bridge_reads max_bridge_read_tail_len num_link_reads ctg_hex ctg_hex_id ctg_hex_pos  \\\n",
       "837828  222            40              True                      0                  1                  0                73                74                0                0                          1                1                        0              NA      -1         -1           \n",
       "833972  5210           40              True                      35                 20                 0                17                72                0                5                          33               7                        0              AAAAAG  7          2715         \n",
       "838867  290            40              True                      0                  0                  0                71                71                0                0                          0                0                        0              TTTAAA  3          8423         \n",
       "838870  294            40              False                     0                  0                  0                69                69                0                0                          0                0                        0              AAAAAG  7          8428         \n",
       "610     76             40              True                      0                  4                  0                60                64                0                0                          5                1                        0              NA      -1         -1           \n",
       "\n",
       "       ctg_hex_dist ref_hex ref_hex_id ref_hex_pos ref_hex_dist  \n",
       "837828  -1           NA      -1         -1          -1           \n",
       "833972  41           NA      -1         -1          -1           \n",
       "838867  47           NA      -1         -1          -1           \n",
       "838870  45           NA      -1         -1          -1           \n",
       "610     -1           NA      -1         -1          -1           "
      ]
     },
     "execution_count": 7,
     "metadata": {},
     "output_type": "execute_result"
    }
   ],
   "source": [
    "lele_df.sort_values('num_total_contigs', ascending=False).head()"
   ]
  },
  {
   "cell_type": "code",
   "execution_count": 5,
   "metadata": {},
   "outputs": [
    {
     "data": {
      "text/plain": [
       "(870121, 30)"
      ]
     },
     "execution_count": 5,
     "metadata": {},
     "output_type": "execute_result"
    }
   ],
   "source": [
    "lele_df.shape"
   ]
  },
  {
   "cell_type": "code",
   "execution_count": null,
   "metadata": {},
   "outputs": [],
   "source": []
  },
  {
   "cell_type": "code",
   "execution_count": 3,
   "metadata": {},
   "outputs": [],
   "source": [
    "dfs = []\n",
    "for i in glob.glob('../max_recall.*'):\n",
    "    dfs.append(pd.read_csv(i, sep='\\t'))"
   ]
  },
  {
   "cell_type": "code",
   "execution_count": 6,
   "metadata": {},
   "outputs": [],
   "source": [
    "ndf = pd.concat(dfs).sort_values('sample_id')"
   ]
  },
  {
   "cell_type": "code",
   "execution_count": 7,
   "metadata": {},
   "outputs": [
    {
     "data": {
      "text/html": [
       "<div>\n",
       "<style scoped>\n",
       "    .dataframe tbody tr th:only-of-type {\n",
       "        vertical-align: middle;\n",
       "    }\n",
       "\n",
       "    .dataframe tbody tr th {\n",
       "        vertical-align: top;\n",
       "    }\n",
       "\n",
       "    .dataframe thead th {\n",
       "        text-align: right;\n",
       "    }\n",
       "</style>\n",
       "<table border=\"1\" class=\"dataframe\">\n",
       "  <thead>\n",
       "    <tr style=\"text-align: right;\">\n",
       "      <th></th>\n",
       "      <th>sample_id</th>\n",
       "      <th>precision</th>\n",
       "      <th>recall</th>\n",
       "      <th>f1</th>\n",
       "    </tr>\n",
       "  </thead>\n",
       "  <tbody>\n",
       "    <tr>\n",
       "      <th>0</th>\n",
       "      <td>HBRC4</td>\n",
       "      <td>0.026774</td>\n",
       "      <td>0.242732</td>\n",
       "      <td>0.048228</td>\n",
       "    </tr>\n",
       "    <tr>\n",
       "      <th>0</th>\n",
       "      <td>HBRC6</td>\n",
       "      <td>0.014323</td>\n",
       "      <td>0.359445</td>\n",
       "      <td>0.027547</td>\n",
       "    </tr>\n",
       "    <tr>\n",
       "      <th>0</th>\n",
       "      <td>UHRC1</td>\n",
       "      <td>0.025576</td>\n",
       "      <td>0.198304</td>\n",
       "      <td>0.045308</td>\n",
       "    </tr>\n",
       "    <tr>\n",
       "      <th>0</th>\n",
       "      <td>UHRC2</td>\n",
       "      <td>0.023578</td>\n",
       "      <td>0.222404</td>\n",
       "      <td>0.042635</td>\n",
       "    </tr>\n",
       "  </tbody>\n",
       "</table>\n",
       "</div>"
      ],
      "text/plain": [
       "  sample_id  precision    recall        f1\n",
       "0  HBRC4     0.026774   0.242732  0.048228\n",
       "0  HBRC6     0.014323   0.359445  0.027547\n",
       "0  UHRC1     0.025576   0.198304  0.045308\n",
       "0  UHRC2     0.023578   0.222404  0.042635"
      ]
     },
     "execution_count": 7,
     "metadata": {},
     "output_type": "execute_result"
    }
   ],
   "source": [
    "ndf"
   ]
  },
  {
   "cell_type": "code",
   "execution_count": null,
   "metadata": {},
   "outputs": [],
   "source": []
  },
  {
   "cell_type": "code",
   "execution_count": null,
   "metadata": {},
   "outputs": [],
   "source": []
  },
  {
   "cell_type": "code",
   "execution_count": null,
   "metadata": {},
   "outputs": [],
   "source": []
  },
  {
   "cell_type": "code",
   "execution_count": 2,
   "metadata": {},
   "outputs": [],
   "source": [
    "sys.path.insert(0, '../../kleat/benchmark_scripts/')"
   ]
  },
  {
   "cell_type": "code",
   "execution_count": 3,
   "metadata": {},
   "outputs": [],
   "source": [
    "# from train_arbor import cluster_clv, compare"
   ]
  },
  {
   "cell_type": "code",
   "execution_count": 13,
   "metadata": {},
   "outputs": [],
   "source": [
    "from max_recall_analysis import cluster_clv_parallel, map_to_ref"
   ]
  },
  {
   "cell_type": "markdown",
   "metadata": {},
   "source": [
    "# Compare current version and a previous ref-hex-dist version"
   ]
  },
  {
   "cell_type": "code",
   "execution_count": 5,
   "metadata": {},
   "outputs": [],
   "source": [
    "cur_df = pd.read_pickle('./../../kleat/benchmark_transcriptome/current-buggy/UHRC1.pkl')"
   ]
  },
  {
   "cell_type": "code",
   "execution_count": 6,
   "metadata": {},
   "outputs": [
    {
     "data": {
      "text/plain": [
       "(869893, 30)"
      ]
     },
     "execution_count": 6,
     "metadata": {},
     "output_type": "execute_result"
    }
   ],
   "source": [
    "cur_df.shape"
   ]
  },
  {
   "cell_type": "code",
   "execution_count": 7,
   "metadata": {},
   "outputs": [
    {
     "name": "stderr",
     "output_type": "stream",
     "text": [
      "2018-07-17 14:29:05,229|INFO|grouping by ['seqname', 'strand']\n",
      "100%|██████████| 50/50 [00:00<00:00, 139.83it/s]\n"
     ]
    },
    {
     "name": "stdout",
     "output_type": "stream",
     "text": [
      "clustering clvs in parallel) using 24 CPUs ...\n"
     ]
    },
    {
     "name": "stderr",
     "output_type": "stream",
     "text": [
      "2018-07-17 14:30:00,349|INFO|concatenating clustered sub dataframes ...\n",
      "2018-07-17 14:30:01,181|INFO|dropping duplicates after clustering ...\n"
     ]
    },
    {
     "name": "stdout",
     "output_type": "stream",
     "text": [
      "CPU times: user 21.6 s, sys: 3.5 s, total: 25.1 s\n",
      "Wall time: 57 s\n"
     ]
    }
   ],
   "source": [
    "%time cur_df_clustered = cluster_clv_parallel(cur_df)"
   ]
  },
  {
   "cell_type": "code",
   "execution_count": 8,
   "metadata": {},
   "outputs": [
    {
     "name": "stdout",
     "output_type": "stream",
     "text": [
      "CPU times: user 2.4 s, sys: 460 ms, total: 2.86 s\n",
      "Wall time: 2.86 s\n"
     ]
    }
   ],
   "source": [
    "%time ref_df = pd.read_pickle('./../../kleat/benchmark_transcriptome/after_chimeric-ref-hex/UHRC1.pkl')"
   ]
  },
  {
   "cell_type": "code",
   "execution_count": 9,
   "metadata": {},
   "outputs": [
    {
     "data": {
      "text/plain": [
       "(869986, 30)"
      ]
     },
     "execution_count": 9,
     "metadata": {},
     "output_type": "execute_result"
    }
   ],
   "source": [
    "ref_df.shape"
   ]
  },
  {
   "cell_type": "code",
   "execution_count": 10,
   "metadata": {},
   "outputs": [
    {
     "name": "stderr",
     "output_type": "stream",
     "text": [
      "2018-07-17 14:30:38,580|INFO|grouping by ['seqname', 'strand']\n",
      "100%|██████████| 50/50 [00:00<00:00, 163.00it/s]\n"
     ]
    },
    {
     "name": "stdout",
     "output_type": "stream",
     "text": [
      "clustering clvs in parallel) using 24 CPUs ...\n"
     ]
    },
    {
     "name": "stderr",
     "output_type": "stream",
     "text": [
      "2018-07-17 14:31:33,376|INFO|concatenating clustered sub dataframes ...\n",
      "2018-07-17 14:31:34,184|INFO|dropping duplicates after clustering ...\n"
     ]
    },
    {
     "name": "stdout",
     "output_type": "stream",
     "text": [
      "CPU times: user 21.9 s, sys: 3.01 s, total: 24.9 s\n",
      "Wall time: 56.9 s\n"
     ]
    }
   ],
   "source": [
    "%time ref_df_clustered = cluster_clv_parallel(ref_df)"
   ]
  },
  {
   "cell_type": "code",
   "execution_count": 11,
   "metadata": {},
   "outputs": [
    {
     "data": {
      "text/plain": [
       "(805439, 3)"
      ]
     },
     "execution_count": 11,
     "metadata": {},
     "output_type": "execute_result"
    }
   ],
   "source": [
    "ref_df_clustered.shape"
   ]
  },
  {
   "cell_type": "code",
   "execution_count": 14,
   "metadata": {},
   "outputs": [
    {
     "name": "stderr",
     "output_type": "stream",
     "text": [
      "2018-07-17 14:33:38,391|INFO|mapping predicted clv to ground truth ...\n"
     ]
    },
    {
     "name": "stdout",
     "output_type": "stream",
     "text": [
      "mapping ...\n"
     ]
    }
   ],
   "source": [
    "print('mapping ...')\n",
    "map_cutoff = 50\n",
    "df_mapped = map_to_ref(cur_df_clustered, ref_df_clustered, map_cutoff)\n",
    "df_mapped['is_tp'] = df_mapped.abs_dist < map_cutoff"
   ]
  },
  {
   "cell_type": "code",
   "execution_count": 16,
   "metadata": {},
   "outputs": [
    {
     "name": "stdout",
     "output_type": "stream",
     "text": [
      "calculating metrics ...\n"
     ]
    }
   ],
   "source": [
    "print('calculating metrics ...')\n",
    "recall = df_mapped.query('is_tp').shape[0] / ref_df_clustered.shape[0]\n",
    "precision = df_mapped.query('is_tp').shape[0] / df_mapped.shape[0]\n",
    "f1 = (2 * recall * precision) / (recall + precision)"
   ]
  },
  {
   "cell_type": "code",
   "execution_count": 20,
   "metadata": {},
   "outputs": [
    {
     "name": "stdout",
     "output_type": "stream",
     "text": [
      "0.9997479250381217\t0.9995952517819475\t0.9996715825808393\n"
     ]
    }
   ],
   "source": [
    "print(f'{precision}\\t{recall}\\t{f1}')"
   ]
  },
  {
   "cell_type": "code",
   "execution_count": 21,
   "metadata": {},
   "outputs": [
    {
     "data": {
      "text/html": [
       "<div>\n",
       "<style scoped>\n",
       "    .dataframe tbody tr th:only-of-type {\n",
       "        vertical-align: middle;\n",
       "    }\n",
       "\n",
       "    .dataframe tbody tr th {\n",
       "        vertical-align: top;\n",
       "    }\n",
       "\n",
       "    .dataframe thead th {\n",
       "        text-align: right;\n",
       "    }\n",
       "</style>\n",
       "<table border=\"1\" class=\"dataframe\">\n",
       "  <thead>\n",
       "    <tr style=\"text-align: right;\">\n",
       "      <th></th>\n",
       "      <th>seqname</th>\n",
       "      <th>strand</th>\n",
       "      <th>clv</th>\n",
       "      <th>mapped_ref_clv</th>\n",
       "      <th>dist</th>\n",
       "      <th>abs_dist</th>\n",
       "      <th>is_tp</th>\n",
       "    </tr>\n",
       "  </thead>\n",
       "  <tbody>\n",
       "    <tr>\n",
       "      <th>0</th>\n",
       "      <td>chr1</td>\n",
       "      <td>+</td>\n",
       "      <td>12199</td>\n",
       "      <td>12199</td>\n",
       "      <td>0</td>\n",
       "      <td>0</td>\n",
       "      <td>True</td>\n",
       "    </tr>\n",
       "    <tr>\n",
       "      <th>1</th>\n",
       "      <td>chr1</td>\n",
       "      <td>+</td>\n",
       "      <td>14748</td>\n",
       "      <td>14748</td>\n",
       "      <td>0</td>\n",
       "      <td>0</td>\n",
       "      <td>True</td>\n",
       "    </tr>\n",
       "  </tbody>\n",
       "</table>\n",
       "</div>"
      ],
      "text/plain": [
       "  seqname strand    clv  mapped_ref_clv  dist  abs_dist  is_tp\n",
       "0  chr1    +      12199  12199           0     0         True \n",
       "1  chr1    +      14748  14748           0     0         True "
      ]
     },
     "execution_count": 21,
     "metadata": {},
     "output_type": "execute_result"
    }
   ],
   "source": [
    "df_mapped.head(2)"
   ]
  },
  {
   "cell_type": "code",
   "execution_count": null,
   "metadata": {},
   "outputs": [],
   "source": []
  },
  {
   "cell_type": "code",
   "execution_count": null,
   "metadata": {},
   "outputs": [],
   "source": []
  },
  {
   "cell_type": "code",
   "execution_count": null,
   "metadata": {},
   "outputs": [],
   "source": []
  },
  {
   "cell_type": "code",
   "execution_count": null,
   "metadata": {},
   "outputs": [],
   "source": []
  },
  {
   "cell_type": "code",
   "execution_count": null,
   "metadata": {},
   "outputs": [],
   "source": []
  },
  {
   "cell_type": "code",
   "execution_count": null,
   "metadata": {},
   "outputs": [],
   "source": []
  },
  {
   "cell_type": "code",
   "execution_count": 4,
   "metadata": {},
   "outputs": [],
   "source": [
    "cur_df['clv_m1'] = cur_df.clv - 1\n",
    "cur_df['clv_p1'] = cur_df.clv + 1"
   ]
  },
  {
   "cell_type": "code",
   "execution_count": 5,
   "metadata": {},
   "outputs": [],
   "source": [
    "cur_clvs_m1 = set([tuple(_) for _ in cur_df[['seqname', 'strand', 'clv_m1']].values])\n",
    "cur_clvs    = set([tuple(_) for _ in cur_df[['seqname', 'strand', 'clv'   ]].values])\n",
    "cur_clvs_p1 = set([tuple(_) for _ in cur_df[['seqname', 'strand', 'clv_p1']].values])"
   ]
  },
  {
   "cell_type": "code",
   "execution_count": 6,
   "metadata": {},
   "outputs": [],
   "source": [
    "cur_clvs_set = cur_clvs_m1 | cur_clvs | cur_clvs_p1"
   ]
  },
  {
   "cell_type": "code",
   "execution_count": 7,
   "metadata": {},
   "outputs": [
    {
     "data": {
      "text/plain": [
       "2577194"
      ]
     },
     "execution_count": 7,
     "metadata": {},
     "output_type": "execute_result"
    }
   ],
   "source": [
    "len(cur_clvs_set)"
   ]
  },
  {
   "cell_type": "code",
   "execution_count": 8,
   "metadata": {},
   "outputs": [
    {
     "data": {
      "text/plain": [
       "2609679"
      ]
     },
     "execution_count": 8,
     "metadata": {},
     "output_type": "execute_result"
    }
   ],
   "source": [
    "len(cur_clvs_m1) + len(cur_clvs) + len(cur_clvs_p1)"
   ]
  },
  {
   "cell_type": "code",
   "execution_count": 15,
   "metadata": {},
   "outputs": [
    {
     "name": "stdout",
     "output_type": "stream",
     "text": [
      "CPU times: user 1.35 s, sys: 32.9 ms, total: 1.38 s\n",
      "Wall time: 1.38 s\n"
     ]
    }
   ],
   "source": [
    "%time ref_clvs = set([tuple(_) for _ in ref_df[['seqname', 'strand', 'clv']].values])"
   ]
  },
  {
   "cell_type": "code",
   "execution_count": 16,
   "metadata": {},
   "outputs": [
    {
     "data": {
      "text/plain": [
       "534"
      ]
     },
     "execution_count": 16,
     "metadata": {},
     "output_type": "execute_result"
    }
   ],
   "source": [
    "len(ref_clvs - cur_clvs_set)"
   ]
  },
  {
   "cell_type": "code",
   "execution_count": 17,
   "metadata": {},
   "outputs": [
    {
     "data": {
      "text/plain": [
       "1707742"
      ]
     },
     "execution_count": 17,
     "metadata": {},
     "output_type": "execute_result"
    }
   ],
   "source": [
    "len(cur_clvs_set - ref_clvs)"
   ]
  },
  {
   "cell_type": "code",
   "execution_count": 18,
   "metadata": {},
   "outputs": [],
   "source": [
    "missed = ref_clvs - cur_clvs_set"
   ]
  },
  {
   "cell_type": "code",
   "execution_count": 19,
   "metadata": {},
   "outputs": [
    {
     "data": {
      "text/plain": [
       "[('chr7', '+', 73660993),\n",
       " ('chr6', '+', 75950892),\n",
       " ('chr19', '+', 649680),\n",
       " ('chr16', '-', 78534894),\n",
       " ('chr13', '+', 40914558)]"
      ]
     },
     "execution_count": 19,
     "metadata": {},
     "output_type": "execute_result"
    }
   ],
   "source": [
    "list(missed)[:5]"
   ]
  },
  {
   "cell_type": "code",
   "execution_count": 20,
   "metadata": {},
   "outputs": [],
   "source": [
    "missed_clvs = [_[2] for _ in missed]"
   ]
  },
  {
   "cell_type": "code",
   "execution_count": 35,
   "metadata": {},
   "outputs": [],
   "source": [
    "missed_df = ref_df.query(f'clv in {missed_clvs}').copy()"
   ]
  },
  {
   "cell_type": "code",
   "execution_count": 36,
   "metadata": {},
   "outputs": [
    {
     "data": {
      "text/plain": [
       "bridge    534\n",
       "blank     10 \n",
       "Name: evidence_type, dtype: int64"
      ]
     },
     "execution_count": 36,
     "metadata": {},
     "output_type": "execute_result"
    }
   ],
   "source": [
    "missed_df.evidence_type.value_counts()"
   ]
  },
  {
   "cell_type": "code",
   "execution_count": 37,
   "metadata": {},
   "outputs": [],
   "source": [
    "missed_df['abs_dist_to_aclv'] = missed_df.signed_dist_to_aclv.abs()"
   ]
  },
  {
   "cell_type": "code",
   "execution_count": 41,
   "metadata": {},
   "outputs": [
    {
     "data": {
      "text/html": [
       "<div>\n",
       "<style scoped>\n",
       "    .dataframe tbody tr th:only-of-type {\n",
       "        vertical-align: middle;\n",
       "    }\n",
       "\n",
       "    .dataframe tbody tr th {\n",
       "        vertical-align: top;\n",
       "    }\n",
       "\n",
       "    .dataframe thead th {\n",
       "        text-align: right;\n",
       "    }\n",
       "</style>\n",
       "<table border=\"1\" class=\"dataframe\">\n",
       "  <thead>\n",
       "    <tr style=\"text-align: right;\">\n",
       "      <th></th>\n",
       "      <th>seqname</th>\n",
       "      <th>strand</th>\n",
       "      <th>clv</th>\n",
       "      <th>aclv</th>\n",
       "      <th>gene_name</th>\n",
       "      <th>gene_id</th>\n",
       "      <th>signed_dist_to_aclv</th>\n",
       "      <th>evidence_type</th>\n",
       "      <th>contig_ids</th>\n",
       "      <th>max_contig_len</th>\n",
       "      <th>max_contig_mapq</th>\n",
       "      <th>any_contig_is_hardclipped</th>\n",
       "      <th>num_suffix_contigs</th>\n",
       "      <th>num_bridge_contigs</th>\n",
       "      <th>num_link_contigs</th>\n",
       "      <th>num_blank_contigs</th>\n",
       "      <th>num_total_contigs</th>\n",
       "      <th>num_suffix_reads</th>\n",
       "      <th>max_suffix_contig_tail_len</th>\n",
       "      <th>num_bridge_reads</th>\n",
       "      <th>max_bridge_read_tail_len</th>\n",
       "      <th>num_link_reads</th>\n",
       "      <th>ctg_hex</th>\n",
       "      <th>ctg_hex_id</th>\n",
       "      <th>ctg_hex_pos</th>\n",
       "      <th>ctg_hex_dist</th>\n",
       "      <th>ref_hex</th>\n",
       "      <th>ref_hex_id</th>\n",
       "      <th>ref_hex_pos</th>\n",
       "      <th>ref_hex_dist</th>\n",
       "      <th>abs_dist_to_aclv</th>\n",
       "    </tr>\n",
       "  </thead>\n",
       "  <tbody>\n",
       "    <tr>\n",
       "      <th>657410</th>\n",
       "      <td>chr5</td>\n",
       "      <td>-</td>\n",
       "      <td>74017080</td>\n",
       "      <td>74017083</td>\n",
       "      <td>GFM2</td>\n",
       "      <td>ENSG00000164347</td>\n",
       "      <td>-3</td>\n",
       "      <td>bridge</td>\n",
       "      <td>E0.L.64191</td>\n",
       "      <td>963</td>\n",
       "      <td>40</td>\n",
       "      <td>False</td>\n",
       "      <td>0</td>\n",
       "      <td>1</td>\n",
       "      <td>0</td>\n",
       "      <td>0</td>\n",
       "      <td>1</td>\n",
       "      <td>0</td>\n",
       "      <td>0</td>\n",
       "      <td>2</td>\n",
       "      <td>5</td>\n",
       "      <td>0</td>\n",
       "      <td>AATAAA</td>\n",
       "      <td>16</td>\n",
       "      <td>74017103</td>\n",
       "      <td>23</td>\n",
       "      <td>AATAAA</td>\n",
       "      <td>16</td>\n",
       "      <td>74017105</td>\n",
       "      <td>25</td>\n",
       "      <td>3</td>\n",
       "    </tr>\n",
       "    <tr>\n",
       "      <th>798032</th>\n",
       "      <td>chr8</td>\n",
       "      <td>-</td>\n",
       "      <td>144668458</td>\n",
       "      <td>144668388</td>\n",
       "      <td>EEF1D</td>\n",
       "      <td>ENSG00000104529</td>\n",
       "      <td>70</td>\n",
       "      <td>bridge</td>\n",
       "      <td>E1.L.11467</td>\n",
       "      <td>1298</td>\n",
       "      <td>40</td>\n",
       "      <td>False</td>\n",
       "      <td>0</td>\n",
       "      <td>1</td>\n",
       "      <td>0</td>\n",
       "      <td>0</td>\n",
       "      <td>1</td>\n",
       "      <td>0</td>\n",
       "      <td>0</td>\n",
       "      <td>1</td>\n",
       "      <td>1</td>\n",
       "      <td>0</td>\n",
       "      <td>AATAAA</td>\n",
       "      <td>16</td>\n",
       "      <td>144668497</td>\n",
       "      <td>39</td>\n",
       "      <td>AATAAA</td>\n",
       "      <td>16</td>\n",
       "      <td>144668497</td>\n",
       "      <td>39</td>\n",
       "      <td>70</td>\n",
       "    </tr>\n",
       "    <tr>\n",
       "      <th>824660</th>\n",
       "      <td>chr9</td>\n",
       "      <td>-</td>\n",
       "      <td>99314154</td>\n",
       "      <td>99314082</td>\n",
       "      <td>CDC14B</td>\n",
       "      <td>ENSG00000081377</td>\n",
       "      <td>72</td>\n",
       "      <td>bridge</td>\n",
       "      <td>E1.L.4856</td>\n",
       "      <td>2381</td>\n",
       "      <td>40</td>\n",
       "      <td>False</td>\n",
       "      <td>0</td>\n",
       "      <td>1</td>\n",
       "      <td>0</td>\n",
       "      <td>0</td>\n",
       "      <td>1</td>\n",
       "      <td>0</td>\n",
       "      <td>0</td>\n",
       "      <td>2</td>\n",
       "      <td>2</td>\n",
       "      <td>0</td>\n",
       "      <td>AATAAA</td>\n",
       "      <td>16</td>\n",
       "      <td>99314188</td>\n",
       "      <td>34</td>\n",
       "      <td>AATAAA</td>\n",
       "      <td>16</td>\n",
       "      <td>99314188</td>\n",
       "      <td>34</td>\n",
       "      <td>72</td>\n",
       "    </tr>\n",
       "    <tr>\n",
       "      <th>245655</th>\n",
       "      <td>chr14</td>\n",
       "      <td>-</td>\n",
       "      <td>50050393</td>\n",
       "      <td>50050296</td>\n",
       "      <td>RPS29</td>\n",
       "      <td>ENSG00000213741</td>\n",
       "      <td>97</td>\n",
       "      <td>bridge</td>\n",
       "      <td>E1.L.7611</td>\n",
       "      <td>401</td>\n",
       "      <td>40</td>\n",
       "      <td>False</td>\n",
       "      <td>0</td>\n",
       "      <td>1</td>\n",
       "      <td>0</td>\n",
       "      <td>0</td>\n",
       "      <td>1</td>\n",
       "      <td>0</td>\n",
       "      <td>0</td>\n",
       "      <td>2</td>\n",
       "      <td>2</td>\n",
       "      <td>0</td>\n",
       "      <td>AATAAA</td>\n",
       "      <td>16</td>\n",
       "      <td>50050420</td>\n",
       "      <td>27</td>\n",
       "      <td>AATAAA</td>\n",
       "      <td>16</td>\n",
       "      <td>50050420</td>\n",
       "      <td>27</td>\n",
       "      <td>97</td>\n",
       "    </tr>\n",
       "    <tr>\n",
       "      <th>439840</th>\n",
       "      <td>chr2</td>\n",
       "      <td>+</td>\n",
       "      <td>170492976</td>\n",
       "      <td>170492752</td>\n",
       "      <td>PPIG</td>\n",
       "      <td>ENSG00000138398</td>\n",
       "      <td>224</td>\n",
       "      <td>bridge</td>\n",
       "      <td>E0.L.63481</td>\n",
       "      <td>374</td>\n",
       "      <td>0</td>\n",
       "      <td>True</td>\n",
       "      <td>0</td>\n",
       "      <td>1</td>\n",
       "      <td>0</td>\n",
       "      <td>0</td>\n",
       "      <td>1</td>\n",
       "      <td>0</td>\n",
       "      <td>0</td>\n",
       "      <td>2</td>\n",
       "      <td>1</td>\n",
       "      <td>0</td>\n",
       "      <td>NA</td>\n",
       "      <td>-1</td>\n",
       "      <td>-1</td>\n",
       "      <td>-1</td>\n",
       "      <td>AATAAA</td>\n",
       "      <td>16</td>\n",
       "      <td>170492937</td>\n",
       "      <td>39</td>\n",
       "      <td>224</td>\n",
       "    </tr>\n",
       "    <tr>\n",
       "      <th>443718</th>\n",
       "      <td>chr2</td>\n",
       "      <td>+</td>\n",
       "      <td>198367763</td>\n",
       "      <td>198368020</td>\n",
       "      <td>HSPE1</td>\n",
       "      <td>ENSG00000115541</td>\n",
       "      <td>-257</td>\n",
       "      <td>bridge</td>\n",
       "      <td>E3.L.197</td>\n",
       "      <td>616</td>\n",
       "      <td>40</td>\n",
       "      <td>False</td>\n",
       "      <td>0</td>\n",
       "      <td>1</td>\n",
       "      <td>0</td>\n",
       "      <td>0</td>\n",
       "      <td>1</td>\n",
       "      <td>0</td>\n",
       "      <td>0</td>\n",
       "      <td>4</td>\n",
       "      <td>2</td>\n",
       "      <td>0</td>\n",
       "      <td>AATAAA</td>\n",
       "      <td>16</td>\n",
       "      <td>198367738</td>\n",
       "      <td>25</td>\n",
       "      <td>AATAAA</td>\n",
       "      <td>16</td>\n",
       "      <td>198367738</td>\n",
       "      <td>25</td>\n",
       "      <td>257</td>\n",
       "    </tr>\n",
       "    <tr>\n",
       "      <th>477802</th>\n",
       "      <td>chr2</td>\n",
       "      <td>-</td>\n",
       "      <td>198360099</td>\n",
       "      <td>198359774</td>\n",
       "      <td>HSPD1</td>\n",
       "      <td>ENSG00000144381</td>\n",
       "      <td>325</td>\n",
       "      <td>bridge</td>\n",
       "      <td>E3.L.96</td>\n",
       "      <td>1923</td>\n",
       "      <td>40</td>\n",
       "      <td>False</td>\n",
       "      <td>0</td>\n",
       "      <td>1</td>\n",
       "      <td>0</td>\n",
       "      <td>0</td>\n",
       "      <td>1</td>\n",
       "      <td>0</td>\n",
       "      <td>0</td>\n",
       "      <td>6</td>\n",
       "      <td>2</td>\n",
       "      <td>0</td>\n",
       "      <td>AATAAA</td>\n",
       "      <td>16</td>\n",
       "      <td>198360134</td>\n",
       "      <td>35</td>\n",
       "      <td>AATAAA</td>\n",
       "      <td>16</td>\n",
       "      <td>198360134</td>\n",
       "      <td>35</td>\n",
       "      <td>325</td>\n",
       "    </tr>\n",
       "    <tr>\n",
       "      <th>833396</th>\n",
       "      <td>chrM</td>\n",
       "      <td>+</td>\n",
       "      <td>997</td>\n",
       "      <td>648</td>\n",
       "      <td>MT-TF</td>\n",
       "      <td>ENSG00000210049</td>\n",
       "      <td>349</td>\n",
       "      <td>bridge</td>\n",
       "      <td>E0.L.43441</td>\n",
       "      <td>274</td>\n",
       "      <td>0</td>\n",
       "      <td>True</td>\n",
       "      <td>0</td>\n",
       "      <td>1</td>\n",
       "      <td>0</td>\n",
       "      <td>0</td>\n",
       "      <td>1</td>\n",
       "      <td>0</td>\n",
       "      <td>0</td>\n",
       "      <td>1</td>\n",
       "      <td>2</td>\n",
       "      <td>0</td>\n",
       "      <td>NA</td>\n",
       "      <td>-1</td>\n",
       "      <td>-1</td>\n",
       "      <td>-1</td>\n",
       "      <td>AATAAA</td>\n",
       "      <td>16</td>\n",
       "      <td>967</td>\n",
       "      <td>30</td>\n",
       "      <td>349</td>\n",
       "    </tr>\n",
       "    <tr>\n",
       "      <th>550652</th>\n",
       "      <td>chr3</td>\n",
       "      <td>+</td>\n",
       "      <td>101284073</td>\n",
       "      <td>101284562</td>\n",
       "      <td>TRMT10C</td>\n",
       "      <td>ENSG00000174173</td>\n",
       "      <td>-489</td>\n",
       "      <td>bridge</td>\n",
       "      <td>E0.S.109816</td>\n",
       "      <td>106</td>\n",
       "      <td>40</td>\n",
       "      <td>True</td>\n",
       "      <td>0</td>\n",
       "      <td>1</td>\n",
       "      <td>0</td>\n",
       "      <td>0</td>\n",
       "      <td>1</td>\n",
       "      <td>0</td>\n",
       "      <td>0</td>\n",
       "      <td>6</td>\n",
       "      <td>5</td>\n",
       "      <td>0</td>\n",
       "      <td>NA</td>\n",
       "      <td>-1</td>\n",
       "      <td>-1</td>\n",
       "      <td>-1</td>\n",
       "      <td>AATAAA</td>\n",
       "      <td>16</td>\n",
       "      <td>101284065</td>\n",
       "      <td>8</td>\n",
       "      <td>489</td>\n",
       "    </tr>\n",
       "    <tr>\n",
       "      <th>712114</th>\n",
       "      <td>chr6</td>\n",
       "      <td>-</td>\n",
       "      <td>135307948</td>\n",
       "      <td>135308791</td>\n",
       "      <td>HBS1L</td>\n",
       "      <td>ENSG00000112339</td>\n",
       "      <td>-843</td>\n",
       "      <td>bridge</td>\n",
       "      <td>E2.L.2538</td>\n",
       "      <td>2699</td>\n",
       "      <td>40</td>\n",
       "      <td>False</td>\n",
       "      <td>0</td>\n",
       "      <td>1</td>\n",
       "      <td>0</td>\n",
       "      <td>0</td>\n",
       "      <td>1</td>\n",
       "      <td>0</td>\n",
       "      <td>0</td>\n",
       "      <td>2</td>\n",
       "      <td>2</td>\n",
       "      <td>0</td>\n",
       "      <td>AATAAA</td>\n",
       "      <td>16</td>\n",
       "      <td>135307968</td>\n",
       "      <td>20</td>\n",
       "      <td>AATAAA</td>\n",
       "      <td>16</td>\n",
       "      <td>135307968</td>\n",
       "      <td>20</td>\n",
       "      <td>843</td>\n",
       "    </tr>\n",
       "  </tbody>\n",
       "</table>\n",
       "</div>"
      ],
      "text/plain": [
       "       seqname strand        clv       aclv gene_name          gene_id  signed_dist_to_aclv evidence_type   contig_ids max_contig_len max_contig_mapq any_contig_is_hardclipped num_suffix_contigs num_bridge_contigs num_link_contigs num_blank_contigs num_total_contigs num_suffix_reads  \\\n",
       "657410  chr5    -      74017080   74017083   GFM2      ENSG00000164347 -3                    bridge        E0.L.64191   963            40              False                     0                  1                  0                0                 1                 0                 \n",
       "798032  chr8    -      144668458  144668388  EEF1D     ENSG00000104529  70                   bridge        E1.L.11467   1298           40              False                     0                  1                  0                0                 1                 0                 \n",
       "824660  chr9    -      99314154   99314082   CDC14B    ENSG00000081377  72                   bridge        E1.L.4856    2381           40              False                     0                  1                  0                0                 1                 0                 \n",
       "245655  chr14   -      50050393   50050296   RPS29     ENSG00000213741  97                   bridge        E1.L.7611    401            40              False                     0                  1                  0                0                 1                 0                 \n",
       "439840  chr2    +      170492976  170492752  PPIG      ENSG00000138398  224                  bridge        E0.L.63481   374            0               True                      0                  1                  0                0                 1                 0                 \n",
       "443718  chr2    +      198367763  198368020  HSPE1     ENSG00000115541 -257                  bridge        E3.L.197     616            40              False                     0                  1                  0                0                 1                 0                 \n",
       "477802  chr2    -      198360099  198359774  HSPD1     ENSG00000144381  325                  bridge        E3.L.96      1923           40              False                     0                  1                  0                0                 1                 0                 \n",
       "833396  chrM    +      997        648        MT-TF     ENSG00000210049  349                  bridge        E0.L.43441   274            0               True                      0                  1                  0                0                 1                 0                 \n",
       "550652  chr3    +      101284073  101284562  TRMT10C   ENSG00000174173 -489                  bridge        E0.S.109816  106            40              True                      0                  1                  0                0                 1                 0                 \n",
       "712114  chr6    -      135307948  135308791  HBS1L     ENSG00000112339 -843                  bridge        E2.L.2538    2699           40              False                     0                  1                  0                0                 1                 0                 \n",
       "\n",
       "       max_suffix_contig_tail_len num_bridge_reads max_bridge_read_tail_len num_link_reads ctg_hex ctg_hex_id ctg_hex_pos ctg_hex_dist ref_hex ref_hex_id ref_hex_pos ref_hex_dist  abs_dist_to_aclv  \n",
       "657410  0                          2                5                        0              AATAAA  16         74017103    23           AATAAA  16         74017105    25           3                 \n",
       "798032  0                          1                1                        0              AATAAA  16         144668497   39           AATAAA  16         144668497   39           70                \n",
       "824660  0                          2                2                        0              AATAAA  16         99314188    34           AATAAA  16         99314188    34           72                \n",
       "245655  0                          2                2                        0              AATAAA  16         50050420    27           AATAAA  16         50050420    27           97                \n",
       "439840  0                          2                1                        0              NA      -1         -1          -1           AATAAA  16         170492937   39           224               \n",
       "443718  0                          4                2                        0              AATAAA  16         198367738   25           AATAAA  16         198367738   25           257               \n",
       "477802  0                          6                2                        0              AATAAA  16         198360134   35           AATAAA  16         198360134   35           325               \n",
       "833396  0                          1                2                        0              NA      -1         -1          -1           AATAAA  16         967         30           349               \n",
       "550652  0                          6                5                        0              NA      -1         -1          -1           AATAAA  16         101284065   8            489               \n",
       "712114  0                          2                2                        0              AATAAA  16         135307968   20           AATAAA  16         135307968   20           843               "
      ]
     },
     "execution_count": 41,
     "metadata": {},
     "output_type": "execute_result"
    }
   ],
   "source": [
    "missed_df.query('evidence_type == \"bridge\"')\\\n",
    "    .query('ref_hex == \"AATAAA\"').sort_values('abs_dist_to_aclv').head(10)"
   ]
  },
  {
   "cell_type": "code",
   "execution_count": 44,
   "metadata": {},
   "outputs": [
    {
     "data": {
      "text/html": [
       "<div>\n",
       "<style scoped>\n",
       "    .dataframe tbody tr th:only-of-type {\n",
       "        vertical-align: middle;\n",
       "    }\n",
       "\n",
       "    .dataframe tbody tr th {\n",
       "        vertical-align: top;\n",
       "    }\n",
       "\n",
       "    .dataframe thead th {\n",
       "        text-align: right;\n",
       "    }\n",
       "</style>\n",
       "<table border=\"1\" class=\"dataframe\">\n",
       "  <thead>\n",
       "    <tr style=\"text-align: right;\">\n",
       "      <th></th>\n",
       "      <th>seqname</th>\n",
       "      <th>strand</th>\n",
       "      <th>clv</th>\n",
       "      <th>aclv</th>\n",
       "      <th>gene_name</th>\n",
       "      <th>gene_id</th>\n",
       "      <th>signed_dist_to_aclv</th>\n",
       "      <th>evidence_type</th>\n",
       "      <th>contig_ids</th>\n",
       "      <th>max_contig_len</th>\n",
       "      <th>max_contig_mapq</th>\n",
       "      <th>any_contig_is_hardclipped</th>\n",
       "      <th>num_suffix_contigs</th>\n",
       "      <th>num_bridge_contigs</th>\n",
       "      <th>num_link_contigs</th>\n",
       "      <th>num_blank_contigs</th>\n",
       "      <th>num_total_contigs</th>\n",
       "      <th>num_suffix_reads</th>\n",
       "      <th>max_suffix_contig_tail_len</th>\n",
       "      <th>num_bridge_reads</th>\n",
       "      <th>max_bridge_read_tail_len</th>\n",
       "      <th>num_link_reads</th>\n",
       "      <th>ctg_hex</th>\n",
       "      <th>ctg_hex_id</th>\n",
       "      <th>ctg_hex_pos</th>\n",
       "      <th>ctg_hex_dist</th>\n",
       "      <th>ref_hex</th>\n",
       "      <th>ref_hex_id</th>\n",
       "      <th>ref_hex_pos</th>\n",
       "      <th>ref_hex_dist</th>\n",
       "      <th>clv_m1</th>\n",
       "      <th>clv_p1</th>\n",
       "    </tr>\n",
       "  </thead>\n",
       "  <tbody>\n",
       "    <tr>\n",
       "      <th>781363</th>\n",
       "      <td>chr8</td>\n",
       "      <td>+</td>\n",
       "      <td>144677134</td>\n",
       "      <td>144682485</td>\n",
       "      <td>TIGD5</td>\n",
       "      <td>ENSG00000179886</td>\n",
       "      <td>-5351</td>\n",
       "      <td>blank</td>\n",
       "      <td>E1.L.11467</td>\n",
       "      <td>1298</td>\n",
       "      <td>40</td>\n",
       "      <td>False</td>\n",
       "      <td>0</td>\n",
       "      <td>0</td>\n",
       "      <td>0</td>\n",
       "      <td>1</td>\n",
       "      <td>1</td>\n",
       "      <td>0</td>\n",
       "      <td>0</td>\n",
       "      <td>0</td>\n",
       "      <td>0</td>\n",
       "      <td>0</td>\n",
       "      <td>NA</td>\n",
       "      <td>-1</td>\n",
       "      <td>-1</td>\n",
       "      <td>-1</td>\n",
       "      <td>NA</td>\n",
       "      <td>-1</td>\n",
       "      <td>-1</td>\n",
       "      <td>-1</td>\n",
       "      <td>144677133</td>\n",
       "      <td>144677135</td>\n",
       "    </tr>\n",
       "    <tr>\n",
       "      <th>797962</th>\n",
       "      <td>chr8</td>\n",
       "      <td>-</td>\n",
       "      <td>144663470</td>\n",
       "      <td>144663248</td>\n",
       "      <td>EEF1D</td>\n",
       "      <td>ENSG00000104529</td>\n",
       "      <td>222</td>\n",
       "      <td>blank</td>\n",
       "      <td>E0.S.110148|E1.L.11467</td>\n",
       "      <td>1298</td>\n",
       "      <td>40</td>\n",
       "      <td>False</td>\n",
       "      <td>0</td>\n",
       "      <td>0</td>\n",
       "      <td>0</td>\n",
       "      <td>2</td>\n",
       "      <td>2</td>\n",
       "      <td>0</td>\n",
       "      <td>0</td>\n",
       "      <td>0</td>\n",
       "      <td>0</td>\n",
       "      <td>0</td>\n",
       "      <td>NA</td>\n",
       "      <td>-1</td>\n",
       "      <td>-1</td>\n",
       "      <td>-1</td>\n",
       "      <td>NA</td>\n",
       "      <td>-1</td>\n",
       "      <td>-1</td>\n",
       "      <td>-1</td>\n",
       "      <td>144663469</td>\n",
       "      <td>144663471</td>\n",
       "    </tr>\n",
       "    <tr>\n",
       "      <th>797971</th>\n",
       "      <td>chr8</td>\n",
       "      <td>-</td>\n",
       "      <td>144668898</td>\n",
       "      <td>144668898</td>\n",
       "      <td>EEF1D</td>\n",
       "      <td>ENSG00000104529</td>\n",
       "      <td>0</td>\n",
       "      <td>blank|bridge</td>\n",
       "      <td>E0.U.122352|E1.L.11467</td>\n",
       "      <td>1298</td>\n",
       "      <td>40</td>\n",
       "      <td>False</td>\n",
       "      <td>0</td>\n",
       "      <td>1</td>\n",
       "      <td>0</td>\n",
       "      <td>1</td>\n",
       "      <td>2</td>\n",
       "      <td>0</td>\n",
       "      <td>0</td>\n",
       "      <td>1</td>\n",
       "      <td>1</td>\n",
       "      <td>0</td>\n",
       "      <td>NA</td>\n",
       "      <td>-1</td>\n",
       "      <td>-1</td>\n",
       "      <td>-1</td>\n",
       "      <td>NA</td>\n",
       "      <td>-1</td>\n",
       "      <td>-1</td>\n",
       "      <td>-1</td>\n",
       "      <td>144668897</td>\n",
       "      <td>144668899</td>\n",
       "    </tr>\n",
       "  </tbody>\n",
       "</table>\n",
       "</div>"
      ],
      "text/plain": [
       "       seqname strand        clv       aclv gene_name          gene_id  signed_dist_to_aclv evidence_type              contig_ids max_contig_len max_contig_mapq any_contig_is_hardclipped num_suffix_contigs num_bridge_contigs num_link_contigs num_blank_contigs num_total_contigs num_suffix_reads  \\\n",
       "781363  chr8    +      144677134  144682485  TIGD5     ENSG00000179886 -5351                 blank         E1.L.11467              1298           40              False                     0                  0                  0                1                 1                 0                 \n",
       "797962  chr8    -      144663470  144663248  EEF1D     ENSG00000104529  222                  blank         E0.S.110148|E1.L.11467  1298           40              False                     0                  0                  0                2                 2                 0                 \n",
       "797971  chr8    -      144668898  144668898  EEF1D     ENSG00000104529  0                    blank|bridge  E0.U.122352|E1.L.11467  1298           40              False                     0                  1                  0                1                 2                 0                 \n",
       "\n",
       "       max_suffix_contig_tail_len num_bridge_reads max_bridge_read_tail_len num_link_reads ctg_hex ctg_hex_id ctg_hex_pos ctg_hex_dist ref_hex ref_hex_id ref_hex_pos ref_hex_dist     clv_m1     clv_p1  \n",
       "781363  0                          0                0                        0              NA      -1         -1          -1           NA      -1         -1          -1           144677133  144677135  \n",
       "797962  0                          0                0                        0              NA      -1         -1          -1           NA      -1         -1          -1           144663469  144663471  \n",
       "797971  0                          1                1                        0              NA      -1         -1          -1           NA      -1         -1          -1           144668897  144668899  "
      ]
     },
     "execution_count": 44,
     "metadata": {},
     "output_type": "execute_result"
    }
   ],
   "source": [
    "cur_df[cur_df.contig_ids.str.contains('E1.L.11467')]"
   ]
  },
  {
   "cell_type": "code",
   "execution_count": 26,
   "metadata": {},
   "outputs": [
    {
     "data": {
      "text/html": [
       "<div>\n",
       "<style scoped>\n",
       "    .dataframe tbody tr th:only-of-type {\n",
       "        vertical-align: middle;\n",
       "    }\n",
       "\n",
       "    .dataframe tbody tr th {\n",
       "        vertical-align: top;\n",
       "    }\n",
       "\n",
       "    .dataframe thead th {\n",
       "        text-align: right;\n",
       "    }\n",
       "</style>\n",
       "<table border=\"1\" class=\"dataframe\">\n",
       "  <thead>\n",
       "    <tr style=\"text-align: right;\">\n",
       "      <th></th>\n",
       "      <th>seqname</th>\n",
       "      <th>strand</th>\n",
       "      <th>clv</th>\n",
       "      <th>aclv</th>\n",
       "      <th>gene_name</th>\n",
       "      <th>gene_id</th>\n",
       "      <th>signed_dist_to_aclv</th>\n",
       "      <th>evidence_type</th>\n",
       "      <th>contig_ids</th>\n",
       "      <th>max_contig_len</th>\n",
       "      <th>max_contig_mapq</th>\n",
       "      <th>any_contig_is_hardclipped</th>\n",
       "      <th>num_suffix_contigs</th>\n",
       "      <th>num_bridge_contigs</th>\n",
       "      <th>num_link_contigs</th>\n",
       "      <th>num_blank_contigs</th>\n",
       "      <th>num_total_contigs</th>\n",
       "      <th>num_suffix_reads</th>\n",
       "      <th>max_suffix_contig_tail_len</th>\n",
       "      <th>num_bridge_reads</th>\n",
       "      <th>max_bridge_read_tail_len</th>\n",
       "      <th>num_link_reads</th>\n",
       "      <th>ctg_hex</th>\n",
       "      <th>ctg_hex_id</th>\n",
       "      <th>ctg_hex_pos</th>\n",
       "      <th>ctg_hex_dist</th>\n",
       "      <th>ref_hex</th>\n",
       "      <th>ref_hex_id</th>\n",
       "      <th>ref_hex_pos</th>\n",
       "      <th>ref_hex_dist</th>\n",
       "      <th>clv_m1</th>\n",
       "      <th>clv_p1</th>\n",
       "    </tr>\n",
       "  </thead>\n",
       "  <tbody>\n",
       "    <tr>\n",
       "      <th>657356</th>\n",
       "      <td>chr5</td>\n",
       "      <td>-</td>\n",
       "      <td>74017082</td>\n",
       "      <td>74017083</td>\n",
       "      <td>GFM2</td>\n",
       "      <td>ENSG00000164347</td>\n",
       "      <td>-1</td>\n",
       "      <td>bridge</td>\n",
       "      <td>E0.L.64191|E0.U.323536</td>\n",
       "      <td>963</td>\n",
       "      <td>40</td>\n",
       "      <td>False</td>\n",
       "      <td>0</td>\n",
       "      <td>2</td>\n",
       "      <td>0</td>\n",
       "      <td>0</td>\n",
       "      <td>2</td>\n",
       "      <td>0</td>\n",
       "      <td>0</td>\n",
       "      <td>4</td>\n",
       "      <td>5</td>\n",
       "      <td>0</td>\n",
       "      <td>AATAAA</td>\n",
       "      <td>16</td>\n",
       "      <td>74017105</td>\n",
       "      <td>23</td>\n",
       "      <td>AATAAA</td>\n",
       "      <td>16</td>\n",
       "      <td>74017105</td>\n",
       "      <td>23</td>\n",
       "      <td>74017081</td>\n",
       "      <td>74017083</td>\n",
       "    </tr>\n",
       "  </tbody>\n",
       "</table>\n",
       "</div>"
      ],
      "text/plain": [
       "       seqname strand       clv      aclv gene_name          gene_id  signed_dist_to_aclv evidence_type              contig_ids max_contig_len max_contig_mapq any_contig_is_hardclipped num_suffix_contigs num_bridge_contigs num_link_contigs num_blank_contigs num_total_contigs num_suffix_reads  \\\n",
       "657356  chr5    -      74017082  74017083  GFM2      ENSG00000164347 -1                    bridge        E0.L.64191|E0.U.323536  963            40              False                     0                  2                  0                0                 2                 0                 \n",
       "\n",
       "       max_suffix_contig_tail_len num_bridge_reads max_bridge_read_tail_len num_link_reads ctg_hex ctg_hex_id ctg_hex_pos ctg_hex_dist ref_hex ref_hex_id ref_hex_pos ref_hex_dist    clv_m1    clv_p1  \n",
       "657356  0                          4                5                        0              AATAAA  16         74017105    23           AATAAA  16         74017105    23           74017081  74017083  "
      ]
     },
     "execution_count": 26,
     "metadata": {},
     "output_type": "execute_result"
    }
   ],
   "source": [
    "cur_df.query('clv == 74017082')"
   ]
  },
  {
   "cell_type": "code",
   "execution_count": 42,
   "metadata": {},
   "outputs": [],
   "source": [
    "# missed_df.query('evidence_type == \"bridge\"').query('signed_dist_to_aclv <= 0').sort_values('signed_dist_to_aclv', ascending=False)\\\n",
    "#     .head(10).reset_index(drop=True).iloc[5:]"
   ]
  },
  {
   "cell_type": "code",
   "execution_count": null,
   "metadata": {},
   "outputs": [],
   "source": []
  },
  {
   "cell_type": "code",
   "execution_count": null,
   "metadata": {},
   "outputs": [],
   "source": []
  },
  {
   "cell_type": "code",
   "execution_count": null,
   "metadata": {},
   "outputs": [],
   "source": []
  },
  {
   "cell_type": "code",
   "execution_count": 24,
   "metadata": {},
   "outputs": [
    {
     "data": {
      "text/html": [
       "<div>\n",
       "<style scoped>\n",
       "    .dataframe tbody tr th:only-of-type {\n",
       "        vertical-align: middle;\n",
       "    }\n",
       "\n",
       "    .dataframe tbody tr th {\n",
       "        vertical-align: top;\n",
       "    }\n",
       "\n",
       "    .dataframe thead th {\n",
       "        text-align: right;\n",
       "    }\n",
       "</style>\n",
       "<table border=\"1\" class=\"dataframe\">\n",
       "  <thead>\n",
       "    <tr style=\"text-align: right;\">\n",
       "      <th></th>\n",
       "      <th>seqname</th>\n",
       "      <th>strand</th>\n",
       "      <th>clv</th>\n",
       "      <th>aclv</th>\n",
       "      <th>gene_name</th>\n",
       "      <th>gene_id</th>\n",
       "      <th>signed_dist_to_aclv</th>\n",
       "      <th>evidence_type</th>\n",
       "      <th>contig_ids</th>\n",
       "      <th>max_contig_len</th>\n",
       "      <th>max_contig_mapq</th>\n",
       "      <th>any_contig_is_hardclipped</th>\n",
       "      <th>num_suffix_contigs</th>\n",
       "      <th>num_bridge_contigs</th>\n",
       "      <th>num_link_contigs</th>\n",
       "      <th>num_blank_contigs</th>\n",
       "      <th>num_total_contigs</th>\n",
       "      <th>num_suffix_reads</th>\n",
       "      <th>max_suffix_contig_tail_len</th>\n",
       "      <th>num_bridge_reads</th>\n",
       "      <th>max_bridge_read_tail_len</th>\n",
       "      <th>num_link_reads</th>\n",
       "      <th>ctg_hex</th>\n",
       "      <th>ctg_hex_id</th>\n",
       "      <th>ctg_hex_pos</th>\n",
       "      <th>ctg_hex_dist</th>\n",
       "      <th>ref_hex</th>\n",
       "      <th>ref_hex_id</th>\n",
       "      <th>ref_hex_pos</th>\n",
       "      <th>ref_hex_dist</th>\n",
       "      <th>clv_m1</th>\n",
       "      <th>clv_p1</th>\n",
       "    </tr>\n",
       "  </thead>\n",
       "  <tbody>\n",
       "    <tr>\n",
       "      <th>812011</th>\n",
       "      <td>chr9</td>\n",
       "      <td>+</td>\n",
       "      <td>129638500</td>\n",
       "      <td>129648154</td>\n",
       "      <td>ZBTB34</td>\n",
       "      <td>ENSG00000177125</td>\n",
       "      <td>-9654</td>\n",
       "      <td>blank</td>\n",
       "      <td>01.U.576215</td>\n",
       "      <td>42</td>\n",
       "      <td>0</td>\n",
       "      <td>True</td>\n",
       "      <td>0</td>\n",
       "      <td>0</td>\n",
       "      <td>0</td>\n",
       "      <td>1</td>\n",
       "      <td>1</td>\n",
       "      <td>0</td>\n",
       "      <td>0</td>\n",
       "      <td>0</td>\n",
       "      <td>0</td>\n",
       "      <td>0</td>\n",
       "      <td>NA</td>\n",
       "      <td>-1</td>\n",
       "      <td>-1</td>\n",
       "      <td>-1</td>\n",
       "      <td>NA</td>\n",
       "      <td>-1</td>\n",
       "      <td>-1</td>\n",
       "      <td>-1</td>\n",
       "      <td>129638499</td>\n",
       "      <td>129638501</td>\n",
       "    </tr>\n",
       "  </tbody>\n",
       "</table>\n",
       "</div>"
      ],
      "text/plain": [
       "       seqname strand        clv       aclv gene_name          gene_id  signed_dist_to_aclv evidence_type   contig_ids max_contig_len max_contig_mapq any_contig_is_hardclipped num_suffix_contigs num_bridge_contigs num_link_contigs num_blank_contigs num_total_contigs num_suffix_reads  \\\n",
       "812011  chr9    +      129638500  129648154  ZBTB34    ENSG00000177125 -9654                 blank         01.U.576215  42             0               True                      0                  0                  0                1                 1                 0                 \n",
       "\n",
       "       max_suffix_contig_tail_len num_bridge_reads max_bridge_read_tail_len num_link_reads ctg_hex ctg_hex_id ctg_hex_pos ctg_hex_dist ref_hex ref_hex_id ref_hex_pos ref_hex_dist     clv_m1     clv_p1  \n",
       "812011  0                          0                0                        0              NA      -1         -1          -1           NA      -1         -1          -1           129638499  129638501  "
      ]
     },
     "execution_count": 24,
     "metadata": {},
     "output_type": "execute_result"
    }
   ],
   "source": [
    "cur_df.query('contig_ids == \"01.U.576215\"')"
   ]
  },
  {
   "cell_type": "code",
   "execution_count": null,
   "metadata": {},
   "outputs": [],
   "source": []
  },
  {
   "cell_type": "code",
   "execution_count": null,
   "metadata": {},
   "outputs": [],
   "source": []
  },
  {
   "cell_type": "code",
   "execution_count": null,
   "metadata": {},
   "outputs": [],
   "source": []
  },
  {
   "cell_type": "code",
   "execution_count": 27,
   "metadata": {},
   "outputs": [
    {
     "data": {
      "text/html": [
       "<div>\n",
       "<style scoped>\n",
       "    .dataframe tbody tr th:only-of-type {\n",
       "        vertical-align: middle;\n",
       "    }\n",
       "\n",
       "    .dataframe tbody tr th {\n",
       "        vertical-align: top;\n",
       "    }\n",
       "\n",
       "    .dataframe thead th {\n",
       "        text-align: right;\n",
       "    }\n",
       "</style>\n",
       "<table border=\"1\" class=\"dataframe\">\n",
       "  <thead>\n",
       "    <tr style=\"text-align: right;\">\n",
       "      <th></th>\n",
       "      <th>seqname</th>\n",
       "      <th>strand</th>\n",
       "      <th>clv</th>\n",
       "      <th>aclv</th>\n",
       "      <th>gene_name</th>\n",
       "      <th>gene_id</th>\n",
       "      <th>signed_dist_to_aclv</th>\n",
       "      <th>evidence_type</th>\n",
       "      <th>contig_ids</th>\n",
       "      <th>max_contig_len</th>\n",
       "      <th>max_contig_mapq</th>\n",
       "      <th>any_contig_is_hardclipped</th>\n",
       "      <th>num_suffix_contigs</th>\n",
       "      <th>num_bridge_contigs</th>\n",
       "      <th>num_link_contigs</th>\n",
       "      <th>num_blank_contigs</th>\n",
       "      <th>num_total_contigs</th>\n",
       "      <th>num_suffix_reads</th>\n",
       "      <th>max_suffix_contig_tail_len</th>\n",
       "      <th>num_bridge_reads</th>\n",
       "      <th>max_bridge_read_tail_len</th>\n",
       "      <th>num_link_reads</th>\n",
       "      <th>ctg_hex</th>\n",
       "      <th>ctg_hex_id</th>\n",
       "      <th>ctg_hex_pos</th>\n",
       "      <th>ctg_hex_dist</th>\n",
       "      <th>ref_hex</th>\n",
       "      <th>ref_hex_id</th>\n",
       "      <th>ref_hex_pos</th>\n",
       "      <th>ref_hex_dist</th>\n",
       "    </tr>\n",
       "  </thead>\n",
       "  <tbody>\n",
       "    <tr>\n",
       "      <th>288391</th>\n",
       "      <td>chr16</td>\n",
       "      <td>+</td>\n",
       "      <td>16388114</td>\n",
       "      <td>16388135</td>\n",
       "      <td>NOMO3</td>\n",
       "      <td>ENSG00000103226</td>\n",
       "      <td>-21</td>\n",
       "      <td>bridge</td>\n",
       "      <td>01.L.377168</td>\n",
       "      <td>184</td>\n",
       "      <td>0</td>\n",
       "      <td>True</td>\n",
       "      <td>0</td>\n",
       "      <td>1</td>\n",
       "      <td>0</td>\n",
       "      <td>0</td>\n",
       "      <td>1</td>\n",
       "      <td>0</td>\n",
       "      <td>0</td>\n",
       "      <td>67</td>\n",
       "      <td>2</td>\n",
       "      <td>0</td>\n",
       "      <td>NA</td>\n",
       "      <td>-1</td>\n",
       "      <td>-1</td>\n",
       "      <td>-1</td>\n",
       "      <td>NA</td>\n",
       "      <td>-1</td>\n",
       "      <td>-1</td>\n",
       "      <td>-1</td>\n",
       "    </tr>\n",
       "    <tr>\n",
       "      <th>718349</th>\n",
       "      <td>chr7</td>\n",
       "      <td>+</td>\n",
       "      <td>5566820</td>\n",
       "      <td>5596877</td>\n",
       "      <td>CTB-161C1.1</td>\n",
       "      <td>ENSG00000272719</td>\n",
       "      <td>-30057</td>\n",
       "      <td>bridge</td>\n",
       "      <td>E0.L.69552</td>\n",
       "      <td>267</td>\n",
       "      <td>40</td>\n",
       "      <td>True</td>\n",
       "      <td>0</td>\n",
       "      <td>1</td>\n",
       "      <td>0</td>\n",
       "      <td>0</td>\n",
       "      <td>1</td>\n",
       "      <td>0</td>\n",
       "      <td>0</td>\n",
       "      <td>26</td>\n",
       "      <td>7</td>\n",
       "      <td>0</td>\n",
       "      <td>NA</td>\n",
       "      <td>-1</td>\n",
       "      <td>-1</td>\n",
       "      <td>-1</td>\n",
       "      <td>NA</td>\n",
       "      <td>-1</td>\n",
       "      <td>-1</td>\n",
       "      <td>-1</td>\n",
       "    </tr>\n",
       "    <tr>\n",
       "      <th>639318</th>\n",
       "      <td>chr5</td>\n",
       "      <td>+</td>\n",
       "      <td>117081763</td>\n",
       "      <td>116881994</td>\n",
       "      <td>LINC00992</td>\n",
       "      <td>ENSG00000248663</td>\n",
       "      <td>199769</td>\n",
       "      <td>bridge</td>\n",
       "      <td>01.U.677024</td>\n",
       "      <td>75</td>\n",
       "      <td>4</td>\n",
       "      <td>False</td>\n",
       "      <td>0</td>\n",
       "      <td>1</td>\n",
       "      <td>0</td>\n",
       "      <td>0</td>\n",
       "      <td>1</td>\n",
       "      <td>0</td>\n",
       "      <td>0</td>\n",
       "      <td>15</td>\n",
       "      <td>24</td>\n",
       "      <td>0</td>\n",
       "      <td>NA</td>\n",
       "      <td>-1</td>\n",
       "      <td>-1</td>\n",
       "      <td>-1</td>\n",
       "      <td>NA</td>\n",
       "      <td>-1</td>\n",
       "      <td>-1</td>\n",
       "      <td>-1</td>\n",
       "    </tr>\n",
       "    <tr>\n",
       "      <th>706718</th>\n",
       "      <td>chr6</td>\n",
       "      <td>-</td>\n",
       "      <td>79918293</td>\n",
       "      <td>79910962</td>\n",
       "      <td>HMGN3</td>\n",
       "      <td>ENSG00000118418</td>\n",
       "      <td>7331</td>\n",
       "      <td>bridge</td>\n",
       "      <td>E2.L.1715</td>\n",
       "      <td>856</td>\n",
       "      <td>40</td>\n",
       "      <td>False</td>\n",
       "      <td>0</td>\n",
       "      <td>1</td>\n",
       "      <td>0</td>\n",
       "      <td>0</td>\n",
       "      <td>1</td>\n",
       "      <td>0</td>\n",
       "      <td>0</td>\n",
       "      <td>13</td>\n",
       "      <td>2</td>\n",
       "      <td>0</td>\n",
       "      <td>NA</td>\n",
       "      <td>-1</td>\n",
       "      <td>-1</td>\n",
       "      <td>-1</td>\n",
       "      <td>NA</td>\n",
       "      <td>-1</td>\n",
       "      <td>-1</td>\n",
       "      <td>-1</td>\n",
       "    </tr>\n",
       "    <tr>\n",
       "      <th>629627</th>\n",
       "      <td>chr5</td>\n",
       "      <td>+</td>\n",
       "      <td>33631226</td>\n",
       "      <td>33503241</td>\n",
       "      <td>CTD-2233C11.3</td>\n",
       "      <td>ENSG00000249360</td>\n",
       "      <td>127985</td>\n",
       "      <td>bridge</td>\n",
       "      <td>01.U.1059438</td>\n",
       "      <td>75</td>\n",
       "      <td>40</td>\n",
       "      <td>False</td>\n",
       "      <td>0</td>\n",
       "      <td>1</td>\n",
       "      <td>0</td>\n",
       "      <td>0</td>\n",
       "      <td>1</td>\n",
       "      <td>0</td>\n",
       "      <td>0</td>\n",
       "      <td>12</td>\n",
       "      <td>10</td>\n",
       "      <td>0</td>\n",
       "      <td>NA</td>\n",
       "      <td>-1</td>\n",
       "      <td>-1</td>\n",
       "      <td>-1</td>\n",
       "      <td>NA</td>\n",
       "      <td>-1</td>\n",
       "      <td>-1</td>\n",
       "      <td>-1</td>\n",
       "    </tr>\n",
       "  </tbody>\n",
       "</table>\n",
       "</div>"
      ],
      "text/plain": [
       "       seqname strand        clv       aclv      gene_name          gene_id  signed_dist_to_aclv evidence_type    contig_ids max_contig_len max_contig_mapq any_contig_is_hardclipped num_suffix_contigs num_bridge_contigs num_link_contigs num_blank_contigs num_total_contigs num_suffix_reads  \\\n",
       "288391  chr16   +      16388114   16388135   NOMO3          ENSG00000103226 -21                   bridge        01.L.377168   184            0               True                      0                  1                  0                0                 1                 0                 \n",
       "718349  chr7    +      5566820    5596877    CTB-161C1.1    ENSG00000272719 -30057                bridge        E0.L.69552    267            40              True                      0                  1                  0                0                 1                 0                 \n",
       "639318  chr5    +      117081763  116881994  LINC00992      ENSG00000248663  199769               bridge        01.U.677024   75             4               False                     0                  1                  0                0                 1                 0                 \n",
       "706718  chr6    -      79918293   79910962   HMGN3          ENSG00000118418  7331                 bridge        E2.L.1715     856            40              False                     0                  1                  0                0                 1                 0                 \n",
       "629627  chr5    +      33631226   33503241   CTD-2233C11.3  ENSG00000249360  127985               bridge        01.U.1059438  75             40              False                     0                  1                  0                0                 1                 0                 \n",
       "\n",
       "       max_suffix_contig_tail_len num_bridge_reads max_bridge_read_tail_len num_link_reads ctg_hex ctg_hex_id ctg_hex_pos ctg_hex_dist ref_hex ref_hex_id ref_hex_pos ref_hex_dist  \n",
       "288391  0                          67               2                        0              NA      -1         -1          -1           NA      -1         -1          -1           \n",
       "718349  0                          26               7                        0              NA      -1         -1          -1           NA      -1         -1          -1           \n",
       "639318  0                          15               24                       0              NA      -1         -1          -1           NA      -1         -1          -1           \n",
       "706718  0                          13               2                        0              NA      -1         -1          -1           NA      -1         -1          -1           \n",
       "629627  0                          12               10                       0              NA      -1         -1          -1           NA      -1         -1          -1           "
      ]
     },
     "execution_count": 27,
     "metadata": {},
     "output_type": "execute_result"
    }
   ],
   "source": [
    "missed_df.query('evidence_type == \"bridge\"').sort_values('num_bridge_reads', ascending=False).head()"
   ]
  },
  {
   "cell_type": "code",
   "execution_count": null,
   "metadata": {},
   "outputs": [],
   "source": []
  },
  {
   "cell_type": "code",
   "execution_count": null,
   "metadata": {},
   "outputs": [],
   "source": []
  }
 ],
 "metadata": {
  "kernelspec": {
   "display_name": "Python 3",
   "language": "python",
   "name": "python3"
  },
  "language_info": {
   "codemirror_mode": {
    "name": "ipython",
    "version": 3
   },
   "file_extension": ".py",
   "mimetype": "text/x-python",
   "name": "python",
   "nbconvert_exporter": "python",
   "pygments_lexer": "ipython3",
   "version": "3.6.4"
  }
 },
 "nbformat": 4,
 "nbformat_minor": 2
}
