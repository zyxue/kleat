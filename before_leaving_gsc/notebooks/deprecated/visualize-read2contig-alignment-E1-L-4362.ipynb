{
 "cells": [
  {
   "cell_type": "code",
   "execution_count": 1,
   "metadata": {},
   "outputs": [],
   "source": [
    "import random"
   ]
  },
  {
   "cell_type": "code",
   "execution_count": null,
   "metadata": {},
   "outputs": [],
   "source": [
    "random.choices"
   ]
  },
  {
   "cell_type": "code",
   "execution_count": 1,
   "metadata": {},
   "outputs": [
    {
     "name": "stdout",
     "output_type": "stream",
     "text": [
      "seaborn not found\n"
     ]
    }
   ],
   "source": [
    "from eda_imports import *\n",
    "\n",
    "import pysam\n",
    "from tqdm import tqdm\n",
    "\n",
    "import kleat.misc.settings as S\n",
    "import kleat.misc.utils as U\n",
    "from kleat.misc.apautils import calc_genome_offset\n",
    "from kleat.evidence import bridge\n",
    "\n",
    "from kleat.visaln import visaln"
   ]
  },
  {
   "cell_type": "code",
   "execution_count": 2,
   "metadata": {},
   "outputs": [],
   "source": [
    "# DATA_DIR='/projects/btl/zxue/tasrkleat-TCGA-results/tasrkleat-TCGA-analysis-scripts/benchmark-kleat.bk/UHR/C1/tasrkleat-results'\n",
    "DATA_DIR='../../kleat/'"
   ]
  },
  {
   "cell_type": "code",
   "execution_count": 3,
   "metadata": {},
   "outputs": [],
   "source": [
    "# c2g_bam = pysam.AlignmentFile(os.path.join(DATA_DIR, './benchmark_transcriptome/HBRC4/c2g.bam'))\n",
    "# r2c_bam = pysam.AlignmentFile(os.path.join(DATA_DIR, './benchmark_transcriptome/HBRC4/r2c_sorted.bam'))\n",
    "\n",
    "c2g_bam = pysam.AlignmentFile(os.path.join(DATA_DIR, './benchmark_transcriptome/UHRC1/c2g.bam'))\n",
    "r2c_bam = pysam.AlignmentFile(os.path.join(DATA_DIR, './benchmark_transcriptome/UHRC1/r2c_sorted.bam'))"
   ]
  },
  {
   "cell_type": "code",
   "execution_count": 4,
   "metadata": {},
   "outputs": [],
   "source": [
    "# contig_name = 'A0.R100625'\n",
    "# contig_name = 'E3.L.51'\n",
    "contig_name = 'E1.L.4362'"
   ]
  },
  {
   "cell_type": "code",
   "execution_count": 5,
   "metadata": {},
   "outputs": [
    {
     "name": "stdout",
     "output_type": "stream",
     "text": [
      "501M743N169M661N145M1005N94M1712N220M3379N156M1043N78M492N155M101N183M183N508M13S\n"
     ]
    }
   ],
   "source": [
    "for contig in c2g_bam:\n",
    "    if contig.query_name == contig_name:\n",
    "#         if contig.reference_name == 'chr16' and contig.is_reverse:\n",
    "            print(contig.cigarstring)\n",
    "            break"
   ]
  },
  {
   "cell_type": "code",
   "execution_count": 6,
   "metadata": {},
   "outputs": [
    {
     "name": "stdout",
     "output_type": "stream",
     "text": [
      "E1.L.4362 False 23690160\n",
      "501M743N169M661N145M1005N94M1712N220M3379N156M1043N78M492N155M101N183M183N508M13S\n"
     ]
    }
   ],
   "source": [
    "print(contig.query_name, contig.is_reverse, contig.reference_start)\n",
    "print(contig.cigarstring)"
   ]
  },
  {
   "cell_type": "code",
   "execution_count": 43,
   "metadata": {},
   "outputs": [],
   "source": [
    "reads = r2c_bam.fetch(contig.query_name)\n",
    "bdg_read_info = []\n",
    "for rd in reads:\n",
    "    if bridge.is_a_bridge_read(rd):\n",
    "        if contig.is_reverse:\n",
    "            contig_len = contig.infer_query_length(always=True)\n",
    "            bdg_read_info.append([\n",
    "                contig_len - rd.reference_end,\n",
    "                contig_len - rd.reference_start,\n",
    "                not rd.is_reverse,\n",
    "                f'rev({rd.cigarstring})',\n",
    "                tuple(reversed(rd.cigartuples))\n",
    "            ])\n",
    "        else:\n",
    "            contig_len = contig.infer_query_length(always=True)            \n",
    "            bdg_read_info.append([                \n",
    "                rd.reference_start,\n",
    "                rd.reference_end,\n",
    "                rd.is_reverse,\n",
    "                f'{rd.cigarstring}',\n",
    "                rd.cigartuples\n",
    "            ])"
   ]
  },
  {
   "cell_type": "code",
   "execution_count": 44,
   "metadata": {},
   "outputs": [],
   "source": [
    "df_bdg_read = pd.DataFrame(bdg_read_info, columns=['reference_start', 'reference_end', 'is_reverse', 'cigarstring', 'cigartuples'])\n",
    "df_bdg_read = df_bdg_read.sort_values('reference_start').reset_index(drop=True)"
   ]
  },
  {
   "cell_type": "code",
   "execution_count": 45,
   "metadata": {},
   "outputs": [
    {
     "data": {
      "text/plain": [
       "(1, 5)"
      ]
     },
     "execution_count": 45,
     "metadata": {},
     "output_type": "execute_result"
    }
   ],
   "source": [
    "df_bdg_read.shape"
   ]
  },
  {
   "cell_type": "code",
   "execution_count": 46,
   "metadata": {},
   "outputs": [
    {
     "data": {
      "text/html": [
       "<div>\n",
       "<style scoped>\n",
       "    .dataframe tbody tr th:only-of-type {\n",
       "        vertical-align: middle;\n",
       "    }\n",
       "\n",
       "    .dataframe tbody tr th {\n",
       "        vertical-align: top;\n",
       "    }\n",
       "\n",
       "    .dataframe thead th {\n",
       "        text-align: right;\n",
       "    }\n",
       "</style>\n",
       "<table border=\"1\" class=\"dataframe\">\n",
       "  <thead>\n",
       "    <tr style=\"text-align: right;\">\n",
       "      <th></th>\n",
       "      <th>reference_start</th>\n",
       "      <th>reference_end</th>\n",
       "      <th>is_reverse</th>\n",
       "      <th>cigarstring</th>\n",
       "      <th>cigartuples</th>\n",
       "    </tr>\n",
       "  </thead>\n",
       "  <tbody>\n",
       "    <tr>\n",
       "      <th>0</th>\n",
       "      <td>1060</td>\n",
       "      <td>1130</td>\n",
       "      <td>False</td>\n",
       "      <td>70M2S</td>\n",
       "      <td>[(0, 70), (4, 2)]</td>\n",
       "    </tr>\n",
       "  </tbody>\n",
       "</table>\n",
       "</div>"
      ],
      "text/plain": [
       "   reference_start  reference_end  is_reverse cigarstring        cigartuples\n",
       "0  1060             1130           False       70M2S       [(0, 70), (4, 2)]"
      ]
     },
     "execution_count": 46,
     "metadata": {},
     "output_type": "execute_result"
    }
   ],
   "source": [
    "df_bdg_read"
   ]
  },
  {
   "cell_type": "code",
   "execution_count": 11,
   "metadata": {},
   "outputs": [],
   "source": [
    "contig_sr = pd.Series(\n",
    "    [contig.reference_start, contig.reference_end, contig.cigarstring, contig.cigartuples], \n",
    "    index=['reference_start', 'reference_end', 'cigarstring', 'cigartuples']\n",
    ")"
   ]
  },
  {
   "cell_type": "code",
   "execution_count": 12,
   "metadata": {},
   "outputs": [
    {
     "data": {
      "text/html": [
       "<div>\n",
       "<style scoped>\n",
       "    .dataframe tbody tr th:only-of-type {\n",
       "        vertical-align: middle;\n",
       "    }\n",
       "\n",
       "    .dataframe tbody tr th {\n",
       "        vertical-align: top;\n",
       "    }\n",
       "\n",
       "    .dataframe thead th {\n",
       "        text-align: right;\n",
       "    }\n",
       "</style>\n",
       "<table border=\"1\" class=\"dataframe\">\n",
       "  <thead>\n",
       "    <tr style=\"text-align: right;\">\n",
       "      <th></th>\n",
       "      <th>reference_start</th>\n",
       "      <th>reference_end</th>\n",
       "      <th>cigarstring</th>\n",
       "      <th>cigartuples</th>\n",
       "    </tr>\n",
       "  </thead>\n",
       "  <tbody>\n",
       "    <tr>\n",
       "      <th>0</th>\n",
       "      <td>23690160</td>\n",
       "      <td>23701688</td>\n",
       "      <td>501M743N169M661N145M1005N94M1712N220M3379N156M1043N78M492N155M101N183M183N508M13S</td>\n",
       "      <td>[(0, 501), (3, 743), (0, 169), (3, 661), (0, 145), (3, 1005), (0, 94), (3, 1712), (0, 220), (3, 3379), (0, 156), (3, 1043), (0, 78), (3, 492), (0, 155), (3, 101), (0, 183), (3, 183), (0, 508), (4, 13)]</td>\n",
       "    </tr>\n",
       "  </tbody>\n",
       "</table>\n",
       "</div>"
      ],
      "text/plain": [
       "  reference_start reference_end                                                                        cigarstring  \\\n",
       "0  23690160        23701688      501M743N169M661N145M1005N94M1712N220M3379N156M1043N78M492N155M101N183M183N508M13S   \n",
       "\n",
       "                                                                                                                                                                                                 cigartuples  \n",
       "0  [(0, 501), (3, 743), (0, 169), (3, 661), (0, 145), (3, 1005), (0, 94), (3, 1712), (0, 220), (3, 3379), (0, 156), (3, 1043), (0, 78), (3, 492), (0, 155), (3, 101), (0, 183), (3, 183), (0, 508), (4, 13)]  "
      ]
     },
     "execution_count": 12,
     "metadata": {},
     "output_type": "execute_result"
    }
   ],
   "source": [
    "contig_sr.to_frame().T"
   ]
  },
  {
   "cell_type": "code",
   "execution_count": 13,
   "metadata": {},
   "outputs": [
    {
     "data": {
      "text/plain": [
       "11528"
      ]
     },
     "execution_count": 13,
     "metadata": {},
     "output_type": "execute_result"
    }
   ],
   "source": [
    "# contig span\n",
    "contig_sr.reference_end - contig_sr.reference_start"
   ]
  },
  {
   "cell_type": "code",
   "execution_count": 47,
   "metadata": {},
   "outputs": [],
   "source": [
    "predicted_clv = 23698789\n",
    "\n",
    "# predicted_clv = 23695410\n",
    "predicted_clvs = [predicted_clv]"
   ]
  },
  {
   "cell_type": "code",
   "execution_count": 48,
   "metadata": {},
   "outputs": [],
   "source": [
    "num_skips = visaln.calc_num_skips(contig)\n",
    "# TODO: turn this into accepting predicted_clvs\n",
    "df_xlims = visaln.calc_xlim_pairs(contig, predicted_clv)"
   ]
  },
  {
   "cell_type": "code",
   "execution_count": 49,
   "metadata": {},
   "outputs": [
    {
     "name": "stdout",
     "output_type": "stream",
     "text": [
      "23690136 - 23690684, covering clv False\n",
      "23691380 - 23691596, covering clv False\n",
      "23692210 - 23692402, covering clv False\n",
      "23693360 - 23693501, covering clv False\n",
      "23695166 - 23695433, covering clv False\n",
      "23698765 - 23698968, covering clv True\n",
      "23699964 - 23700089, covering clv False\n",
      "23700534 - 23700736, covering clv False\n",
      "23700790 - 23701020, covering clv False\n",
      "23701156 - 23701724, covering clv False\n"
     ]
    },
    {
     "data": {
      "text/plain": [
       "Text(0.5,1.02,'E1.L.4362, chr16, (+), clv: 23698789')"
      ]
     },
     "execution_count": 49,
     "metadata": {},
     "output_type": "execute_result"
    },
    {
     "data": {
      "image/png": "[encoded data removed]",
      "text/plain": [
       "<Figure size 1152x108 with 10 Axes>"
      ]
     },
     "metadata": {},
     "output_type": "display_data"
    }
   ],
   "source": [
    "num_subplots = num_skips + 1\n",
    "fig_height = df_bdg_read.shape[0] * 1.5\n",
    "\n",
    "fig, axes = plt.subplots(\n",
    "    1, num_skips + 1, figsize=(16, fig_height), sharey=True, \n",
    "    gridspec_kw = {\n",
    "        'width_ratios':df_xlims.span, \n",
    "        'hspace': 0.5\n",
    "    }\n",
    ")\n",
    "if num_subplots == 1:\n",
    "    axes = [axes]\n",
    "else:\n",
    "    axes = axes.ravel()\n",
    "\n",
    "for ki, row in df_xlims.iterrows():\n",
    "    ax = axes[ki]\n",
    "    height = 0.6\n",
    "    for k, read in df_bdg_read.iterrows():\n",
    "        cx = visaln.get_abs_start(read)\n",
    "        cx = visaln.convert_contig2genome_coord(cx, contig)\n",
    "        cy = k\n",
    "#         print(cx, end=', ')\n",
    "        visaln.draw_alignment(ax, cx, cy, read)\n",
    "\n",
    "    cx = visaln.get_abs_start(contig)\n",
    "    visaln.draw_alignment(ax, cx, cy=-1, aln=contig)\n",
    "\n",
    "    ylim = [-2, df_bdg_read.shape[0] + 1]\n",
    "\n",
    "    for _clv in predicted_clvs:\n",
    "        ax.plot([_clv, _clv], ylim, color='black')\n",
    "    ax.set_ylim(ylim)\n",
    "    print(f'{row.xmin} - {row.xmax}, covering clv {row.xmin <= _clv <= row.xmax}')\n",
    "    ax.set_xlim(row.xmin, row.xmax)\n",
    "    \n",
    "    for tick in ax.get_xticklabels(): tick.set_rotation(90)    \n",
    "    \n",
    "    if ki > 0:\n",
    "        ax.spines['left'].set_visible(False)\n",
    "    ax.spines['right'].set_visible(False)\n",
    "    ax.spines['top'].set_visible(False)\n",
    "\n",
    "    if ki == 0:\n",
    "        ax.tick_params(top=False, right=False)\n",
    "    if ki > 0:\n",
    "        ax.tick_params(top=False, right=False, left=False)\n",
    "    \n",
    "strand = '-' if contig.is_reverse else '+'\n",
    "fig.suptitle(f'{contig.query_name}, {contig.reference_name}, ({strand}), clv: {_clv}', fontsize=20, y =1.02)\n",
    "# plt.tight_layout()"
   ]
  },
  {
   "cell_type": "code",
   "execution_count": 37,
   "metadata": {},
   "outputs": [],
   "source": [
    "lele = [(0, 501), (3, 743), (0, 169), (3, 661), (0, 145), (3, 1005), (0, 94), (3, 1712), (0, 220), (3, 3379), (0, 156), (3, 1043), (0, 78), (3, 492), (0, 155), (3, 101), (0, 183), (3, 183), (0, 508), (4, 13)]"
   ]
  },
  {
   "cell_type": "code",
   "execution_count": 42,
   "metadata": {},
   "outputs": [
    {
     "name": "stdout",
     "output_type": "stream",
     "text": [
      "501 False 501\n",
      "501 False 1244\n",
      "670 False 1413\n",
      "670 False 2074\n",
      "815 False 2219\n",
      "815 False 3224\n",
      "909 False 3318\n",
      "909 False 5030\n",
      "1129 True 5250\n",
      "1129 True 8629\n",
      "1285 True 8785\n",
      "1285 True 9828\n",
      "1363 True 9906\n",
      "1363 True 10398\n",
      "1518 True 10553\n",
      "1518 True 10654\n",
      "1701 True 10837\n",
      "1701 True 11020\n",
      "2209 True 11528\n",
      "2209 True 11541\n"
     ]
    }
   ],
   "source": [
    "s = 0\n",
    "gnm_offset = 0\n",
    "for (key, val) in lele:\n",
    "    gnm_offset += val\n",
    "    if key == 0:\n",
    "        s += val\n",
    "        print(s, s >= 1129, gnm_offset)\n",
    "    else:\n",
    "        print(s, s >= 1129, gnm_offset)"
   ]
  }
 ],
 "metadata": {
  "kernelspec": {
   "display_name": "Python 3",
   "language": "python",
   "name": "python3"
  },
  "language_info": {
   "codemirror_mode": {
    "name": "ipython",
    "version": 3
   },
   "file_extension": ".py",
   "mimetype": "text/x-python",
   "name": "python",
   "nbconvert_exporter": "python",
   "pygments_lexer": "ipython3",
   "version": "3.6.4"
  }
 },
 "nbformat": 4,
 "nbformat_minor": 2
}
