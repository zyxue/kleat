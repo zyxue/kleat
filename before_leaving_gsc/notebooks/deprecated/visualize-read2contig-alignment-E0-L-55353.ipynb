{
 "cells": [
  {
   "cell_type": "code",
   "execution_count": 2,
   "metadata": {},
   "outputs": [
    {
     "name": "stdout",
     "output_type": "stream",
     "text": [
      "seaborn not found\n"
     ]
    }
   ],
   "source": [
    "from eda_imports import *\n",
    "\n",
    "import pysam\n",
    "from tqdm import tqdm\n",
    "\n",
    "import kleat.misc.settings as S\n",
    "import kleat.misc.utils as U\n",
    "from kleat.misc.apautils import calc_genome_offset\n",
    "from kleat.evidence import bridge\n",
    "\n",
    "from kleat.visaln import visaln"
   ]
  },
  {
   "cell_type": "code",
   "execution_count": 3,
   "metadata": {},
   "outputs": [],
   "source": [
    "# DATA_DIR='/projects/btl/zxue/tasrkleat-TCGA-results/tasrkleat-TCGA-analysis-scripts/benchmark-kleat.bk/UHR/C1/tasrkleat-results'\n",
    "DATA_DIR='../../kleat/'"
   ]
  },
  {
   "cell_type": "code",
   "execution_count": 4,
   "metadata": {},
   "outputs": [],
   "source": [
    "# c2g_bam = pysam.AlignmentFile(os.path.join(DATA_DIR, './benchmark_transcriptome/HBRC4/c2g.bam'))\n",
    "# r2c_bam = pysam.AlignmentFile(os.path.join(DATA_DIR, './benchmark_transcriptome/HBRC4/r2c_sorted.bam'))\n",
    "\n",
    "c2g_bam = pysam.AlignmentFile(os.path.join(DATA_DIR, './benchmark_transcriptome/UHRC1/c2g.bam'))\n",
    "r2c_bam = pysam.AlignmentFile(os.path.join(DATA_DIR, './benchmark_transcriptome/UHRC1/r2c_sorted.bam'))"
   ]
  },
  {
   "cell_type": "code",
   "execution_count": 5,
   "metadata": {},
   "outputs": [],
   "source": [
    "# contig_name = 'A0.R100625'\n",
    "# contig_name = 'E3.L.51'\n",
    "# contig_name = 'E1.L.4362'\n",
    "\n",
    "# contig_name = 'E1.S.23541'\n",
    "# predicted_clvs = sorted([100264532, 100264530])\n",
    "\n",
    "# contig_name = 'E1.S.24501'\n",
    "# predicted_clvs = sorted([64657194, 64657270, 64657192])\n",
    "\n",
    "contig_name = 'E0.L.50755'\n",
    "predicted_clvs = sorted([130037417, 130037352, 130037347])"
   ]
  },
  {
   "cell_type": "code",
   "execution_count": 6,
   "metadata": {},
   "outputs": [
    {
     "name": "stdout",
     "output_type": "stream",
     "text": [
      "24M5D221M\n"
     ]
    }
   ],
   "source": [
    "for contig in c2g_bam:\n",
    "    if contig.query_name == contig_name:\n",
    "#         if contig.reference_name == 'chr16' and contig.is_reverse:\n",
    "            print(contig.cigarstring)\n",
    "            break"
   ]
  },
  {
   "cell_type": "code",
   "execution_count": 7,
   "metadata": {},
   "outputs": [
    {
     "name": "stdout",
     "output_type": "stream",
     "text": [
      "E0.L.50755 False 130037323\n",
      "24M5D221M\n"
     ]
    }
   ],
   "source": [
    "print(contig.query_name, contig.is_reverse, contig.reference_start)\n",
    "print(contig.cigarstring)"
   ]
  },
  {
   "cell_type": "code",
   "execution_count": 8,
   "metadata": {},
   "outputs": [],
   "source": [
    "reads = r2c_bam.fetch(contig.query_name)\n",
    "bdg_read_info = []\n",
    "for rd in reads:\n",
    "    if bridge.is_a_bridge_read(rd):\n",
    "        if contig.is_reverse:\n",
    "            contig_len = contig.infer_query_length(always=True)\n",
    "            bdg_read_info.append([\n",
    "                contig_len - rd.reference_end,\n",
    "                contig_len - rd.reference_start,\n",
    "                not rd.is_reverse,\n",
    "                f'rev({rd.cigarstring})',\n",
    "                tuple(reversed(rd.cigartuples))\n",
    "            ])\n",
    "        else:\n",
    "            contig_len = contig.infer_query_length(always=True)            \n",
    "            bdg_read_info.append([                \n",
    "                rd.reference_start,\n",
    "                rd.reference_end,\n",
    "                rd.is_reverse,\n",
    "                f'{rd.cigarstring}',\n",
    "                rd.cigartuples\n",
    "            ])"
   ]
  },
  {
   "cell_type": "code",
   "execution_count": 9,
   "metadata": {},
   "outputs": [],
   "source": [
    "df_bdg_read = pd.DataFrame(bdg_read_info, columns=['reference_start', 'reference_end', 'is_reverse', 'cigarstring', 'cigartuples'])\n",
    "df_bdg_read = df_bdg_read.sort_values('reference_start').reset_index(drop=True)"
   ]
  },
  {
   "cell_type": "code",
   "execution_count": 10,
   "metadata": {},
   "outputs": [
    {
     "data": {
      "text/plain": [
       "(6, 5)"
      ]
     },
     "execution_count": 10,
     "metadata": {},
     "output_type": "execute_result"
    }
   ],
   "source": [
    "df_bdg_read.shape"
   ]
  },
  {
   "cell_type": "code",
   "execution_count": 11,
   "metadata": {},
   "outputs": [
    {
     "data": {
      "text/html": [
       "<div>\n",
       "<style scoped>\n",
       "    .dataframe tbody tr th:only-of-type {\n",
       "        vertical-align: middle;\n",
       "    }\n",
       "\n",
       "    .dataframe tbody tr th {\n",
       "        vertical-align: top;\n",
       "    }\n",
       "\n",
       "    .dataframe thead th {\n",
       "        text-align: right;\n",
       "    }\n",
       "</style>\n",
       "<table border=\"1\" class=\"dataframe\">\n",
       "  <thead>\n",
       "    <tr style=\"text-align: right;\">\n",
       "      <th></th>\n",
       "      <th>reference_start</th>\n",
       "      <th>reference_end</th>\n",
       "      <th>is_reverse</th>\n",
       "      <th>cigarstring</th>\n",
       "      <th>cigartuples</th>\n",
       "    </tr>\n",
       "  </thead>\n",
       "  <tbody>\n",
       "    <tr>\n",
       "      <th>0</th>\n",
       "      <td>24</td>\n",
       "      <td>90</td>\n",
       "      <td>False</td>\n",
       "      <td>6S66M1S</td>\n",
       "      <td>[(4, 6), (0, 66), (4, 1)]</td>\n",
       "    </tr>\n",
       "    <tr>\n",
       "      <th>1</th>\n",
       "      <td>24</td>\n",
       "      <td>91</td>\n",
       "      <td>True</td>\n",
       "      <td>7S67M</td>\n",
       "      <td>[(4, 7), (0, 67)]</td>\n",
       "    </tr>\n",
       "    <tr>\n",
       "      <th>2</th>\n",
       "      <td>24</td>\n",
       "      <td>93</td>\n",
       "      <td>True</td>\n",
       "      <td>4S69M</td>\n",
       "      <td>[(4, 4), (0, 69)]</td>\n",
       "    </tr>\n",
       "    <tr>\n",
       "      <th>3</th>\n",
       "      <td>24</td>\n",
       "      <td>93</td>\n",
       "      <td>True</td>\n",
       "      <td>5S69M</td>\n",
       "      <td>[(4, 5), (0, 69)]</td>\n",
       "    </tr>\n",
       "    <tr>\n",
       "      <th>4</th>\n",
       "      <td>24</td>\n",
       "      <td>93</td>\n",
       "      <td>True</td>\n",
       "      <td>5S69M</td>\n",
       "      <td>[(4, 5), (0, 69)]</td>\n",
       "    </tr>\n",
       "    <tr>\n",
       "      <th>5</th>\n",
       "      <td>24</td>\n",
       "      <td>93</td>\n",
       "      <td>True</td>\n",
       "      <td>3S69M</td>\n",
       "      <td>[(4, 3), (0, 69)]</td>\n",
       "    </tr>\n",
       "  </tbody>\n",
       "</table>\n",
       "</div>"
      ],
      "text/plain": [
       "   reference_start  reference_end  is_reverse cigarstring                cigartuples\n",
       "0  24               90             False       6S66M1S     [(4, 6), (0, 66), (4, 1)]\n",
       "1  24               91             True        7S67M       [(4, 7), (0, 67)]        \n",
       "2  24               93             True        4S69M       [(4, 4), (0, 69)]        \n",
       "3  24               93             True        5S69M       [(4, 5), (0, 69)]        \n",
       "4  24               93             True        5S69M       [(4, 5), (0, 69)]        \n",
       "5  24               93             True        3S69M       [(4, 3), (0, 69)]        "
      ]
     },
     "execution_count": 11,
     "metadata": {},
     "output_type": "execute_result"
    }
   ],
   "source": [
    "df_bdg_read"
   ]
  },
  {
   "cell_type": "code",
   "execution_count": 12,
   "metadata": {},
   "outputs": [],
   "source": [
    "contig_sr = pd.Series(\n",
    "    [contig.reference_start, contig.reference_end, contig.cigarstring, contig.cigartuples], \n",
    "    index=['reference_start', 'reference_end', 'cigarstring', 'cigartuples']\n",
    ")"
   ]
  },
  {
   "cell_type": "code",
   "execution_count": 13,
   "metadata": {},
   "outputs": [
    {
     "data": {
      "text/html": [
       "<div>\n",
       "<style scoped>\n",
       "    .dataframe tbody tr th:only-of-type {\n",
       "        vertical-align: middle;\n",
       "    }\n",
       "\n",
       "    .dataframe tbody tr th {\n",
       "        vertical-align: top;\n",
       "    }\n",
       "\n",
       "    .dataframe thead th {\n",
       "        text-align: right;\n",
       "    }\n",
       "</style>\n",
       "<table border=\"1\" class=\"dataframe\">\n",
       "  <thead>\n",
       "    <tr style=\"text-align: right;\">\n",
       "      <th></th>\n",
       "      <th>reference_start</th>\n",
       "      <th>reference_end</th>\n",
       "      <th>cigarstring</th>\n",
       "      <th>cigartuples</th>\n",
       "    </tr>\n",
       "  </thead>\n",
       "  <tbody>\n",
       "    <tr>\n",
       "      <th>0</th>\n",
       "      <td>130037323</td>\n",
       "      <td>130037573</td>\n",
       "      <td>24M5D221M</td>\n",
       "      <td>[(0, 24), (2, 5), (0, 221)]</td>\n",
       "    </tr>\n",
       "  </tbody>\n",
       "</table>\n",
       "</div>"
      ],
      "text/plain": [
       "  reference_start reference_end cigarstring                  cigartuples\n",
       "0  130037323       130037573     24M5D221M   [(0, 24), (2, 5), (0, 221)]"
      ]
     },
     "execution_count": 13,
     "metadata": {},
     "output_type": "execute_result"
    }
   ],
   "source": [
    "contig_sr.to_frame().T"
   ]
  },
  {
   "cell_type": "code",
   "execution_count": 14,
   "metadata": {},
   "outputs": [
    {
     "data": {
      "text/plain": [
       "250"
      ]
     },
     "execution_count": 14,
     "metadata": {},
     "output_type": "execute_result"
    }
   ],
   "source": [
    "# contig span\n",
    "contig_sr.reference_end - contig_sr.reference_start"
   ]
  },
  {
   "cell_type": "code",
   "execution_count": 15,
   "metadata": {},
   "outputs": [],
   "source": [
    "num_skips = visaln.calc_num_skips(contig)\n",
    "# TODO: turn this into accepting predicted_clvs\n",
    "df_xlims = visaln.calc_xlim_pairs(contig, predicted_clvs[0])"
   ]
  },
  {
   "cell_type": "code",
   "execution_count": 16,
   "metadata": {},
   "outputs": [
    {
     "name": "stdout",
     "output_type": "stream",
     "text": [
      "130037322 - 130037574, covering clv True\n"
     ]
    },
    {
     "data": {
      "text/plain": [
       "Text(0.5,1.02,'E0.L.50755, chr7, (+), clv: 130037417')"
      ]
     },
     "execution_count": 16,
     "metadata": {},
     "output_type": "execute_result"
    },
    {
     "data": {
      "image/png": "[encoded data removed]",
      "text/plain": [
       "<Figure size 1152x648 with 1 Axes>"
      ]
     },
     "metadata": {},
     "output_type": "display_data"
    }
   ],
   "source": [
    "num_subplots = num_skips + 1\n",
    "fig_height = df_bdg_read.shape[0] * 1.5\n",
    "\n",
    "fig, axes = plt.subplots(\n",
    "    1, num_skips + 1, figsize=(16, fig_height), sharey=True, \n",
    "    gridspec_kw = {\n",
    "        'width_ratios':df_xlims.span, \n",
    "        'hspace': 0.5\n",
    "    }\n",
    ")\n",
    "if num_subplots == 1:\n",
    "    axes = [axes]\n",
    "else:\n",
    "    axes = axes.ravel()\n",
    "\n",
    "for ki, row in df_xlims.iterrows():\n",
    "    ax = axes[ki]\n",
    "    height = 0.6\n",
    "    for k, read in df_bdg_read.iterrows():\n",
    "        cx = visaln.get_abs_start(read)\n",
    "        cx = visaln.convert_contig2genome_coord(cx, contig)\n",
    "        cy = k\n",
    "#         print(cx, end=', ')\n",
    "        visaln.draw_alignment(ax, cx, cy, read)\n",
    "\n",
    "    cx = visaln.get_abs_start(contig)\n",
    "    visaln.draw_alignment(ax, cx, cy=-1, aln=contig)\n",
    "\n",
    "    ylim = [-2, df_bdg_read.shape[0] + 1]\n",
    "\n",
    "    for _clv in predicted_clvs:\n",
    "        ax.plot([_clv, _clv], ylim, color='black')\n",
    "    ax.set_ylim(ylim)\n",
    "    print(f'{row.xmin} - {row.xmax}, covering clv {row.xmin <= _clv <= row.xmax}')\n",
    "    ax.set_xlim(row.xmin, row.xmax)\n",
    "    \n",
    "    for tick in ax.get_xticklabels(): tick.set_rotation(90)    \n",
    "    \n",
    "    if ki > 0:\n",
    "        ax.spines['left'].set_visible(False)\n",
    "    ax.spines['right'].set_visible(False)\n",
    "    ax.spines['top'].set_visible(False)\n",
    "\n",
    "    if ki == 0:\n",
    "        ax.tick_params(top=False, right=False)\n",
    "    if ki > 0:\n",
    "        ax.tick_params(top=False, right=False, left=False)\n",
    "    \n",
    "strand = '-' if contig.is_reverse else '+'\n",
    "fig.suptitle(f'{contig.query_name}, {contig.reference_name}, ({strand}), clv: {_clv}', fontsize=20, y =1.02)\n",
    "# plt.tight_layout()"
   ]
  },
  {
   "cell_type": "code",
   "execution_count": null,
   "metadata": {},
   "outputs": [],
   "source": []
  }
 ],
 "metadata": {
  "kernelspec": {
   "display_name": "Python 3",
   "language": "python",
   "name": "python3"
  },
  "language_info": {
   "codemirror_mode": {
    "name": "ipython",
    "version": 3
   },
   "file_extension": ".py",
   "mimetype": "text/x-python",
   "name": "python",
   "nbconvert_exporter": "python",
   "pygments_lexer": "ipython3",
   "version": "3.6.4"
  }
 },
 "nbformat": 4,
 "nbformat_minor": 2
}
