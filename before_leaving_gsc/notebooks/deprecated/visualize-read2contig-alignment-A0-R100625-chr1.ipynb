{
 "cells": [
  {
   "cell_type": "code",
   "execution_count": 1,
   "metadata": {},
   "outputs": [
    {
     "name": "stdout",
     "output_type": "stream",
     "text": [
      "seaborn not found\n"
     ]
    }
   ],
   "source": [
    "from eda_imports import *\n",
    "\n",
    "import pysam\n",
    "from tqdm import tqdm\n",
    "\n",
    "import kleat.misc.settings as S\n",
    "import kleat.misc.utils as U\n",
    "from kleat.misc.apautils import calc_genome_offset\n",
    "from kleat.evidence import bridge\n",
    "\n",
    "from visaln import visaln"
   ]
  },
  {
   "cell_type": "code",
   "execution_count": 2,
   "metadata": {},
   "outputs": [],
   "source": [
    "DATA_DIR='/projects/btl/zxue/tasrkleat-TCGA-results/tasrkleat-TCGA-analysis-scripts/benchmark-kleat.bk/UHR/C1/tasrkleat-results'"
   ]
  },
  {
   "cell_type": "code",
   "execution_count": 3,
   "metadata": {},
   "outputs": [],
   "source": [
    "c2g_bam = pysam.AlignmentFile(os.path.join(DATA_DIR, 'align_contigs2genome/cba.sorted.bam'))\n",
    "r2c_bam = pysam.AlignmentFile(os.path.join(DATA_DIR, 'align_reads2contigs/cba.sorted.bam'))"
   ]
  },
  {
   "cell_type": "code",
   "execution_count": 4,
   "metadata": {},
   "outputs": [],
   "source": [
    "contig_name = 'A0.R100625'"
   ]
  },
  {
   "cell_type": "code",
   "execution_count": 5,
   "metadata": {},
   "outputs": [
    {
     "name": "stdout",
     "output_type": "stream",
     "text": [
      "138S23M35539N111M36422N13M1D12M3I849M2185H\n"
     ]
    }
   ],
   "source": [
    "for contig in c2g_bam:\n",
    "    if contig.query_name == contig_name:\n",
    "        if contig.reference_name == 'chr1':\n",
    "            print(contig.cigarstring)\n",
    "            break"
   ]
  },
  {
   "cell_type": "code",
   "execution_count": 6,
   "metadata": {},
   "outputs": [
    {
     "data": {
      "text/plain": [
       "True"
      ]
     },
     "execution_count": 6,
     "metadata": {},
     "output_type": "execute_result"
    }
   ],
   "source": [
    "contig.is_reverse"
   ]
  },
  {
   "cell_type": "code",
   "execution_count": 7,
   "metadata": {},
   "outputs": [
    {
     "data": {
      "text/plain": [
       "204453583"
      ]
     },
     "execution_count": 7,
     "metadata": {},
     "output_type": "execute_result"
    }
   ],
   "source": [
    "contig.reference_start"
   ]
  },
  {
   "cell_type": "code",
   "execution_count": 8,
   "metadata": {},
   "outputs": [],
   "source": [
    "reads = r2c_bam.fetch(contig.query_name)\n",
    "bdg_read_info = []\n",
    "for rd in reads:\n",
    "    if bridge.is_a_bridge_read(rd):\n",
    "        if contig.is_reverse:\n",
    "            contig_len = contig.infer_query_length(always=True)\n",
    "            bdg_read_info.append([\n",
    "                contig_len - rd.reference_end,\n",
    "                contig_len - rd.reference_start,\n",
    "                f'rev({rd.cigarstring})',\n",
    "                tuple(reversed(rd.cigartuples))\n",
    "            ])\n",
    "        else:\n",
    "            raise NotImplementedError"
   ]
  },
  {
   "cell_type": "code",
   "execution_count": 9,
   "metadata": {},
   "outputs": [],
   "source": [
    "df_bdg_read = pd.DataFrame(bdg_read_info, columns=['reference_start', 'reference_end', 'cigarstring', 'cigartuples'])\n",
    "df_bdg_read = df_bdg_read.sort_values('reference_start').reset_index(drop=True)"
   ]
  },
  {
   "cell_type": "code",
   "execution_count": 10,
   "metadata": {},
   "outputs": [
    {
     "data": {
      "text/plain": [
       "(50, 4)"
      ]
     },
     "execution_count": 10,
     "metadata": {},
     "output_type": "execute_result"
    }
   ],
   "source": [
    "df_bdg_read.shape"
   ]
  },
  {
   "cell_type": "code",
   "execution_count": 11,
   "metadata": {},
   "outputs": [
    {
     "data": {
      "text/html": [
       "<div>\n",
       "<style scoped>\n",
       "    .dataframe tbody tr th:only-of-type {\n",
       "        vertical-align: middle;\n",
       "    }\n",
       "\n",
       "    .dataframe tbody tr th {\n",
       "        vertical-align: top;\n",
       "    }\n",
       "\n",
       "    .dataframe thead th {\n",
       "        text-align: right;\n",
       "    }\n",
       "</style>\n",
       "<table border=\"1\" class=\"dataframe\">\n",
       "  <thead>\n",
       "    <tr style=\"text-align: right;\">\n",
       "      <th></th>\n",
       "      <th>reference_start</th>\n",
       "      <th>reference_end</th>\n",
       "      <th>cigarstring</th>\n",
       "      <th>cigartuples</th>\n",
       "    </tr>\n",
       "  </thead>\n",
       "  <tbody>\n",
       "    <tr>\n",
       "      <th>7</th>\n",
       "      <td>159</td>\n",
       "      <td>232</td>\n",
       "      <td>rev(73M1S)</td>\n",
       "      <td>((4, 1), (0, 73))</td>\n",
       "    </tr>\n",
       "    <tr>\n",
       "      <th>8</th>\n",
       "      <td>159</td>\n",
       "      <td>232</td>\n",
       "      <td>rev(73M1S)</td>\n",
       "      <td>((4, 1), (0, 73))</td>\n",
       "    </tr>\n",
       "    <tr>\n",
       "      <th>9</th>\n",
       "      <td>190</td>\n",
       "      <td>262</td>\n",
       "      <td>rev(3S72M)</td>\n",
       "      <td>((0, 72), (4, 3))</td>\n",
       "    </tr>\n",
       "    <tr>\n",
       "      <th>10</th>\n",
       "      <td>191</td>\n",
       "      <td>262</td>\n",
       "      <td>rev(4S71M)</td>\n",
       "      <td>((0, 71), (4, 4))</td>\n",
       "    </tr>\n",
       "    <tr>\n",
       "      <th>11</th>\n",
       "      <td>191</td>\n",
       "      <td>262</td>\n",
       "      <td>rev(4S71M)</td>\n",
       "      <td>((0, 71), (4, 4))</td>\n",
       "    </tr>\n",
       "  </tbody>\n",
       "</table>\n",
       "</div>"
      ],
      "text/plain": [
       "    reference_start  reference_end cigarstring        cigartuples\n",
       "7   159              232            rev(73M1S)  ((4, 1), (0, 73))\n",
       "8   159              232            rev(73M1S)  ((4, 1), (0, 73))\n",
       "9   190              262            rev(3S72M)  ((0, 72), (4, 3))\n",
       "10  191              262            rev(4S71M)  ((0, 71), (4, 4))\n",
       "11  191              262            rev(4S71M)  ((0, 71), (4, 4))"
      ]
     },
     "execution_count": 11,
     "metadata": {},
     "output_type": "execute_result"
    }
   ],
   "source": [
    "df_bdg_read.iloc[7:].head()"
   ]
  },
  {
   "cell_type": "code",
   "execution_count": 12,
   "metadata": {},
   "outputs": [],
   "source": [
    "contig_sr = pd.Series(\n",
    "    [contig.reference_start, contig.reference_end, contig.cigarstring, contig.cigartuples], \n",
    "    index=['reference_start', 'reference_end', 'cigarstring', 'cigartuples']\n",
    ")"
   ]
  },
  {
   "cell_type": "code",
   "execution_count": 13,
   "metadata": {},
   "outputs": [
    {
     "data": {
      "text/html": [
       "<div>\n",
       "<style scoped>\n",
       "    .dataframe tbody tr th:only-of-type {\n",
       "        vertical-align: middle;\n",
       "    }\n",
       "\n",
       "    .dataframe tbody tr th {\n",
       "        vertical-align: top;\n",
       "    }\n",
       "\n",
       "    .dataframe thead th {\n",
       "        text-align: right;\n",
       "    }\n",
       "</style>\n",
       "<table border=\"1\" class=\"dataframe\">\n",
       "  <thead>\n",
       "    <tr style=\"text-align: right;\">\n",
       "      <th></th>\n",
       "      <th>reference_start</th>\n",
       "      <th>reference_end</th>\n",
       "      <th>cigarstring</th>\n",
       "      <th>cigartuples</th>\n",
       "    </tr>\n",
       "  </thead>\n",
       "  <tbody>\n",
       "    <tr>\n",
       "      <th>0</th>\n",
       "      <td>204453583</td>\n",
       "      <td>204526553</td>\n",
       "      <td>138S23M35539N111M36422N13M1D12M3I849M2185H</td>\n",
       "      <td>[(4, 138), (0, 23), (3, 35539), (0, 111), (3, 36422), (0, 13), (2, 1), (0, 12), (1, 3), (0, 849), (5, 2185)]</td>\n",
       "    </tr>\n",
       "  </tbody>\n",
       "</table>\n",
       "</div>"
      ],
      "text/plain": [
       "  reference_start reference_end                                 cigarstring                                                                                                   cigartuples\n",
       "0  204453583       204526553     138S23M35539N111M36422N13M1D12M3I849M2185H  [(4, 138), (0, 23), (3, 35539), (0, 111), (3, 36422), (0, 13), (2, 1), (0, 12), (1, 3), (0, 849), (5, 2185)]"
      ]
     },
     "execution_count": 13,
     "metadata": {},
     "output_type": "execute_result"
    }
   ],
   "source": [
    "contig_sr.to_frame().T"
   ]
  },
  {
   "cell_type": "code",
   "execution_count": 14,
   "metadata": {},
   "outputs": [
    {
     "data": {
      "text/plain": [
       "72970"
      ]
     },
     "execution_count": 14,
     "metadata": {},
     "output_type": "execute_result"
    }
   ],
   "source": [
    "# contig span\n",
    "contig_sr.reference_end - contig_sr.reference_start"
   ]
  },
  {
   "cell_type": "code",
   "execution_count": 15,
   "metadata": {},
   "outputs": [],
   "source": [
    "predicted_clv = 204489253"
   ]
  },
  {
   "cell_type": "code",
   "execution_count": 18,
   "metadata": {},
   "outputs": [],
   "source": [
    "num_skips = visaln.calc_num_skips(contig)\n",
    "df_xlims = visaln.calc_xlim_pairs(contig, predicted_clv)"
   ]
  },
  {
   "cell_type": "code",
   "execution_count": 23,
   "metadata": {},
   "outputs": [
    {
     "name": "stdout",
     "output_type": "stream",
     "text": [
      "204453299 - 204453751, covering clv False\n",
      "204488999 - 204489401, covering clv True\n",
      "204525532 - 204528883, covering clv False\n"
     ]
    },
    {
     "data": {
      "image/png": "[encoded data removed]",
      "text/plain": [
       "<Figure size 1152x720 with 3 Axes>"
      ]
     },
     "metadata": {},
     "output_type": "display_data"
    }
   ],
   "source": [
    "fig, axes = plt.subplots(\n",
    "    1, num_skips + 1, figsize=(16, 10), sharey=True, gridspec_kw = {'width_ratios':df_xlims.span})\n",
    "axes = axes.ravel()\n",
    "\n",
    "for ki, row in df_xlims.iterrows():\n",
    "    ax = axes[ki]\n",
    "    height = 0.6\n",
    "    for k, read in df_bdg_read.iterrows():\n",
    "        cx = visaln.get_abs_start(read)\n",
    "        cx = visaln.convert_contig2genome_coord(cx, contig)\n",
    "        cy = k\n",
    "#         print(cx, end=', ')\n",
    "        visaln.draw_alignment(ax, cx, cy, read)\n",
    "\n",
    "    cx = visaln.get_abs_start(contig)\n",
    "    visaln.draw_alignment(ax, cx, cy=-1, aln=contig)\n",
    "\n",
    "    ylim = [-2, df_bdg_read.shape[0] + 1]\n",
    "\n",
    "    clv = 204489253  # predicted\n",
    "    ax.plot([clv, clv], ylim, color='black')\n",
    "    ax.set_ylim(ylim)\n",
    "    print(f'{row.xmin} - {row.xmax}, covering clv {row.xmin <= clv <= row.xmax}')\n",
    "    ax.set_xlim(row.xmin, row.xmax)\n",
    "    ax.grid()\n",
    "    \n",
    "strand = '-' if contig.is_reverse else '+'\n",
    "fig.suptitle(f'{contig.query_name}, {contig.reference_name}, ({strand})', fontsize=20, y =1.02)\n",
    "plt.tight_layout()"
   ]
  },
  {
   "cell_type": "code",
   "execution_count": null,
   "metadata": {},
   "outputs": [],
   "source": []
  }
 ],
 "metadata": {
  "kernelspec": {
   "display_name": "Python 3",
   "language": "python",
   "name": "python3"
  },
  "language_info": {
   "codemirror_mode": {
    "name": "ipython",
    "version": 3
   },
   "file_extension": ".py",
   "mimetype": "text/x-python",
   "name": "python",
   "nbconvert_exporter": "python",
   "pygments_lexer": "ipython3",
   "version": "3.6.4"
  }
 },
 "nbformat": 4,
 "nbformat_minor": 2
}
