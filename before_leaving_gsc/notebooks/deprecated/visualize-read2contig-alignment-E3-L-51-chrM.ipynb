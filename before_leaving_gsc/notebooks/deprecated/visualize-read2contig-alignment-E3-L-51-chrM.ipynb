{
 "cells": [
  {
   "cell_type": "code",
   "execution_count": 1,
   "metadata": {},
   "outputs": [
    {
     "name": "stdout",
     "output_type": "stream",
     "text": [
      "seaborn not found\n"
     ]
    }
   ],
   "source": [
    "from eda_imports import *\n",
    "\n",
    "import pysam\n",
    "from tqdm import tqdm\n",
    "\n",
    "import kleat.misc.settings as S\n",
    "import kleat.misc.utils as U\n",
    "from kleat.misc.apautils import calc_genome_offset\n",
    "from kleat.evidence import bridge\n",
    "\n",
    "from kleat.visaln import visaln"
   ]
  },
  {
   "cell_type": "code",
   "execution_count": 25,
   "metadata": {},
   "outputs": [
    {
     "name": "stderr",
     "output_type": "stream",
     "text": [
      "/projects/btl2/zxue/kleat/venv/lib/python3.6/site-packages/IPython/core/interactiveshell.py:2785: DtypeWarning: Columns (22,26) have mixed types. Specify dtype option on import or set low_memory=False.\n",
      "  interactivity=interactivity, compiler=compiler, result=result)\n"
     ]
    }
   ],
   "source": [
    "adf = pd.read_csv('../../kleat/output.csv')"
   ]
  },
  {
   "cell_type": "code",
   "execution_count": 27,
   "metadata": {},
   "outputs": [
    {
     "data": {
      "text/plain": [
       "blank            46355\n",
       "suffix           411  \n",
       "bridge           306  \n",
       "link             131  \n",
       "blank|suffix     16   \n",
       "blank|bridge     12   \n",
       "bridge|suffix    9    \n",
       "blank|link       1    \n",
       "Name: evidence_type, dtype: int64"
      ]
     },
     "execution_count": 27,
     "metadata": {},
     "output_type": "execute_result"
    }
   ],
   "source": [
    "adf.evidence_type.value_counts()"
   ]
  },
  {
   "cell_type": "code",
   "execution_count": 28,
   "metadata": {},
   "outputs": [
    {
     "data": {
      "text/plain": [
       "<matplotlib.axes._subplots.AxesSubplot at 0x7f1d1fdc2470>"
      ]
     },
     "execution_count": 28,
     "metadata": {},
     "output_type": "execute_result"
    },
    {
     "data": {
      "image/png": "[encoded data removed]",
      "text/plain": [
       "<Figure size 432x288 with 1 Axes>"
      ]
     },
     "metadata": {},
     "output_type": "display_data"
    }
   ],
   "source": [
    "adf.max_contig_len.plot.hist(bins=30)"
   ]
  },
  {
   "cell_type": "code",
   "execution_count": null,
   "metadata": {},
   "outputs": [],
   "source": []
  },
  {
   "cell_type": "code",
   "execution_count": null,
   "metadata": {},
   "outputs": [],
   "source": []
  },
  {
   "cell_type": "code",
   "execution_count": 7,
   "metadata": {},
   "outputs": [],
   "source": [
    "# DATA_DIR='/projects/btl/zxue/tasrkleat-TCGA-results/tasrkleat-TCGA-analysis-scripts/benchmark-kleat.bk/UHR/C1/tasrkleat-results'\n",
    "DATA_DIR='../../kleat/'\n",
    "\n",
    "c2g_bam = pysam.AlignmentFile(os.path.join(DATA_DIR, './benchmark_transcriptome/HBRC4/c2g.bam'))\n",
    "r2c_bam = pysam.AlignmentFile(os.path.join(DATA_DIR, './benchmark_transcriptome/HBRC4/r2c_sorted.bam'))"
   ]
  },
  {
   "cell_type": "code",
   "execution_count": 9,
   "metadata": {},
   "outputs": [],
   "source": [
    "# contig_name = 'A0.R100625'\n",
    "contig_name = 'E3.L.51'"
   ]
  },
  {
   "cell_type": "code",
   "execution_count": 10,
   "metadata": {},
   "outputs": [
    {
     "name": "stdout",
     "output_type": "stream",
     "text": [
      "560H119M1I65M\n"
     ]
    }
   ],
   "source": [
    "for contig in c2g_bam:\n",
    "    if contig.query_name == contig_name:\n",
    "        if contig.reference_name == 'chrM' and contig.is_reverse:\n",
    "            print(contig.cigarstring)\n",
    "            break"
   ]
  },
  {
   "cell_type": "code",
   "execution_count": 11,
   "metadata": {},
   "outputs": [
    {
     "data": {
      "text/plain": [
       "True"
      ]
     },
     "execution_count": 11,
     "metadata": {},
     "output_type": "execute_result"
    }
   ],
   "source": [
    "contig.is_reverse"
   ]
  },
  {
   "cell_type": "code",
   "execution_count": 12,
   "metadata": {},
   "outputs": [
    {
     "data": {
      "text/plain": [
       "183"
      ]
     },
     "execution_count": 12,
     "metadata": {},
     "output_type": "execute_result"
    }
   ],
   "source": [
    "contig.reference_start"
   ]
  },
  {
   "cell_type": "code",
   "execution_count": 13,
   "metadata": {},
   "outputs": [],
   "source": [
    "reads = r2c_bam.fetch(contig.query_name)\n",
    "bdg_read_info = []\n",
    "for rd in reads:\n",
    "    if bridge.is_a_bridge_read(rd):\n",
    "        if contig.is_reverse:\n",
    "            contig_len = contig.infer_query_length(always=True)\n",
    "            bdg_read_info.append([\n",
    "                contig_len - rd.reference_end,\n",
    "                contig_len - rd.reference_start,\n",
    "                f'rev({rd.cigarstring})',\n",
    "                tuple(reversed(rd.cigartuples))\n",
    "            ])\n",
    "        else:\n",
    "            raise NotImplementedError"
   ]
  },
  {
   "cell_type": "code",
   "execution_count": 14,
   "metadata": {},
   "outputs": [],
   "source": [
    "df_bdg_read = pd.DataFrame(bdg_read_info, columns=['reference_start', 'reference_end', 'cigarstring', 'cigartuples'])\n",
    "df_bdg_read = df_bdg_read.sort_values('reference_start').reset_index(drop=True)"
   ]
  },
  {
   "cell_type": "code",
   "execution_count": 15,
   "metadata": {},
   "outputs": [
    {
     "data": {
      "text/plain": [
       "(32, 4)"
      ]
     },
     "execution_count": 15,
     "metadata": {},
     "output_type": "execute_result"
    }
   ],
   "source": [
    "df_bdg_read.shape"
   ]
  },
  {
   "cell_type": "code",
   "execution_count": 16,
   "metadata": {},
   "outputs": [
    {
     "data": {
      "text/html": [
       "<div>\n",
       "<style scoped>\n",
       "    .dataframe tbody tr th:only-of-type {\n",
       "        vertical-align: middle;\n",
       "    }\n",
       "\n",
       "    .dataframe tbody tr th {\n",
       "        vertical-align: top;\n",
       "    }\n",
       "\n",
       "    .dataframe thead th {\n",
       "        text-align: right;\n",
       "    }\n",
       "</style>\n",
       "<table border=\"1\" class=\"dataframe\">\n",
       "  <thead>\n",
       "    <tr style=\"text-align: right;\">\n",
       "      <th></th>\n",
       "      <th>reference_start</th>\n",
       "      <th>reference_end</th>\n",
       "      <th>cigarstring</th>\n",
       "      <th>cigartuples</th>\n",
       "    </tr>\n",
       "  </thead>\n",
       "  <tbody>\n",
       "    <tr>\n",
       "      <th>7</th>\n",
       "      <td>278</td>\n",
       "      <td>352</td>\n",
       "      <td>rev(1S74M)</td>\n",
       "      <td>((0, 74), (4, 1))</td>\n",
       "    </tr>\n",
       "    <tr>\n",
       "      <th>8</th>\n",
       "      <td>278</td>\n",
       "      <td>352</td>\n",
       "      <td>rev(1S74M)</td>\n",
       "      <td>((0, 74), (4, 1))</td>\n",
       "    </tr>\n",
       "    <tr>\n",
       "      <th>9</th>\n",
       "      <td>284</td>\n",
       "      <td>358</td>\n",
       "      <td>rev(1S74M)</td>\n",
       "      <td>((0, 74), (4, 1))</td>\n",
       "    </tr>\n",
       "    <tr>\n",
       "      <th>10</th>\n",
       "      <td>284</td>\n",
       "      <td>358</td>\n",
       "      <td>rev(1S74M)</td>\n",
       "      <td>((0, 74), (4, 1))</td>\n",
       "    </tr>\n",
       "    <tr>\n",
       "      <th>11</th>\n",
       "      <td>284</td>\n",
       "      <td>358</td>\n",
       "      <td>rev(1S74M)</td>\n",
       "      <td>((0, 74), (4, 1))</td>\n",
       "    </tr>\n",
       "  </tbody>\n",
       "</table>\n",
       "</div>"
      ],
      "text/plain": [
       "    reference_start  reference_end cigarstring        cigartuples\n",
       "7   278              352            rev(1S74M)  ((0, 74), (4, 1))\n",
       "8   278              352            rev(1S74M)  ((0, 74), (4, 1))\n",
       "9   284              358            rev(1S74M)  ((0, 74), (4, 1))\n",
       "10  284              358            rev(1S74M)  ((0, 74), (4, 1))\n",
       "11  284              358            rev(1S74M)  ((0, 74), (4, 1))"
      ]
     },
     "execution_count": 16,
     "metadata": {},
     "output_type": "execute_result"
    }
   ],
   "source": [
    "df_bdg_read.iloc[7:].head()"
   ]
  },
  {
   "cell_type": "code",
   "execution_count": 17,
   "metadata": {},
   "outputs": [],
   "source": [
    "contig_sr = pd.Series(\n",
    "    [contig.reference_start, contig.reference_end, contig.cigarstring, contig.cigartuples], \n",
    "    index=['reference_start', 'reference_end', 'cigarstring', 'cigartuples']\n",
    ")"
   ]
  },
  {
   "cell_type": "code",
   "execution_count": 18,
   "metadata": {},
   "outputs": [
    {
     "data": {
      "text/html": [
       "<div>\n",
       "<style scoped>\n",
       "    .dataframe tbody tr th:only-of-type {\n",
       "        vertical-align: middle;\n",
       "    }\n",
       "\n",
       "    .dataframe tbody tr th {\n",
       "        vertical-align: top;\n",
       "    }\n",
       "\n",
       "    .dataframe thead th {\n",
       "        text-align: right;\n",
       "    }\n",
       "</style>\n",
       "<table border=\"1\" class=\"dataframe\">\n",
       "  <thead>\n",
       "    <tr style=\"text-align: right;\">\n",
       "      <th></th>\n",
       "      <th>reference_start</th>\n",
       "      <th>reference_end</th>\n",
       "      <th>cigarstring</th>\n",
       "      <th>cigartuples</th>\n",
       "    </tr>\n",
       "  </thead>\n",
       "  <tbody>\n",
       "    <tr>\n",
       "      <th>0</th>\n",
       "      <td>183</td>\n",
       "      <td>367</td>\n",
       "      <td>560H119M1I65M</td>\n",
       "      <td>[(5, 560), (0, 119), (1, 1), (0, 65)]</td>\n",
       "    </tr>\n",
       "  </tbody>\n",
       "</table>\n",
       "</div>"
      ],
      "text/plain": [
       "  reference_start reference_end    cigarstring                            cigartuples\n",
       "0  183             367           560H119M1I65M  [(5, 560), (0, 119), (1, 1), (0, 65)]"
      ]
     },
     "execution_count": 18,
     "metadata": {},
     "output_type": "execute_result"
    }
   ],
   "source": [
    "contig_sr.to_frame().T"
   ]
  },
  {
   "cell_type": "code",
   "execution_count": 19,
   "metadata": {},
   "outputs": [
    {
     "data": {
      "text/plain": [
       "184"
      ]
     },
     "execution_count": 19,
     "metadata": {},
     "output_type": "execute_result"
    }
   ],
   "source": [
    "# contig span\n",
    "contig_sr.reference_end - contig_sr.reference_start"
   ]
  },
  {
   "cell_type": "code",
   "execution_count": 20,
   "metadata": {},
   "outputs": [],
   "source": [
    "predicted_clv = -345"
   ]
  },
  {
   "cell_type": "code",
   "execution_count": 21,
   "metadata": {},
   "outputs": [],
   "source": [
    "num_skips = visaln.calc_num_skips(contig)\n",
    "df_xlims = visaln.calc_xlim_pairs(contig, predicted_clv)"
   ]
  },
  {
   "cell_type": "code",
   "execution_count": 23,
   "metadata": {},
   "outputs": [
    {
     "data": {
      "text/plain": [
       "0"
      ]
     },
     "execution_count": 23,
     "metadata": {},
     "output_type": "execute_result"
    }
   ],
   "source": [
    "num_skips"
   ]
  },
  {
   "cell_type": "code",
   "execution_count": 24,
   "metadata": {},
   "outputs": [
    {
     "name": "stdout",
     "output_type": "stream",
     "text": [
      "-378 - 368, covering clv False\n"
     ]
    },
    {
     "data": {
      "image/png": "[encoded data removed]",
      "text/plain": [
       "<Figure size 1152x720 with 1 Axes>"
      ]
     },
     "metadata": {},
     "output_type": "display_data"
    }
   ],
   "source": [
    "num_subplots = num_skips + 1\n",
    "fig, axes = plt.subplots(\n",
    "    1, num_skips + 1, figsize=(16, 10), sharey=True, gridspec_kw = {'width_ratios':df_xlims.span})\n",
    "if num_subplots == 1:\n",
    "    axes = [axes]\n",
    "else:\n",
    "    axes = axes.ravel()\n",
    "\n",
    "for ki, row in df_xlims.iterrows():\n",
    "    ax = axes[ki]\n",
    "    height = 0.6\n",
    "    for k, read in df_bdg_read.iterrows():\n",
    "        cx = visaln.get_abs_start(read)\n",
    "        cx = visaln.convert_contig2genome_coord(cx, contig)\n",
    "        cy = k\n",
    "#         print(cx, end=', ')\n",
    "        visaln.draw_alignment(ax, cx, cy, read)\n",
    "\n",
    "    cx = visaln.get_abs_start(contig)\n",
    "    visaln.draw_alignment(ax, cx, cy=-1, aln=contig)\n",
    "\n",
    "    ylim = [-2, df_bdg_read.shape[0] + 1]\n",
    "\n",
    "    clv = 204489253  # predicted\n",
    "    ax.plot([clv, clv], ylim, color='black')\n",
    "    ax.set_ylim(ylim)\n",
    "    print(f'{row.xmin} - {row.xmax}, covering clv {row.xmin <= clv <= row.xmax}')\n",
    "    ax.set_xlim(row.xmin, row.xmax)\n",
    "    ax.grid()\n",
    "    \n",
    "strand = '-' if contig.is_reverse else '+'\n",
    "fig.suptitle(f'{contig.query_name}, {contig.reference_name}, ({strand})', fontsize=20, y =1.02)\n",
    "plt.tight_layout()"
   ]
  },
  {
   "cell_type": "code",
   "execution_count": null,
   "metadata": {},
   "outputs": [],
   "source": []
  }
 ],
 "metadata": {
  "kernelspec": {
   "display_name": "Python 3",
   "language": "python",
   "name": "python3"
  },
  "language_info": {
   "codemirror_mode": {
    "name": "ipython",
    "version": 3
   },
   "file_extension": ".py",
   "mimetype": "text/x-python",
   "name": "python",
   "nbconvert_exporter": "python",
   "pygments_lexer": "ipython3",
   "version": "3.6.4"
  }
 },
 "nbformat": 4,
 "nbformat_minor": 2
}
