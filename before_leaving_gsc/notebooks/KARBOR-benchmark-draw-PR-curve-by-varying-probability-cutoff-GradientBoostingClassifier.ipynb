{
 "cells": [
  {
   "cell_type": "code",
   "execution_count": 1,
   "metadata": {},
   "outputs": [],
   "source": [
    "from eda_imports import *\n",
    "from adjustText import adjust_text"
   ]
  },
  {
   "cell_type": "code",
   "execution_count": 2,
   "metadata": {},
   "outputs": [],
   "source": [
    "sys.path.insert(0, '../benchmark_scripts/')\n",
    "\n",
    "from train_arbor import load_df, load_polya_seq_df, map_to_ref, compare\n",
    "from ml_utils import KARBOR_FEATURE_COLS, calc_precision_recall_curve"
   ]
  },
  {
   "cell_type": "code",
   "execution_count": 4,
   "metadata": {},
   "outputs": [],
   "source": [
    "clf_pkl_files = sorted(glob.glob(\n",
    "    '../benchmark_transcriptome/tcga-run-4/benchmark-gradboost.GradientBoostingClassifier.tree_max_depth_*.pkl'\n",
    "))"
   ]
  },
  {
   "cell_type": "code",
   "execution_count": 5,
   "metadata": {},
   "outputs": [
    {
     "data": {
      "text/plain": [
       "3"
      ]
     },
     "execution_count": 5,
     "metadata": {},
     "output_type": "execute_result"
    }
   ],
   "source": [
    "len(clf_pkl_files)"
   ]
  },
  {
   "cell_type": "code",
   "execution_count": 6,
   "metadata": {},
   "outputs": [
    {
     "name": "stdout",
     "output_type": "stream",
     "text": [
      "working on benchmark-gradboost.GradientBoostingClassifier.tree_max_depth_1.pkl 1\n",
      "working on benchmark-gradboost.GradientBoostingClassifier.tree_max_depth_2.pkl 2\n",
      "working on benchmark-gradboost.GradientBoostingClassifier.tree_max_depth_3.pkl 3\n"
     ]
    }
   ],
   "source": [
    "clfs_dd = {}\n",
    "for pkl_file in clf_pkl_files:\n",
    "    tmax_depth = re.search('tree_max_depth_([0-9]+)', pkl_file).group(1)\n",
    "    tmax_depth = int(tmax_depth)\n",
    "    with open(pkl_file, 'rb') as inf:\n",
    "        print(f'working on {os.path.basename(pkl_file)}', tmax_depth)\n",
    "        clfs_dd[tmax_depth] = pickle.load(inf)"
   ]
  },
  {
   "cell_type": "code",
   "execution_count": 12,
   "metadata": {},
   "outputs": [
    {
     "name": "stderr",
     "output_type": "stream",
     "text": [
      "2018-07-25 10:39:39,236|INFO|reading /projects/cheny_prj/KLEAT_benchmarking/polyA_seq/Brain1.bed ...\n",
      "2018-07-25 10:39:39,368|INFO|grouping by ['seqname', 'strand']\n"
     ]
    },
    {
     "name": "stdout",
     "output_type": "stream",
     "text": [
      "0.0,"
     ]
    },
    {
     "name": "stderr",
     "output_type": "stream",
     "text": [
      "100%|██████████| 50/50 [00:00<00:00, 298.15it/s]\n",
      "2018-07-25 10:39:41,288|INFO|clustering clvs in parallel using 30 CPUs ...\n",
      "2018-07-25 10:40:32,445|INFO|concatenating clustered sub dataframes ...\n",
      "2018-07-25 10:40:43,394|INFO|grouping by ['seqname', 'strand']\n",
      "100%|██████████| 50/50 [00:00<00:00, 2322.66it/s]"
     ]
    },
    {
     "name": "stdout",
     "output_type": "stream",
     "text": [
      "0.05,"
     ]
    },
    {
     "name": "stderr",
     "output_type": "stream",
     "text": [
      "\n",
      "2018-07-25 10:40:43,815|INFO|clustering clvs in parallel using 30 CPUs ...\n",
      "2018-07-25 10:40:47,383|INFO|concatenating clustered sub dataframes ...\n",
      "2018-07-25 10:40:48,774|INFO|grouping by ['seqname', 'strand']\n",
      "100%|██████████| 50/50 [00:00<00:00, 3184.79it/s]"
     ]
    },
    {
     "name": "stdout",
     "output_type": "stream",
     "text": [
      "0.1,"
     ]
    },
    {
     "name": "stderr",
     "output_type": "stream",
     "text": [
      "\n",
      "2018-07-25 10:40:49,173|INFO|clustering clvs in parallel using 30 CPUs ...\n",
      "2018-07-25 10:40:50,424|INFO|concatenating clustered sub dataframes ...\n",
      "2018-07-25 10:40:51,070|INFO|grouping by ['seqname', 'strand']\n",
      "100%|██████████| 50/50 [00:00<00:00, 3255.34it/s]"
     ]
    },
    {
     "name": "stdout",
     "output_type": "stream",
     "text": [
      "0.15000000000000002,"
     ]
    },
    {
     "name": "stderr",
     "output_type": "stream",
     "text": [
      "\n",
      "2018-07-25 10:40:51,547|INFO|clustering clvs in parallel using 30 CPUs ...\n",
      "2018-07-25 10:40:52,615|INFO|concatenating clustered sub dataframes ...\n",
      "2018-07-25 10:40:53,172|INFO|grouping by ['seqname', 'strand']\n",
      "100%|██████████| 50/50 [00:00<00:00, 3264.25it/s]"
     ]
    },
    {
     "name": "stdout",
     "output_type": "stream",
     "text": [
      "0.2,"
     ]
    },
    {
     "name": "stderr",
     "output_type": "stream",
     "text": [
      "\n",
      "2018-07-25 10:40:53,577|INFO|clustering clvs in parallel using 30 CPUs ...\n",
      "2018-07-25 10:40:54,637|INFO|concatenating clustered sub dataframes ...\n",
      "2018-07-25 10:40:55,066|INFO|grouping by ['seqname', 'strand']\n",
      "100%|██████████| 50/50 [00:00<00:00, 3408.95it/s]"
     ]
    },
    {
     "name": "stdout",
     "output_type": "stream",
     "text": [
      "0.25,"
     ]
    },
    {
     "name": "stderr",
     "output_type": "stream",
     "text": [
      "\n",
      "2018-07-25 10:40:55,544|INFO|clustering clvs in parallel using 30 CPUs ...\n",
      "2018-07-25 10:40:56,302|INFO|concatenating clustered sub dataframes ...\n",
      "2018-07-25 10:40:56,685|INFO|grouping by ['seqname', 'strand']\n",
      "100%|██████████| 50/50 [00:00<00:00, 3531.21it/s]"
     ]
    },
    {
     "name": "stdout",
     "output_type": "stream",
     "text": [
      "0.30000000000000004,"
     ]
    },
    {
     "name": "stderr",
     "output_type": "stream",
     "text": [
      "\n",
      "2018-07-25 10:40:57,063|INFO|clustering clvs in parallel using 30 CPUs ...\n",
      "2018-07-25 10:40:57,820|INFO|concatenating clustered sub dataframes ...\n",
      "2018-07-25 10:40:58,210|INFO|grouping by ['seqname', 'strand']\n",
      "100%|██████████| 50/50 [00:00<00:00, 3393.78it/s]"
     ]
    },
    {
     "name": "stdout",
     "output_type": "stream",
     "text": [
      "0.35000000000000003,"
     ]
    },
    {
     "name": "stderr",
     "output_type": "stream",
     "text": [
      "\n",
      "2018-07-25 10:40:58,764|INFO|clustering clvs in parallel using 30 CPUs ...\n",
      "2018-07-25 10:40:59,610|INFO|concatenating clustered sub dataframes ...\n",
      "2018-07-25 10:40:59,981|INFO|grouping by ['seqname', 'strand']\n",
      "100%|██████████| 50/50 [00:00<00:00, 3379.18it/s]"
     ]
    },
    {
     "name": "stdout",
     "output_type": "stream",
     "text": [
      "0.4,"
     ]
    },
    {
     "name": "stderr",
     "output_type": "stream",
     "text": [
      "\n",
      "2018-07-25 10:41:00,593|INFO|clustering clvs in parallel using 30 CPUs ...\n",
      "2018-07-25 10:41:01,454|INFO|concatenating clustered sub dataframes ...\n",
      "2018-07-25 10:41:01,809|INFO|grouping by ['seqname', 'strand']\n",
      "100%|██████████| 50/50 [00:00<00:00, 2542.46it/s]"
     ]
    },
    {
     "name": "stdout",
     "output_type": "stream",
     "text": [
      "0.45,"
     ]
    },
    {
     "name": "stderr",
     "output_type": "stream",
     "text": [
      "\n",
      "2018-07-25 10:41:02,359|INFO|clustering clvs in parallel using 30 CPUs ...\n",
      "2018-07-25 10:41:03,015|INFO|concatenating clustered sub dataframes ...\n",
      "2018-07-25 10:41:03,344|INFO|grouping by ['seqname', 'strand']\n",
      "100%|██████████| 50/50 [00:00<00:00, 3533.35it/s]"
     ]
    },
    {
     "name": "stdout",
     "output_type": "stream",
     "text": [
      "0.5,"
     ]
    },
    {
     "name": "stderr",
     "output_type": "stream",
     "text": [
      "\n",
      "2018-07-25 10:41:03,852|INFO|clustering clvs in parallel using 30 CPUs ...\n",
      "2018-07-25 10:41:04,513|INFO|concatenating clustered sub dataframes ...\n",
      "2018-07-25 10:41:04,846|INFO|grouping by ['seqname', 'strand']\n",
      "100%|██████████| 49/49 [00:00<00:00, 3521.36it/s]"
     ]
    },
    {
     "name": "stdout",
     "output_type": "stream",
     "text": [
      "0.55,"
     ]
    },
    {
     "name": "stderr",
     "output_type": "stream",
     "text": [
      "\n",
      "2018-07-25 10:41:05,441|INFO|clustering clvs in parallel using 30 CPUs ...\n",
      "2018-07-25 10:41:06,196|INFO|concatenating clustered sub dataframes ...\n",
      "2018-07-25 10:41:06,540|INFO|grouping by ['seqname', 'strand']\n",
      "100%|██████████| 49/49 [00:00<00:00, 3642.44it/s]"
     ]
    },
    {
     "name": "stdout",
     "output_type": "stream",
     "text": [
      "0.6000000000000001,"
     ]
    },
    {
     "name": "stderr",
     "output_type": "stream",
     "text": [
      "\n",
      "2018-07-25 10:41:06,846|INFO|clustering clvs in parallel using 30 CPUs ...\n",
      "2018-07-25 10:41:07,508|INFO|concatenating clustered sub dataframes ...\n",
      "2018-07-25 10:41:07,792|INFO|grouping by ['seqname', 'strand']\n",
      "100%|██████████| 49/49 [00:00<00:00, 3693.76it/s]"
     ]
    },
    {
     "name": "stdout",
     "output_type": "stream",
     "text": [
      "0.65,"
     ]
    },
    {
     "name": "stderr",
     "output_type": "stream",
     "text": [
      "\n",
      "2018-07-25 10:41:08,226|INFO|clustering clvs in parallel using 30 CPUs ...\n",
      "2018-07-25 10:41:08,874|INFO|concatenating clustered sub dataframes ...\n",
      "2018-07-25 10:41:09,208|INFO|grouping by ['seqname', 'strand']\n",
      "100%|██████████| 49/49 [00:00<00:00, 2690.10it/s]"
     ]
    },
    {
     "name": "stdout",
     "output_type": "stream",
     "text": [
      "0.7000000000000001,"
     ]
    },
    {
     "name": "stderr",
     "output_type": "stream",
     "text": [
      "\n",
      "2018-07-25 10:41:09,582|INFO|clustering clvs in parallel using 30 CPUs ...\n",
      "2018-07-25 10:41:10,144|INFO|concatenating clustered sub dataframes ...\n",
      "2018-07-25 10:41:10,407|INFO|grouping by ['seqname', 'strand']\n",
      "100%|██████████| 49/49 [00:00<00:00, 3917.07it/s]"
     ]
    },
    {
     "name": "stdout",
     "output_type": "stream",
     "text": [
      "0.75,"
     ]
    },
    {
     "name": "stderr",
     "output_type": "stream",
     "text": [
      "\n",
      "2018-07-25 10:41:10,818|INFO|clustering clvs in parallel using 30 CPUs ...\n",
      "2018-07-25 10:41:11,380|INFO|concatenating clustered sub dataframes ...\n",
      "2018-07-25 10:41:11,735|INFO|grouping by ['seqname', 'strand']\n",
      "100%|██████████| 49/49 [00:00<00:00, 3870.38it/s]"
     ]
    },
    {
     "name": "stdout",
     "output_type": "stream",
     "text": [
      "0.8,"
     ]
    },
    {
     "name": "stderr",
     "output_type": "stream",
     "text": [
      "\n",
      "2018-07-25 10:41:12,083|INFO|clustering clvs in parallel using 30 CPUs ...\n",
      "2018-07-25 10:41:12,537|INFO|concatenating clustered sub dataframes ...\n",
      "2018-07-25 10:41:12,849|INFO|grouping by ['seqname', 'strand']\n",
      "100%|██████████| 49/49 [00:00<00:00, 3919.46it/s]"
     ]
    },
    {
     "name": "stdout",
     "output_type": "stream",
     "text": [
      "0.8500000000000001,"
     ]
    },
    {
     "name": "stderr",
     "output_type": "stream",
     "text": [
      "\n",
      "2018-07-25 10:41:13,238|INFO|clustering clvs in parallel using 30 CPUs ...\n",
      "2018-07-25 10:41:13,721|INFO|concatenating clustered sub dataframes ...\n",
      "2018-07-25 10:41:13,960|INFO|grouping by ['seqname', 'strand']\n",
      "100%|██████████| 48/48 [00:00<00:00, 4038.00it/s]"
     ]
    },
    {
     "name": "stdout",
     "output_type": "stream",
     "text": [
      "0.9,"
     ]
    },
    {
     "name": "stderr",
     "output_type": "stream",
     "text": [
      "\n",
      "2018-07-25 10:41:14,305|INFO|clustering clvs in parallel using 30 CPUs ...\n",
      "2018-07-25 10:41:14,656|INFO|concatenating clustered sub dataframes ...\n",
      "2018-07-25 10:41:14,902|INFO|grouping by ['seqname', 'strand']\n",
      "100%|██████████| 48/48 [00:00<00:00, 4254.49it/s]"
     ]
    },
    {
     "name": "stdout",
     "output_type": "stream",
     "text": [
      "0.9500000000000001,"
     ]
    },
    {
     "name": "stderr",
     "output_type": "stream",
     "text": [
      "\n",
      "2018-07-25 10:41:15,328|INFO|clustering clvs in parallel using 30 CPUs ...\n",
      "2018-07-25 10:41:15,684|INFO|concatenating clustered sub dataframes ...\n"
     ]
    },
    {
     "name": "stdout",
     "output_type": "stream",
     "text": [
      "1.0,"
     ]
    },
    {
     "name": "stderr",
     "output_type": "stream",
     "text": [
      "2018-07-25 10:41:37,026|INFO|reading /projects/cheny_prj/KLEAT_benchmarking/polyA_seq/Brain1.bed ...\n",
      "2018-07-25 10:41:37,186|INFO|grouping by ['seqname', 'strand']\n"
     ]
    },
    {
     "name": "stdout",
     "output_type": "stream",
     "text": [
      "0.0,"
     ]
    },
    {
     "name": "stderr",
     "output_type": "stream",
     "text": [
      "100%|██████████| 50/50 [00:00<00:00, 363.52it/s]\n",
      "2018-07-25 10:41:38,825|INFO|clustering clvs in parallel using 30 CPUs ...\n",
      "2018-07-25 10:42:30,757|INFO|concatenating clustered sub dataframes ...\n",
      "2018-07-25 10:42:43,344|INFO|grouping by ['seqname', 'strand']\n"
     ]
    },
    {
     "name": "stdout",
     "output_type": "stream",
     "text": [
      "0.05,"
     ]
    },
    {
     "name": "stderr",
     "output_type": "stream",
     "text": [
      "100%|██████████| 50/50 [00:00<00:00, 2153.42it/s]\n",
      "2018-07-25 10:42:43,977|INFO|clustering clvs in parallel using 30 CPUs ...\n",
      "2018-07-25 10:42:47,358|INFO|concatenating clustered sub dataframes ...\n",
      "2018-07-25 10:42:48,811|INFO|grouping by ['seqname', 'strand']\n"
     ]
    },
    {
     "name": "stdout",
     "output_type": "stream",
     "text": [
      "0.1,"
     ]
    },
    {
     "name": "stderr",
     "output_type": "stream",
     "text": [
      "100%|██████████| 50/50 [00:00<00:00, 2503.79it/s]\n",
      "2018-07-25 10:42:49,567|INFO|clustering clvs in parallel using 30 CPUs ...\n",
      "2018-07-25 10:42:51,326|INFO|concatenating clustered sub dataframes ...\n",
      "2018-07-25 10:42:52,132|INFO|grouping by ['seqname', 'strand']\n",
      "100%|██████████| 50/50 [00:00<00:00, 3048.76it/s]"
     ]
    },
    {
     "name": "stdout",
     "output_type": "stream",
     "text": [
      "0.15000000000000002,"
     ]
    },
    {
     "name": "stderr",
     "output_type": "stream",
     "text": [
      "\n",
      "2018-07-25 10:42:52,727|INFO|clustering clvs in parallel using 30 CPUs ...\n",
      "2018-07-25 10:42:53,883|INFO|concatenating clustered sub dataframes ...\n",
      "2018-07-25 10:42:54,475|INFO|grouping by ['seqname', 'strand']\n",
      "100%|██████████| 50/50 [00:00<00:00, 3357.38it/s]"
     ]
    },
    {
     "name": "stdout",
     "output_type": "stream",
     "text": [
      "0.2,"
     ]
    },
    {
     "name": "stderr",
     "output_type": "stream",
     "text": [
      "\n",
      "2018-07-25 10:42:54,830|INFO|clustering clvs in parallel using 30 CPUs ...\n",
      "2018-07-25 10:42:56,085|INFO|concatenating clustered sub dataframes ...\n",
      "2018-07-25 10:42:56,575|INFO|grouping by ['seqname', 'strand']\n",
      "100%|██████████| 50/50 [00:00<00:00, 2954.48it/s]"
     ]
    },
    {
     "name": "stdout",
     "output_type": "stream",
     "text": [
      "0.25,"
     ]
    },
    {
     "name": "stderr",
     "output_type": "stream",
     "text": [
      "\n",
      "2018-07-25 10:42:57,012|INFO|clustering clvs in parallel using 30 CPUs ...\n",
      "2018-07-25 10:42:57,965|INFO|concatenating clustered sub dataframes ...\n",
      "2018-07-25 10:42:58,396|INFO|grouping by ['seqname', 'strand']\n",
      "100%|██████████| 50/50 [00:00<00:00, 3530.68it/s]"
     ]
    },
    {
     "name": "stdout",
     "output_type": "stream",
     "text": [
      "0.30000000000000004,"
     ]
    },
    {
     "name": "stderr",
     "output_type": "stream",
     "text": [
      "\n",
      "2018-07-25 10:42:58,697|INFO|clustering clvs in parallel using 30 CPUs ...\n",
      "2018-07-25 10:42:59,670|INFO|concatenating clustered sub dataframes ...\n",
      "2018-07-25 10:43:00,102|INFO|grouping by ['seqname', 'strand']\n",
      "100%|██████████| 50/50 [00:00<00:00, 3445.13it/s]"
     ]
    },
    {
     "name": "stdout",
     "output_type": "stream",
     "text": [
      "0.35000000000000003,"
     ]
    },
    {
     "name": "stderr",
     "output_type": "stream",
     "text": [
      "\n",
      "2018-07-25 10:43:00,636|INFO|clustering clvs in parallel using 30 CPUs ...\n",
      "2018-07-25 10:43:01,493|INFO|concatenating clustered sub dataframes ...\n",
      "2018-07-25 10:43:02,000|INFO|grouping by ['seqname', 'strand']\n",
      "100%|██████████| 50/50 [00:00<00:00, 3453.07it/s]"
     ]
    },
    {
     "name": "stdout",
     "output_type": "stream",
     "text": [
      "0.4,"
     ]
    },
    {
     "name": "stderr",
     "output_type": "stream",
     "text": [
      "\n",
      "2018-07-25 10:43:02,442|INFO|clustering clvs in parallel using 30 CPUs ...\n",
      "2018-07-25 10:43:03,328|INFO|concatenating clustered sub dataframes ...\n",
      "2018-07-25 10:43:03,732|INFO|grouping by ['seqname', 'strand']\n",
      "100%|██████████| 50/50 [00:00<00:00, 3541.53it/s]"
     ]
    },
    {
     "name": "stdout",
     "output_type": "stream",
     "text": [
      "0.45,"
     ]
    },
    {
     "name": "stderr",
     "output_type": "stream",
     "text": [
      "\n",
      "2018-07-25 10:43:04,102|INFO|clustering clvs in parallel using 30 CPUs ...\n",
      "2018-07-25 10:43:04,877|INFO|concatenating clustered sub dataframes ...\n",
      "2018-07-25 10:43:05,270|INFO|grouping by ['seqname', 'strand']\n",
      "100%|██████████| 50/50 [00:00<00:00, 3367.73it/s]"
     ]
    },
    {
     "name": "stdout",
     "output_type": "stream",
     "text": [
      "0.5,"
     ]
    },
    {
     "name": "stderr",
     "output_type": "stream",
     "text": [
      "\n",
      "2018-07-25 10:43:05,748|INFO|clustering clvs in parallel using 30 CPUs ...\n",
      "2018-07-25 10:43:06,499|INFO|concatenating clustered sub dataframes ...\n",
      "2018-07-25 10:43:06,850|INFO|grouping by ['seqname', 'strand']\n",
      "100%|██████████| 50/50 [00:00<00:00, 3699.40it/s]"
     ]
    },
    {
     "name": "stdout",
     "output_type": "stream",
     "text": [
      "0.55,"
     ]
    },
    {
     "name": "stderr",
     "output_type": "stream",
     "text": [
      "\n",
      "2018-07-25 10:43:07,157|INFO|clustering clvs in parallel using 30 CPUs ...\n",
      "2018-07-25 10:43:07,907|INFO|concatenating clustered sub dataframes ...\n",
      "2018-07-25 10:43:08,229|INFO|grouping by ['seqname', 'strand']\n",
      "100%|██████████| 50/50 [00:00<00:00, 3817.24it/s]"
     ]
    },
    {
     "name": "stdout",
     "output_type": "stream",
     "text": [
      "0.6000000000000001,"
     ]
    },
    {
     "name": "stderr",
     "output_type": "stream",
     "text": [
      "\n",
      "2018-07-25 10:43:08,648|INFO|clustering clvs in parallel using 30 CPUs ...\n",
      "2018-07-25 10:43:09,309|INFO|concatenating clustered sub dataframes ...\n",
      "2018-07-25 10:43:09,650|INFO|grouping by ['seqname', 'strand']\n",
      "100%|██████████| 50/50 [00:00<00:00, 3571.99it/s]"
     ]
    },
    {
     "name": "stdout",
     "output_type": "stream",
     "text": [
      "0.65,"
     ]
    },
    {
     "name": "stderr",
     "output_type": "stream",
     "text": [
      "\n",
      "2018-07-25 10:43:10,049|INFO|clustering clvs in parallel using 30 CPUs ...\n",
      "2018-07-25 10:43:10,592|INFO|concatenating clustered sub dataframes ...\n",
      "2018-07-25 10:43:10,896|INFO|grouping by ['seqname', 'strand']\n",
      "100%|██████████| 50/50 [00:00<00:00, 2553.58it/s]"
     ]
    },
    {
     "name": "stdout",
     "output_type": "stream",
     "text": [
      "0.7000000000000001,"
     ]
    },
    {
     "name": "stderr",
     "output_type": "stream",
     "text": [
      "\n",
      "2018-07-25 10:43:11,300|INFO|clustering clvs in parallel using 30 CPUs ...\n",
      "2018-07-25 10:43:11,861|INFO|concatenating clustered sub dataframes ...\n",
      "2018-07-25 10:43:12,189|INFO|grouping by ['seqname', 'strand']\n",
      "100%|██████████| 49/49 [00:00<00:00, 3033.56it/s]"
     ]
    },
    {
     "name": "stdout",
     "output_type": "stream",
     "text": [
      "0.75,"
     ]
    },
    {
     "name": "stderr",
     "output_type": "stream",
     "text": [
      "\n",
      "2018-07-25 10:43:12,506|INFO|clustering clvs in parallel using 30 CPUs ...\n",
      "2018-07-25 10:43:13,080|INFO|concatenating clustered sub dataframes ...\n",
      "2018-07-25 10:43:13,397|INFO|grouping by ['seqname', 'strand']\n",
      "100%|██████████| 48/48 [00:00<00:00, 3905.61it/s]"
     ]
    },
    {
     "name": "stdout",
     "output_type": "stream",
     "text": [
      "0.8,"
     ]
    },
    {
     "name": "stderr",
     "output_type": "stream",
     "text": [
      "\n",
      "2018-07-25 10:43:13,692|INFO|clustering clvs in parallel using 30 CPUs ...\n",
      "2018-07-25 10:43:14,240|INFO|concatenating clustered sub dataframes ...\n",
      "2018-07-25 10:43:14,529|INFO|grouping by ['seqname', 'strand']\n",
      "100%|██████████| 48/48 [00:00<00:00, 3958.37it/s]"
     ]
    },
    {
     "name": "stdout",
     "output_type": "stream",
     "text": [
      "0.8500000000000001,"
     ]
    },
    {
     "name": "stderr",
     "output_type": "stream",
     "text": [
      "\n",
      "2018-07-25 10:43:14,853|INFO|clustering clvs in parallel using 30 CPUs ...\n",
      "2018-07-25 10:43:15,339|INFO|concatenating clustered sub dataframes ...\n",
      "2018-07-25 10:43:15,619|INFO|grouping by ['seqname', 'strand']\n",
      "100%|██████████| 48/48 [00:00<00:00, 3760.02it/s]"
     ]
    },
    {
     "name": "stdout",
     "output_type": "stream",
     "text": [
      "0.9,"
     ]
    },
    {
     "name": "stderr",
     "output_type": "stream",
     "text": [
      "\n",
      "2018-07-25 10:43:16,086|INFO|clustering clvs in parallel using 30 CPUs ...\n",
      "2018-07-25 10:43:16,546|INFO|concatenating clustered sub dataframes ...\n",
      "2018-07-25 10:43:16,826|INFO|grouping by ['seqname', 'strand']\n",
      "100%|██████████| 48/48 [00:00<00:00, 4006.90it/s]"
     ]
    },
    {
     "name": "stdout",
     "output_type": "stream",
     "text": [
      "0.9500000000000001,"
     ]
    },
    {
     "name": "stderr",
     "output_type": "stream",
     "text": [
      "\n",
      "2018-07-25 10:43:17,111|INFO|clustering clvs in parallel using 30 CPUs ...\n",
      "2018-07-25 10:43:17,458|INFO|concatenating clustered sub dataframes ...\n"
     ]
    },
    {
     "name": "stdout",
     "output_type": "stream",
     "text": [
      "1.0,"
     ]
    },
    {
     "name": "stderr",
     "output_type": "stream",
     "text": [
      "2018-07-25 10:43:39,266|INFO|reading /projects/cheny_prj/KLEAT_benchmarking/polyA_seq/Brain1.bed ...\n",
      "2018-07-25 10:43:39,446|INFO|grouping by ['seqname', 'strand']\n"
     ]
    },
    {
     "name": "stdout",
     "output_type": "stream",
     "text": [
      "0.0,"
     ]
    },
    {
     "name": "stderr",
     "output_type": "stream",
     "text": [
      "100%|██████████| 50/50 [00:00<00:00, 386.85it/s]\n",
      "2018-07-25 10:43:41,278|INFO|clustering clvs in parallel using 30 CPUs ...\n",
      "2018-07-25 10:44:33,162|INFO|concatenating clustered sub dataframes ...\n",
      "2018-07-25 10:44:46,202|INFO|grouping by ['seqname', 'strand']\n",
      "100%|██████████| 50/50 [00:00<00:00, 2221.54it/s]"
     ]
    },
    {
     "name": "stdout",
     "output_type": "stream",
     "text": [
      "0.05,"
     ]
    },
    {
     "name": "stderr",
     "output_type": "stream",
     "text": [
      "\n",
      "2018-07-25 10:44:46,653|INFO|clustering clvs in parallel using 30 CPUs ...\n",
      "2018-07-25 10:44:50,019|INFO|concatenating clustered sub dataframes ...\n",
      "2018-07-25 10:44:51,125|INFO|grouping by ['seqname', 'strand']\n",
      "100%|██████████| 50/50 [00:00<00:00, 2855.02it/s]"
     ]
    },
    {
     "name": "stdout",
     "output_type": "stream",
     "text": [
      "0.1,"
     ]
    },
    {
     "name": "stderr",
     "output_type": "stream",
     "text": [
      "\n",
      "2018-07-25 10:44:51,498|INFO|clustering clvs in parallel using 30 CPUs ...\n",
      "2018-07-25 10:44:53,865|INFO|concatenating clustered sub dataframes ...\n",
      "2018-07-25 10:44:54,644|INFO|grouping by ['seqname', 'strand']\n",
      "100%|██████████| 50/50 [00:00<00:00, 3080.74it/s]"
     ]
    },
    {
     "name": "stdout",
     "output_type": "stream",
     "text": [
      "0.15000000000000002,"
     ]
    },
    {
     "name": "stderr",
     "output_type": "stream",
     "text": [
      "\n",
      "2018-07-25 10:44:55,050|INFO|clustering clvs in parallel using 30 CPUs ...\n",
      "2018-07-25 10:44:56,219|INFO|concatenating clustered sub dataframes ...\n",
      "2018-07-25 10:44:56,746|INFO|grouping by ['seqname', 'strand']\n",
      "100%|██████████| 50/50 [00:00<00:00, 3210.09it/s]"
     ]
    },
    {
     "name": "stdout",
     "output_type": "stream",
     "text": [
      "0.2,"
     ]
    },
    {
     "name": "stderr",
     "output_type": "stream",
     "text": [
      "\n",
      "2018-07-25 10:44:57,042|INFO|clustering clvs in parallel using 30 CPUs ...\n",
      "2018-07-25 10:44:58,189|INFO|concatenating clustered sub dataframes ...\n",
      "2018-07-25 10:44:58,647|INFO|grouping by ['seqname', 'strand']\n",
      "100%|██████████| 50/50 [00:00<00:00, 3357.59it/s]"
     ]
    },
    {
     "name": "stdout",
     "output_type": "stream",
     "text": [
      "0.25,"
     ]
    },
    {
     "name": "stderr",
     "output_type": "stream",
     "text": [
      "\n",
      "2018-07-25 10:44:59,012|INFO|clustering clvs in parallel using 30 CPUs ...\n",
      "2018-07-25 10:44:59,880|INFO|concatenating clustered sub dataframes ...\n",
      "2018-07-25 10:45:00,326|INFO|grouping by ['seqname', 'strand']\n",
      "100%|██████████| 50/50 [00:00<00:00, 3551.12it/s]"
     ]
    },
    {
     "name": "stdout",
     "output_type": "stream",
     "text": [
      "0.30000000000000004,"
     ]
    },
    {
     "name": "stderr",
     "output_type": "stream",
     "text": [
      "\n",
      "2018-07-25 10:45:00,662|INFO|clustering clvs in parallel using 30 CPUs ...\n",
      "2018-07-25 10:45:01,620|INFO|concatenating clustered sub dataframes ...\n",
      "2018-07-25 10:45:02,033|INFO|grouping by ['seqname', 'strand']\n",
      "100%|██████████| 50/50 [00:00<00:00, 3601.81it/s]"
     ]
    },
    {
     "name": "stdout",
     "output_type": "stream",
     "text": [
      "0.35000000000000003,"
     ]
    },
    {
     "name": "stderr",
     "output_type": "stream",
     "text": [
      "\n",
      "2018-07-25 10:45:02,476|INFO|clustering clvs in parallel using 30 CPUs ...\n",
      "2018-07-25 10:45:03,225|INFO|concatenating clustered sub dataframes ...\n",
      "2018-07-25 10:45:03,560|INFO|grouping by ['seqname', 'strand']\n",
      "100%|██████████| 50/50 [00:00<00:00, 3903.71it/s]"
     ]
    },
    {
     "name": "stdout",
     "output_type": "stream",
     "text": [
      "0.4,"
     ]
    },
    {
     "name": "stderr",
     "output_type": "stream",
     "text": [
      "\n",
      "2018-07-25 10:45:03,858|INFO|clustering clvs in parallel using 30 CPUs ...\n",
      "2018-07-25 10:45:04,502|INFO|concatenating clustered sub dataframes ...\n",
      "2018-07-25 10:45:04,907|INFO|grouping by ['seqname', 'strand']\n",
      "100%|██████████| 50/50 [00:00<00:00, 3485.03it/s]"
     ]
    },
    {
     "name": "stdout",
     "output_type": "stream",
     "text": [
      "0.45,"
     ]
    },
    {
     "name": "stderr",
     "output_type": "stream",
     "text": [
      "\n",
      "2018-07-25 10:45:05,274|INFO|clustering clvs in parallel using 30 CPUs ...\n",
      "2018-07-25 10:45:05,924|INFO|concatenating clustered sub dataframes ...\n",
      "2018-07-25 10:45:06,332|INFO|grouping by ['seqname', 'strand']\n",
      "100%|██████████| 50/50 [00:00<00:00, 3479.19it/s]"
     ]
    },
    {
     "name": "stdout",
     "output_type": "stream",
     "text": [
      "0.5,"
     ]
    },
    {
     "name": "stderr",
     "output_type": "stream",
     "text": [
      "\n",
      "2018-07-25 10:45:06,643|INFO|clustering clvs in parallel using 30 CPUs ...\n",
      "2018-07-25 10:45:07,505|INFO|concatenating clustered sub dataframes ...\n",
      "2018-07-25 10:45:07,860|INFO|grouping by ['seqname', 'strand']\n",
      "100%|██████████| 50/50 [00:00<00:00, 3737.51it/s]"
     ]
    },
    {
     "name": "stdout",
     "output_type": "stream",
     "text": [
      "0.55,"
     ]
    },
    {
     "name": "stderr",
     "output_type": "stream",
     "text": [
      "\n",
      "2018-07-25 10:45:08,251|INFO|clustering clvs in parallel using 30 CPUs ...\n",
      "2018-07-25 10:45:08,905|INFO|concatenating clustered sub dataframes ...\n",
      "2018-07-25 10:45:09,258|INFO|grouping by ['seqname', 'strand']\n",
      "100%|██████████| 50/50 [00:00<00:00, 3860.52it/s]"
     ]
    },
    {
     "name": "stdout",
     "output_type": "stream",
     "text": [
      "0.6000000000000001,"
     ]
    },
    {
     "name": "stderr",
     "output_type": "stream",
     "text": [
      "\n",
      "2018-07-25 10:45:09,601|INFO|clustering clvs in parallel using 30 CPUs ...\n",
      "2018-07-25 10:45:10,360|INFO|concatenating clustered sub dataframes ...\n",
      "2018-07-25 10:45:10,700|INFO|grouping by ['seqname', 'strand']\n",
      "100%|██████████| 50/50 [00:00<00:00, 3758.67it/s]"
     ]
    },
    {
     "name": "stdout",
     "output_type": "stream",
     "text": [
      "0.65,"
     ]
    },
    {
     "name": "stderr",
     "output_type": "stream",
     "text": [
      "\n",
      "2018-07-25 10:45:11,020|INFO|clustering clvs in parallel using 30 CPUs ...\n",
      "2018-07-25 10:45:11,582|INFO|concatenating clustered sub dataframes ...\n",
      "2018-07-25 10:45:11,936|INFO|grouping by ['seqname', 'strand']\n",
      "100%|██████████| 50/50 [00:00<00:00, 3863.79it/s]"
     ]
    },
    {
     "name": "stdout",
     "output_type": "stream",
     "text": [
      "0.7000000000000001,"
     ]
    },
    {
     "name": "stderr",
     "output_type": "stream",
     "text": [
      "\n",
      "2018-07-25 10:45:12,219|INFO|clustering clvs in parallel using 30 CPUs ...\n",
      "2018-07-25 10:45:12,765|INFO|concatenating clustered sub dataframes ...\n",
      "2018-07-25 10:45:13,075|INFO|grouping by ['seqname', 'strand']\n",
      "100%|██████████| 50/50 [00:00<00:00, 3874.57it/s]"
     ]
    },
    {
     "name": "stdout",
     "output_type": "stream",
     "text": [
      "0.75,"
     ]
    },
    {
     "name": "stderr",
     "output_type": "stream",
     "text": [
      "\n",
      "2018-07-25 10:45:13,396|INFO|clustering clvs in parallel using 30 CPUs ...\n",
      "2018-07-25 10:45:13,873|INFO|concatenating clustered sub dataframes ...\n",
      "2018-07-25 10:45:14,187|INFO|grouping by ['seqname', 'strand']\n",
      "100%|██████████| 50/50 [00:00<00:00, 3288.67it/s]"
     ]
    },
    {
     "name": "stdout",
     "output_type": "stream",
     "text": [
      "0.8,"
     ]
    },
    {
     "name": "stderr",
     "output_type": "stream",
     "text": [
      "\n",
      "2018-07-25 10:45:14,564|INFO|clustering clvs in parallel using 30 CPUs ...\n",
      "2018-07-25 10:45:15,108|INFO|concatenating clustered sub dataframes ...\n",
      "2018-07-25 10:45:15,370|INFO|grouping by ['seqname', 'strand']\n",
      "100%|██████████| 48/48 [00:00<00:00, 4363.29it/s]"
     ]
    },
    {
     "name": "stdout",
     "output_type": "stream",
     "text": [
      "0.8500000000000001,"
     ]
    },
    {
     "name": "stderr",
     "output_type": "stream",
     "text": [
      "\n",
      "2018-07-25 10:45:15,624|INFO|clustering clvs in parallel using 30 CPUs ...\n",
      "2018-07-25 10:45:16,174|INFO|concatenating clustered sub dataframes ...\n",
      "2018-07-25 10:45:16,479|INFO|grouping by ['seqname', 'strand']\n",
      "100%|██████████| 48/48 [00:00<00:00, 3948.43it/s]"
     ]
    },
    {
     "name": "stdout",
     "output_type": "stream",
     "text": [
      "0.9,"
     ]
    },
    {
     "name": "stderr",
     "output_type": "stream",
     "text": [
      "\n",
      "2018-07-25 10:45:16,808|INFO|clustering clvs in parallel using 30 CPUs ...\n",
      "2018-07-25 10:45:17,362|INFO|concatenating clustered sub dataframes ...\n",
      "2018-07-25 10:45:17,648|INFO|grouping by ['seqname', 'strand']\n",
      "100%|██████████| 48/48 [00:00<00:00, 4175.51it/s]"
     ]
    },
    {
     "name": "stdout",
     "output_type": "stream",
     "text": [
      "0.9500000000000001,"
     ]
    },
    {
     "name": "stderr",
     "output_type": "stream",
     "text": [
      "\n",
      "2018-07-25 10:45:17,954|INFO|clustering clvs in parallel using 30 CPUs ...\n",
      "2018-07-25 10:45:18,403|INFO|concatenating clustered sub dataframes ...\n"
     ]
    },
    {
     "name": "stdout",
     "output_type": "stream",
     "text": [
      "1.0,"
     ]
    },
    {
     "name": "stderr",
     "output_type": "stream",
     "text": [
      "2018-07-25 10:46:12,215|INFO|reading /projects/cheny_prj/KLEAT_benchmarking/polyA_seq/Brain2.bed ...\n",
      "2018-07-25 10:46:12,433|INFO|grouping by ['seqname', 'strand']\n"
     ]
    },
    {
     "name": "stdout",
     "output_type": "stream",
     "text": [
      "0.0,"
     ]
    },
    {
     "name": "stderr",
     "output_type": "stream",
     "text": [
      "100%|██████████| 50/50 [00:00<00:00, 131.46it/s]\n",
      "2018-07-25 10:46:16,592|INFO|clustering clvs in parallel using 30 CPUs ...\n",
      "2018-07-25 10:49:59,862|INFO|concatenating clustered sub dataframes ...\n",
      "2018-07-25 10:50:32,925|INFO|grouping by ['seqname', 'strand']\n",
      "100%|██████████| 50/50 [00:00<00:00, 1622.69it/s]"
     ]
    },
    {
     "name": "stdout",
     "output_type": "stream",
     "text": [
      "0.05,"
     ]
    },
    {
     "name": "stderr",
     "output_type": "stream",
     "text": [
      "\n",
      "2018-07-25 10:50:33,451|INFO|clustering clvs in parallel using 30 CPUs ...\n",
      "2018-07-25 10:50:41,268|INFO|concatenating clustered sub dataframes ...\n",
      "2018-07-25 10:50:43,758|INFO|grouping by ['seqname', 'strand']\n"
     ]
    },
    {
     "name": "stdout",
     "output_type": "stream",
     "text": [
      "0.1,"
     ]
    },
    {
     "name": "stderr",
     "output_type": "stream",
     "text": [
      "100%|██████████| 50/50 [00:00<00:00, 2359.66it/s]\n",
      "2018-07-25 10:50:44,256|INFO|clustering clvs in parallel using 30 CPUs ...\n",
      "2018-07-25 10:50:46,327|INFO|concatenating clustered sub dataframes ...\n",
      "2018-07-25 10:50:47,174|INFO|grouping by ['seqname', 'strand']\n",
      "100%|██████████| 50/50 [00:00<00:00, 3033.06it/s]"
     ]
    },
    {
     "name": "stdout",
     "output_type": "stream",
     "text": [
      "0.15000000000000002,"
     ]
    },
    {
     "name": "stderr",
     "output_type": "stream",
     "text": [
      "\n",
      "2018-07-25 10:50:47,651|INFO|clustering clvs in parallel using 30 CPUs ...\n",
      "2018-07-25 10:50:48,903|INFO|concatenating clustered sub dataframes ...\n",
      "2018-07-25 10:50:49,490|INFO|grouping by ['seqname', 'strand']\n",
      "100%|██████████| 50/50 [00:00<00:00, 3488.39it/s]"
     ]
    },
    {
     "name": "stdout",
     "output_type": "stream",
     "text": [
      "0.2,"
     ]
    },
    {
     "name": "stderr",
     "output_type": "stream",
     "text": [
      "\n",
      "2018-07-25 10:50:49,932|INFO|clustering clvs in parallel using 30 CPUs ...\n",
      "2018-07-25 10:50:51,210|INFO|concatenating clustered sub dataframes ...\n",
      "2018-07-25 10:50:51,688|INFO|grouping by ['seqname', 'strand']\n",
      "100%|██████████| 50/50 [00:00<00:00, 1965.89it/s]"
     ]
    },
    {
     "name": "stdout",
     "output_type": "stream",
     "text": [
      "0.25,"
     ]
    },
    {
     "name": "stderr",
     "output_type": "stream",
     "text": [
      "\n",
      "2018-07-25 10:50:52,293|INFO|clustering clvs in parallel using 30 CPUs ...\n",
      "2018-07-25 10:50:53,069|INFO|concatenating clustered sub dataframes ...\n",
      "2018-07-25 10:50:53,519|INFO|grouping by ['seqname', 'strand']\n",
      "100%|██████████| 50/50 [00:00<00:00, 3254.22it/s]"
     ]
    },
    {
     "name": "stdout",
     "output_type": "stream",
     "text": [
      "0.30000000000000004,"
     ]
    },
    {
     "name": "stderr",
     "output_type": "stream",
     "text": [
      "\n",
      "2018-07-25 10:50:53,976|INFO|clustering clvs in parallel using 30 CPUs ...\n",
      "2018-07-25 10:50:55,053|INFO|concatenating clustered sub dataframes ...\n",
      "2018-07-25 10:50:55,439|INFO|grouping by ['seqname', 'strand']\n",
      "100%|██████████| 50/50 [00:00<00:00, 3507.76it/s]"
     ]
    },
    {
     "name": "stdout",
     "output_type": "stream",
     "text": [
      "0.35000000000000003,"
     ]
    },
    {
     "name": "stderr",
     "output_type": "stream",
     "text": [
      "\n",
      "2018-07-25 10:50:55,876|INFO|clustering clvs in parallel using 30 CPUs ...\n",
      "2018-07-25 10:50:56,622|INFO|concatenating clustered sub dataframes ...\n",
      "2018-07-25 10:50:57,012|INFO|grouping by ['seqname', 'strand']\n",
      "100%|██████████| 50/50 [00:00<00:00, 3645.51it/s]"
     ]
    },
    {
     "name": "stdout",
     "output_type": "stream",
     "text": [
      "0.4,"
     ]
    },
    {
     "name": "stderr",
     "output_type": "stream",
     "text": [
      "\n",
      "2018-07-25 10:50:57,430|INFO|clustering clvs in parallel using 30 CPUs ...\n",
      "2018-07-25 10:50:58,181|INFO|concatenating clustered sub dataframes ...\n",
      "2018-07-25 10:50:58,525|INFO|grouping by ['seqname', 'strand']\n",
      "100%|██████████| 50/50 [00:00<00:00, 3748.86it/s]"
     ]
    },
    {
     "name": "stdout",
     "output_type": "stream",
     "text": [
      "0.45,"
     ]
    },
    {
     "name": "stderr",
     "output_type": "stream",
     "text": [
      "\n",
      "2018-07-25 10:50:58,918|INFO|clustering clvs in parallel using 30 CPUs ...\n",
      "2018-07-25 10:50:59,667|INFO|concatenating clustered sub dataframes ...\n",
      "2018-07-25 10:50:59,985|INFO|grouping by ['seqname', 'strand']\n",
      "100%|██████████| 50/50 [00:00<00:00, 3648.24it/s]"
     ]
    },
    {
     "name": "stdout",
     "output_type": "stream",
     "text": [
      "0.5,"
     ]
    },
    {
     "name": "stderr",
     "output_type": "stream",
     "text": [
      "\n",
      "2018-07-25 10:51:00,524|INFO|clustering clvs in parallel using 30 CPUs ...\n",
      "2018-07-25 10:51:01,217|INFO|concatenating clustered sub dataframes ...\n",
      "2018-07-25 10:51:01,560|INFO|grouping by ['seqname', 'strand']\n",
      "100%|██████████| 50/50 [00:00<00:00, 2732.87it/s]"
     ]
    },
    {
     "name": "stdout",
     "output_type": "stream",
     "text": [
      "0.55,"
     ]
    },
    {
     "name": "stderr",
     "output_type": "stream",
     "text": [
      "\n",
      "2018-07-25 10:51:01,902|INFO|clustering clvs in parallel using 30 CPUs ...\n",
      "2018-07-25 10:51:02,445|INFO|concatenating clustered sub dataframes ...\n",
      "2018-07-25 10:51:02,775|INFO|grouping by ['seqname', 'strand']\n",
      "100%|██████████| 48/48 [00:00<00:00, 3713.01it/s]"
     ]
    },
    {
     "name": "stdout",
     "output_type": "stream",
     "text": [
      "0.6000000000000001,"
     ]
    },
    {
     "name": "stderr",
     "output_type": "stream",
     "text": [
      "\n",
      "2018-07-25 10:51:03,304|INFO|clustering clvs in parallel using 30 CPUs ...\n",
      "2018-07-25 10:51:03,762|INFO|concatenating clustered sub dataframes ...\n",
      "2018-07-25 10:51:04,112|INFO|grouping by ['seqname', 'strand']\n",
      "100%|██████████| 48/48 [00:00<00:00, 3888.94it/s]"
     ]
    },
    {
     "name": "stdout",
     "output_type": "stream",
     "text": [
      "0.65,"
     ]
    },
    {
     "name": "stderr",
     "output_type": "stream",
     "text": [
      "\n",
      "2018-07-25 10:51:04,671|INFO|clustering clvs in parallel using 30 CPUs ...\n",
      "2018-07-25 10:51:05,223|INFO|concatenating clustered sub dataframes ...\n",
      "2018-07-25 10:51:05,503|INFO|grouping by ['seqname', 'strand']\n",
      "100%|██████████| 48/48 [00:00<00:00, 4372.58it/s]"
     ]
    },
    {
     "name": "stdout",
     "output_type": "stream",
     "text": [
      "0.7000000000000001,"
     ]
    },
    {
     "name": "stderr",
     "output_type": "stream",
     "text": [
      "\n",
      "2018-07-25 10:51:05,828|INFO|clustering clvs in parallel using 30 CPUs ...\n",
      "2018-07-25 10:51:06,296|INFO|concatenating clustered sub dataframes ...\n",
      "2018-07-25 10:51:06,560|INFO|grouping by ['seqname', 'strand']\n",
      "100%|██████████| 48/48 [00:00<00:00, 4059.25it/s]"
     ]
    },
    {
     "name": "stdout",
     "output_type": "stream",
     "text": [
      "0.75,"
     ]
    },
    {
     "name": "stderr",
     "output_type": "stream",
     "text": [
      "\n",
      "2018-07-25 10:51:06,961|INFO|clustering clvs in parallel using 30 CPUs ...\n",
      "2018-07-25 10:51:07,303|INFO|concatenating clustered sub dataframes ...\n",
      "2018-07-25 10:51:07,563|INFO|grouping by ['seqname', 'strand']\n",
      "100%|██████████| 48/48 [00:00<00:00, 4261.96it/s]"
     ]
    },
    {
     "name": "stdout",
     "output_type": "stream",
     "text": [
      "0.8,"
     ]
    },
    {
     "name": "stderr",
     "output_type": "stream",
     "text": [
      "\n",
      "2018-07-25 10:51:07,961|INFO|clustering clvs in parallel using 30 CPUs ...\n",
      "2018-07-25 10:51:08,417|INFO|concatenating clustered sub dataframes ...\n",
      "2018-07-25 10:51:08,640|INFO|grouping by ['seqname', 'strand']\n",
      "100%|██████████| 48/48 [00:00<00:00, 3970.16it/s]"
     ]
    },
    {
     "name": "stdout",
     "output_type": "stream",
     "text": [
      "0.8500000000000001,"
     ]
    },
    {
     "name": "stderr",
     "output_type": "stream",
     "text": [
      "\n",
      "2018-07-25 10:51:09,015|INFO|clustering clvs in parallel using 30 CPUs ...\n",
      "2018-07-25 10:51:09,275|INFO|concatenating clustered sub dataframes ...\n",
      "2018-07-25 10:51:09,478|INFO|grouping by ['seqname', 'strand']\n",
      "100%|██████████| 48/48 [00:00<00:00, 3641.61it/s]"
     ]
    },
    {
     "name": "stdout",
     "output_type": "stream",
     "text": [
      "0.9,"
     ]
    },
    {
     "name": "stderr",
     "output_type": "stream",
     "text": [
      "\n",
      "2018-07-25 10:51:09,931|INFO|clustering clvs in parallel using 30 CPUs ...\n",
      "2018-07-25 10:51:10,279|INFO|concatenating clustered sub dataframes ...\n",
      "2018-07-25 10:51:10,518|INFO|grouping by ['seqname', 'strand']\n",
      "100%|██████████| 46/46 [00:00<00:00, 3905.63it/s]"
     ]
    },
    {
     "name": "stdout",
     "output_type": "stream",
     "text": [
      "0.9500000000000001,"
     ]
    },
    {
     "name": "stderr",
     "output_type": "stream",
     "text": [
      "\n",
      "2018-07-25 10:51:10,934|INFO|clustering clvs in parallel using 30 CPUs ...\n",
      "2018-07-25 10:51:11,196|INFO|concatenating clustered sub dataframes ...\n"
     ]
    },
    {
     "name": "stdout",
     "output_type": "stream",
     "text": [
      "1.0,"
     ]
    },
    {
     "name": "stderr",
     "output_type": "stream",
     "text": [
      "2018-07-25 10:52:01,702|INFO|reading /projects/cheny_prj/KLEAT_benchmarking/polyA_seq/Brain2.bed ...\n",
      "2018-07-25 10:52:01,874|INFO|grouping by ['seqname', 'strand']\n"
     ]
    },
    {
     "name": "stdout",
     "output_type": "stream",
     "text": [
      "0.0,"
     ]
    },
    {
     "name": "stderr",
     "output_type": "stream",
     "text": [
      "100%|██████████| 50/50 [00:00<00:00, 151.35it/s]\n",
      "2018-07-25 10:52:05,238|INFO|clustering clvs in parallel using 30 CPUs ...\n",
      "2018-07-25 10:55:37,810|INFO|concatenating clustered sub dataframes ...\n",
      "2018-07-25 10:56:06,450|INFO|grouping by ['seqname', 'strand']\n"
     ]
    },
    {
     "name": "stdout",
     "output_type": "stream",
     "text": [
      "0.05,"
     ]
    },
    {
     "name": "stderr",
     "output_type": "stream",
     "text": [
      "100%|██████████| 50/50 [00:00<00:00, 1703.66it/s]\n",
      "2018-07-25 10:56:07,093|INFO|clustering clvs in parallel using 30 CPUs ...\n",
      "2018-07-25 10:56:12,385|INFO|concatenating clustered sub dataframes ...\n",
      "2018-07-25 10:56:14,502|INFO|grouping by ['seqname', 'strand']\n",
      "  0%|          | 0/50 [00:00<?, ?it/s]"
     ]
    },
    {
     "name": "stdout",
     "output_type": "stream",
     "text": [
      "0.1,"
     ]
    },
    {
     "name": "stderr",
     "output_type": "stream",
     "text": [
      "100%|██████████| 50/50 [00:00<00:00, 2320.29it/s]\n",
      "2018-07-25 10:56:15,025|INFO|clustering clvs in parallel using 30 CPUs ...\n",
      "2018-07-25 10:56:18,189|INFO|concatenating clustered sub dataframes ...\n",
      "2018-07-25 10:56:19,233|INFO|grouping by ['seqname', 'strand']\n",
      "100%|██████████| 50/50 [00:00<00:00, 2860.39it/s]"
     ]
    },
    {
     "name": "stdout",
     "output_type": "stream",
     "text": [
      "0.15000000000000002,"
     ]
    },
    {
     "name": "stderr",
     "output_type": "stream",
     "text": [
      "\n",
      "2018-07-25 10:56:19,932|INFO|clustering clvs in parallel using 30 CPUs ...\n",
      "2018-07-25 10:56:21,796|INFO|concatenating clustered sub dataframes ...\n",
      "2018-07-25 10:56:22,549|INFO|grouping by ['seqname', 'strand']\n",
      "100%|██████████| 50/50 [00:00<00:00, 2591.67it/s]"
     ]
    },
    {
     "name": "stdout",
     "output_type": "stream",
     "text": [
      "0.2,"
     ]
    },
    {
     "name": "stderr",
     "output_type": "stream",
     "text": [
      "\n",
      "2018-07-25 10:56:23,289|INFO|clustering clvs in parallel using 30 CPUs ...\n",
      "2018-07-25 10:56:24,564|INFO|concatenating clustered sub dataframes ...\n",
      "2018-07-25 10:56:25,163|INFO|grouping by ['seqname', 'strand']\n",
      "100%|██████████| 50/50 [00:00<00:00, 3299.07it/s]"
     ]
    },
    {
     "name": "stdout",
     "output_type": "stream",
     "text": [
      "0.25,"
     ]
    },
    {
     "name": "stderr",
     "output_type": "stream",
     "text": [
      "\n",
      "2018-07-25 10:56:25,692|INFO|clustering clvs in parallel using 30 CPUs ...\n",
      "2018-07-25 10:56:26,655|INFO|concatenating clustered sub dataframes ...\n",
      "2018-07-25 10:56:27,167|INFO|grouping by ['seqname', 'strand']\n",
      "100%|██████████| 50/50 [00:00<00:00, 3410.34it/s]"
     ]
    },
    {
     "name": "stdout",
     "output_type": "stream",
     "text": [
      "0.30000000000000004,"
     ]
    },
    {
     "name": "stderr",
     "output_type": "stream",
     "text": [
      "\n",
      "2018-07-25 10:56:27,599|INFO|clustering clvs in parallel using 30 CPUs ...\n",
      "2018-07-25 10:56:28,464|INFO|concatenating clustered sub dataframes ...\n",
      "2018-07-25 10:56:28,915|INFO|grouping by ['seqname', 'strand']\n",
      "100%|██████████| 50/50 [00:00<00:00, 3421.63it/s]"
     ]
    },
    {
     "name": "stdout",
     "output_type": "stream",
     "text": [
      "0.35000000000000003,"
     ]
    },
    {
     "name": "stderr",
     "output_type": "stream",
     "text": [
      "\n",
      "2018-07-25 10:56:29,490|INFO|clustering clvs in parallel using 30 CPUs ...\n",
      "2018-07-25 10:56:30,341|INFO|concatenating clustered sub dataframes ...\n",
      "2018-07-25 10:56:30,848|INFO|grouping by ['seqname', 'strand']\n",
      "100%|██████████| 50/50 [00:00<00:00, 2913.84it/s]"
     ]
    },
    {
     "name": "stdout",
     "output_type": "stream",
     "text": [
      "0.4,"
     ]
    },
    {
     "name": "stderr",
     "output_type": "stream",
     "text": [
      "\n",
      "2018-07-25 10:56:31,282|INFO|clustering clvs in parallel using 30 CPUs ...\n",
      "2018-07-25 10:56:32,139|INFO|concatenating clustered sub dataframes ...\n",
      "2018-07-25 10:56:32,545|INFO|grouping by ['seqname', 'strand']\n",
      "  0%|          | 0/50 [00:00<?, ?it/s]"
     ]
    },
    {
     "name": "stdout",
     "output_type": "stream",
     "text": [
      "0.45,"
     ]
    },
    {
     "name": "stderr",
     "output_type": "stream",
     "text": [
      "100%|██████████| 50/50 [00:00<00:00, 3871.21it/s]\n",
      "2018-07-25 10:56:33,139|INFO|clustering clvs in parallel using 30 CPUs ...\n",
      "2018-07-25 10:56:33,783|INFO|concatenating clustered sub dataframes ...\n",
      "2018-07-25 10:56:34,160|INFO|grouping by ['seqname', 'strand']\n",
      "100%|██████████| 50/50 [00:00<00:00, 4046.13it/s]"
     ]
    },
    {
     "name": "stdout",
     "output_type": "stream",
     "text": [
      "0.5,"
     ]
    },
    {
     "name": "stderr",
     "output_type": "stream",
     "text": [
      "\n",
      "2018-07-25 10:56:34,750|INFO|clustering clvs in parallel using 30 CPUs ...\n",
      "2018-07-25 10:56:35,612|INFO|concatenating clustered sub dataframes ...\n",
      "2018-07-25 10:56:35,984|INFO|grouping by ['seqname', 'strand']\n",
      "100%|██████████| 50/50 [00:00<00:00, 3672.96it/s]"
     ]
    },
    {
     "name": "stdout",
     "output_type": "stream",
     "text": [
      "0.55,"
     ]
    },
    {
     "name": "stderr",
     "output_type": "stream",
     "text": [
      "\n",
      "2018-07-25 10:56:36,375|INFO|clustering clvs in parallel using 30 CPUs ...\n",
      "2018-07-25 10:56:37,155|INFO|concatenating clustered sub dataframes ...\n",
      "2018-07-25 10:56:37,519|INFO|grouping by ['seqname', 'strand']\n",
      "100%|██████████| 50/50 [00:00<00:00, 3518.77it/s]"
     ]
    },
    {
     "name": "stdout",
     "output_type": "stream",
     "text": [
      "0.6000000000000001,"
     ]
    },
    {
     "name": "stderr",
     "output_type": "stream",
     "text": [
      "\n",
      "2018-07-25 10:56:38,085|INFO|clustering clvs in parallel using 30 CPUs ...\n",
      "2018-07-25 10:56:38,833|INFO|concatenating clustered sub dataframes ...\n",
      "2018-07-25 10:56:39,267|INFO|grouping by ['seqname', 'strand']\n",
      "100%|██████████| 50/50 [00:00<00:00, 3713.68it/s]"
     ]
    },
    {
     "name": "stdout",
     "output_type": "stream",
     "text": [
      "0.65,"
     ]
    },
    {
     "name": "stderr",
     "output_type": "stream",
     "text": [
      "\n",
      "2018-07-25 10:56:39,744|INFO|clustering clvs in parallel using 30 CPUs ...\n",
      "2018-07-25 10:56:40,489|INFO|concatenating clustered sub dataframes ...\n",
      "2018-07-25 10:56:40,802|INFO|grouping by ['seqname', 'strand']\n",
      "100%|██████████| 50/50 [00:00<00:00, 3976.77it/s]"
     ]
    },
    {
     "name": "stdout",
     "output_type": "stream",
     "text": [
      "0.7000000000000001,"
     ]
    },
    {
     "name": "stderr",
     "output_type": "stream",
     "text": [
      "\n",
      "2018-07-25 10:56:41,188|INFO|clustering clvs in parallel using 30 CPUs ...\n",
      "2018-07-25 10:56:41,863|INFO|concatenating clustered sub dataframes ...\n",
      "2018-07-25 10:56:42,177|INFO|grouping by ['seqname', 'strand']\n",
      "100%|██████████| 49/49 [00:00<00:00, 3755.04it/s]"
     ]
    },
    {
     "name": "stdout",
     "output_type": "stream",
     "text": [
      "0.75,"
     ]
    },
    {
     "name": "stderr",
     "output_type": "stream",
     "text": [
      "\n",
      "2018-07-25 10:56:42,645|INFO|clustering clvs in parallel using 30 CPUs ...\n",
      "2018-07-25 10:56:43,302|INFO|concatenating clustered sub dataframes ...\n",
      "2018-07-25 10:56:43,599|INFO|grouping by ['seqname', 'strand']\n",
      "100%|██████████| 49/49 [00:00<00:00, 3637.15it/s]"
     ]
    },
    {
     "name": "stdout",
     "output_type": "stream",
     "text": [
      "0.8,"
     ]
    },
    {
     "name": "stderr",
     "output_type": "stream",
     "text": [
      "\n",
      "2018-07-25 10:56:43,964|INFO|clustering clvs in parallel using 30 CPUs ...\n",
      "2018-07-25 10:56:44,516|INFO|concatenating clustered sub dataframes ...\n",
      "2018-07-25 10:56:44,931|INFO|grouping by ['seqname', 'strand']\n",
      "100%|██████████| 48/48 [00:00<00:00, 4046.93it/s]"
     ]
    },
    {
     "name": "stdout",
     "output_type": "stream",
     "text": [
      "0.8500000000000001,"
     ]
    },
    {
     "name": "stderr",
     "output_type": "stream",
     "text": [
      "\n",
      "2018-07-25 10:56:45,365|INFO|clustering clvs in parallel using 30 CPUs ...\n",
      "2018-07-25 10:56:45,922|INFO|concatenating clustered sub dataframes ...\n",
      "2018-07-25 10:56:46,169|INFO|grouping by ['seqname', 'strand']\n",
      "100%|██████████| 48/48 [00:00<00:00, 3871.52it/s]"
     ]
    },
    {
     "name": "stdout",
     "output_type": "stream",
     "text": [
      "0.9,"
     ]
    },
    {
     "name": "stderr",
     "output_type": "stream",
     "text": [
      "\n",
      "2018-07-25 10:56:46,726|INFO|clustering clvs in parallel using 30 CPUs ...\n",
      "2018-07-25 10:56:47,195|INFO|concatenating clustered sub dataframes ...\n",
      "2018-07-25 10:56:47,429|INFO|grouping by ['seqname', 'strand']\n",
      "100%|██████████| 47/47 [00:00<00:00, 3958.56it/s]"
     ]
    },
    {
     "name": "stdout",
     "output_type": "stream",
     "text": [
      "0.9500000000000001,"
     ]
    },
    {
     "name": "stderr",
     "output_type": "stream",
     "text": [
      "\n",
      "2018-07-25 10:56:48,044|INFO|clustering clvs in parallel using 30 CPUs ...\n",
      "2018-07-25 10:56:48,403|INFO|concatenating clustered sub dataframes ...\n"
     ]
    },
    {
     "name": "stdout",
     "output_type": "stream",
     "text": [
      "1.0,"
     ]
    },
    {
     "name": "stderr",
     "output_type": "stream",
     "text": [
      "2018-07-25 10:57:41,658|INFO|reading /projects/cheny_prj/KLEAT_benchmarking/polyA_seq/Brain2.bed ...\n",
      "2018-07-25 10:57:41,906|INFO|grouping by ['seqname', 'strand']\n"
     ]
    },
    {
     "name": "stdout",
     "output_type": "stream",
     "text": [
      "0.0,"
     ]
    },
    {
     "name": "stderr",
     "output_type": "stream",
     "text": [
      "100%|██████████| 50/50 [00:00<00:00, 125.15it/s]\n",
      "2018-07-25 10:57:46,080|INFO|clustering clvs in parallel using 30 CPUs ...\n",
      "2018-07-25 11:01:12,330|INFO|concatenating clustered sub dataframes ...\n",
      "2018-07-25 11:01:44,820|INFO|grouping by ['seqname', 'strand']\n",
      "100%|██████████| 50/50 [00:00<00:00, 2022.44it/s]"
     ]
    },
    {
     "name": "stdout",
     "output_type": "stream",
     "text": [
      "0.05,"
     ]
    },
    {
     "name": "stderr",
     "output_type": "stream",
     "text": [
      "\n",
      "2018-07-25 11:01:45,496|INFO|clustering clvs in parallel using 30 CPUs ...\n",
      "2018-07-25 11:01:50,794|INFO|concatenating clustered sub dataframes ...\n",
      "2018-07-25 11:01:52,654|INFO|grouping by ['seqname', 'strand']\n",
      "100%|██████████| 50/50 [00:00<00:00, 2374.65it/s]"
     ]
    },
    {
     "name": "stdout",
     "output_type": "stream",
     "text": [
      "0.1,"
     ]
    },
    {
     "name": "stderr",
     "output_type": "stream",
     "text": [
      "\n",
      "2018-07-25 11:01:53,225|INFO|clustering clvs in parallel using 30 CPUs ...\n",
      "2018-07-25 11:01:55,901|INFO|concatenating clustered sub dataframes ...\n",
      "2018-07-25 11:01:57,013|INFO|grouping by ['seqname', 'strand']\n",
      "100%|██████████| 50/50 [00:00<00:00, 2830.16it/s]"
     ]
    },
    {
     "name": "stdout",
     "output_type": "stream",
     "text": [
      "0.15000000000000002,"
     ]
    },
    {
     "name": "stderr",
     "output_type": "stream",
     "text": [
      "\n",
      "2018-07-25 11:01:57,583|INFO|clustering clvs in parallel using 30 CPUs ...\n",
      "2018-07-25 11:01:59,464|INFO|concatenating clustered sub dataframes ...\n",
      "2018-07-25 11:02:00,210|INFO|grouping by ['seqname', 'strand']\n",
      "100%|██████████| 50/50 [00:00<00:00, 3104.59it/s]"
     ]
    },
    {
     "name": "stdout",
     "output_type": "stream",
     "text": [
      "0.2,"
     ]
    },
    {
     "name": "stderr",
     "output_type": "stream",
     "text": [
      "\n",
      "2018-07-25 11:02:00,698|INFO|clustering clvs in parallel using 30 CPUs ...\n",
      "2018-07-25 11:02:01,965|INFO|concatenating clustered sub dataframes ...\n",
      "2018-07-25 11:02:02,592|INFO|grouping by ['seqname', 'strand']\n",
      "100%|██████████| 50/50 [00:00<00:00, 3250.14it/s]"
     ]
    },
    {
     "name": "stdout",
     "output_type": "stream",
     "text": [
      "0.25,"
     ]
    },
    {
     "name": "stderr",
     "output_type": "stream",
     "text": [
      "\n",
      "2018-07-25 11:02:02,999|INFO|clustering clvs in parallel using 30 CPUs ...\n",
      "2018-07-25 11:02:03,955|INFO|concatenating clustered sub dataframes ...\n",
      "2018-07-25 11:02:04,461|INFO|grouping by ['seqname', 'strand']\n",
      "100%|██████████| 50/50 [00:00<00:00, 3464.08it/s]"
     ]
    },
    {
     "name": "stdout",
     "output_type": "stream",
     "text": [
      "0.30000000000000004,"
     ]
    },
    {
     "name": "stderr",
     "output_type": "stream",
     "text": [
      "\n",
      "2018-07-25 11:02:05,159|INFO|clustering clvs in parallel using 30 CPUs ...\n",
      "2018-07-25 11:02:06,110|INFO|concatenating clustered sub dataframes ...\n",
      "2018-07-25 11:02:06,596|INFO|grouping by ['seqname', 'strand']\n",
      "100%|██████████| 50/50 [00:00<00:00, 3364.33it/s]"
     ]
    },
    {
     "name": "stdout",
     "output_type": "stream",
     "text": [
      "0.35000000000000003,"
     ]
    },
    {
     "name": "stderr",
     "output_type": "stream",
     "text": [
      "\n",
      "2018-07-25 11:02:07,418|INFO|clustering clvs in parallel using 30 CPUs ...\n",
      "2018-07-25 11:02:08,373|INFO|concatenating clustered sub dataframes ...\n",
      "2018-07-25 11:02:08,856|INFO|grouping by ['seqname', 'strand']\n",
      "100%|██████████| 50/50 [00:00<00:00, 3182.04it/s]"
     ]
    },
    {
     "name": "stdout",
     "output_type": "stream",
     "text": [
      "0.4,"
     ]
    },
    {
     "name": "stderr",
     "output_type": "stream",
     "text": [
      "\n",
      "2018-07-25 11:02:09,590|INFO|clustering clvs in parallel using 30 CPUs ...\n",
      "2018-07-25 11:02:10,446|INFO|concatenating clustered sub dataframes ...\n",
      "2018-07-25 11:02:10,875|INFO|grouping by ['seqname', 'strand']\n",
      "100%|██████████| 50/50 [00:00<00:00, 3418.56it/s]"
     ]
    },
    {
     "name": "stdout",
     "output_type": "stream",
     "text": [
      "0.45,"
     ]
    },
    {
     "name": "stderr",
     "output_type": "stream",
     "text": [
      "\n",
      "2018-07-25 11:02:11,611|INFO|clustering clvs in parallel using 30 CPUs ...\n",
      "2018-07-25 11:02:12,373|INFO|concatenating clustered sub dataframes ...\n",
      "2018-07-25 11:02:12,778|INFO|grouping by ['seqname', 'strand']\n",
      "100%|██████████| 50/50 [00:00<00:00, 3381.74it/s]"
     ]
    },
    {
     "name": "stdout",
     "output_type": "stream",
     "text": [
      "0.5,"
     ]
    },
    {
     "name": "stderr",
     "output_type": "stream",
     "text": [
      "\n",
      "2018-07-25 11:02:13,541|INFO|clustering clvs in parallel using 30 CPUs ...\n",
      "2018-07-25 11:02:14,204|INFO|concatenating clustered sub dataframes ...\n",
      "2018-07-25 11:02:14,621|INFO|grouping by ['seqname', 'strand']\n",
      "100%|██████████| 50/50 [00:00<00:00, 3355.44it/s]"
     ]
    },
    {
     "name": "stdout",
     "output_type": "stream",
     "text": [
      "0.55,"
     ]
    },
    {
     "name": "stderr",
     "output_type": "stream",
     "text": [
      "\n",
      "2018-07-25 11:02:15,253|INFO|clustering clvs in parallel using 30 CPUs ...\n",
      "2018-07-25 11:02:15,914|INFO|concatenating clustered sub dataframes ...\n",
      "2018-07-25 11:02:16,307|INFO|grouping by ['seqname', 'strand']\n",
      "100%|██████████| 50/50 [00:00<00:00, 3477.81it/s]"
     ]
    },
    {
     "name": "stdout",
     "output_type": "stream",
     "text": [
      "0.6000000000000001,"
     ]
    },
    {
     "name": "stderr",
     "output_type": "stream",
     "text": [
      "\n",
      "2018-07-25 11:02:17,099|INFO|clustering clvs in parallel using 30 CPUs ...\n",
      "2018-07-25 11:02:17,760|INFO|concatenating clustered sub dataframes ...\n",
      "2018-07-25 11:02:18,161|INFO|grouping by ['seqname', 'strand']\n",
      "100%|██████████| 50/50 [00:00<00:00, 3560.53it/s]"
     ]
    },
    {
     "name": "stdout",
     "output_type": "stream",
     "text": [
      "0.65,"
     ]
    },
    {
     "name": "stderr",
     "output_type": "stream",
     "text": [
      "\n",
      "2018-07-25 11:02:18,860|INFO|clustering clvs in parallel using 30 CPUs ...\n",
      "2018-07-25 11:02:19,535|INFO|concatenating clustered sub dataframes ...\n",
      "2018-07-25 11:02:19,910|INFO|grouping by ['seqname', 'strand']\n",
      "100%|██████████| 50/50 [00:00<00:00, 3698.29it/s]"
     ]
    },
    {
     "name": "stdout",
     "output_type": "stream",
     "text": [
      "0.7000000000000001,"
     ]
    },
    {
     "name": "stderr",
     "output_type": "stream",
     "text": [
      "\n",
      "2018-07-25 11:02:20,589|INFO|clustering clvs in parallel using 30 CPUs ...\n",
      "2018-07-25 11:02:21,257|INFO|concatenating clustered sub dataframes ...\n",
      "2018-07-25 11:02:21,584|INFO|grouping by ['seqname', 'strand']\n",
      "100%|██████████| 50/50 [00:00<00:00, 3762.72it/s]"
     ]
    },
    {
     "name": "stdout",
     "output_type": "stream",
     "text": [
      "0.75,"
     ]
    },
    {
     "name": "stderr",
     "output_type": "stream",
     "text": [
      "\n",
      "2018-07-25 11:02:22,161|INFO|clustering clvs in parallel using 30 CPUs ...\n",
      "2018-07-25 11:02:22,844|INFO|concatenating clustered sub dataframes ...\n",
      "2018-07-25 11:02:23,296|INFO|grouping by ['seqname', 'strand']\n"
     ]
    },
    {
     "name": "stdout",
     "output_type": "stream",
     "text": [
      "0.8,"
     ]
    },
    {
     "name": "stderr",
     "output_type": "stream",
     "text": [
      "100%|██████████| 49/49 [00:00<00:00, 3382.50it/s]\n",
      "2018-07-25 11:02:24,209|INFO|clustering clvs in parallel using 30 CPUs ...\n",
      "2018-07-25 11:02:24,891|INFO|concatenating clustered sub dataframes ...\n",
      "2018-07-25 11:02:25,260|INFO|grouping by ['seqname', 'strand']\n",
      "100%|██████████| 49/49 [00:00<00:00, 3814.77it/s]"
     ]
    },
    {
     "name": "stdout",
     "output_type": "stream",
     "text": [
      "0.8500000000000001,"
     ]
    },
    {
     "name": "stderr",
     "output_type": "stream",
     "text": [
      "\n",
      "2018-07-25 11:02:25,721|INFO|clustering clvs in parallel using 30 CPUs ...\n",
      "2018-07-25 11:02:26,393|INFO|concatenating clustered sub dataframes ...\n",
      "2018-07-25 11:02:26,732|INFO|grouping by ['seqname', 'strand']\n",
      "100%|██████████| 48/48 [00:00<00:00, 3654.77it/s]"
     ]
    },
    {
     "name": "stdout",
     "output_type": "stream",
     "text": [
      "0.9,"
     ]
    },
    {
     "name": "stderr",
     "output_type": "stream",
     "text": [
      "\n",
      "2018-07-25 11:02:27,381|INFO|clustering clvs in parallel using 30 CPUs ...\n",
      "2018-07-25 11:02:27,938|INFO|concatenating clustered sub dataframes ...\n",
      "2018-07-25 11:02:28,224|INFO|grouping by ['seqname', 'strand']\n",
      "100%|██████████| 48/48 [00:00<00:00, 3942.25it/s]"
     ]
    },
    {
     "name": "stdout",
     "output_type": "stream",
     "text": [
      "0.9500000000000001,"
     ]
    },
    {
     "name": "stderr",
     "output_type": "stream",
     "text": [
      "\n",
      "2018-07-25 11:02:28,620|INFO|clustering clvs in parallel using 30 CPUs ...\n",
      "2018-07-25 11:02:29,003|INFO|concatenating clustered sub dataframes ...\n"
     ]
    },
    {
     "name": "stdout",
     "output_type": "stream",
     "text": [
      "1.0,"
     ]
    },
    {
     "name": "stderr",
     "output_type": "stream",
     "text": [
      "2018-07-25 11:02:49,390|INFO|reading /projects/cheny_prj/KLEAT_benchmarking/polyA_seq/UHR1.bed ...\n",
      "2018-07-25 11:02:49,601|INFO|grouping by ['seqname', 'strand']\n"
     ]
    },
    {
     "name": "stdout",
     "output_type": "stream",
     "text": [
      "0.0,"
     ]
    },
    {
     "name": "stderr",
     "output_type": "stream",
     "text": [
      "100%|██████████| 50/50 [00:00<00:00, 410.60it/s]\n",
      "2018-07-25 11:02:51,345|INFO|clustering clvs in parallel using 30 CPUs ...\n",
      "2018-07-25 11:03:40,623|INFO|concatenating clustered sub dataframes ...\n",
      "2018-07-25 11:03:52,447|INFO|grouping by ['seqname', 'strand']\n"
     ]
    },
    {
     "name": "stdout",
     "output_type": "stream",
     "text": [
      "0.05,"
     ]
    },
    {
     "name": "stderr",
     "output_type": "stream",
     "text": [
      "100%|██████████| 50/50 [00:00<00:00, 1975.37it/s]\n",
      "2018-07-25 11:03:53,259|INFO|clustering clvs in parallel using 30 CPUs ...\n",
      "2018-07-25 11:03:57,443|INFO|concatenating clustered sub dataframes ...\n",
      "2018-07-25 11:03:58,900|INFO|grouping by ['seqname', 'strand']\n",
      "100%|██████████| 50/50 [00:00<00:00, 3145.71it/s]"
     ]
    },
    {
     "name": "stdout",
     "output_type": "stream",
     "text": [
      "0.1,"
     ]
    },
    {
     "name": "stderr",
     "output_type": "stream",
     "text": [
      "\n",
      "2018-07-25 11:03:59,487|INFO|clustering clvs in parallel using 30 CPUs ...\n",
      "2018-07-25 11:04:00,853|INFO|concatenating clustered sub dataframes ...\n",
      "2018-07-25 11:04:01,486|INFO|grouping by ['seqname', 'strand']\n",
      "100%|██████████| 50/50 [00:00<00:00, 3246.77it/s]"
     ]
    },
    {
     "name": "stdout",
     "output_type": "stream",
     "text": [
      "0.15000000000000002,"
     ]
    },
    {
     "name": "stderr",
     "output_type": "stream",
     "text": [
      "\n",
      "2018-07-25 11:04:01,955|INFO|clustering clvs in parallel using 30 CPUs ...\n",
      "2018-07-25 11:04:03,136|INFO|concatenating clustered sub dataframes ...\n",
      "2018-07-25 11:04:03,641|INFO|grouping by ['seqname', 'strand']\n",
      "100%|██████████| 50/50 [00:00<00:00, 3446.37it/s]"
     ]
    },
    {
     "name": "stdout",
     "output_type": "stream",
     "text": [
      "0.2,"
     ]
    },
    {
     "name": "stderr",
     "output_type": "stream",
     "text": [
      "\n",
      "2018-07-25 11:04:04,192|INFO|clustering clvs in parallel using 30 CPUs ...\n",
      "2018-07-25 11:04:05,264|INFO|concatenating clustered sub dataframes ...\n",
      "2018-07-25 11:04:05,711|INFO|grouping by ['seqname', 'strand']\n",
      "100%|██████████| 50/50 [00:00<00:00, 3568.16it/s]"
     ]
    },
    {
     "name": "stdout",
     "output_type": "stream",
     "text": [
      "0.25,"
     ]
    },
    {
     "name": "stderr",
     "output_type": "stream",
     "text": [
      "\n",
      "2018-07-25 11:04:06,237|INFO|clustering clvs in parallel using 30 CPUs ...\n",
      "2018-07-25 11:04:07,001|INFO|concatenating clustered sub dataframes ...\n",
      "2018-07-25 11:04:07,414|INFO|grouping by ['seqname', 'strand']\n",
      "100%|██████████| 50/50 [00:00<00:00, 3583.16it/s]"
     ]
    },
    {
     "name": "stdout",
     "output_type": "stream",
     "text": [
      "0.30000000000000004,"
     ]
    },
    {
     "name": "stderr",
     "output_type": "stream",
     "text": [
      "\n",
      "2018-07-25 11:04:08,046|INFO|clustering clvs in parallel using 30 CPUs ...\n",
      "2018-07-25 11:04:08,909|INFO|concatenating clustered sub dataframes ...\n",
      "2018-07-25 11:04:09,266|INFO|grouping by ['seqname', 'strand']\n",
      "100%|██████████| 50/50 [00:00<00:00, 3802.29it/s]"
     ]
    },
    {
     "name": "stdout",
     "output_type": "stream",
     "text": [
      "0.35000000000000003,"
     ]
    },
    {
     "name": "stderr",
     "output_type": "stream",
     "text": [
      "\n",
      "2018-07-25 11:04:09,779|INFO|clustering clvs in parallel using 30 CPUs ...\n",
      "2018-07-25 11:04:10,634|INFO|concatenating clustered sub dataframes ...\n",
      "2018-07-25 11:04:10,990|INFO|grouping by ['seqname', 'strand']\n",
      "100%|██████████| 50/50 [00:00<00:00, 4010.85it/s]"
     ]
    },
    {
     "name": "stdout",
     "output_type": "stream",
     "text": [
      "0.4,"
     ]
    },
    {
     "name": "stderr",
     "output_type": "stream",
     "text": [
      "\n",
      "2018-07-25 11:04:11,427|INFO|clustering clvs in parallel using 30 CPUs ...\n",
      "2018-07-25 11:04:12,088|INFO|concatenating clustered sub dataframes ...\n",
      "2018-07-25 11:04:12,412|INFO|grouping by ['seqname', 'strand']\n",
      "100%|██████████| 50/50 [00:00<00:00, 3780.83it/s]"
     ]
    },
    {
     "name": "stdout",
     "output_type": "stream",
     "text": [
      "0.45,"
     ]
    },
    {
     "name": "stderr",
     "output_type": "stream",
     "text": [
      "\n",
      "2018-07-25 11:04:12,893|INFO|clustering clvs in parallel using 30 CPUs ...\n",
      "2018-07-25 11:04:13,446|INFO|concatenating clustered sub dataframes ...\n",
      "2018-07-25 11:04:13,780|INFO|grouping by ['seqname', 'strand']\n",
      "100%|██████████| 50/50 [00:00<00:00, 3938.68it/s]"
     ]
    },
    {
     "name": "stdout",
     "output_type": "stream",
     "text": [
      "0.5,"
     ]
    },
    {
     "name": "stderr",
     "output_type": "stream",
     "text": [
      "\n",
      "2018-07-25 11:04:14,215|INFO|clustering clvs in parallel using 30 CPUs ...\n",
      "2018-07-25 11:04:14,776|INFO|concatenating clustered sub dataframes ...\n",
      "2018-07-25 11:04:15,143|INFO|grouping by ['seqname', 'strand']\n",
      "100%|██████████| 50/50 [00:00<00:00, 3700.25it/s]"
     ]
    },
    {
     "name": "stdout",
     "output_type": "stream",
     "text": [
      "0.55,"
     ]
    },
    {
     "name": "stderr",
     "output_type": "stream",
     "text": [
      "\n",
      "2018-07-25 11:04:15,534|INFO|clustering clvs in parallel using 30 CPUs ...\n",
      "2018-07-25 11:04:16,084|INFO|concatenating clustered sub dataframes ...\n",
      "2018-07-25 11:04:16,396|INFO|grouping by ['seqname', 'strand']\n",
      "100%|██████████| 49/49 [00:00<00:00, 4222.92it/s]"
     ]
    },
    {
     "name": "stdout",
     "output_type": "stream",
     "text": [
      "0.6000000000000001,"
     ]
    },
    {
     "name": "stderr",
     "output_type": "stream",
     "text": [
      "\n",
      "2018-07-25 11:04:16,688|INFO|clustering clvs in parallel using 30 CPUs ...\n",
      "2018-07-25 11:04:17,248|INFO|concatenating clustered sub dataframes ...\n",
      "2018-07-25 11:04:17,524|INFO|grouping by ['seqname', 'strand']\n",
      "100%|██████████| 49/49 [00:00<00:00, 3891.56it/s]"
     ]
    },
    {
     "name": "stdout",
     "output_type": "stream",
     "text": [
      "0.65,"
     ]
    },
    {
     "name": "stderr",
     "output_type": "stream",
     "text": [
      "\n",
      "2018-07-25 11:04:17,922|INFO|clustering clvs in parallel using 30 CPUs ...\n",
      "2018-07-25 11:04:18,371|INFO|concatenating clustered sub dataframes ...\n",
      "2018-07-25 11:04:18,655|INFO|grouping by ['seqname', 'strand']\n",
      "100%|██████████| 49/49 [00:00<00:00, 4073.83it/s]"
     ]
    },
    {
     "name": "stdout",
     "output_type": "stream",
     "text": [
      "0.7000000000000001,"
     ]
    },
    {
     "name": "stderr",
     "output_type": "stream",
     "text": [
      "\n",
      "2018-07-25 11:04:18,983|INFO|clustering clvs in parallel using 30 CPUs ...\n",
      "2018-07-25 11:04:19,441|INFO|concatenating clustered sub dataframes ...\n",
      "2018-07-25 11:04:19,713|INFO|grouping by ['seqname', 'strand']\n",
      "100%|██████████| 49/49 [00:00<00:00, 4020.36it/s]"
     ]
    },
    {
     "name": "stdout",
     "output_type": "stream",
     "text": [
      "0.75,"
     ]
    },
    {
     "name": "stderr",
     "output_type": "stream",
     "text": [
      "\n",
      "2018-07-25 11:04:20,147|INFO|clustering clvs in parallel using 30 CPUs ...\n",
      "2018-07-25 11:04:20,591|INFO|concatenating clustered sub dataframes ...\n",
      "2018-07-25 11:04:20,870|INFO|grouping by ['seqname', 'strand']\n",
      "100%|██████████| 49/49 [00:00<00:00, 3893.55it/s]"
     ]
    },
    {
     "name": "stdout",
     "output_type": "stream",
     "text": [
      "0.8,"
     ]
    },
    {
     "name": "stderr",
     "output_type": "stream",
     "text": [
      "\n",
      "2018-07-25 11:04:21,182|INFO|clustering clvs in parallel using 30 CPUs ...\n",
      "2018-07-25 11:04:21,634|INFO|concatenating clustered sub dataframes ...\n",
      "2018-07-25 11:04:21,905|INFO|grouping by ['seqname', 'strand']\n",
      "100%|██████████| 49/49 [00:00<00:00, 4214.17it/s]"
     ]
    },
    {
     "name": "stdout",
     "output_type": "stream",
     "text": [
      "0.8500000000000001,"
     ]
    },
    {
     "name": "stderr",
     "output_type": "stream",
     "text": [
      "\n",
      "2018-07-25 11:04:22,271|INFO|clustering clvs in parallel using 30 CPUs ...\n",
      "2018-07-25 11:04:22,727|INFO|concatenating clustered sub dataframes ...\n",
      "2018-07-25 11:04:22,966|INFO|grouping by ['seqname', 'strand']\n",
      "100%|██████████| 48/48 [00:00<00:00, 4086.52it/s]"
     ]
    },
    {
     "name": "stdout",
     "output_type": "stream",
     "text": [
      "0.9,"
     ]
    },
    {
     "name": "stderr",
     "output_type": "stream",
     "text": [
      "\n",
      "2018-07-25 11:04:23,328|INFO|clustering clvs in parallel using 30 CPUs ...\n",
      "2018-07-25 11:04:23,675|INFO|concatenating clustered sub dataframes ...\n",
      "2018-07-25 11:04:23,959|INFO|grouping by ['seqname', 'strand']\n",
      "100%|██████████| 48/48 [00:00<00:00, 3969.29it/s]"
     ]
    },
    {
     "name": "stdout",
     "output_type": "stream",
     "text": [
      "0.9500000000000001,"
     ]
    },
    {
     "name": "stderr",
     "output_type": "stream",
     "text": [
      "\n",
      "2018-07-25 11:04:24,265|INFO|clustering clvs in parallel using 30 CPUs ...\n",
      "2018-07-25 11:04:24,620|INFO|concatenating clustered sub dataframes ...\n"
     ]
    },
    {
     "name": "stdout",
     "output_type": "stream",
     "text": [
      "1.0,"
     ]
    },
    {
     "name": "stderr",
     "output_type": "stream",
     "text": [
      "2018-07-25 11:04:43,726|INFO|reading /projects/cheny_prj/KLEAT_benchmarking/polyA_seq/UHR1.bed ...\n",
      "2018-07-25 11:04:43,931|INFO|grouping by ['seqname', 'strand']\n"
     ]
    },
    {
     "name": "stdout",
     "output_type": "stream",
     "text": [
      "0.0,"
     ]
    },
    {
     "name": "stderr",
     "output_type": "stream",
     "text": [
      "100%|██████████| 50/50 [00:00<00:00, 375.28it/s]\n",
      "2018-07-25 11:04:45,654|INFO|clustering clvs in parallel using 30 CPUs ...\n",
      "2018-07-25 11:05:38,866|INFO|concatenating clustered sub dataframes ...\n",
      "2018-07-25 11:05:51,145|INFO|grouping by ['seqname', 'strand']\n",
      "100%|██████████| 50/50 [00:00<00:00, 2319.32it/s]"
     ]
    },
    {
     "name": "stdout",
     "output_type": "stream",
     "text": [
      "0.05,"
     ]
    },
    {
     "name": "stderr",
     "output_type": "stream",
     "text": [
      "\n",
      "2018-07-25 11:05:51,710|INFO|clustering clvs in parallel using 30 CPUs ...\n",
      "2018-07-25 11:05:54,672|INFO|concatenating clustered sub dataframes ...\n",
      "2018-07-25 11:05:55,942|INFO|grouping by ['seqname', 'strand']\n",
      "100%|██████████| 50/50 [00:00<00:00, 2559.16it/s]"
     ]
    },
    {
     "name": "stdout",
     "output_type": "stream",
     "text": [
      "0.1,"
     ]
    },
    {
     "name": "stderr",
     "output_type": "stream",
     "text": [
      "\n",
      "2018-07-25 11:05:56,438|INFO|clustering clvs in parallel using 30 CPUs ...\n",
      "2018-07-25 11:05:57,999|INFO|concatenating clustered sub dataframes ...\n",
      "2018-07-25 11:05:58,666|INFO|grouping by ['seqname', 'strand']\n",
      "100%|██████████| 50/50 [00:00<00:00, 3430.98it/s]"
     ]
    },
    {
     "name": "stdout",
     "output_type": "stream",
     "text": [
      "0.15000000000000002,"
     ]
    },
    {
     "name": "stderr",
     "output_type": "stream",
     "text": [
      "\n",
      "2018-07-25 11:05:59,179|INFO|clustering clvs in parallel using 30 CPUs ...\n",
      "2018-07-25 11:06:00,147|INFO|concatenating clustered sub dataframes ...\n",
      "2018-07-25 11:06:00,638|INFO|grouping by ['seqname', 'strand']\n",
      "100%|██████████| 50/50 [00:00<00:00, 3879.88it/s]"
     ]
    },
    {
     "name": "stdout",
     "output_type": "stream",
     "text": [
      "0.2,"
     ]
    },
    {
     "name": "stderr",
     "output_type": "stream",
     "text": [
      "\n",
      "2018-07-25 11:06:01,016|INFO|clustering clvs in parallel using 30 CPUs ...\n",
      "2018-07-25 11:06:01,877|INFO|concatenating clustered sub dataframes ...\n",
      "2018-07-25 11:06:02,329|INFO|grouping by ['seqname', 'strand']\n",
      "100%|██████████| 50/50 [00:00<00:00, 3436.21it/s]"
     ]
    },
    {
     "name": "stdout",
     "output_type": "stream",
     "text": [
      "0.25,"
     ]
    },
    {
     "name": "stderr",
     "output_type": "stream",
     "text": [
      "\n",
      "2018-07-25 11:06:02,807|INFO|clustering clvs in parallel using 30 CPUs ...\n",
      "2018-07-25 11:06:03,459|INFO|concatenating clustered sub dataframes ...\n",
      "2018-07-25 11:06:03,861|INFO|grouping by ['seqname', 'strand']\n",
      "100%|██████████| 50/50 [00:00<00:00, 3937.20it/s]"
     ]
    },
    {
     "name": "stdout",
     "output_type": "stream",
     "text": [
      "0.30000000000000004,"
     ]
    },
    {
     "name": "stderr",
     "output_type": "stream",
     "text": [
      "\n",
      "2018-07-25 11:06:04,242|INFO|clustering clvs in parallel using 30 CPUs ...\n",
      "2018-07-25 11:06:05,097|INFO|concatenating clustered sub dataframes ...\n",
      "2018-07-25 11:06:05,501|INFO|grouping by ['seqname', 'strand']\n",
      "100%|██████████| 49/49 [00:00<00:00, 3615.21it/s]"
     ]
    },
    {
     "name": "stdout",
     "output_type": "stream",
     "text": [
      "0.35000000000000003,"
     ]
    },
    {
     "name": "stderr",
     "output_type": "stream",
     "text": [
      "\n",
      "2018-07-25 11:06:05,858|INFO|clustering clvs in parallel using 30 CPUs ...\n",
      "2018-07-25 11:06:06,512|INFO|concatenating clustered sub dataframes ...\n",
      "2018-07-25 11:06:06,931|INFO|grouping by ['seqname', 'strand']\n",
      "100%|██████████| 49/49 [00:00<00:00, 3631.24it/s]"
     ]
    },
    {
     "name": "stdout",
     "output_type": "stream",
     "text": [
      "0.4,"
     ]
    },
    {
     "name": "stderr",
     "output_type": "stream",
     "text": [
      "\n",
      "2018-07-25 11:06:07,482|INFO|clustering clvs in parallel using 30 CPUs ...\n",
      "2018-07-25 11:06:08,134|INFO|concatenating clustered sub dataframes ...\n",
      "2018-07-25 11:06:08,478|INFO|grouping by ['seqname', 'strand']\n",
      "100%|██████████| 49/49 [00:00<00:00, 3673.03it/s]"
     ]
    },
    {
     "name": "stdout",
     "output_type": "stream",
     "text": [
      "0.45,"
     ]
    },
    {
     "name": "stderr",
     "output_type": "stream",
     "text": [
      "\n",
      "2018-07-25 11:06:08,830|INFO|clustering clvs in parallel using 30 CPUs ...\n",
      "2018-07-25 11:06:09,481|INFO|concatenating clustered sub dataframes ...\n",
      "2018-07-25 11:06:09,813|INFO|grouping by ['seqname', 'strand']\n",
      "100%|██████████| 49/49 [00:00<00:00, 3639.92it/s]"
     ]
    },
    {
     "name": "stdout",
     "output_type": "stream",
     "text": [
      "0.5,"
     ]
    },
    {
     "name": "stderr",
     "output_type": "stream",
     "text": [
      "\n",
      "2018-07-25 11:06:10,238|INFO|clustering clvs in parallel using 30 CPUs ...\n",
      "2018-07-25 11:06:10,899|INFO|concatenating clustered sub dataframes ...\n",
      "2018-07-25 11:06:11,258|INFO|grouping by ['seqname', 'strand']\n",
      "100%|██████████| 49/49 [00:00<00:00, 3373.01it/s]"
     ]
    },
    {
     "name": "stdout",
     "output_type": "stream",
     "text": [
      "0.55,"
     ]
    },
    {
     "name": "stderr",
     "output_type": "stream",
     "text": [
      "\n",
      "2018-07-25 11:06:11,743|INFO|clustering clvs in parallel using 30 CPUs ...\n",
      "2018-07-25 11:06:12,288|INFO|concatenating clustered sub dataframes ...\n",
      "2018-07-25 11:06:12,645|INFO|grouping by ['seqname', 'strand']\n",
      "100%|██████████| 49/49 [00:00<00:00, 4134.15it/s]"
     ]
    },
    {
     "name": "stdout",
     "output_type": "stream",
     "text": [
      "0.6000000000000001,"
     ]
    },
    {
     "name": "stderr",
     "output_type": "stream",
     "text": [
      "\n",
      "2018-07-25 11:06:12,979|INFO|clustering clvs in parallel using 30 CPUs ...\n",
      "2018-07-25 11:06:13,535|INFO|concatenating clustered sub dataframes ...\n",
      "2018-07-25 11:06:13,857|INFO|grouping by ['seqname', 'strand']\n",
      "100%|██████████| 49/49 [00:00<00:00, 3874.17it/s]"
     ]
    },
    {
     "name": "stdout",
     "output_type": "stream",
     "text": [
      "0.65,"
     ]
    },
    {
     "name": "stderr",
     "output_type": "stream",
     "text": [
      "\n",
      "2018-07-25 11:06:14,219|INFO|clustering clvs in parallel using 30 CPUs ...\n",
      "2018-07-25 11:06:14,703|INFO|concatenating clustered sub dataframes ...\n",
      "2018-07-25 11:06:15,049|INFO|grouping by ['seqname', 'strand']\n",
      "100%|██████████| 49/49 [00:00<00:00, 3425.92it/s]"
     ]
    },
    {
     "name": "stdout",
     "output_type": "stream",
     "text": [
      "0.7000000000000001,"
     ]
    },
    {
     "name": "stderr",
     "output_type": "stream",
     "text": [
      "\n",
      "2018-07-25 11:06:15,508|INFO|clustering clvs in parallel using 30 CPUs ...\n",
      "2018-07-25 11:06:16,161|INFO|concatenating clustered sub dataframes ...\n",
      "2018-07-25 11:06:16,461|INFO|grouping by ['seqname', 'strand']\n",
      "100%|██████████| 49/49 [00:00<00:00, 4095.51it/s]"
     ]
    },
    {
     "name": "stdout",
     "output_type": "stream",
     "text": [
      "0.75,"
     ]
    },
    {
     "name": "stderr",
     "output_type": "stream",
     "text": [
      "\n",
      "2018-07-25 11:06:16,805|INFO|clustering clvs in parallel using 30 CPUs ...\n",
      "2018-07-25 11:06:17,369|INFO|concatenating clustered sub dataframes ...\n",
      "2018-07-25 11:06:17,683|INFO|grouping by ['seqname', 'strand']\n",
      "100%|██████████| 48/48 [00:00<00:00, 3776.31it/s]"
     ]
    },
    {
     "name": "stdout",
     "output_type": "stream",
     "text": [
      "0.8,"
     ]
    },
    {
     "name": "stderr",
     "output_type": "stream",
     "text": [
      "\n",
      "2018-07-25 11:06:18,129|INFO|clustering clvs in parallel using 30 CPUs ...\n",
      "2018-07-25 11:06:18,595|INFO|concatenating clustered sub dataframes ...\n",
      "2018-07-25 11:06:18,888|INFO|grouping by ['seqname', 'strand']\n",
      "100%|██████████| 48/48 [00:00<00:00, 3869.88it/s]"
     ]
    },
    {
     "name": "stdout",
     "output_type": "stream",
     "text": [
      "0.8500000000000001,"
     ]
    },
    {
     "name": "stderr",
     "output_type": "stream",
     "text": [
      "\n",
      "2018-07-25 11:06:19,213|INFO|clustering clvs in parallel using 30 CPUs ...\n",
      "2018-07-25 11:06:19,677|INFO|concatenating clustered sub dataframes ...\n",
      "2018-07-25 11:06:19,972|INFO|grouping by ['seqname', 'strand']\n",
      "100%|██████████| 48/48 [00:00<00:00, 3951.69it/s]"
     ]
    },
    {
     "name": "stdout",
     "output_type": "stream",
     "text": [
      "0.9,"
     ]
    },
    {
     "name": "stderr",
     "output_type": "stream",
     "text": [
      "\n",
      "2018-07-25 11:06:20,327|INFO|clustering clvs in parallel using 30 CPUs ...\n",
      "2018-07-25 11:06:20,775|INFO|concatenating clustered sub dataframes ...\n",
      "2018-07-25 11:06:21,044|INFO|grouping by ['seqname', 'strand']\n",
      "100%|██████████| 48/48 [00:00<00:00, 3996.72it/s]"
     ]
    },
    {
     "name": "stdout",
     "output_type": "stream",
     "text": [
      "0.9500000000000001,"
     ]
    },
    {
     "name": "stderr",
     "output_type": "stream",
     "text": [
      "\n",
      "2018-07-25 11:06:21,355|INFO|clustering clvs in parallel using 30 CPUs ...\n",
      "2018-07-25 11:06:21,742|INFO|concatenating clustered sub dataframes ...\n"
     ]
    },
    {
     "name": "stdout",
     "output_type": "stream",
     "text": [
      "1.0,"
     ]
    },
    {
     "name": "stderr",
     "output_type": "stream",
     "text": [
      "2018-07-25 11:06:42,352|INFO|reading /projects/cheny_prj/KLEAT_benchmarking/polyA_seq/UHR1.bed ...\n",
      "2018-07-25 11:06:42,532|INFO|grouping by ['seqname', 'strand']\n"
     ]
    },
    {
     "name": "stdout",
     "output_type": "stream",
     "text": [
      "0.0,"
     ]
    },
    {
     "name": "stderr",
     "output_type": "stream",
     "text": [
      "100%|██████████| 50/50 [00:00<00:00, 384.98it/s]\n",
      "2018-07-25 11:06:44,210|INFO|clustering clvs in parallel using 30 CPUs ...\n",
      "2018-07-25 11:07:34,762|INFO|concatenating clustered sub dataframes ...\n",
      "2018-07-25 11:07:47,277|INFO|grouping by ['seqname', 'strand']\n",
      "100%|██████████| 50/50 [00:00<00:00, 2399.60it/s]"
     ]
    },
    {
     "name": "stdout",
     "output_type": "stream",
     "text": [
      "0.05,"
     ]
    },
    {
     "name": "stderr",
     "output_type": "stream",
     "text": [
      "\n",
      "2018-07-25 11:07:47,856|INFO|clustering clvs in parallel using 30 CPUs ...\n",
      "2018-07-25 11:07:50,523|INFO|concatenating clustered sub dataframes ...\n",
      "2018-07-25 11:07:51,625|INFO|grouping by ['seqname', 'strand']\n",
      "100%|██████████| 50/50 [00:00<00:00, 2723.33it/s]"
     ]
    },
    {
     "name": "stdout",
     "output_type": "stream",
     "text": [
      "0.1,"
     ]
    },
    {
     "name": "stderr",
     "output_type": "stream",
     "text": [
      "\n",
      "2018-07-25 11:07:52,171|INFO|clustering clvs in parallel using 30 CPUs ...\n",
      "2018-07-25 11:07:54,141|INFO|concatenating clustered sub dataframes ...\n",
      "2018-07-25 11:07:54,872|INFO|grouping by ['seqname', 'strand']\n",
      "100%|██████████| 50/50 [00:00<00:00, 3164.32it/s]"
     ]
    },
    {
     "name": "stdout",
     "output_type": "stream",
     "text": [
      "0.15000000000000002,"
     ]
    },
    {
     "name": "stderr",
     "output_type": "stream",
     "text": [
      "\n",
      "2018-07-25 11:07:55,333|INFO|clustering clvs in parallel using 30 CPUs ...\n",
      "2018-07-25 11:07:56,596|INFO|concatenating clustered sub dataframes ...\n",
      "2018-07-25 11:07:57,141|INFO|grouping by ['seqname', 'strand']\n",
      "100%|██████████| 50/50 [00:00<00:00, 3512.29it/s]"
     ]
    },
    {
     "name": "stdout",
     "output_type": "stream",
     "text": [
      "0.2,"
     ]
    },
    {
     "name": "stderr",
     "output_type": "stream",
     "text": [
      "\n",
      "2018-07-25 11:07:57,638|INFO|clustering clvs in parallel using 30 CPUs ...\n",
      "2018-07-25 11:07:58,497|INFO|concatenating clustered sub dataframes ...\n",
      "2018-07-25 11:07:58,936|INFO|grouping by ['seqname', 'strand']\n",
      "100%|██████████| 50/50 [00:00<00:00, 3632.06it/s]"
     ]
    },
    {
     "name": "stdout",
     "output_type": "stream",
     "text": [
      "0.25,"
     ]
    },
    {
     "name": "stderr",
     "output_type": "stream",
     "text": [
      "\n",
      "2018-07-25 11:07:59,441|INFO|clustering clvs in parallel using 30 CPUs ...\n",
      "2018-07-25 11:08:00,310|INFO|concatenating clustered sub dataframes ...\n",
      "2018-07-25 11:08:00,718|INFO|grouping by ['seqname', 'strand']\n",
      "100%|██████████| 50/50 [00:00<00:00, 3578.02it/s]"
     ]
    },
    {
     "name": "stdout",
     "output_type": "stream",
     "text": [
      "0.30000000000000004,"
     ]
    },
    {
     "name": "stderr",
     "output_type": "stream",
     "text": [
      "\n",
      "2018-07-25 11:08:01,190|INFO|clustering clvs in parallel using 30 CPUs ...\n",
      "2018-07-25 11:08:01,857|INFO|concatenating clustered sub dataframes ...\n",
      "2018-07-25 11:08:02,237|INFO|grouping by ['seqname', 'strand']\n",
      "100%|██████████| 50/50 [00:00<00:00, 4170.12it/s]"
     ]
    },
    {
     "name": "stdout",
     "output_type": "stream",
     "text": [
      "0.35000000000000003,"
     ]
    },
    {
     "name": "stderr",
     "output_type": "stream",
     "text": [
      "\n",
      "2018-07-25 11:08:02,560|INFO|clustering clvs in parallel using 30 CPUs ...\n",
      "2018-07-25 11:08:03,318|INFO|concatenating clustered sub dataframes ...\n",
      "2018-07-25 11:08:03,728|INFO|grouping by ['seqname', 'strand']\n",
      "100%|██████████| 49/49 [00:00<00:00, 4158.74it/s]"
     ]
    },
    {
     "name": "stdout",
     "output_type": "stream",
     "text": [
      "0.4,"
     ]
    },
    {
     "name": "stderr",
     "output_type": "stream",
     "text": [
      "\n",
      "2018-07-25 11:08:04,185|INFO|clustering clvs in parallel using 30 CPUs ...\n",
      "2018-07-25 11:08:04,752|INFO|concatenating clustered sub dataframes ...\n",
      "2018-07-25 11:08:05,099|INFO|grouping by ['seqname', 'strand']\n",
      "100%|██████████| 49/49 [00:00<00:00, 3902.27it/s]"
     ]
    },
    {
     "name": "stdout",
     "output_type": "stream",
     "text": [
      "0.45,"
     ]
    },
    {
     "name": "stderr",
     "output_type": "stream",
     "text": [
      "\n",
      "2018-07-25 11:08:05,491|INFO|clustering clvs in parallel using 30 CPUs ...\n",
      "2018-07-25 11:08:06,152|INFO|concatenating clustered sub dataframes ...\n",
      "2018-07-25 11:08:06,508|INFO|grouping by ['seqname', 'strand']\n",
      "100%|██████████| 49/49 [00:00<00:00, 3666.61it/s]"
     ]
    },
    {
     "name": "stdout",
     "output_type": "stream",
     "text": [
      "0.5,"
     ]
    },
    {
     "name": "stderr",
     "output_type": "stream",
     "text": [
      "\n",
      "2018-07-25 11:08:07,045|INFO|clustering clvs in parallel using 30 CPUs ...\n",
      "2018-07-25 11:08:07,594|INFO|concatenating clustered sub dataframes ...\n",
      "2018-07-25 11:08:07,925|INFO|grouping by ['seqname', 'strand']\n",
      "100%|██████████| 49/49 [00:00<00:00, 4391.66it/s]"
     ]
    },
    {
     "name": "stdout",
     "output_type": "stream",
     "text": [
      "0.55,"
     ]
    },
    {
     "name": "stderr",
     "output_type": "stream",
     "text": [
      "\n",
      "2018-07-25 11:08:08,245|INFO|clustering clvs in parallel using 30 CPUs ...\n",
      "2018-07-25 11:08:08,821|INFO|concatenating clustered sub dataframes ...\n",
      "2018-07-25 11:08:09,150|INFO|grouping by ['seqname', 'strand']\n",
      "100%|██████████| 49/49 [00:00<00:00, 4096.65it/s]"
     ]
    },
    {
     "name": "stdout",
     "output_type": "stream",
     "text": [
      "0.6000000000000001,"
     ]
    },
    {
     "name": "stderr",
     "output_type": "stream",
     "text": [
      "\n",
      "2018-07-25 11:08:09,478|INFO|clustering clvs in parallel using 30 CPUs ...\n",
      "2018-07-25 11:08:09,952|INFO|concatenating clustered sub dataframes ...\n",
      "2018-07-25 11:08:10,302|INFO|grouping by ['seqname', 'strand']\n",
      "100%|██████████| 49/49 [00:00<00:00, 3967.36it/s]"
     ]
    },
    {
     "name": "stdout",
     "output_type": "stream",
     "text": [
      "0.65,"
     ]
    },
    {
     "name": "stderr",
     "output_type": "stream",
     "text": [
      "\n",
      "2018-07-25 11:08:10,656|INFO|clustering clvs in parallel using 30 CPUs ...\n",
      "2018-07-25 11:08:11,218|INFO|concatenating clustered sub dataframes ...\n",
      "2018-07-25 11:08:11,561|INFO|grouping by ['seqname', 'strand']\n",
      "100%|██████████| 49/49 [00:00<00:00, 3586.75it/s]"
     ]
    },
    {
     "name": "stdout",
     "output_type": "stream",
     "text": [
      "0.7000000000000001,"
     ]
    },
    {
     "name": "stderr",
     "output_type": "stream",
     "text": [
      "\n",
      "2018-07-25 11:08:12,022|INFO|clustering clvs in parallel using 30 CPUs ...\n",
      "2018-07-25 11:08:12,568|INFO|concatenating clustered sub dataframes ...\n",
      "2018-07-25 11:08:12,909|INFO|grouping by ['seqname', 'strand']\n",
      "100%|██████████| 49/49 [00:00<00:00, 2075.70it/s]"
     ]
    },
    {
     "name": "stdout",
     "output_type": "stream",
     "text": [
      "0.75,"
     ]
    },
    {
     "name": "stderr",
     "output_type": "stream",
     "text": [
      "\n",
      "2018-07-25 11:08:13,310|INFO|clustering clvs in parallel using 30 CPUs ...\n",
      "2018-07-25 11:08:13,761|INFO|concatenating clustered sub dataframes ...\n",
      "2018-07-25 11:08:14,057|INFO|grouping by ['seqname', 'strand']\n",
      "100%|██████████| 49/49 [00:00<00:00, 3909.02it/s]"
     ]
    },
    {
     "name": "stdout",
     "output_type": "stream",
     "text": [
      "0.8,"
     ]
    },
    {
     "name": "stderr",
     "output_type": "stream",
     "text": [
      "\n",
      "2018-07-25 11:08:14,395|INFO|clustering clvs in parallel using 30 CPUs ...\n",
      "2018-07-25 11:08:14,844|INFO|concatenating clustered sub dataframes ...\n",
      "2018-07-25 11:08:15,118|INFO|grouping by ['seqname', 'strand']\n",
      "100%|██████████| 48/48 [00:00<00:00, 4076.34it/s]"
     ]
    },
    {
     "name": "stdout",
     "output_type": "stream",
     "text": [
      "0.8500000000000001,"
     ]
    },
    {
     "name": "stderr",
     "output_type": "stream",
     "text": [
      "\n",
      "2018-07-25 11:08:15,447|INFO|clustering clvs in parallel using 30 CPUs ...\n",
      "2018-07-25 11:08:15,926|INFO|concatenating clustered sub dataframes ...\n",
      "2018-07-25 11:08:16,209|INFO|grouping by ['seqname', 'strand']\n",
      "100%|██████████| 48/48 [00:00<00:00, 4089.09it/s]"
     ]
    },
    {
     "name": "stdout",
     "output_type": "stream",
     "text": [
      "0.9,"
     ]
    },
    {
     "name": "stderr",
     "output_type": "stream",
     "text": [
      "\n",
      "2018-07-25 11:08:16,526|INFO|clustering clvs in parallel using 30 CPUs ...\n",
      "2018-07-25 11:08:16,975|INFO|concatenating clustered sub dataframes ...\n",
      "2018-07-25 11:08:17,257|INFO|grouping by ['seqname', 'strand']\n",
      "100%|██████████| 47/47 [00:00<00:00, 3743.28it/s]"
     ]
    },
    {
     "name": "stdout",
     "output_type": "stream",
     "text": [
      "0.9500000000000001,"
     ]
    },
    {
     "name": "stderr",
     "output_type": "stream",
     "text": [
      "\n",
      "2018-07-25 11:08:17,668|INFO|clustering clvs in parallel using 30 CPUs ...\n",
      "2018-07-25 11:08:18,127|INFO|concatenating clustered sub dataframes ...\n"
     ]
    },
    {
     "name": "stdout",
     "output_type": "stream",
     "text": [
      "1.0,"
     ]
    },
    {
     "name": "stderr",
     "output_type": "stream",
     "text": [
      "2018-07-25 11:08:44,852|INFO|reading /projects/cheny_prj/KLEAT_benchmarking/polyA_seq/UHR2.bed ...\n",
      "2018-07-25 11:08:45,057|INFO|grouping by ['seqname', 'strand']\n"
     ]
    },
    {
     "name": "stdout",
     "output_type": "stream",
     "text": [
      "0.0,"
     ]
    },
    {
     "name": "stderr",
     "output_type": "stream",
     "text": [
      "100%|██████████| 50/50 [00:00<00:00, 324.15it/s]\n",
      "2018-07-25 11:08:47,253|INFO|clustering clvs in parallel using 30 CPUs ...\n",
      "2018-07-25 11:09:57,542|INFO|concatenating clustered sub dataframes ...\n",
      "2018-07-25 11:10:12,992|INFO|grouping by ['seqname', 'strand']\n",
      "100%|██████████| 50/50 [00:00<00:00, 2160.28it/s]"
     ]
    },
    {
     "name": "stdout",
     "output_type": "stream",
     "text": [
      "0.05,"
     ]
    },
    {
     "name": "stderr",
     "output_type": "stream",
     "text": [
      "\n",
      "2018-07-25 11:10:13,558|INFO|clustering clvs in parallel using 30 CPUs ...\n",
      "2018-07-25 11:10:18,157|INFO|concatenating clustered sub dataframes ...\n",
      "2018-07-25 11:10:19,954|INFO|grouping by ['seqname', 'strand']\n",
      "100%|██████████| 50/50 [00:00<00:00, 2981.62it/s]"
     ]
    },
    {
     "name": "stdout",
     "output_type": "stream",
     "text": [
      "0.1,"
     ]
    },
    {
     "name": "stderr",
     "output_type": "stream",
     "text": [
      "\n",
      "2018-07-25 11:10:20,538|INFO|clustering clvs in parallel using 30 CPUs ...\n",
      "2018-07-25 11:10:21,908|INFO|concatenating clustered sub dataframes ...\n",
      "2018-07-25 11:10:22,588|INFO|grouping by ['seqname', 'strand']\n",
      "100%|██████████| 50/50 [00:00<00:00, 3349.12it/s]"
     ]
    },
    {
     "name": "stdout",
     "output_type": "stream",
     "text": [
      "0.15000000000000002,"
     ]
    },
    {
     "name": "stderr",
     "output_type": "stream",
     "text": [
      "\n",
      "2018-07-25 11:10:22,953|INFO|clustering clvs in parallel using 30 CPUs ...\n",
      "2018-07-25 11:10:23,918|INFO|concatenating clustered sub dataframes ...\n",
      "2018-07-25 11:10:24,483|INFO|grouping by ['seqname', 'strand']\n",
      "100%|██████████| 50/50 [00:00<00:00, 3365.30it/s]"
     ]
    },
    {
     "name": "stdout",
     "output_type": "stream",
     "text": [
      "0.2,"
     ]
    },
    {
     "name": "stderr",
     "output_type": "stream",
     "text": [
      "\n",
      "2018-07-25 11:10:24,981|INFO|clustering clvs in parallel using 30 CPUs ...\n",
      "2018-07-25 11:10:25,744|INFO|concatenating clustered sub dataframes ...\n",
      "2018-07-25 11:10:26,211|INFO|grouping by ['seqname', 'strand']\n",
      "100%|██████████| 50/50 [00:00<00:00, 3783.15it/s]"
     ]
    },
    {
     "name": "stdout",
     "output_type": "stream",
     "text": [
      "0.25,"
     ]
    },
    {
     "name": "stderr",
     "output_type": "stream",
     "text": [
      "\n",
      "2018-07-25 11:10:26,585|INFO|clustering clvs in parallel using 30 CPUs ...\n",
      "2018-07-25 11:10:27,475|INFO|concatenating clustered sub dataframes ...\n",
      "2018-07-25 11:10:27,887|INFO|grouping by ['seqname', 'strand']\n",
      "100%|██████████| 50/50 [00:00<00:00, 3589.35it/s]"
     ]
    },
    {
     "name": "stdout",
     "output_type": "stream",
     "text": [
      "0.30000000000000004,"
     ]
    },
    {
     "name": "stderr",
     "output_type": "stream",
     "text": [
      "\n",
      "2018-07-25 11:10:28,433|INFO|clustering clvs in parallel using 30 CPUs ...\n",
      "2018-07-25 11:10:29,180|INFO|concatenating clustered sub dataframes ...\n",
      "2018-07-25 11:10:29,663|INFO|grouping by ['seqname', 'strand']\n",
      "100%|██████████| 50/50 [00:00<00:00, 3417.51it/s]"
     ]
    },
    {
     "name": "stdout",
     "output_type": "stream",
     "text": [
      "0.35000000000000003,"
     ]
    },
    {
     "name": "stderr",
     "output_type": "stream",
     "text": [
      "\n",
      "2018-07-25 11:10:30,036|INFO|clustering clvs in parallel using 30 CPUs ...\n",
      "2018-07-25 11:10:30,692|INFO|concatenating clustered sub dataframes ...\n",
      "2018-07-25 11:10:31,070|INFO|grouping by ['seqname', 'strand']\n",
      "100%|██████████| 50/50 [00:00<00:00, 3769.55it/s]"
     ]
    },
    {
     "name": "stdout",
     "output_type": "stream",
     "text": [
      "0.4,"
     ]
    },
    {
     "name": "stderr",
     "output_type": "stream",
     "text": [
      "\n",
      "2018-07-25 11:10:31,452|INFO|clustering clvs in parallel using 30 CPUs ...\n",
      "2018-07-25 11:10:32,208|INFO|concatenating clustered sub dataframes ...\n",
      "2018-07-25 11:10:32,557|INFO|grouping by ['seqname', 'strand']\n",
      "100%|██████████| 50/50 [00:00<00:00, 3764.95it/s]"
     ]
    },
    {
     "name": "stdout",
     "output_type": "stream",
     "text": [
      "0.45,"
     ]
    },
    {
     "name": "stderr",
     "output_type": "stream",
     "text": [
      "\n",
      "2018-07-25 11:10:32,965|INFO|clustering clvs in parallel using 30 CPUs ...\n",
      "2018-07-25 11:10:33,606|INFO|concatenating clustered sub dataframes ...\n",
      "2018-07-25 11:10:33,958|INFO|grouping by ['seqname', 'strand']\n",
      "100%|██████████| 50/50 [00:00<00:00, 3417.89it/s]"
     ]
    },
    {
     "name": "stdout",
     "output_type": "stream",
     "text": [
      "0.5,"
     ]
    },
    {
     "name": "stderr",
     "output_type": "stream",
     "text": [
      "\n",
      "2018-07-25 11:10:34,507|INFO|clustering clvs in parallel using 30 CPUs ...\n",
      "2018-07-25 11:10:35,078|INFO|concatenating clustered sub dataframes ...\n",
      "2018-07-25 11:10:35,403|INFO|grouping by ['seqname', 'strand']\n",
      "100%|██████████| 50/50 [00:00<00:00, 4070.72it/s]"
     ]
    },
    {
     "name": "stdout",
     "output_type": "stream",
     "text": [
      "0.55,"
     ]
    },
    {
     "name": "stderr",
     "output_type": "stream",
     "text": [
      "\n",
      "2018-07-25 11:10:35,809|INFO|clustering clvs in parallel using 30 CPUs ...\n",
      "2018-07-25 11:10:36,376|INFO|concatenating clustered sub dataframes ...\n",
      "2018-07-25 11:10:36,685|INFO|grouping by ['seqname', 'strand']\n",
      "100%|██████████| 50/50 [00:00<00:00, 3962.20it/s]"
     ]
    },
    {
     "name": "stdout",
     "output_type": "stream",
     "text": [
      "0.6000000000000001,"
     ]
    },
    {
     "name": "stderr",
     "output_type": "stream",
     "text": [
      "\n",
      "2018-07-25 11:10:37,134|INFO|clustering clvs in parallel using 30 CPUs ...\n",
      "2018-07-25 11:10:37,684|INFO|concatenating clustered sub dataframes ...\n",
      "2018-07-25 11:10:37,979|INFO|grouping by ['seqname', 'strand']\n",
      "100%|██████████| 49/49 [00:00<00:00, 4045.61it/s]"
     ]
    },
    {
     "name": "stdout",
     "output_type": "stream",
     "text": [
      "0.65,"
     ]
    },
    {
     "name": "stderr",
     "output_type": "stream",
     "text": [
      "\n",
      "2018-07-25 11:10:38,443|INFO|clustering clvs in parallel using 30 CPUs ...\n",
      "2018-07-25 11:10:38,910|INFO|concatenating clustered sub dataframes ...\n",
      "2018-07-25 11:10:39,175|INFO|grouping by ['seqname', 'strand']\n",
      "100%|██████████| 49/49 [00:00<00:00, 4473.29it/s]"
     ]
    },
    {
     "name": "stdout",
     "output_type": "stream",
     "text": [
      "0.7000000000000001,"
     ]
    },
    {
     "name": "stderr",
     "output_type": "stream",
     "text": [
      "\n",
      "2018-07-25 11:10:39,587|INFO|clustering clvs in parallel using 30 CPUs ...\n",
      "2018-07-25 11:10:40,033|INFO|concatenating clustered sub dataframes ...\n",
      "2018-07-25 11:10:40,316|INFO|grouping by ['seqname', 'strand']\n",
      "100%|██████████| 49/49 [00:00<00:00, 3845.03it/s]"
     ]
    },
    {
     "name": "stdout",
     "output_type": "stream",
     "text": [
      "0.75,"
     ]
    },
    {
     "name": "stderr",
     "output_type": "stream",
     "text": [
      "\n",
      "2018-07-25 11:10:40,775|INFO|clustering clvs in parallel using 30 CPUs ...\n",
      "2018-07-25 11:10:41,230|INFO|concatenating clustered sub dataframes ...\n",
      "2018-07-25 11:10:41,520|INFO|grouping by ['seqname', 'strand']\n",
      "100%|██████████| 49/49 [00:00<00:00, 3867.75it/s]"
     ]
    },
    {
     "name": "stdout",
     "output_type": "stream",
     "text": [
      "0.8,"
     ]
    },
    {
     "name": "stderr",
     "output_type": "stream",
     "text": [
      "\n",
      "2018-07-25 11:10:41,875|INFO|clustering clvs in parallel using 30 CPUs ...\n",
      "2018-07-25 11:10:42,342|INFO|concatenating clustered sub dataframes ...\n",
      "2018-07-25 11:10:42,700|INFO|grouping by ['seqname', 'strand']\n",
      "100%|██████████| 49/49 [00:00<00:00, 4163.21it/s]"
     ]
    },
    {
     "name": "stdout",
     "output_type": "stream",
     "text": [
      "0.8500000000000001,"
     ]
    },
    {
     "name": "stderr",
     "output_type": "stream",
     "text": [
      "\n",
      "2018-07-25 11:10:43,041|INFO|clustering clvs in parallel using 30 CPUs ...\n",
      "2018-07-25 11:10:43,392|INFO|concatenating clustered sub dataframes ...\n",
      "2018-07-25 11:10:43,677|INFO|grouping by ['seqname', 'strand']\n",
      "100%|██████████| 49/49 [00:00<00:00, 4009.46it/s]"
     ]
    },
    {
     "name": "stdout",
     "output_type": "stream",
     "text": [
      "0.9,"
     ]
    },
    {
     "name": "stderr",
     "output_type": "stream",
     "text": [
      "\n",
      "2018-07-25 11:10:44,040|INFO|clustering clvs in parallel using 30 CPUs ...\n",
      "2018-07-25 11:10:44,490|INFO|concatenating clustered sub dataframes ...\n",
      "2018-07-25 11:10:44,712|INFO|grouping by ['seqname', 'strand']\n",
      "100%|██████████| 49/49 [00:00<00:00, 4263.92it/s]"
     ]
    },
    {
     "name": "stdout",
     "output_type": "stream",
     "text": [
      "0.9500000000000001,"
     ]
    },
    {
     "name": "stderr",
     "output_type": "stream",
     "text": [
      "\n",
      "2018-07-25 11:10:45,082|INFO|clustering clvs in parallel using 30 CPUs ...\n",
      "2018-07-25 11:10:45,338|INFO|concatenating clustered sub dataframes ...\n"
     ]
    },
    {
     "name": "stdout",
     "output_type": "stream",
     "text": [
      "1.0,"
     ]
    },
    {
     "name": "stderr",
     "output_type": "stream",
     "text": [
      "2018-07-25 11:11:11,680|INFO|reading /projects/cheny_prj/KLEAT_benchmarking/polyA_seq/UHR2.bed ...\n",
      "2018-07-25 11:11:11,883|INFO|grouping by ['seqname', 'strand']\n"
     ]
    },
    {
     "name": "stdout",
     "output_type": "stream",
     "text": [
      "0.0,"
     ]
    },
    {
     "name": "stderr",
     "output_type": "stream",
     "text": [
      "100%|██████████| 50/50 [00:00<00:00, 270.39it/s]\n",
      "2018-07-25 11:11:14,257|INFO|clustering clvs in parallel using 30 CPUs ...\n",
      "2018-07-25 11:12:24,015|INFO|concatenating clustered sub dataframes ...\n",
      "2018-07-25 11:12:38,968|INFO|grouping by ['seqname', 'strand']\n",
      "100%|██████████| 50/50 [00:00<00:00, 2202.94it/s]"
     ]
    },
    {
     "name": "stdout",
     "output_type": "stream",
     "text": [
      "0.05,"
     ]
    },
    {
     "name": "stderr",
     "output_type": "stream",
     "text": [
      "\n",
      "2018-07-25 11:12:39,673|INFO|clustering clvs in parallel using 30 CPUs ...\n",
      "2018-07-25 11:12:43,263|INFO|concatenating clustered sub dataframes ...\n",
      "2018-07-25 11:12:45,072|INFO|grouping by ['seqname', 'strand']\n",
      "  0%|          | 0/50 [00:00<?, ?it/s]"
     ]
    },
    {
     "name": "stdout",
     "output_type": "stream",
     "text": [
      "0.1,"
     ]
    },
    {
     "name": "stderr",
     "output_type": "stream",
     "text": [
      "100%|██████████| 50/50 [00:00<00:00, 2184.90it/s]\n",
      "2018-07-25 11:12:45,873|INFO|clustering clvs in parallel using 30 CPUs ...\n",
      "2018-07-25 11:12:47,832|INFO|concatenating clustered sub dataframes ...\n",
      "2018-07-25 11:12:48,782|INFO|grouping by ['seqname', 'strand']\n",
      "100%|██████████| 50/50 [00:00<00:00, 2993.58it/s]"
     ]
    },
    {
     "name": "stdout",
     "output_type": "stream",
     "text": [
      "0.15000000000000002,"
     ]
    },
    {
     "name": "stderr",
     "output_type": "stream",
     "text": [
      "\n",
      "2018-07-25 11:12:49,532|INFO|clustering clvs in parallel using 30 CPUs ...\n",
      "2018-07-25 11:12:51,117|INFO|concatenating clustered sub dataframes ...\n",
      "2018-07-25 11:12:51,913|INFO|grouping by ['seqname', 'strand']\n",
      "100%|██████████| 50/50 [00:00<00:00, 2974.68it/s]"
     ]
    },
    {
     "name": "stdout",
     "output_type": "stream",
     "text": [
      "0.2,"
     ]
    },
    {
     "name": "stderr",
     "output_type": "stream",
     "text": [
      "\n",
      "2018-07-25 11:12:52,570|INFO|clustering clvs in parallel using 30 CPUs ...\n",
      "2018-07-25 11:12:53,625|INFO|concatenating clustered sub dataframes ...\n",
      "2018-07-25 11:12:54,172|INFO|grouping by ['seqname', 'strand']\n",
      "100%|██████████| 50/50 [00:00<00:00, 3307.97it/s]"
     ]
    },
    {
     "name": "stdout",
     "output_type": "stream",
     "text": [
      "0.25,"
     ]
    },
    {
     "name": "stderr",
     "output_type": "stream",
     "text": [
      "\n",
      "2018-07-25 11:12:54,940|INFO|clustering clvs in parallel using 30 CPUs ...\n",
      "2018-07-25 11:12:55,798|INFO|concatenating clustered sub dataframes ...\n",
      "2018-07-25 11:12:56,296|INFO|grouping by ['seqname', 'strand']\n",
      "100%|██████████| 50/50 [00:00<00:00, 2863.16it/s]"
     ]
    },
    {
     "name": "stdout",
     "output_type": "stream",
     "text": [
      "0.30000000000000004,"
     ]
    },
    {
     "name": "stderr",
     "output_type": "stream",
     "text": [
      "\n",
      "2018-07-25 11:12:56,958|INFO|clustering clvs in parallel using 30 CPUs ...\n",
      "2018-07-25 11:12:58,018|INFO|concatenating clustered sub dataframes ...\n",
      "2018-07-25 11:12:58,487|INFO|grouping by ['seqname', 'strand']\n",
      "100%|██████████| 50/50 [00:00<00:00, 3250.19it/s]"
     ]
    },
    {
     "name": "stdout",
     "output_type": "stream",
     "text": [
      "0.35000000000000003,"
     ]
    },
    {
     "name": "stderr",
     "output_type": "stream",
     "text": [
      "\n",
      "2018-07-25 11:12:59,159|INFO|clustering clvs in parallel using 30 CPUs ...\n",
      "2018-07-25 11:13:00,035|INFO|concatenating clustered sub dataframes ...\n",
      "2018-07-25 11:13:00,470|INFO|grouping by ['seqname', 'strand']\n",
      "100%|██████████| 50/50 [00:00<00:00, 3126.48it/s]"
     ]
    },
    {
     "name": "stdout",
     "output_type": "stream",
     "text": [
      "0.4,"
     ]
    },
    {
     "name": "stderr",
     "output_type": "stream",
     "text": [
      "\n",
      "2018-07-25 11:13:01,338|INFO|clustering clvs in parallel using 30 CPUs ...\n",
      "2018-07-25 11:13:01,998|INFO|concatenating clustered sub dataframes ...\n",
      "2018-07-25 11:13:02,422|INFO|grouping by ['seqname', 'strand']\n",
      "100%|██████████| 50/50 [00:00<00:00, 3375.97it/s]"
     ]
    },
    {
     "name": "stdout",
     "output_type": "stream",
     "text": [
      "0.45,"
     ]
    },
    {
     "name": "stderr",
     "output_type": "stream",
     "text": [
      "\n",
      "2018-07-25 11:13:03,078|INFO|clustering clvs in parallel using 30 CPUs ...\n",
      "2018-07-25 11:13:03,831|INFO|concatenating clustered sub dataframes ...\n",
      "2018-07-25 11:13:04,217|INFO|grouping by ['seqname', 'strand']\n",
      "100%|██████████| 50/50 [00:00<00:00, 3537.83it/s]"
     ]
    },
    {
     "name": "stdout",
     "output_type": "stream",
     "text": [
      "0.5,"
     ]
    },
    {
     "name": "stderr",
     "output_type": "stream",
     "text": [
      "\n",
      "2018-07-25 11:13:04,985|INFO|clustering clvs in parallel using 30 CPUs ...\n",
      "2018-07-25 11:13:05,745|INFO|concatenating clustered sub dataframes ...\n",
      "2018-07-25 11:13:06,130|INFO|grouping by ['seqname', 'strand']\n",
      "100%|██████████| 50/50 [00:00<00:00, 3452.56it/s]"
     ]
    },
    {
     "name": "stdout",
     "output_type": "stream",
     "text": [
      "0.55,"
     ]
    },
    {
     "name": "stderr",
     "output_type": "stream",
     "text": [
      "\n",
      "2018-07-25 11:13:06,797|INFO|clustering clvs in parallel using 30 CPUs ...\n",
      "2018-07-25 11:13:07,554|INFO|concatenating clustered sub dataframes ...\n",
      "2018-07-25 11:13:07,938|INFO|grouping by ['seqname', 'strand']\n",
      "100%|██████████| 50/50 [00:00<00:00, 3406.62it/s]"
     ]
    },
    {
     "name": "stdout",
     "output_type": "stream",
     "text": [
      "0.6000000000000001,"
     ]
    },
    {
     "name": "stderr",
     "output_type": "stream",
     "text": [
      "\n",
      "2018-07-25 11:13:08,649|INFO|clustering clvs in parallel using 30 CPUs ...\n",
      "2018-07-25 11:13:09,411|INFO|concatenating clustered sub dataframes ...\n",
      "2018-07-25 11:13:09,785|INFO|grouping by ['seqname', 'strand']\n",
      "100%|██████████| 50/50 [00:00<00:00, 3507.59it/s]"
     ]
    },
    {
     "name": "stdout",
     "output_type": "stream",
     "text": [
      "0.65,"
     ]
    },
    {
     "name": "stderr",
     "output_type": "stream",
     "text": [
      "\n",
      "2018-07-25 11:13:10,534|INFO|clustering clvs in parallel using 30 CPUs ...\n",
      "2018-07-25 11:13:11,120|INFO|concatenating clustered sub dataframes ...\n",
      "2018-07-25 11:13:11,485|INFO|grouping by ['seqname', 'strand']\n",
      "100%|██████████| 49/49 [00:00<00:00, 3441.70it/s]"
     ]
    },
    {
     "name": "stdout",
     "output_type": "stream",
     "text": [
      "0.7000000000000001,"
     ]
    },
    {
     "name": "stderr",
     "output_type": "stream",
     "text": [
      "\n",
      "2018-07-25 11:13:12,142|INFO|clustering clvs in parallel using 30 CPUs ...\n",
      "2018-07-25 11:13:12,815|INFO|concatenating clustered sub dataframes ...\n",
      "2018-07-25 11:13:13,130|INFO|grouping by ['seqname', 'strand']\n",
      "100%|██████████| 49/49 [00:00<00:00, 3598.12it/s]"
     ]
    },
    {
     "name": "stdout",
     "output_type": "stream",
     "text": [
      "0.75,"
     ]
    },
    {
     "name": "stderr",
     "output_type": "stream",
     "text": [
      "\n",
      "2018-07-25 11:13:13,826|INFO|clustering clvs in parallel using 30 CPUs ...\n",
      "2018-07-25 11:13:14,512|INFO|concatenating clustered sub dataframes ...\n",
      "2018-07-25 11:13:14,896|INFO|grouping by ['seqname', 'strand']\n",
      "100%|██████████| 49/49 [00:00<00:00, 3405.93it/s]"
     ]
    },
    {
     "name": "stdout",
     "output_type": "stream",
     "text": [
      "0.8,"
     ]
    },
    {
     "name": "stderr",
     "output_type": "stream",
     "text": [
      "\n",
      "2018-07-25 11:13:15,568|INFO|clustering clvs in parallel using 30 CPUs ...\n",
      "2018-07-25 11:13:16,230|INFO|concatenating clustered sub dataframes ...\n",
      "2018-07-25 11:13:16,557|INFO|grouping by ['seqname', 'strand']\n",
      "100%|██████████| 49/49 [00:00<00:00, 3754.84it/s]"
     ]
    },
    {
     "name": "stdout",
     "output_type": "stream",
     "text": [
      "0.8500000000000001,"
     ]
    },
    {
     "name": "stderr",
     "output_type": "stream",
     "text": [
      "\n",
      "2018-07-25 11:13:17,245|INFO|clustering clvs in parallel using 30 CPUs ...\n",
      "2018-07-25 11:13:17,834|INFO|concatenating clustered sub dataframes ...\n",
      "2018-07-25 11:13:18,133|INFO|grouping by ['seqname', 'strand']\n",
      "100%|██████████| 49/49 [00:00<00:00, 2957.90it/s]"
     ]
    },
    {
     "name": "stdout",
     "output_type": "stream",
     "text": [
      "0.9,"
     ]
    },
    {
     "name": "stderr",
     "output_type": "stream",
     "text": [
      "\n",
      "2018-07-25 11:13:18,798|INFO|clustering clvs in parallel using 30 CPUs ...\n",
      "2018-07-25 11:13:19,260|INFO|concatenating clustered sub dataframes ...\n",
      "2018-07-25 11:13:19,541|INFO|grouping by ['seqname', 'strand']\n",
      "100%|██████████| 49/49 [00:00<00:00, 3720.78it/s]"
     ]
    },
    {
     "name": "stdout",
     "output_type": "stream",
     "text": [
      "0.9500000000000001,"
     ]
    },
    {
     "name": "stderr",
     "output_type": "stream",
     "text": [
      "\n",
      "2018-07-25 11:13:20,189|INFO|clustering clvs in parallel using 30 CPUs ...\n",
      "2018-07-25 11:13:20,654|INFO|concatenating clustered sub dataframes ...\n"
     ]
    },
    {
     "name": "stdout",
     "output_type": "stream",
     "text": [
      "1.0,"
     ]
    },
    {
     "name": "stderr",
     "output_type": "stream",
     "text": [
      "2018-07-25 11:13:47,385|INFO|reading /projects/cheny_prj/KLEAT_benchmarking/polyA_seq/UHR2.bed ...\n",
      "2018-07-25 11:13:47,584|INFO|grouping by ['seqname', 'strand']\n"
     ]
    },
    {
     "name": "stdout",
     "output_type": "stream",
     "text": [
      "0.0,"
     ]
    },
    {
     "name": "stderr",
     "output_type": "stream",
     "text": [
      "100%|██████████| 50/50 [00:00<00:00, 284.46it/s]\n",
      "2018-07-25 11:13:50,053|INFO|clustering clvs in parallel using 30 CPUs ...\n",
      "2018-07-25 11:15:01,084|INFO|concatenating clustered sub dataframes ...\n",
      "2018-07-25 11:15:15,845|INFO|grouping by ['seqname', 'strand']\n",
      "100%|██████████| 50/50 [00:00<00:00, 2528.94it/s]"
     ]
    },
    {
     "name": "stdout",
     "output_type": "stream",
     "text": [
      "0.05,"
     ]
    },
    {
     "name": "stderr",
     "output_type": "stream",
     "text": [
      "\n",
      "2018-07-25 11:15:16,482|INFO|clustering clvs in parallel using 30 CPUs ...\n",
      "2018-07-25 11:15:19,561|INFO|concatenating clustered sub dataframes ...\n",
      "2018-07-25 11:15:21,138|INFO|grouping by ['seqname', 'strand']\n",
      "100%|██████████| 50/50 [00:00<00:00, 2502.33it/s]"
     ]
    },
    {
     "name": "stdout",
     "output_type": "stream",
     "text": [
      "0.1,"
     ]
    },
    {
     "name": "stderr",
     "output_type": "stream",
     "text": [
      "\n",
      "2018-07-25 11:15:21,794|INFO|clustering clvs in parallel using 30 CPUs ...\n",
      "2018-07-25 11:15:23,764|INFO|concatenating clustered sub dataframes ...\n",
      "2018-07-25 11:15:24,629|INFO|grouping by ['seqname', 'strand']\n",
      "100%|██████████| 50/50 [00:00<00:00, 3214.27it/s]"
     ]
    },
    {
     "name": "stdout",
     "output_type": "stream",
     "text": [
      "0.15000000000000002,"
     ]
    },
    {
     "name": "stderr",
     "output_type": "stream",
     "text": [
      "\n",
      "2018-07-25 11:15:25,221|INFO|clustering clvs in parallel using 30 CPUs ...\n",
      "2018-07-25 11:15:26,388|INFO|concatenating clustered sub dataframes ...\n",
      "2018-07-25 11:15:26,991|INFO|grouping by ['seqname', 'strand']\n",
      "100%|██████████| 50/50 [00:00<00:00, 3411.78it/s]"
     ]
    },
    {
     "name": "stdout",
     "output_type": "stream",
     "text": [
      "0.2,"
     ]
    },
    {
     "name": "stderr",
     "output_type": "stream",
     "text": [
      "\n",
      "2018-07-25 11:15:27,551|INFO|clustering clvs in parallel using 30 CPUs ...\n",
      "2018-07-25 11:15:28,617|INFO|concatenating clustered sub dataframes ...\n",
      "2018-07-25 11:15:29,083|INFO|grouping by ['seqname', 'strand']\n",
      "100%|██████████| 50/50 [00:00<00:00, 4077.84it/s]"
     ]
    },
    {
     "name": "stdout",
     "output_type": "stream",
     "text": [
      "0.25,"
     ]
    },
    {
     "name": "stderr",
     "output_type": "stream",
     "text": [
      "\n",
      "2018-07-25 11:15:29,660|INFO|clustering clvs in parallel using 30 CPUs ...\n",
      "2018-07-25 11:15:30,631|INFO|concatenating clustered sub dataframes ...\n",
      "2018-07-25 11:15:31,036|INFO|grouping by ['seqname', 'strand']\n",
      "100%|██████████| 50/50 [00:00<00:00, 3823.57it/s]"
     ]
    },
    {
     "name": "stdout",
     "output_type": "stream",
     "text": [
      "0.30000000000000004,"
     ]
    },
    {
     "name": "stderr",
     "output_type": "stream",
     "text": [
      "\n",
      "2018-07-25 11:15:31,569|INFO|clustering clvs in parallel using 30 CPUs ...\n",
      "2018-07-25 11:15:32,433|INFO|concatenating clustered sub dataframes ...\n",
      "2018-07-25 11:15:32,872|INFO|grouping by ['seqname', 'strand']\n",
      "100%|██████████| 50/50 [00:00<00:00, 3519.60it/s]"
     ]
    },
    {
     "name": "stdout",
     "output_type": "stream",
     "text": [
      "0.35000000000000003,"
     ]
    },
    {
     "name": "stderr",
     "output_type": "stream",
     "text": [
      "\n",
      "2018-07-25 11:15:33,457|INFO|clustering clvs in parallel using 30 CPUs ...\n",
      "2018-07-25 11:15:34,112|INFO|concatenating clustered sub dataframes ...\n",
      "2018-07-25 11:15:34,741|INFO|grouping by ['seqname', 'strand']\n",
      "100%|██████████| 50/50 [00:00<00:00, 2222.29it/s]"
     ]
    },
    {
     "name": "stdout",
     "output_type": "stream",
     "text": [
      "0.4,"
     ]
    },
    {
     "name": "stderr",
     "output_type": "stream",
     "text": [
      "\n",
      "2018-07-25 11:15:35,530|INFO|clustering clvs in parallel using 30 CPUs ...\n",
      "2018-07-25 11:15:36,190|INFO|concatenating clustered sub dataframes ...\n",
      "2018-07-25 11:15:36,603|INFO|grouping by ['seqname', 'strand']\n",
      "100%|██████████| 50/50 [00:00<00:00, 3556.12it/s]"
     ]
    },
    {
     "name": "stdout",
     "output_type": "stream",
     "text": [
      "0.45,"
     ]
    },
    {
     "name": "stderr",
     "output_type": "stream",
     "text": [
      "\n",
      "2018-07-25 11:15:37,170|INFO|clustering clvs in parallel using 30 CPUs ...\n",
      "2018-07-25 11:15:37,826|INFO|concatenating clustered sub dataframes ...\n",
      "2018-07-25 11:15:38,155|INFO|grouping by ['seqname', 'strand']\n",
      "100%|██████████| 50/50 [00:00<00:00, 4087.46it/s]"
     ]
    },
    {
     "name": "stdout",
     "output_type": "stream",
     "text": [
      "0.5,"
     ]
    },
    {
     "name": "stderr",
     "output_type": "stream",
     "text": [
      "\n",
      "2018-07-25 11:15:38,668|INFO|clustering clvs in parallel using 30 CPUs ...\n",
      "2018-07-25 11:15:39,333|INFO|concatenating clustered sub dataframes ...\n",
      "2018-07-25 11:15:39,698|INFO|grouping by ['seqname', 'strand']\n",
      "100%|██████████| 50/50 [00:00<00:00, 3694.77it/s]"
     ]
    },
    {
     "name": "stdout",
     "output_type": "stream",
     "text": [
      "0.55,"
     ]
    },
    {
     "name": "stderr",
     "output_type": "stream",
     "text": [
      "\n",
      "2018-07-25 11:15:40,219|INFO|clustering clvs in parallel using 30 CPUs ...\n",
      "2018-07-25 11:15:40,880|INFO|concatenating clustered sub dataframes ...\n",
      "2018-07-25 11:15:41,215|INFO|grouping by ['seqname', 'strand']\n",
      "100%|██████████| 49/49 [00:00<00:00, 3743.75it/s]"
     ]
    },
    {
     "name": "stdout",
     "output_type": "stream",
     "text": [
      "0.6000000000000001,"
     ]
    },
    {
     "name": "stderr",
     "output_type": "stream",
     "text": [
      "\n",
      "2018-07-25 11:15:41,828|INFO|clustering clvs in parallel using 30 CPUs ...\n",
      "2018-07-25 11:15:42,585|INFO|concatenating clustered sub dataframes ...\n",
      "2018-07-25 11:15:42,951|INFO|grouping by ['seqname', 'strand']\n",
      "100%|██████████| 49/49 [00:00<00:00, 3728.20it/s]"
     ]
    },
    {
     "name": "stdout",
     "output_type": "stream",
     "text": [
      "0.65,"
     ]
    },
    {
     "name": "stderr",
     "output_type": "stream",
     "text": [
      "\n",
      "2018-07-25 11:15:43,517|INFO|clustering clvs in parallel using 30 CPUs ...\n",
      "2018-07-25 11:15:44,285|INFO|concatenating clustered sub dataframes ...\n",
      "2018-07-25 11:15:44,617|INFO|grouping by ['seqname', 'strand']\n",
      "100%|██████████| 49/49 [00:00<00:00, 3880.46it/s]"
     ]
    },
    {
     "name": "stdout",
     "output_type": "stream",
     "text": [
      "0.7000000000000001,"
     ]
    },
    {
     "name": "stderr",
     "output_type": "stream",
     "text": [
      "\n",
      "2018-07-25 11:15:45,126|INFO|clustering clvs in parallel using 30 CPUs ...\n",
      "2018-07-25 11:15:45,783|INFO|concatenating clustered sub dataframes ...\n",
      "2018-07-25 11:15:46,146|INFO|grouping by ['seqname', 'strand']\n",
      "100%|██████████| 49/49 [00:00<00:00, 3479.22it/s]"
     ]
    },
    {
     "name": "stdout",
     "output_type": "stream",
     "text": [
      "0.75,"
     ]
    },
    {
     "name": "stderr",
     "output_type": "stream",
     "text": [
      "\n",
      "2018-07-25 11:15:46,743|INFO|clustering clvs in parallel using 30 CPUs ...\n",
      "2018-07-25 11:15:47,194|INFO|concatenating clustered sub dataframes ...\n",
      "2018-07-25 11:15:47,527|INFO|grouping by ['seqname', 'strand']\n",
      "100%|██████████| 49/49 [00:00<00:00, 4050.15it/s]"
     ]
    },
    {
     "name": "stdout",
     "output_type": "stream",
     "text": [
      "0.8,"
     ]
    },
    {
     "name": "stderr",
     "output_type": "stream",
     "text": [
      "\n",
      "2018-07-25 11:15:48,077|INFO|clustering clvs in parallel using 30 CPUs ...\n",
      "2018-07-25 11:15:48,639|INFO|concatenating clustered sub dataframes ...\n",
      "2018-07-25 11:15:48,941|INFO|grouping by ['seqname', 'strand']\n",
      "100%|██████████| 49/49 [00:00<00:00, 4033.06it/s]"
     ]
    },
    {
     "name": "stdout",
     "output_type": "stream",
     "text": [
      "0.8500000000000001,"
     ]
    },
    {
     "name": "stderr",
     "output_type": "stream",
     "text": [
      "\n",
      "2018-07-25 11:15:49,495|INFO|clustering clvs in parallel using 30 CPUs ...\n",
      "2018-07-25 11:15:50,065|INFO|concatenating clustered sub dataframes ...\n",
      "2018-07-25 11:15:50,363|INFO|grouping by ['seqname', 'strand']\n",
      "100%|██████████| 49/49 [00:00<00:00, 2974.60it/s]"
     ]
    },
    {
     "name": "stdout",
     "output_type": "stream",
     "text": [
      "0.9,"
     ]
    },
    {
     "name": "stderr",
     "output_type": "stream",
     "text": [
      "\n",
      "2018-07-25 11:15:50,793|INFO|clustering clvs in parallel using 30 CPUs ...\n",
      "2018-07-25 11:15:51,346|INFO|concatenating clustered sub dataframes ...\n",
      "2018-07-25 11:15:51,646|INFO|grouping by ['seqname', 'strand']\n",
      "100%|██████████| 49/49 [00:00<00:00, 4018.87it/s]"
     ]
    },
    {
     "name": "stdout",
     "output_type": "stream",
     "text": [
      "0.9500000000000001,"
     ]
    },
    {
     "name": "stderr",
     "output_type": "stream",
     "text": [
      "\n",
      "2018-07-25 11:15:52,186|INFO|clustering clvs in parallel using 30 CPUs ...\n",
      "2018-07-25 11:15:52,631|INFO|concatenating clustered sub dataframes ...\n"
     ]
    },
    {
     "name": "stdout",
     "output_type": "stream",
     "text": [
      "1.0,CPU times: user 12min 20s, sys: 2min 1s, total: 14min 22s\n",
      "Wall time: 36min 35s\n"
     ]
    }
   ],
   "source": [
    "%%time\n",
    "dfs = []\n",
    "thresholds = np.arange(0, 1.01, 0.05)\n",
    "map_cutoff = 50\n",
    "for sample_id in ['HBRC4', 'HBRC6', 'UHRC1', 'UHRC2']:\n",
    "    adf = pd.read_pickle(f'../benchmark_transcriptome/{sample_id}.ml_ready.pkl')\n",
    "    assert adf[['seqname', 'strand', 'clv']].drop_duplicates().shape[0] == adf.shape[0]\n",
    "\n",
    "    df_ref = load_polya_seq_df(sample_id)\n",
    "\n",
    "    for tmax_depth, clf in clfs_dd.items():\n",
    "        adf['pred_prob'] = clf.predict_proba(adf[KARBOR_FEATURE_COLS])[:,1]\n",
    "        bdf = adf[['seqname', 'strand', 'clv', 'pred_prob']].copy()\n",
    "\n",
    "        df_res = calc_precision_recall_curve(\n",
    "            bdf, df_ref, map_cutoff=50, cluster_cutoff=20, thresholds=thresholds, num_cpus=30)\n",
    "        df_res['tree_max_depth'] = tmax_depth\n",
    "        df_res['sample_id'] = sample_id\n",
    "        dfs.append(df_res)"
   ]
  },
  {
   "cell_type": "code",
   "execution_count": 14,
   "metadata": {},
   "outputs": [],
   "source": [
    "ndf = pd.concat(dfs)"
   ]
  },
  {
   "cell_type": "code",
   "execution_count": 15,
   "metadata": {},
   "outputs": [
    {
     "data": {
      "text/plain": [
       "(252, 6)"
      ]
     },
     "execution_count": 15,
     "metadata": {},
     "output_type": "execute_result"
    }
   ],
   "source": [
    "ndf.shape"
   ]
  },
  {
   "cell_type": "code",
   "execution_count": 18,
   "metadata": {},
   "outputs": [],
   "source": [
    "ndf.to_csv('../benchmark_transcriptome/tcga-run-4/benchmark-gradboost.pr_curve.csv', index=False)"
   ]
  },
  {
   "cell_type": "code",
   "execution_count": 19,
   "metadata": {},
   "outputs": [
    {
     "data": {
      "text/plain": [
       "HBRC6    63\n",
       "UHRC2    63\n",
       "HBRC4    63\n",
       "UHRC1    63\n",
       "Name: sample_id, dtype: int64"
      ]
     },
     "execution_count": 19,
     "metadata": {},
     "output_type": "execute_result"
    }
   ],
   "source": [
    "ndf.sample_id.value_counts()"
   ]
  }
 ],
 "metadata": {
  "anaconda-cloud": {},
  "kernelspec": {
   "display_name": "Python 3",
   "language": "python",
   "name": "python3"
  },
  "language_info": {
   "codemirror_mode": {
    "name": "ipython",
    "version": 3
   },
   "file_extension": ".py",
   "mimetype": "text/x-python",
   "name": "python",
   "nbconvert_exporter": "python",
   "pygments_lexer": "ipython3",
   "version": "3.6.4"
  }
 },
 "nbformat": 4,
 "nbformat_minor": 2
}
