{
 "cells": [
  {
   "cell_type": "code",
   "execution_count": 41,
   "metadata": {},
   "outputs": [],
   "source": [
    "from eda_imports import *\n",
    "import matplotlib.patches as patches"
   ]
  },
  {
   "cell_type": "code",
   "execution_count": 2,
   "metadata": {
    "scrolled": true
   },
   "outputs": [
    {
     "name": "stdout",
     "output_type": "stream",
     "text": [
      "2018-07-25\n"
     ]
    }
   ],
   "source": [
    "print(datetime.datetime.today().date())"
   ]
  },
  {
   "cell_type": "code",
   "execution_count": 3,
   "metadata": {},
   "outputs": [
    {
     "name": "stdout",
     "output_type": "stream",
     "text": [
      "CPU times: user 19.3 ms, sys: 21.4 ms, total: 40.8 ms\n",
      "Wall time: 120 ms\n"
     ]
    }
   ],
   "source": [
    "%time adf = pd.read_pickle('../../benchmark_transcriptome/UHRC1/polyA.KLEAT.hexamer-researched.pkl')"
   ]
  },
  {
   "cell_type": "markdown",
   "metadata": {},
   "source": [
    "# map clv to a closest clustered annotated CS"
   ]
  },
  {
   "cell_type": "code",
   "execution_count": 8,
   "metadata": {},
   "outputs": [],
   "source": [
    "# this one hasn't been clustered yet\n",
    "df_clv_sc = pd.read_pickle('clv-sc-mapping-hg19.pkl')"
   ]
  },
  {
   "cell_type": "code",
   "execution_count": 10,
   "metadata": {},
   "outputs": [],
   "source": [
    "df_clv_sc.rename(columns={'clv': 'aclv'}, inplace=True)"
   ]
  },
  {
   "cell_type": "code",
   "execution_count": 11,
   "metadata": {},
   "outputs": [],
   "source": [
    "# first create a dict of gene-to-clvs map\n",
    "# ONLY use the mclv value in annotation, its clv is mainly for debugging purpose\n",
    "ANNOT_GENE2CLV_DD = df_clv_sc.groupby(['gene_name']).apply(lambda g: g.aclv.unique())\n",
    "def map_kclv2aclv(row):\n",
    "    \"\"\"map KLEAT predicted clv to a closest annotated clv\"\"\"\n",
    "    gene = row.gene_name\n",
    "    kclv = row['clv']\n",
    "    poss_aclvs = ANNOT_GENE2CLV_DD[gene]\n",
    "    return poss_aclvs[np.argmin(np.abs(poss_aclvs - kclv))]"
   ]
  },
  {
   "cell_type": "code",
   "execution_count": 12,
   "metadata": {},
   "outputs": [],
   "source": [
    "_df = adf[['gene_name', 'clv']].drop_duplicates()"
   ]
  },
  {
   "cell_type": "code",
   "execution_count": 13,
   "metadata": {},
   "outputs": [
    {
     "data": {
      "text/plain": [
       "54917"
      ]
     },
     "execution_count": 13,
     "metadata": {},
     "output_type": "execute_result"
    }
   ],
   "source": [
    "_df.shape[0]"
   ]
  },
  {
   "cell_type": "code",
   "execution_count": 14,
   "metadata": {},
   "outputs": [
    {
     "name": "stdout",
     "output_type": "stream",
     "text": [
      "CPU times: user 4.12 s, sys: 32.2 ms, total: 4.15 s\n",
      "Wall time: 4.11 s\n"
     ]
    }
   ],
   "source": [
    "%time _df['aclv'] = _df.apply(map_kclv2aclv, axis=1)"
   ]
  },
  {
   "cell_type": "code",
   "execution_count": 15,
   "metadata": {},
   "outputs": [
    {
     "name": "stdout",
     "output_type": "stream",
     "text": [
      "CPU times: user 55 ms, sys: 1.28 ms, total: 56.2 ms\n",
      "Wall time: 54.4 ms\n"
     ]
    }
   ],
   "source": [
    "%time bdf = adf.merge(_df, on=['gene_name', 'clv'], how='left')"
   ]
  },
  {
   "cell_type": "code",
   "execution_count": 16,
   "metadata": {},
   "outputs": [
    {
     "data": {
      "text/plain": [
       "54917"
      ]
     },
     "execution_count": 16,
     "metadata": {},
     "output_type": "execute_result"
    }
   ],
   "source": [
    "bdf.shape[0]"
   ]
  },
  {
   "cell_type": "code",
   "execution_count": 17,
   "metadata": {},
   "outputs": [],
   "source": [
    "assert bdf.shape[0] == adf.shape[0]"
   ]
  },
  {
   "cell_type": "code",
   "execution_count": 18,
   "metadata": {},
   "outputs": [
    {
     "data": {
      "text/html": [
       "<div>\n",
       "<style scoped>\n",
       "    .dataframe tbody tr th:only-of-type {\n",
       "        vertical-align: middle;\n",
       "    }\n",
       "\n",
       "    .dataframe tbody tr th {\n",
       "        vertical-align: top;\n",
       "    }\n",
       "\n",
       "    .dataframe thead th {\n",
       "        text-align: right;\n",
       "    }\n",
       "</style>\n",
       "<table border=\"1\" class=\"dataframe\">\n",
       "  <thead>\n",
       "    <tr style=\"text-align: right;\">\n",
       "      <th></th>\n",
       "      <th>gene_name</th>\n",
       "      <th>strand</th>\n",
       "      <th>seqname</th>\n",
       "      <th>clv</th>\n",
       "      <th>length_of_tail_in_contig</th>\n",
       "      <th>number_of_bridge_reads</th>\n",
       "      <th>max_bridge_read_tail_length</th>\n",
       "      <th>clv0</th>\n",
       "      <th>hexamer</th>\n",
       "      <th>hexamer_id</th>\n",
       "      <th>hexamer_loc0</th>\n",
       "      <th>hexamer_loc</th>\n",
       "      <th>aclv</th>\n",
       "    </tr>\n",
       "  </thead>\n",
       "  <tbody>\n",
       "    <tr>\n",
       "      <th>0</th>\n",
       "      <td>PALMD</td>\n",
       "      <td>+</td>\n",
       "      <td>chr1</td>\n",
       "      <td>100159930</td>\n",
       "      <td>0</td>\n",
       "      <td>1</td>\n",
       "      <td>8</td>\n",
       "      <td>100159929</td>\n",
       "      <td>AATAAA</td>\n",
       "      <td>1</td>\n",
       "      <td>100159911</td>\n",
       "      <td>100159912</td>\n",
       "      <td>100160097</td>\n",
       "    </tr>\n",
       "  </tbody>\n",
       "</table>\n",
       "</div>"
      ],
      "text/plain": [
       "  gene_name strand seqname        clv  length_of_tail_in_contig  number_of_bridge_reads  max_bridge_read_tail_length       clv0 hexamer  hexamer_id  hexamer_loc0  hexamer_loc       aclv\n",
       "0  PALMD     +      chr1    100159930  0                         1                       8                            100159929  AATAAA  1           100159911     100159912    100160097"
      ]
     },
     "execution_count": 18,
     "metadata": {},
     "output_type": "execute_result"
    }
   ],
   "source": [
    "bdf.head(1)"
   ]
  },
  {
   "cell_type": "code",
   "execution_count": 19,
   "metadata": {},
   "outputs": [],
   "source": [
    "# NDA: could be a misnomer, supposed to be unsigned-distance to annotated clv\n",
    "bdf['signed_NDA'] = bdf['clv'] - bdf['aclv']\n",
    "bdf['NDA'] = bdf['signed_NDA'].abs()"
   ]
  },
  {
   "cell_type": "markdown",
   "metadata": {},
   "source": [
    "# Prepare filtering"
   ]
  },
  {
   "cell_type": "code",
   "execution_count": 20,
   "metadata": {},
   "outputs": [
    {
     "data": {
      "image/png": "[encoded data removed]",
      "text/plain": [
       "<Figure size 396x252 with 1 Axes>"
      ]
     },
     "metadata": {},
     "output_type": "display_data"
    }
   ],
   "source": [
    "# ax = bdf_flag1['signed_NDA'].value_counts().sort_index().plot(lw=0.5, color='black', linestyle='--', label='flag = 1')\n",
    "# bdf_flag2['signed_NDA'].value_counts().sort_index().plot(ax=ax, lw=0.5, color='black', linestyle='-.', label='flag = 2')\n",
    "# bdf['signed_NDA'].value_counts().sort_index().plot(ax=ax, lw=0.5, color='black', linestyle='-', label='both')\n",
    "\n",
    "fig = plt.figure(figsize=(5.5, 3.5))\n",
    "ax = fig.add_subplot(111)\n",
    "bdf['signed_NDA'].value_counts().sort_index().plot(ax=ax, lw=0.5, color='black', linestyle='-')\n",
    "ax.set_xlim(-120, 120)\n",
    "# ax.set_ylim(0, 7e5)\n",
    "ax.set_ylabel('# predicted CSs')\n",
    "ax.ticklabel_format(style='sci', axis='y', scilimits=(0, 2))\n",
    "ax.grid()\n",
    "ax.set_xlabel('Distance to the closest annotated CS')\n",
    "ax.legend().remove()\n",
    "# plt.savefig('./results/figs/distr-of-NDA-before-2nd-filtering.jpg', dpi=350)"
   ]
  },
  {
   "cell_type": "code",
   "execution_count": 21,
   "metadata": {},
   "outputs": [],
   "source": [
    "# hc_b2f: hexamer count before 2nd filtering\n",
    "hc_b2f_with_NA_counts = bdf.hexamer.value_counts().to_frame('After initial filtering')\n",
    "hc_b2f_with_NA = (bdf.hexamer.value_counts() / bdf.hexamer.value_counts().sum()).to_frame('After initial filtering')"
   ]
  },
  {
   "cell_type": "markdown",
   "metadata": {},
   "source": [
    "# Start filtering"
   ]
  },
  {
   "cell_type": "markdown",
   "metadata": {},
   "source": [
    "```\n",
    "awk '($11>=4 || $13>=2 || $14>=4) && ($20!=\"-\")'\n",
    "\n",
    "length_of_tail_in_contig MINIMUM OF 4 OR\n",
    "number_of_bridge_reads MINIMUM OF 2 OR\n",
    "max_bridge_read_tail_length MINIMUM OF 4 (i.e. OK if there is just one bridge read, but it must have at least 4 A's)\n",
    "\n",
    "ONE of the above AND there must be a hexamer motif (doesn't matter how strong it is)\n",
    "```"
   ]
  },
  {
   "cell_type": "code",
   "execution_count": 22,
   "metadata": {},
   "outputs": [],
   "source": [
    "cdf = bdf[\n",
    "    (\n",
    "        bdf.NDA <= 25\n",
    "    ) \n",
    "    | \n",
    "    (    \n",
    "        (\n",
    "            (bdf.length_of_tail_in_contig >= 4) | \n",
    "            (bdf.number_of_bridge_reads >= 2) |\n",
    "            (bdf.max_bridge_read_tail_length >= 4)\n",
    "        )\n",
    "        & \n",
    "        (\n",
    "            bdf.hexamer.isin([\"AATAAA\", \"ATTAAA\"])\n",
    "        )\n",
    "    )\n",
    "].copy()"
   ]
  },
  {
   "cell_type": "code",
   "execution_count": 23,
   "metadata": {},
   "outputs": [
    {
     "data": {
      "text/plain": [
       "22650"
      ]
     },
     "execution_count": 23,
     "metadata": {},
     "output_type": "execute_result"
    }
   ],
   "source": [
    "cdf.shape[0]"
   ]
  },
  {
   "cell_type": "code",
   "execution_count": 25,
   "metadata": {},
   "outputs": [
    {
     "name": "stdout",
     "output_type": "stream",
     "text": [
      "41.244% data remained\n"
     ]
    }
   ],
   "source": [
    "print('{0:.3%} data remained'.format(cdf.shape[0] / adf.shape[0]))"
   ]
  },
  {
   "cell_type": "code",
   "execution_count": 26,
   "metadata": {},
   "outputs": [],
   "source": [
    "hc_a2f_with_NA_counts = cdf.hexamer.value_counts().to_frame('After second filtering')\n",
    "hc_a2f_with_NA = (cdf.hexamer.value_counts() / cdf.hexamer.value_counts().sum()).to_frame('After second filtering')"
   ]
  },
  {
   "cell_type": "code",
   "execution_count": 27,
   "metadata": {},
   "outputs": [
    {
     "name": "stderr",
     "output_type": "stream",
     "text": [
      "/projects/btl2/zxue/kleat/venv/lib/python3.6/site-packages/matplotlib/cbook/deprecation.py:107: MatplotlibDeprecationWarning: Passing one of 'on', 'true', 'off', 'false' as a boolean is deprecated; use an actual boolean (True/False) instead.\n",
      "  warnings.warn(message, mplDeprecation, stacklevel=1)\n"
     ]
    },
    {
     "data": {
      "image/png": "[encoded data removed]",
      "text/plain": [
       "<Figure size 432x252 with 2 Axes>"
      ]
     },
     "metadata": {},
     "output_type": "display_data"
    }
   ],
   "source": [
    "# fig, (ax1, ax2) = plt.subplots(2, 1, sharex=True)\n",
    "\n",
    "fig = plt.figure(figsize=(6, 3.5))\n",
    "nrows = 12\n",
    "ratio = 1 / (1 + 3) # meaning the first subplot is 1/3 height of the second one\n",
    "gs = gridspec.GridSpec(nrows, 1, hspace=1)\n",
    "ax1 = fig.add_subplot(gs[:int(nrows * ratio), :])\n",
    "ax2 = fig.add_subplot(gs[int(nrows * ratio):,:])\n",
    "\n",
    "merged = hc_b2f_with_NA_counts\\\n",
    "    .merge(hc_a2f_with_NA_counts, left_index=True, right_index=True, how='outer')\\\n",
    "    .fillna(0).sort_values('After second filtering', ascending=False)\n",
    "\n",
    "merged.plot.bar(ax=ax1)\n",
    "merged.plot.bar(ax=ax2)\n",
    "    \n",
    "ylim_max = 2.3e6\n",
    "ax2.set_ylim(0, ylim_max)  # most of the data\n",
    "ax1.set_yticks(np.arange(6e6, 7.5e6, 5e5))\n",
    "ax1.set_ylim(6.1e6, 6.1e6 +  ylim_max * ratio / (1 - ratio))  # outliers only\n",
    "\n",
    "ax2.legend().set_visible(False)\n",
    "\n",
    "ax1.spines['bottom'].set_visible(False)\n",
    "ax2.spines['top'].set_visible(False)\n",
    "ax1.xaxis.tick_top()\n",
    "ax1.set_xlabel('')\n",
    "ax1.tick_params(labeltop='off')  # don't put tick labels at the top\n",
    "ax2.xaxis.tick_bottom()\n",
    "ax2.set_xlabel('PAS hexamers')\n",
    "ax2.set_ylabel('# predicted CSs')\n",
    "ax1.yaxis.grid(zorder=0)\n",
    "ax2.yaxis.grid(zorder=0)\n",
    "\n",
    "d = .015  # how big to make the diagonal lines in axes coordinates\n",
    "# arguments to pass to plot, just so we don't keep repeating them\n",
    "kwargs = dict(transform=ax1.transAxes, color='k', clip_on=False)\n",
    "\n",
    "def flip(items, ncol):\n",
    "    return itertools.chain(*[items[i::ncol] for i in range(ncol)])\n",
    "\n",
    "# handles, labels = ax1.get_legend_handles_labels()\n",
    "# ax1.legend(flip(handles, 2), flip(labels, 2), loc='upper right', ncol=2)\n",
    "\n",
    "scaler = 1 / ratio - 1\n",
    "ax1.plot((-d, +d), (-d * scaler, d * scaler), **kwargs)        # top-left diagonal\n",
    "ax1.plot((1 - d, 1 + d), (-d * scaler, d * scaler), **kwargs)  # top-right diagonal\n",
    "\n",
    "kwargs.update(transform=ax2.transAxes)  # switch to the bottom axes\n",
    "ax2.plot((-d, +d), (1 - d, 1 + d), **kwargs)  # bottom-left diagonal\n",
    "ax2.plot((1 - d, 1 + d), (1 - d, 1 + d), **kwargs)  # bottom-right diagonal\n",
    "\n",
    "ax1.ticklabel_format(style='sci', axis='y', scilimits=(0, 2))\n",
    "ax2.ticklabel_format(style='sci', axis='y', scilimits=(0, 2))\n",
    "# http://stackoverflow.com/questions/31517156/adjust-exponent-text-after-setting-scientific-limits-on-matplotlib-axis\n",
    "ax2.yaxis.offsetText.set_visible(False)\n",
    "\n",
    "# plt.savefig('./figs/hexamer_counts.jpg', dpi=350, bbox_inches='tight')"
   ]
  },
  {
   "cell_type": "code",
   "execution_count": 28,
   "metadata": {},
   "outputs": [
    {
     "data": {
      "text/html": [
       "<div>\n",
       "<style scoped>\n",
       "    .dataframe tbody tr th:only-of-type {\n",
       "        vertical-align: middle;\n",
       "    }\n",
       "\n",
       "    .dataframe tbody tr th {\n",
       "        vertical-align: top;\n",
       "    }\n",
       "\n",
       "    .dataframe thead th {\n",
       "        text-align: right;\n",
       "    }\n",
       "</style>\n",
       "<table border=\"1\" class=\"dataframe\">\n",
       "  <thead>\n",
       "    <tr style=\"text-align: right;\">\n",
       "      <th></th>\n",
       "      <th>AATAAA</th>\n",
       "      <th>NA</th>\n",
       "      <th>ATTAAA</th>\n",
       "      <th>AAAAAG</th>\n",
       "      <th>AGTAAA</th>\n",
       "      <th>AAGAAA</th>\n",
       "      <th>TATAAA</th>\n",
       "      <th>TTTAAA</th>\n",
       "      <th>AATACA</th>\n",
       "      <th>CATAAA</th>\n",
       "      <th>GATAAA</th>\n",
       "      <th>AAAACA</th>\n",
       "      <th>AATGAA</th>\n",
       "      <th>AATATA</th>\n",
       "      <th>ACTAAA</th>\n",
       "      <th>GGGGCT</th>\n",
       "      <th>AATAGA</th>\n",
       "    </tr>\n",
       "  </thead>\n",
       "  <tbody>\n",
       "    <tr>\n",
       "      <th>After second filtering</th>\n",
       "      <td>0.420706</td>\n",
       "      <td>0.323709</td>\n",
       "      <td>0.104503</td>\n",
       "      <td>0.021148</td>\n",
       "      <td>0.018543</td>\n",
       "      <td>0.016424</td>\n",
       "      <td>0.01585</td>\n",
       "      <td>0.010817</td>\n",
       "      <td>0.010596</td>\n",
       "      <td>0.010066</td>\n",
       "      <td>0.008962</td>\n",
       "      <td>0.008035</td>\n",
       "      <td>0.007947</td>\n",
       "      <td>0.007152</td>\n",
       "      <td>0.006049</td>\n",
       "      <td>0.005475</td>\n",
       "      <td>0.004018</td>\n",
       "    </tr>\n",
       "  </tbody>\n",
       "</table>\n",
       "</div>"
      ],
      "text/plain": [
       "                          AATAAA        NA    ATTAAA    AAAAAG    AGTAAA    AAGAAA   TATAAA    TTTAAA    AATACA    CATAAA    GATAAA    AAAACA    AATGAA    AATATA    ACTAAA    GGGGCT    AATAGA\n",
       "After second filtering  0.420706  0.323709  0.104503  0.021148  0.018543  0.016424  0.01585  0.010817  0.010596  0.010066  0.008962  0.008035  0.007947  0.007152  0.006049  0.005475  0.004018"
      ]
     },
     "execution_count": 28,
     "metadata": {},
     "output_type": "execute_result"
    }
   ],
   "source": [
    "hc_a2f_with_NA.T"
   ]
  },
  {
   "cell_type": "code",
   "execution_count": null,
   "metadata": {},
   "outputs": [],
   "source": []
  },
  {
   "cell_type": "markdown",
   "metadata": {},
   "source": [
    "# Plot the distributions again"
   ]
  },
  {
   "cell_type": "code",
   "execution_count": 29,
   "metadata": {},
   "outputs": [
    {
     "data": {
      "text/plain": [
       "0.3692273730684327"
      ]
     },
     "execution_count": 29,
     "metadata": {},
     "output_type": "execute_result"
    }
   ],
   "source": [
    "cdf.query('NDA > 10').shape[0] / cdf.shape[0]"
   ]
  },
  {
   "cell_type": "code",
   "execution_count": 30,
   "metadata": {},
   "outputs": [
    {
     "data": {
      "text/plain": [
       "0.7415011037527593"
      ]
     },
     "execution_count": 30,
     "metadata": {},
     "output_type": "execute_result"
    }
   ],
   "source": [
    "cdf.query('NDA <= 15').shape[0] / cdf.shape[0]"
   ]
  },
  {
   "cell_type": "code",
   "execution_count": 31,
   "metadata": {},
   "outputs": [
    {
     "data": {
      "text/plain": [
       "0.6307726269315673"
      ]
     },
     "execution_count": 31,
     "metadata": {},
     "output_type": "execute_result"
    }
   ],
   "source": [
    "cdf.query('NDA <= 10').shape[0] / cdf.shape[0]"
   ]
  },
  {
   "cell_type": "code",
   "execution_count": 44,
   "metadata": {},
   "outputs": [
    {
     "data": {
      "text/plain": [
       "Text(0,0.5,'# predicted CSs')"
      ]
     },
     "execution_count": 44,
     "metadata": {},
     "output_type": "execute_result"
    },
    {
     "data": {
      "image/png": "[encoded data removed]",
      "text/plain": [
       "<Figure size 273.6x187.2 with 1 Axes>"
      ]
     },
     "metadata": {},
     "output_type": "display_data"
    }
   ],
   "source": [
    "fig = plt.figure(figsize=(3.8, 2.6))\n",
    "ax = fig.add_subplot(111)\n",
    "\n",
    "ax = cdf['signed_NDA'].value_counts().sort_index().plot(lw=1, color='black', label='distance to an annotated CS')\n",
    "ax.set_xlim(-25, 25)\n",
    "# ax.set_ylim(0, 4.2e5)\n",
    "# ax.set_yscale('log')\n",
    "ax.grid(lw=0.5, color='gray')\n",
    "ax.ticklabel_format(style='sci', axis='y', scilimits=(0, 2))\n",
    "ax.set_xlabel('Distance to the closest annotated CS (bp)')\n",
    "ax.set_ylabel('# predicted CSs')\n",
    "\n",
    "# ax.legend()\n",
    "# plt.savefig('../__results/figs/distr-of-non-signed-distance-to-annotated-clv.jpg', bbox_inches='tight', dpi=500)"
   ]
  },
  {
   "cell_type": "code",
   "execution_count": null,
   "metadata": {},
   "outputs": [],
   "source": []
  },
  {
   "cell_type": "markdown",
   "metadata": {},
   "source": [
    "#### distr. of distance to hexamer"
   ]
  },
  {
   "cell_type": "code",
   "execution_count": 34,
   "metadata": {},
   "outputs": [],
   "source": [
    "ddf = cdf.query('hexamer_id != -1').copy()\n",
    "ddf['sdist_clv2hex'] = ddf['clv'] - ddf['hexamer_loc']\n",
    "ddf['dist_clv2hex'] = ddf.sdist_clv2hex.abs()\n",
    "ddf['sdist_aclv2hex'] = ddf['aclv'] - ddf['hexamer_loc']\n",
    "ddf['dist_aclv2hex'] = ddf.sdist_clv2hex.abs()"
   ]
  },
  {
   "cell_type": "code",
   "execution_count": 35,
   "metadata": {},
   "outputs": [
    {
     "data": {
      "text/plain": [
       "0.6762913907284768"
      ]
     },
     "execution_count": 35,
     "metadata": {},
     "output_type": "execute_result"
    }
   ],
   "source": [
    "ddf.shape[0] / cdf.shape[0]"
   ]
  },
  {
   "cell_type": "markdown",
   "metadata": {},
   "source": [
    "So 67.6% of the CSs have an associated hexamer"
   ]
  },
  {
   "cell_type": "code",
   "execution_count": 36,
   "metadata": {},
   "outputs": [
    {
     "data": {
      "text/html": [
       "<div>\n",
       "<style scoped>\n",
       "    .dataframe tbody tr th:only-of-type {\n",
       "        vertical-align: middle;\n",
       "    }\n",
       "\n",
       "    .dataframe tbody tr th {\n",
       "        vertical-align: top;\n",
       "    }\n",
       "\n",
       "    .dataframe thead th {\n",
       "        text-align: right;\n",
       "    }\n",
       "</style>\n",
       "<table border=\"1\" class=\"dataframe\">\n",
       "  <thead>\n",
       "    <tr style=\"text-align: right;\">\n",
       "      <th></th>\n",
       "      <th>gene_name</th>\n",
       "      <th>strand</th>\n",
       "      <th>seqname</th>\n",
       "      <th>clv</th>\n",
       "      <th>length_of_tail_in_contig</th>\n",
       "      <th>number_of_bridge_reads</th>\n",
       "      <th>max_bridge_read_tail_length</th>\n",
       "      <th>clv0</th>\n",
       "      <th>hexamer</th>\n",
       "      <th>hexamer_id</th>\n",
       "      <th>hexamer_loc0</th>\n",
       "      <th>hexamer_loc</th>\n",
       "      <th>aclv</th>\n",
       "      <th>signed_NDA</th>\n",
       "      <th>NDA</th>\n",
       "      <th>sdist_clv2hex</th>\n",
       "      <th>dist_clv2hex</th>\n",
       "      <th>sdist_aclv2hex</th>\n",
       "      <th>dist_aclv2hex</th>\n",
       "    </tr>\n",
       "  </thead>\n",
       "  <tbody>\n",
       "    <tr>\n",
       "      <th>0</th>\n",
       "      <td>PALMD</td>\n",
       "      <td>+</td>\n",
       "      <td>chr1</td>\n",
       "      <td>100159930</td>\n",
       "      <td>0</td>\n",
       "      <td>1</td>\n",
       "      <td>8</td>\n",
       "      <td>100159929</td>\n",
       "      <td>AATAAA</td>\n",
       "      <td>1</td>\n",
       "      <td>100159911</td>\n",
       "      <td>100159912</td>\n",
       "      <td>100160097</td>\n",
       "      <td>-167</td>\n",
       "      <td>167</td>\n",
       "      <td>18</td>\n",
       "      <td>18</td>\n",
       "      <td>185</td>\n",
       "      <td>18</td>\n",
       "    </tr>\n",
       "  </tbody>\n",
       "</table>\n",
       "</div>"
      ],
      "text/plain": [
       "  gene_name strand seqname        clv  length_of_tail_in_contig  number_of_bridge_reads  max_bridge_read_tail_length       clv0 hexamer  hexamer_id  hexamer_loc0  hexamer_loc       aclv  signed_NDA  NDA  sdist_clv2hex  dist_clv2hex  sdist_aclv2hex  dist_aclv2hex\n",
       "0  PALMD     +      chr1    100159930  0                         1                       8                            100159929  AATAAA  1           100159911     100159912    100160097 -167         167  18             18            185             18           "
      ]
     },
     "execution_count": 36,
     "metadata": {},
     "output_type": "execute_result"
    }
   ],
   "source": [
    "ddf.head(1)"
   ]
  },
  {
   "cell_type": "markdown",
   "metadata": {},
   "source": [
    "Tried to extract annotated hexamer loc\n",
    "\n",
    "Settle: using the distance between aclv and hexamer found based on annotated clv (before clustering) is too complicated, as the region changes before and after clustering, so just ignore it and use the distance between KLEAT clv and hexamer found based on it instead."
   ]
  },
  {
   "cell_type": "code",
   "execution_count": 37,
   "metadata": {},
   "outputs": [
    {
     "data": {
      "text/plain": [
       "Text(0.5,0,'dist to hexamer (bp)')"
      ]
     },
     "execution_count": 37,
     "metadata": {},
     "output_type": "execute_result"
    },
    {
     "data": {
      "image/png": "[encoded data removed]",
      "text/plain": [
       "<Figure size 396x252 with 1 Axes>"
      ]
     },
     "metadata": {},
     "output_type": "display_data"
    }
   ],
   "source": [
    "# this is a crude version: this plot confirms the minimum dist is 5 bp \n",
    "fig = plt.figure(figsize=(5.5, 3.5))\n",
    "ax = ddf['sdist_clv2hex'].value_counts().sort_index().plot(marker='o', markersize=3)\n",
    "ax.grid()\n",
    "_ = ax.set_xticks(np.arange(-50, 50, 5))\n",
    "ax.set_xlabel('dist to hexamer (bp)')"
   ]
  },
  {
   "cell_type": "code",
   "execution_count": 38,
   "metadata": {},
   "outputs": [
    {
     "data": {
      "text/plain": [
       "-20    643\n",
       "-21    585\n",
       "-19    576\n",
       "-22    560\n",
       "-18    451\n",
       "Name: sdist_clv2hex, dtype: int64"
      ]
     },
     "execution_count": 38,
     "metadata": {},
     "output_type": "execute_result"
    }
   ],
   "source": [
    "ddf.query('strand == \"-\"').sdist_clv2hex.value_counts().head()"
   ]
  },
  {
   "cell_type": "code",
   "execution_count": 39,
   "metadata": {},
   "outputs": [
    {
     "data": {
      "text/plain": [
       "20    649\n",
       "21    639\n",
       "19    569\n",
       "22    566\n",
       "23    449\n",
       "Name: sdist_clv2hex, dtype: int64"
      ]
     },
     "execution_count": 39,
     "metadata": {},
     "output_type": "execute_result"
    }
   ],
   "source": [
    "ddf.query('strand == \"+\"').sdist_clv2hex.value_counts().head()"
   ]
  },
  {
   "cell_type": "markdown",
   "metadata": {},
   "source": [
    "So the most probable dist is around 21 bp for both strands"
   ]
  },
  {
   "cell_type": "code",
   "execution_count": 45,
   "metadata": {
    "scrolled": true
   },
   "outputs": [
    {
     "name": "stdout",
     "output_type": "stream",
     "text": [
      "CPU times: user 10.4 ms, sys: 7.68 ms, total: 18.1 ms\n",
      "Wall time: 55.2 ms\n"
     ]
    }
   ],
   "source": [
    "%time cdf.to_pickle('../../benchmark_transcriptome/UHRC1/polyA.KLEAT.hexamer-researched.filtered.pkl')"
   ]
  }
 ],
 "metadata": {
  "anaconda-cloud": {},
  "kernelspec": {
   "display_name": "Python 3",
   "language": "python",
   "name": "python3"
  },
  "language_info": {
   "codemirror_mode": {
    "name": "ipython",
    "version": 3
   },
   "file_extension": ".py",
   "mimetype": "text/x-python",
   "name": "python",
   "nbconvert_exporter": "python",
   "pygments_lexer": "ipython3",
   "version": "3.6.4"
  }
 },
 "nbformat": 4,
 "nbformat_minor": 1
}
