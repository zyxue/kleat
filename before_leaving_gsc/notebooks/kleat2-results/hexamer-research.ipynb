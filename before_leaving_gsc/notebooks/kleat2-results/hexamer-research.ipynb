{
 "cells": [
  {
   "cell_type": "code",
   "execution_count": 1,
   "metadata": {},
   "outputs": [],
   "source": [
    "from eda_imports import *"
   ]
  },
  {
   "cell_type": "code",
   "execution_count": 2,
   "metadata": {},
   "outputs": [],
   "source": [
    "import pysam"
   ]
  },
  {
   "cell_type": "code",
   "execution_count": 3,
   "metadata": {
    "scrolled": true
   },
   "outputs": [
    {
     "name": "stdout",
     "output_type": "stream",
     "text": [
      "2018-07-25\n"
     ]
    }
   ],
   "source": [
    "print(datetime.datetime.today().date())"
   ]
  },
  {
   "cell_type": "code",
   "execution_count": 4,
   "metadata": {},
   "outputs": [
    {
     "name": "stdout",
     "output_type": "stream",
     "text": [
      "CPU times: user 169 ms, sys: 33.9 ms, total: 203 ms\n",
      "Wall time: 214 ms\n"
     ]
    }
   ],
   "source": [
    "%time adf = pd.read_csv('../../benchmark_transcriptome/UHRC1/polyA.KLEAT', sep='\\t')"
   ]
  },
  {
   "cell_type": "code",
   "execution_count": 5,
   "metadata": {},
   "outputs": [
    {
     "data": {
      "text/plain": [
       "Index(['gene', 'transcript', 'transcript_strand', 'coding', 'contig', 'chromosome', 'cleavage_site', 'within_UTR', 'distance_from_annotated_site', 'ESTs', 'length_of_tail_in_contig', 'number_of_tail_reads', 'number_of_bridge_reads', 'max_bridge_read_tail_length', 'bridge_read_identities',\n",
       "       'tail+bridge_reads', 'number_of_link_pairs', 'max_link_pair_length', 'link_pair_identities', 'hexamer_loc+id', '3UTR_start_end', 'flag'],\n",
       "      dtype='object')"
      ]
     },
     "execution_count": 5,
     "metadata": {},
     "output_type": "execute_result"
    }
   ],
   "source": [
    "adf.columns"
   ]
  },
  {
   "cell_type": "code",
   "execution_count": 6,
   "metadata": {},
   "outputs": [
    {
     "data": {
      "text/plain": [
       "(55511, 22)"
      ]
     },
     "execution_count": 6,
     "metadata": {},
     "output_type": "execute_result"
    }
   ],
   "source": [
    "adf.shape"
   ]
  },
  {
   "cell_type": "markdown",
   "metadata": {},
   "source": [
    "# Redo hexamer search"
   ]
  },
  {
   "cell_type": "code",
   "execution_count": 7,
   "metadata": {},
   "outputs": [],
   "source": [
    "wanted_chroms = ['chr1', 'chr2', 'chr3', 'chr4', 'chr5', 'chr6', 'chr7', 'chr8',\n",
    "       'chr9', 'chr10', 'chr11', 'chr12', 'chr13', 'chr14', 'chr15',\n",
    "       'chr16', 'chr17', 'chr18', 'chr19', 'chr20', 'chr21', 'chr22',\n",
    "       'chrX', 'chrY', 'chrM']\n",
    "\n",
    "wanted_cols = [\n",
    "    'gene',\n",
    "    'transcript_strand',\n",
    "    'chromosome',\n",
    "    'cleavage_site',\n",
    "    'length_of_tail_in_contig',\n",
    "    'number_of_bridge_reads',\n",
    "    'max_bridge_read_tail_length',\n",
    "]"
   ]
  },
  {
   "cell_type": "code",
   "execution_count": 8,
   "metadata": {},
   "outputs": [],
   "source": [
    "adf2 = adf[wanted_cols].rename(columns={\n",
    "    'gene': 'gene_name',\n",
    "    'cleavage_site': 'clv', \n",
    "    'transcript': 'transcript_id',\n",
    "    'transcript_strand': 'strand',\n",
    "    'chromosome': 'seqname'\n",
    "})\n",
    "adf2 = adf2.query(f'seqname in {wanted_chroms}').copy()"
   ]
  },
  {
   "cell_type": "code",
   "execution_count": 9,
   "metadata": {},
   "outputs": [],
   "source": [
    "# convert 1-based to 0-based\n",
    "adf2['clv0'] = adf2['clv'] - 1"
   ]
  },
  {
   "cell_type": "code",
   "execution_count": 10,
   "metadata": {},
   "outputs": [],
   "source": [
    "REF_FA = './tasrkleat-static/off-cloud/reference_data/Homo_sapiens.GRCh37.75.dna_sm.primary_assembly.fa'\n",
    "refseq = pysam.FastaFile(REF_FA)"
   ]
  },
  {
   "cell_type": "code",
   "execution_count": 11,
   "metadata": {},
   "outputs": [],
   "source": [
    "clv0s_df = adf2[['seqname', 'gene_name', 'clv0', 'strand']].drop_duplicates()"
   ]
  },
  {
   "cell_type": "code",
   "execution_count": 12,
   "metadata": {},
   "outputs": [
    {
     "data": {
      "text/plain": [
       "(54917, 4)"
      ]
     },
     "execution_count": 12,
     "metadata": {},
     "output_type": "execute_result"
    }
   ],
   "source": [
    "clv0s_df.shape"
   ]
  },
  {
   "cell_type": "code",
   "execution_count": 13,
   "metadata": {},
   "outputs": [],
   "source": [
    "import search_hexamer\n",
    "\n",
    "def search_hexamer_wrapper(refseq, chrm, clv, strand, window=50):\n",
    "    # for consistency with ensembl annotation\n",
    "    chrm = chrm.replace('chr', '').replace('M', 'MT')\n",
    "    res = search_hexamer.search(refseq, chrm, clv, strand, window)\n",
    "    if res is None:\n",
    "        res = ['NA', -1, -1]\n",
    "    return pd.Series(res, index=['hexamer', 'hexamer_id', 'hexamer_loc0'])"
   ]
  },
  {
   "cell_type": "code",
   "execution_count": 14,
   "metadata": {},
   "outputs": [
    {
     "name": "stdout",
     "output_type": "stream",
     "text": [
      "CPU times: user 30.5 s, sys: 1.04 s, total: 31.6 s\n",
      "Wall time: 31.6 s\n"
     ]
    }
   ],
   "source": [
    "%%time\n",
    "hexm_df = clv0s_df.apply(\n",
    "    lambda row: search_hexamer_wrapper(refseq, row.seqname, row.clv0, row.strand), \n",
    "    axis=1)"
   ]
  },
  {
   "cell_type": "code",
   "execution_count": 15,
   "metadata": {},
   "outputs": [
    {
     "name": "stdout",
     "output_type": "stream",
     "text": [
      "CPU times: user 39.1 ms, sys: 999 µs, total: 40.1 ms\n",
      "Wall time: 38.6 ms\n"
     ]
    }
   ],
   "source": [
    "# convert to 1-based\n",
    "%time hexm_df['hexamer_loc'] = hexm_df.hexamer_loc0.apply(lambda v: v + 1 if v != -1 else v)"
   ]
  },
  {
   "cell_type": "code",
   "execution_count": 16,
   "metadata": {},
   "outputs": [
    {
     "data": {
      "text/html": [
       "<div>\n",
       "<style scoped>\n",
       "    .dataframe tbody tr th:only-of-type {\n",
       "        vertical-align: middle;\n",
       "    }\n",
       "\n",
       "    .dataframe tbody tr th {\n",
       "        vertical-align: top;\n",
       "    }\n",
       "\n",
       "    .dataframe thead th {\n",
       "        text-align: right;\n",
       "    }\n",
       "</style>\n",
       "<table border=\"1\" class=\"dataframe\">\n",
       "  <thead>\n",
       "    <tr style=\"text-align: right;\">\n",
       "      <th></th>\n",
       "      <th>hexamer</th>\n",
       "      <th>hexamer_id</th>\n",
       "      <th>hexamer_loc0</th>\n",
       "      <th>hexamer_loc</th>\n",
       "    </tr>\n",
       "  </thead>\n",
       "  <tbody>\n",
       "    <tr>\n",
       "      <th>0</th>\n",
       "      <td>AATAAA</td>\n",
       "      <td>1</td>\n",
       "      <td>100159911</td>\n",
       "      <td>100159912</td>\n",
       "    </tr>\n",
       "    <tr>\n",
       "      <th>1</th>\n",
       "      <td>ATTAAA</td>\n",
       "      <td>2</td>\n",
       "      <td>1001705</td>\n",
       "      <td>1001706</td>\n",
       "    </tr>\n",
       "  </tbody>\n",
       "</table>\n",
       "</div>"
      ],
      "text/plain": [
       "  hexamer  hexamer_id  hexamer_loc0  hexamer_loc\n",
       "0  AATAAA  1           100159911     100159912  \n",
       "1  ATTAAA  2           1001705       1001706    "
      ]
     },
     "execution_count": 16,
     "metadata": {},
     "output_type": "execute_result"
    }
   ],
   "source": [
    "hexm_df.head(2)"
   ]
  },
  {
   "cell_type": "code",
   "execution_count": 17,
   "metadata": {},
   "outputs": [
    {
     "data": {
      "text/plain": [
       "(54917, 4)"
      ]
     },
     "execution_count": 17,
     "metadata": {},
     "output_type": "execute_result"
    }
   ],
   "source": [
    "hexm_df.shape"
   ]
  },
  {
   "cell_type": "code",
   "execution_count": 18,
   "metadata": {},
   "outputs": [],
   "source": [
    "hexm_ndf = pd.concat([clv0s_df, hexm_df], axis=1)"
   ]
  },
  {
   "cell_type": "code",
   "execution_count": 19,
   "metadata": {},
   "outputs": [
    {
     "data": {
      "text/plain": [
       "(54917, 8)"
      ]
     },
     "execution_count": 19,
     "metadata": {},
     "output_type": "execute_result"
    }
   ],
   "source": [
    "hexm_ndf.shape"
   ]
  },
  {
   "cell_type": "code",
   "execution_count": 23,
   "metadata": {},
   "outputs": [
    {
     "data": {
      "text/plain": [
       "(54917, 8)"
      ]
     },
     "execution_count": 23,
     "metadata": {},
     "output_type": "execute_result"
    }
   ],
   "source": [
    "adf2.shape"
   ]
  },
  {
   "cell_type": "code",
   "execution_count": 20,
   "metadata": {},
   "outputs": [],
   "source": [
    "adf3 = adf2.merge(hexm_ndf, on=['seqname', 'gene_name', 'clv0', 'strand'], how='left')"
   ]
  },
  {
   "cell_type": "code",
   "execution_count": 25,
   "metadata": {},
   "outputs": [],
   "source": [
    "assert adf3.shape[0] == adf2.shape[0]"
   ]
  },
  {
   "cell_type": "code",
   "execution_count": 26,
   "metadata": {},
   "outputs": [],
   "source": [
    "adf4 = adf3.drop(['clv0', 'hexamer_loc0'], axis=1)"
   ]
  },
  {
   "cell_type": "code",
   "execution_count": 27,
   "metadata": {},
   "outputs": [
    {
     "data": {
      "text/html": [
       "<div>\n",
       "<style scoped>\n",
       "    .dataframe tbody tr th:only-of-type {\n",
       "        vertical-align: middle;\n",
       "    }\n",
       "\n",
       "    .dataframe tbody tr th {\n",
       "        vertical-align: top;\n",
       "    }\n",
       "\n",
       "    .dataframe thead th {\n",
       "        text-align: right;\n",
       "    }\n",
       "</style>\n",
       "<table border=\"1\" class=\"dataframe\">\n",
       "  <thead>\n",
       "    <tr style=\"text-align: right;\">\n",
       "      <th></th>\n",
       "      <th>gene_name</th>\n",
       "      <th>strand</th>\n",
       "      <th>seqname</th>\n",
       "      <th>clv</th>\n",
       "      <th>length_of_tail_in_contig</th>\n",
       "      <th>number_of_bridge_reads</th>\n",
       "      <th>max_bridge_read_tail_length</th>\n",
       "      <th>hexamer</th>\n",
       "      <th>hexamer_id</th>\n",
       "      <th>hexamer_loc</th>\n",
       "    </tr>\n",
       "  </thead>\n",
       "  <tbody>\n",
       "    <tr>\n",
       "      <th>0</th>\n",
       "      <td>PALMD</td>\n",
       "      <td>+</td>\n",
       "      <td>chr1</td>\n",
       "      <td>100159930</td>\n",
       "      <td>0</td>\n",
       "      <td>1</td>\n",
       "      <td>8</td>\n",
       "      <td>AATAAA</td>\n",
       "      <td>1</td>\n",
       "      <td>100159912</td>\n",
       "    </tr>\n",
       "    <tr>\n",
       "      <th>1</th>\n",
       "      <td>RP11-465B22.3</td>\n",
       "      <td>+</td>\n",
       "      <td>chr1</td>\n",
       "      <td>1001727</td>\n",
       "      <td>0</td>\n",
       "      <td>4</td>\n",
       "      <td>3</td>\n",
       "      <td>ATTAAA</td>\n",
       "      <td>2</td>\n",
       "      <td>1001706</td>\n",
       "    </tr>\n",
       "  </tbody>\n",
       "</table>\n",
       "</div>"
      ],
      "text/plain": [
       "       gene_name strand seqname        clv  length_of_tail_in_contig  number_of_bridge_reads  max_bridge_read_tail_length hexamer  hexamer_id  hexamer_loc\n",
       "0  PALMD          +      chr1    100159930  0                         1                       8                            AATAAA  1           100159912  \n",
       "1  RP11-465B22.3  +      chr1    1001727    0                         4                       3                            ATTAAA  2           1001706    "
      ]
     },
     "execution_count": 27,
     "metadata": {},
     "output_type": "execute_result"
    }
   ],
   "source": [
    "adf4.head(2)"
   ]
  },
  {
   "cell_type": "code",
   "execution_count": 28,
   "metadata": {},
   "outputs": [
    {
     "name": "stdout",
     "output_type": "stream",
     "text": [
      "CPU times: user 12.4 ms, sys: 10.2 ms, total: 22.5 ms\n",
      "Wall time: 60.1 ms\n"
     ]
    }
   ],
   "source": [
    "%time adf3.to_pickle('../../benchmark_transcriptome/UHRC1/polyA.KLEAT.hexamer-researched.pkl')"
   ]
  },
  {
   "cell_type": "code",
   "execution_count": null,
   "metadata": {},
   "outputs": [],
   "source": []
  }
 ],
 "metadata": {
  "anaconda-cloud": {},
  "kernelspec": {
   "display_name": "Python 3",
   "language": "python",
   "name": "python3"
  },
  "language_info": {
   "codemirror_mode": {
    "name": "ipython",
    "version": 3
   },
   "file_extension": ".py",
   "mimetype": "text/x-python",
   "name": "python",
   "nbconvert_exporter": "python",
   "pygments_lexer": "ipython3",
   "version": "3.6.4"
  }
 },
 "nbformat": 4,
 "nbformat_minor": 1
}
