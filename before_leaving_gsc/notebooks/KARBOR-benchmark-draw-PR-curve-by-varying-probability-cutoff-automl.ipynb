{
 "cells": [
  {
   "cell_type": "code",
   "execution_count": 1,
   "metadata": {},
   "outputs": [],
   "source": [
    "from eda_imports import *\n",
    "from adjustText import adjust_text"
   ]
  },
  {
   "cell_type": "code",
   "execution_count": 2,
   "metadata": {},
   "outputs": [],
   "source": [
    "from kleat.post import cluster_clv_parallel"
   ]
  },
  {
   "cell_type": "code",
   "execution_count": 3,
   "metadata": {},
   "outputs": [],
   "source": [
    "sys.path.insert(0, '../benchmark_scripts/')\n",
    "\n",
    "from train_arbor import load_df, load_polya_seq_df, map_to_ref, compare\n",
    "from ml_utils import KARBOR_FEATURE_COLS, calc_precision_recall_curve"
   ]
  },
  {
   "cell_type": "code",
   "execution_count": 4,
   "metadata": {},
   "outputs": [],
   "source": [
    "clf_pkl_files = sorted(glob.glob(\n",
    "    '../benchmark_transcriptome/tcga-run-4/benchmark-automl.pkl'\n",
    "))"
   ]
  },
  {
   "cell_type": "code",
   "execution_count": 5,
   "metadata": {},
   "outputs": [
    {
     "data": {
      "text/plain": [
       "1"
      ]
     },
     "execution_count": 5,
     "metadata": {},
     "output_type": "execute_result"
    }
   ],
   "source": [
    "len(clf_pkl_files)"
   ]
  },
  {
   "cell_type": "code",
   "execution_count": 6,
   "metadata": {},
   "outputs": [
    {
     "name": "stdout",
     "output_type": "stream",
     "text": [
      "working on benchmark-automl.pkl 0\n"
     ]
    }
   ],
   "source": [
    "clfs_dd = {}\n",
    "for pkl_file in clf_pkl_files:\n",
    "    tmax_depth = 0\n",
    "    with open(pkl_file, 'rb') as inf:\n",
    "        print(f'working on {os.path.basename(pkl_file)}', tmax_depth)\n",
    "        clfs_dd[tmax_depth] = pickle.load(inf)"
   ]
  },
  {
   "cell_type": "code",
   "execution_count": 7,
   "metadata": {
    "scrolled": false
   },
   "outputs": [
    {
     "name": "stderr",
     "output_type": "stream",
     "text": [
      "2018-07-27 13:03:10,100|INFO|reading /projects/cheny_prj/KLEAT_benchmarking/polyA_seq/Brain1.bed ...\n",
      "2018-07-27 13:06:15,990|INFO|grouping by ['seqname', 'strand']\n"
     ]
    },
    {
     "name": "stdout",
     "output_type": "stream",
     "text": [
      "0.0,"
     ]
    },
    {
     "name": "stderr",
     "output_type": "stream",
     "text": [
      "100%|██████████| 50/50 [00:00<00:00, 373.77it/s]\n",
      "2018-07-27 13:06:18,683|INFO|clustering clvs in parallel using 30 CPUs ...\n",
      "2018-07-27 13:07:12,517|INFO|concatenating clustered sub dataframes ...\n",
      "2018-07-27 13:07:24,300|INFO|grouping by ['seqname', 'strand']\n"
     ]
    },
    {
     "name": "stdout",
     "output_type": "stream",
     "text": [
      "0.05,"
     ]
    },
    {
     "name": "stderr",
     "output_type": "stream",
     "text": [
      "100%|██████████| 50/50 [00:00<00:00, 397.62it/s]\n",
      "2018-07-27 13:07:26,928|INFO|clustering clvs in parallel using 30 CPUs ...\n",
      "2018-07-27 13:08:22,464|INFO|concatenating clustered sub dataframes ...\n",
      "2018-07-27 13:08:33,587|INFO|grouping by ['seqname', 'strand']\n"
     ]
    },
    {
     "name": "stdout",
     "output_type": "stream",
     "text": [
      "0.1,"
     ]
    },
    {
     "name": "stderr",
     "output_type": "stream",
     "text": [
      "100%|██████████| 50/50 [00:00<00:00, 388.21it/s]\n",
      "2018-07-27 13:08:36,437|INFO|clustering clvs in parallel using 30 CPUs ...\n",
      "2018-07-27 13:09:32,459|INFO|concatenating clustered sub dataframes ...\n",
      "2018-07-27 13:09:43,948|INFO|grouping by ['seqname', 'strand']\n"
     ]
    },
    {
     "name": "stdout",
     "output_type": "stream",
     "text": [
      "0.15000000000000002,"
     ]
    },
    {
     "name": "stderr",
     "output_type": "stream",
     "text": [
      "100%|██████████| 50/50 [00:00<00:00, 798.78it/s]\n",
      "2018-07-27 13:09:46,259|INFO|clustering clvs in parallel using 30 CPUs ...\n",
      "2018-07-27 13:10:03,670|INFO|concatenating clustered sub dataframes ...\n",
      "2018-07-27 13:10:08,658|INFO|grouping by ['seqname', 'strand']\n"
     ]
    },
    {
     "name": "stdout",
     "output_type": "stream",
     "text": [
      "0.2,"
     ]
    },
    {
     "name": "stderr",
     "output_type": "stream",
     "text": [
      "100%|██████████| 50/50 [00:00<00:00, 1392.83it/s]\n",
      "2018-07-27 13:10:10,552|INFO|clustering clvs in parallel using 30 CPUs ...\n",
      "2018-07-27 13:10:16,482|INFO|concatenating clustered sub dataframes ...\n",
      "2018-07-27 13:10:18,564|INFO|grouping by ['seqname', 'strand']\n",
      "100%|██████████| 50/50 [00:00<00:00, 2170.29it/s]"
     ]
    },
    {
     "name": "stdout",
     "output_type": "stream",
     "text": [
      "0.25,"
     ]
    },
    {
     "name": "stderr",
     "output_type": "stream",
     "text": [
      "\n",
      "2018-07-27 13:10:20,217|INFO|clustering clvs in parallel using 30 CPUs ...\n",
      "2018-07-27 13:10:22,907|INFO|concatenating clustered sub dataframes ...\n",
      "2018-07-27 13:10:23,917|INFO|grouping by ['seqname', 'strand']\n",
      "  0%|          | 0/50 [00:00<?, ?it/s]"
     ]
    },
    {
     "name": "stdout",
     "output_type": "stream",
     "text": [
      "0.30000000000000004,"
     ]
    },
    {
     "name": "stderr",
     "output_type": "stream",
     "text": [
      "100%|██████████| 50/50 [00:00<00:00, 2496.61it/s]\n",
      "2018-07-27 13:10:25,667|INFO|clustering clvs in parallel using 30 CPUs ...\n",
      "2018-07-27 13:10:27,405|INFO|concatenating clustered sub dataframes ...\n",
      "2018-07-27 13:10:28,254|INFO|grouping by ['seqname', 'strand']\n",
      "100%|██████████| 50/50 [00:00<00:00, 2983.32it/s]"
     ]
    },
    {
     "name": "stdout",
     "output_type": "stream",
     "text": [
      "0.35000000000000003,"
     ]
    },
    {
     "name": "stderr",
     "output_type": "stream",
     "text": [
      "\n",
      "2018-07-27 13:10:29,881|INFO|clustering clvs in parallel using 30 CPUs ...\n",
      "2018-07-27 13:10:31,614|INFO|concatenating clustered sub dataframes ...\n",
      "2018-07-27 13:10:32,306|INFO|grouping by ['seqname', 'strand']\n",
      "100%|██████████| 50/50 [00:00<00:00, 2927.39it/s]"
     ]
    },
    {
     "name": "stdout",
     "output_type": "stream",
     "text": [
      "0.4,"
     ]
    },
    {
     "name": "stderr",
     "output_type": "stream",
     "text": [
      "\n",
      "2018-07-27 13:10:33,940|INFO|clustering clvs in parallel using 30 CPUs ...\n",
      "2018-07-27 13:10:35,162|INFO|concatenating clustered sub dataframes ...\n",
      "2018-07-27 13:10:35,685|INFO|grouping by ['seqname', 'strand']\n",
      "100%|██████████| 50/50 [00:00<00:00, 3246.92it/s]"
     ]
    },
    {
     "name": "stdout",
     "output_type": "stream",
     "text": [
      "0.45,"
     ]
    },
    {
     "name": "stderr",
     "output_type": "stream",
     "text": [
      "\n",
      "2018-07-27 13:10:37,295|INFO|clustering clvs in parallel using 30 CPUs ...\n",
      "2018-07-27 13:10:38,416|INFO|concatenating clustered sub dataframes ...\n",
      "2018-07-27 13:10:39,045|INFO|grouping by ['seqname', 'strand']\n",
      "100%|██████████| 50/50 [00:00<00:00, 2844.56it/s]"
     ]
    },
    {
     "name": "stdout",
     "output_type": "stream",
     "text": [
      "0.5,"
     ]
    },
    {
     "name": "stderr",
     "output_type": "stream",
     "text": [
      "\n",
      "2018-07-27 13:10:40,624|INFO|clustering clvs in parallel using 30 CPUs ...\n",
      "2018-07-27 13:10:41,560|INFO|concatenating clustered sub dataframes ...\n",
      "2018-07-27 13:10:41,971|INFO|grouping by ['seqname', 'strand']\n",
      "100%|██████████| 49/49 [00:00<00:00, 3571.11it/s]"
     ]
    },
    {
     "name": "stdout",
     "output_type": "stream",
     "text": [
      "0.55,"
     ]
    },
    {
     "name": "stderr",
     "output_type": "stream",
     "text": [
      "\n",
      "2018-07-27 13:10:43,540|INFO|clustering clvs in parallel using 30 CPUs ...\n",
      "2018-07-27 13:10:44,374|INFO|concatenating clustered sub dataframes ...\n",
      "2018-07-27 13:10:44,727|INFO|grouping by ['seqname', 'strand']\n",
      "100%|██████████| 49/49 [00:00<00:00, 3642.37it/s]"
     ]
    },
    {
     "name": "stdout",
     "output_type": "stream",
     "text": [
      "0.6000000000000001,"
     ]
    },
    {
     "name": "stderr",
     "output_type": "stream",
     "text": [
      "\n",
      "2018-07-27 13:10:46,322|INFO|clustering clvs in parallel using 30 CPUs ...\n",
      "2018-07-27 13:10:46,926|INFO|concatenating clustered sub dataframes ...\n",
      "2018-07-27 13:10:47,279|INFO|grouping by ['seqname', 'strand']\n",
      "100%|██████████| 48/48 [00:00<00:00, 3614.42it/s]"
     ]
    },
    {
     "name": "stdout",
     "output_type": "stream",
     "text": [
      "0.65,"
     ]
    },
    {
     "name": "stderr",
     "output_type": "stream",
     "text": [
      "\n",
      "2018-07-27 13:10:48,871|INFO|clustering clvs in parallel using 30 CPUs ...\n",
      "2018-07-27 13:10:49,501|INFO|concatenating clustered sub dataframes ...\n",
      "2018-07-27 13:10:49,779|INFO|grouping by ['seqname', 'strand']\n",
      "100%|██████████| 46/46 [00:00<00:00, 3987.15it/s]"
     ]
    },
    {
     "name": "stdout",
     "output_type": "stream",
     "text": [
      "0.7000000000000001,"
     ]
    },
    {
     "name": "stderr",
     "output_type": "stream",
     "text": [
      "\n",
      "2018-07-27 13:10:51,353|INFO|clustering clvs in parallel using 30 CPUs ...\n",
      "2018-07-27 13:10:51,674|INFO|concatenating clustered sub dataframes ...\n"
     ]
    },
    {
     "name": "stdout",
     "output_type": "stream",
     "text": [
      "0.75,0.8,0.8500000000000001,0.9,0.9500000000000001,1.0,"
     ]
    },
    {
     "name": "stderr",
     "output_type": "stream",
     "text": [
      "2018-07-27 13:10:57,469|INFO|reading /projects/cheny_prj/KLEAT_benchmarking/polyA_seq/Brain2.bed ...\n",
      "2018-07-27 13:17:16,090|INFO|grouping by ['seqname', 'strand']\n"
     ]
    },
    {
     "name": "stdout",
     "output_type": "stream",
     "text": [
      "0.0,"
     ]
    },
    {
     "name": "stderr",
     "output_type": "stream",
     "text": [
      "100%|██████████| 50/50 [00:00<00:00, 150.72it/s]\n",
      "2018-07-27 13:17:21,105|INFO|clustering clvs in parallel using 30 CPUs ...\n",
      "2018-07-27 13:45:44,287|INFO|concatenating clustered sub dataframes ...\n",
      "2018-07-27 13:46:15,815|INFO|grouping by ['seqname', 'strand']\n"
     ]
    },
    {
     "name": "stdout",
     "output_type": "stream",
     "text": [
      "0.05,"
     ]
    },
    {
     "name": "stderr",
     "output_type": "stream",
     "text": [
      "100%|██████████| 50/50 [00:00<00:00, 154.87it/s]\n",
      "2018-07-27 13:46:20,978|INFO|clustering clvs in parallel using 30 CPUs ...\n",
      "2018-07-27 14:10:21,562|INFO|concatenating clustered sub dataframes ...\n",
      "2018-07-27 14:10:49,232|INFO|grouping by ['seqname', 'strand']\n"
     ]
    },
    {
     "name": "stdout",
     "output_type": "stream",
     "text": [
      "0.1,"
     ]
    },
    {
     "name": "stderr",
     "output_type": "stream",
     "text": [
      "100%|██████████| 50/50 [00:00<00:00, 157.70it/s]\n",
      "2018-07-27 14:10:54,280|INFO|clustering clvs in parallel using 30 CPUs ...\n",
      "2018-07-27 14:30:31,353|INFO|concatenating clustered sub dataframes ...\n",
      "2018-07-27 14:30:59,776|INFO|grouping by ['seqname', 'strand']\n"
     ]
    },
    {
     "name": "stdout",
     "output_type": "stream",
     "text": [
      "0.15000000000000002,"
     ]
    },
    {
     "name": "stderr",
     "output_type": "stream",
     "text": [
      "100%|██████████| 50/50 [00:00<00:00, 397.57it/s]\n",
      "2018-07-27 14:31:03,156|INFO|clustering clvs in parallel using 30 CPUs ...\n",
      "2018-07-27 14:31:51,475|INFO|concatenating clustered sub dataframes ...\n",
      "2018-07-27 14:32:02,222|INFO|grouping by ['seqname', 'strand']\n"
     ]
    },
    {
     "name": "stdout",
     "output_type": "stream",
     "text": [
      "0.2,"
     ]
    },
    {
     "name": "stderr",
     "output_type": "stream",
     "text": [
      "100%|██████████| 50/50 [00:00<00:00, 1005.20it/s]\n",
      "2018-07-27 14:32:04,726|INFO|clustering clvs in parallel using 30 CPUs ...\n",
      "2018-07-27 14:32:17,929|INFO|concatenating clustered sub dataframes ...\n",
      "2018-07-27 14:32:21,495|INFO|grouping by ['seqname', 'strand']\n"
     ]
    },
    {
     "name": "stdout",
     "output_type": "stream",
     "text": [
      "0.25,"
     ]
    },
    {
     "name": "stderr",
     "output_type": "stream",
     "text": [
      "100%|██████████| 50/50 [00:00<00:00, 1796.58it/s]\n",
      "2018-07-27 14:32:23,837|INFO|clustering clvs in parallel using 30 CPUs ...\n",
      "2018-07-27 14:32:29,375|INFO|concatenating clustered sub dataframes ...\n",
      "2018-07-27 14:32:31,500|INFO|grouping by ['seqname', 'strand']\n",
      "100%|██████████| 50/50 [00:00<00:00, 1994.32it/s]"
     ]
    },
    {
     "name": "stdout",
     "output_type": "stream",
     "text": [
      "0.30000000000000004,"
     ]
    },
    {
     "name": "stderr",
     "output_type": "stream",
     "text": [
      "\n",
      "2018-07-27 14:32:33,592|INFO|clustering clvs in parallel using 30 CPUs ...\n",
      "2018-07-27 14:32:37,085|INFO|concatenating clustered sub dataframes ...\n",
      "2018-07-27 14:32:38,371|INFO|grouping by ['seqname', 'strand']\n",
      "100%|██████████| 50/50 [00:00<00:00, 2577.75it/s]"
     ]
    },
    {
     "name": "stdout",
     "output_type": "stream",
     "text": [
      "0.35000000000000003,"
     ]
    },
    {
     "name": "stderr",
     "output_type": "stream",
     "text": [
      "\n",
      "2018-07-27 14:32:40,560|INFO|clustering clvs in parallel using 30 CPUs ...\n",
      "2018-07-27 14:32:42,411|INFO|concatenating clustered sub dataframes ...\n",
      "2018-07-27 14:32:43,247|INFO|grouping by ['seqname', 'strand']\n",
      "100%|██████████| 50/50 [00:00<00:00, 2956.86it/s]"
     ]
    },
    {
     "name": "stdout",
     "output_type": "stream",
     "text": [
      "0.4,"
     ]
    },
    {
     "name": "stderr",
     "output_type": "stream",
     "text": [
      "\n",
      "2018-07-27 14:32:45,308|INFO|clustering clvs in parallel using 30 CPUs ...\n",
      "2018-07-27 14:32:46,629|INFO|concatenating clustered sub dataframes ...\n",
      "2018-07-27 14:32:47,148|INFO|grouping by ['seqname', 'strand']\n",
      "100%|██████████| 50/50 [00:00<00:00, 3405.08it/s]"
     ]
    },
    {
     "name": "stdout",
     "output_type": "stream",
     "text": [
      "0.45,"
     ]
    },
    {
     "name": "stderr",
     "output_type": "stream",
     "text": [
      "\n",
      "2018-07-27 14:32:49,289|INFO|clustering clvs in parallel using 30 CPUs ...\n",
      "2018-07-27 14:32:50,122|INFO|concatenating clustered sub dataframes ...\n",
      "2018-07-27 14:32:50,540|INFO|grouping by ['seqname', 'strand']\n",
      "100%|██████████| 50/50 [00:00<00:00, 3445.98it/s]"
     ]
    },
    {
     "name": "stdout",
     "output_type": "stream",
     "text": [
      "0.5,"
     ]
    },
    {
     "name": "stderr",
     "output_type": "stream",
     "text": [
      "\n",
      "2018-07-27 14:32:52,562|INFO|clustering clvs in parallel using 30 CPUs ...\n",
      "2018-07-27 14:32:53,389|INFO|concatenating clustered sub dataframes ...\n",
      "2018-07-27 14:32:53,752|INFO|grouping by ['seqname', 'strand']\n",
      "100%|██████████| 49/49 [00:00<00:00, 3538.40it/s]"
     ]
    },
    {
     "name": "stdout",
     "output_type": "stream",
     "text": [
      "0.55,"
     ]
    },
    {
     "name": "stderr",
     "output_type": "stream",
     "text": [
      "\n",
      "2018-07-27 14:32:55,791|INFO|clustering clvs in parallel using 30 CPUs ...\n",
      "2018-07-27 14:32:56,634|INFO|concatenating clustered sub dataframes ...\n",
      "2018-07-27 14:32:56,993|INFO|grouping by ['seqname', 'strand']\n",
      "100%|██████████| 49/49 [00:00<00:00, 3736.81it/s]"
     ]
    },
    {
     "name": "stdout",
     "output_type": "stream",
     "text": [
      "0.6000000000000001,"
     ]
    },
    {
     "name": "stderr",
     "output_type": "stream",
     "text": [
      "\n",
      "2018-07-27 14:32:58,984|INFO|clustering clvs in parallel using 30 CPUs ...\n",
      "2018-07-27 14:32:59,527|INFO|concatenating clustered sub dataframes ...\n",
      "2018-07-27 14:32:59,805|INFO|grouping by ['seqname', 'strand']\n",
      "100%|██████████| 48/48 [00:00<00:00, 4013.21it/s]"
     ]
    },
    {
     "name": "stdout",
     "output_type": "stream",
     "text": [
      "0.65,"
     ]
    },
    {
     "name": "stderr",
     "output_type": "stream",
     "text": [
      "\n",
      "2018-07-27 14:33:01,757|INFO|clustering clvs in parallel using 30 CPUs ...\n",
      "2018-07-27 14:33:02,189|INFO|concatenating clustered sub dataframes ...\n",
      "2018-07-27 14:33:02,410|INFO|grouping by ['seqname', 'strand']\n",
      "100%|██████████| 46/46 [00:00<00:00, 3919.67it/s]"
     ]
    },
    {
     "name": "stdout",
     "output_type": "stream",
     "text": [
      "0.7000000000000001,"
     ]
    },
    {
     "name": "stderr",
     "output_type": "stream",
     "text": [
      "\n",
      "2018-07-27 14:33:04,381|INFO|clustering clvs in parallel using 30 CPUs ...\n",
      "2018-07-27 14:33:04,708|INFO|concatenating clustered sub dataframes ...\n"
     ]
    },
    {
     "name": "stdout",
     "output_type": "stream",
     "text": [
      "0.75,0.8,0.8500000000000001,0.9,0.9500000000000001,1.0,"
     ]
    },
    {
     "name": "stderr",
     "output_type": "stream",
     "text": [
      "2018-07-27 14:33:07,939|INFO|reading /projects/cheny_prj/KLEAT_benchmarking/polyA_seq/UHR1.bed ...\n",
      "2018-07-27 14:35:46,451|INFO|grouping by ['seqname', 'strand']\n"
     ]
    },
    {
     "name": "stdout",
     "output_type": "stream",
     "text": [
      "0.0,"
     ]
    },
    {
     "name": "stderr",
     "output_type": "stream",
     "text": [
      "100%|██████████| 50/50 [00:00<00:00, 385.25it/s]\n",
      "2018-07-27 14:35:50,389|INFO|clustering clvs in parallel using 30 CPUs ...\n",
      "2018-07-27 14:36:44,135|INFO|concatenating clustered sub dataframes ...\n",
      "2018-07-27 14:36:55,971|INFO|grouping by ['seqname', 'strand']\n"
     ]
    },
    {
     "name": "stdout",
     "output_type": "stream",
     "text": [
      "0.05,"
     ]
    },
    {
     "name": "stderr",
     "output_type": "stream",
     "text": [
      "100%|██████████| 50/50 [00:00<00:00, 341.94it/s]\n",
      "2018-07-27 14:36:59,823|INFO|clustering clvs in parallel using 30 CPUs ...\n",
      "2018-07-27 14:37:52,065|INFO|concatenating clustered sub dataframes ...\n",
      "2018-07-27 14:38:04,052|INFO|grouping by ['seqname', 'strand']\n"
     ]
    },
    {
     "name": "stdout",
     "output_type": "stream",
     "text": [
      "0.1,"
     ]
    },
    {
     "name": "stderr",
     "output_type": "stream",
     "text": [
      "100%|██████████| 50/50 [00:00<00:00, 413.65it/s]\n",
      "2018-07-27 14:38:07,173|INFO|clustering clvs in parallel using 30 CPUs ...\n",
      "2018-07-27 14:38:55,731|INFO|concatenating clustered sub dataframes ...\n",
      "2018-07-27 14:39:07,447|INFO|grouping by ['seqname', 'strand']\n"
     ]
    },
    {
     "name": "stdout",
     "output_type": "stream",
     "text": [
      "0.15000000000000002,"
     ]
    },
    {
     "name": "stderr",
     "output_type": "stream",
     "text": [
      "100%|██████████| 50/50 [00:00<00:00, 911.05it/s]\n",
      "2018-07-27 14:39:09,737|INFO|clustering clvs in parallel using 30 CPUs ...\n",
      "2018-07-27 14:39:25,928|INFO|concatenating clustered sub dataframes ...\n",
      "2018-07-27 14:39:30,326|INFO|grouping by ['seqname', 'strand']\n",
      "100%|██████████| 50/50 [00:00<00:00, 1492.55it/s]"
     ]
    },
    {
     "name": "stdout",
     "output_type": "stream",
     "text": [
      "0.2,"
     ]
    },
    {
     "name": "stderr",
     "output_type": "stream",
     "text": [
      "\n",
      "2018-07-27 14:39:32,238|INFO|clustering clvs in parallel using 30 CPUs ...\n",
      "2018-07-27 14:39:38,069|INFO|concatenating clustered sub dataframes ...\n",
      "2018-07-27 14:39:39,823|INFO|grouping by ['seqname', 'strand']\n"
     ]
    },
    {
     "name": "stdout",
     "output_type": "stream",
     "text": [
      "0.25,"
     ]
    },
    {
     "name": "stderr",
     "output_type": "stream",
     "text": [
      "100%|██████████| 50/50 [00:00<00:00, 2308.22it/s]\n",
      "2018-07-27 14:39:41,864|INFO|clustering clvs in parallel using 30 CPUs ...\n",
      "2018-07-27 14:39:44,663|INFO|concatenating clustered sub dataframes ...\n",
      "2018-07-27 14:39:45,778|INFO|grouping by ['seqname', 'strand']\n",
      "100%|██████████| 50/50 [00:00<00:00, 2594.17it/s]"
     ]
    },
    {
     "name": "stdout",
     "output_type": "stream",
     "text": [
      "0.30000000000000004,"
     ]
    },
    {
     "name": "stderr",
     "output_type": "stream",
     "text": [
      "\n",
      "2018-07-27 14:39:47,740|INFO|clustering clvs in parallel using 30 CPUs ...\n",
      "2018-07-27 14:39:49,392|INFO|concatenating clustered sub dataframes ...\n",
      "2018-07-27 14:39:50,092|INFO|grouping by ['seqname', 'strand']\n",
      "100%|██████████| 50/50 [00:00<00:00, 3612.17it/s]"
     ]
    },
    {
     "name": "stdout",
     "output_type": "stream",
     "text": [
      "0.35000000000000003,"
     ]
    },
    {
     "name": "stderr",
     "output_type": "stream",
     "text": [
      "\n",
      "2018-07-27 14:39:51,986|INFO|clustering clvs in parallel using 30 CPUs ...\n",
      "2018-07-27 14:39:53,100|INFO|concatenating clustered sub dataframes ...\n",
      "2018-07-27 14:39:53,674|INFO|grouping by ['seqname', 'strand']\n",
      "100%|██████████| 50/50 [00:00<00:00, 3354.10it/s]"
     ]
    },
    {
     "name": "stdout",
     "output_type": "stream",
     "text": [
      "0.4,"
     ]
    },
    {
     "name": "stderr",
     "output_type": "stream",
     "text": [
      "\n",
      "2018-07-27 14:39:55,515|INFO|clustering clvs in parallel using 30 CPUs ...\n",
      "2018-07-27 14:39:56,538|INFO|concatenating clustered sub dataframes ...\n",
      "2018-07-27 14:39:57,012|INFO|grouping by ['seqname', 'strand']\n",
      "100%|██████████| 50/50 [00:00<00:00, 3593.66it/s]"
     ]
    },
    {
     "name": "stdout",
     "output_type": "stream",
     "text": [
      "0.45,"
     ]
    },
    {
     "name": "stderr",
     "output_type": "stream",
     "text": [
      "\n",
      "2018-07-27 14:39:58,810|INFO|clustering clvs in parallel using 30 CPUs ...\n",
      "2018-07-27 14:39:59,646|INFO|concatenating clustered sub dataframes ...\n",
      "2018-07-27 14:40:00,019|INFO|grouping by ['seqname', 'strand']\n",
      "100%|██████████| 49/49 [00:00<00:00, 410.11it/s]"
     ]
    },
    {
     "name": "stdout",
     "output_type": "stream",
     "text": [
      "0.5,"
     ]
    },
    {
     "name": "stderr",
     "output_type": "stream",
     "text": [
      "\n",
      "2018-07-27 14:40:01,931|INFO|clustering clvs in parallel using 30 CPUs ...\n",
      "2018-07-27 14:40:02,762|INFO|concatenating clustered sub dataframes ...\n",
      "2018-07-27 14:40:03,102|INFO|grouping by ['seqname', 'strand']\n",
      "100%|██████████| 49/49 [00:00<00:00, 3712.38it/s]"
     ]
    },
    {
     "name": "stdout",
     "output_type": "stream",
     "text": [
      "0.55,"
     ]
    },
    {
     "name": "stderr",
     "output_type": "stream",
     "text": [
      "\n",
      "2018-07-27 14:40:04,915|INFO|clustering clvs in parallel using 30 CPUs ...\n",
      "2018-07-27 14:40:05,558|INFO|concatenating clustered sub dataframes ...\n",
      "2018-07-27 14:40:05,897|INFO|grouping by ['seqname', 'strand']\n",
      "100%|██████████| 49/49 [00:00<00:00, 3922.08it/s]"
     ]
    },
    {
     "name": "stdout",
     "output_type": "stream",
     "text": [
      "0.6000000000000001,"
     ]
    },
    {
     "name": "stderr",
     "output_type": "stream",
     "text": [
      "\n",
      "2018-07-27 14:40:07,726|INFO|clustering clvs in parallel using 30 CPUs ...\n",
      "2018-07-27 14:40:08,225|INFO|concatenating clustered sub dataframes ...\n",
      "2018-07-27 14:40:08,598|INFO|grouping by ['seqname', 'strand']\n",
      "100%|██████████| 48/48 [00:00<00:00, 3849.53it/s]"
     ]
    },
    {
     "name": "stdout",
     "output_type": "stream",
     "text": [
      "0.65,"
     ]
    },
    {
     "name": "stderr",
     "output_type": "stream",
     "text": [
      "\n",
      "2018-07-27 14:40:10,451|INFO|clustering clvs in parallel using 30 CPUs ...\n",
      "2018-07-27 14:40:10,984|INFO|concatenating clustered sub dataframes ...\n",
      "2018-07-27 14:40:11,271|INFO|grouping by ['seqname', 'strand']\n",
      "100%|██████████| 47/47 [00:00<00:00, 4079.13it/s]"
     ]
    },
    {
     "name": "stdout",
     "output_type": "stream",
     "text": [
      "0.7000000000000001,"
     ]
    },
    {
     "name": "stderr",
     "output_type": "stream",
     "text": [
      "\n",
      "2018-07-27 14:40:13,043|INFO|clustering clvs in parallel using 30 CPUs ...\n",
      "2018-07-27 14:40:13,371|INFO|concatenating clustered sub dataframes ...\n"
     ]
    },
    {
     "name": "stdout",
     "output_type": "stream",
     "text": [
      "0.75,0.8,0.8500000000000001,0.9,0.9500000000000001,1.0,"
     ]
    },
    {
     "name": "stderr",
     "output_type": "stream",
     "text": [
      "2018-07-27 14:40:16,464|INFO|reading /projects/cheny_prj/KLEAT_benchmarking/polyA_seq/UHR2.bed ...\n",
      "2018-07-27 14:43:31,145|INFO|grouping by ['seqname', 'strand']\n"
     ]
    },
    {
     "name": "stdout",
     "output_type": "stream",
     "text": [
      "0.0,"
     ]
    },
    {
     "name": "stderr",
     "output_type": "stream",
     "text": [
      "100%|██████████| 50/50 [00:00<00:00, 299.48it/s]\n",
      "2018-07-27 14:43:34,772|INFO|clustering clvs in parallel using 30 CPUs ...\n",
      "2018-07-27 14:45:18,609|INFO|concatenating clustered sub dataframes ...\n",
      "2018-07-27 14:45:32,791|INFO|grouping by ['seqname', 'strand']\n"
     ]
    },
    {
     "name": "stdout",
     "output_type": "stream",
     "text": [
      "0.05,"
     ]
    },
    {
     "name": "stderr",
     "output_type": "stream",
     "text": [
      "100%|██████████| 50/50 [00:00<00:00, 305.56it/s]\n",
      "2018-07-27 14:45:36,608|INFO|clustering clvs in parallel using 30 CPUs ...\n",
      "2018-07-27 14:46:52,431|INFO|concatenating clustered sub dataframes ...\n",
      "2018-07-27 14:47:07,658|INFO|grouping by ['seqname', 'strand']\n"
     ]
    },
    {
     "name": "stdout",
     "output_type": "stream",
     "text": [
      "0.1,"
     ]
    },
    {
     "name": "stderr",
     "output_type": "stream",
     "text": [
      "100%|██████████| 50/50 [00:00<00:00, 324.30it/s]\n",
      "2018-07-27 14:47:11,434|INFO|clustering clvs in parallel using 30 CPUs ...\n",
      "2018-07-27 14:48:23,495|INFO|concatenating clustered sub dataframes ...\n",
      "2018-07-27 14:48:38,654|INFO|grouping by ['seqname', 'strand']\n"
     ]
    },
    {
     "name": "stdout",
     "output_type": "stream",
     "text": [
      "0.15000000000000002,"
     ]
    },
    {
     "name": "stderr",
     "output_type": "stream",
     "text": [
      "100%|██████████| 50/50 [00:00<00:00, 743.71it/s]\n",
      "2018-07-27 14:48:41,186|INFO|clustering clvs in parallel using 30 CPUs ...\n",
      "2018-07-27 14:49:01,785|INFO|concatenating clustered sub dataframes ...\n",
      "2018-07-27 14:49:08,181|INFO|grouping by ['seqname', 'strand']\n"
     ]
    },
    {
     "name": "stdout",
     "output_type": "stream",
     "text": [
      "0.2,"
     ]
    },
    {
     "name": "stderr",
     "output_type": "stream",
     "text": [
      "100%|██████████| 50/50 [00:00<00:00, 1349.25it/s]\n",
      "2018-07-27 14:49:10,273|INFO|clustering clvs in parallel using 30 CPUs ...\n",
      "2018-07-27 14:49:17,500|INFO|concatenating clustered sub dataframes ...\n",
      "2018-07-27 14:49:19,755|INFO|grouping by ['seqname', 'strand']\n",
      "  0%|          | 0/50 [00:00<?, ?it/s]"
     ]
    },
    {
     "name": "stdout",
     "output_type": "stream",
     "text": [
      "0.25,"
     ]
    },
    {
     "name": "stderr",
     "output_type": "stream",
     "text": [
      "100%|██████████| 50/50 [00:00<00:00, 2209.11it/s]\n",
      "2018-07-27 14:49:21,682|INFO|clustering clvs in parallel using 30 CPUs ...\n",
      "2018-07-27 14:49:24,773|INFO|concatenating clustered sub dataframes ...\n",
      "2018-07-27 14:49:26,055|INFO|grouping by ['seqname', 'strand']\n",
      "100%|██████████| 50/50 [00:00<00:00, 2652.41it/s]"
     ]
    },
    {
     "name": "stdout",
     "output_type": "stream",
     "text": [
      "0.30000000000000004,"
     ]
    },
    {
     "name": "stderr",
     "output_type": "stream",
     "text": [
      "\n",
      "2018-07-27 14:49:28,117|INFO|clustering clvs in parallel using 30 CPUs ...\n",
      "2018-07-27 14:49:30,043|INFO|concatenating clustered sub dataframes ...\n",
      "2018-07-27 14:49:30,961|INFO|grouping by ['seqname', 'strand']\n",
      "100%|██████████| 50/50 [00:00<00:00, 2892.58it/s]"
     ]
    },
    {
     "name": "stdout",
     "output_type": "stream",
     "text": [
      "0.35000000000000003,"
     ]
    },
    {
     "name": "stderr",
     "output_type": "stream",
     "text": [
      "\n",
      "2018-07-27 14:49:32,869|INFO|clustering clvs in parallel using 30 CPUs ...\n",
      "2018-07-27 14:49:34,094|INFO|concatenating clustered sub dataframes ...\n",
      "2018-07-27 14:49:34,691|INFO|grouping by ['seqname', 'strand']\n",
      "100%|██████████| 50/50 [00:00<00:00, 3354.05it/s]"
     ]
    },
    {
     "name": "stdout",
     "output_type": "stream",
     "text": [
      "0.4,"
     ]
    },
    {
     "name": "stderr",
     "output_type": "stream",
     "text": [
      "\n",
      "2018-07-27 14:49:36,564|INFO|clustering clvs in parallel using 30 CPUs ...\n",
      "2018-07-27 14:49:37,695|INFO|concatenating clustered sub dataframes ...\n",
      "2018-07-27 14:49:38,202|INFO|grouping by ['seqname', 'strand']\n",
      "100%|██████████| 50/50 [00:00<00:00, 3530.62it/s]"
     ]
    },
    {
     "name": "stdout",
     "output_type": "stream",
     "text": [
      "0.45,"
     ]
    },
    {
     "name": "stderr",
     "output_type": "stream",
     "text": [
      "\n",
      "2018-07-27 14:49:40,096|INFO|clustering clvs in parallel using 30 CPUs ...\n",
      "2018-07-27 14:49:41,020|INFO|concatenating clustered sub dataframes ...\n",
      "2018-07-27 14:49:41,416|INFO|grouping by ['seqname', 'strand']\n",
      "100%|██████████| 50/50 [00:00<00:00, 3749.60it/s]"
     ]
    },
    {
     "name": "stdout",
     "output_type": "stream",
     "text": [
      "0.5,"
     ]
    },
    {
     "name": "stderr",
     "output_type": "stream",
     "text": [
      "\n",
      "2018-07-27 14:49:43,198|INFO|clustering clvs in parallel using 30 CPUs ...\n",
      "2018-07-27 14:49:43,938|INFO|concatenating clustered sub dataframes ...\n",
      "2018-07-27 14:49:44,285|INFO|grouping by ['seqname', 'strand']\n",
      "100%|██████████| 50/50 [00:00<00:00, 3825.59it/s]"
     ]
    },
    {
     "name": "stdout",
     "output_type": "stream",
     "text": [
      "0.55,"
     ]
    },
    {
     "name": "stderr",
     "output_type": "stream",
     "text": [
      "\n",
      "2018-07-27 14:49:46,086|INFO|clustering clvs in parallel using 30 CPUs ...\n",
      "2018-07-27 14:49:46,711|INFO|concatenating clustered sub dataframes ...\n",
      "2018-07-27 14:49:47,042|INFO|grouping by ['seqname', 'strand']\n",
      "100%|██████████| 49/49 [00:00<00:00, 3820.38it/s]"
     ]
    },
    {
     "name": "stdout",
     "output_type": "stream",
     "text": [
      "0.6000000000000001,"
     ]
    },
    {
     "name": "stderr",
     "output_type": "stream",
     "text": [
      "\n",
      "2018-07-27 14:49:48,857|INFO|clustering clvs in parallel using 30 CPUs ...\n",
      "2018-07-27 14:49:49,513|INFO|concatenating clustered sub dataframes ...\n",
      "2018-07-27 14:49:49,808|INFO|grouping by ['seqname', 'strand']\n",
      "100%|██████████| 48/48 [00:00<00:00, 3918.99it/s]"
     ]
    },
    {
     "name": "stdout",
     "output_type": "stream",
     "text": [
      "0.65,"
     ]
    },
    {
     "name": "stderr",
     "output_type": "stream",
     "text": [
      "\n",
      "2018-07-27 14:49:51,646|INFO|clustering clvs in parallel using 30 CPUs ...\n",
      "2018-07-27 14:49:52,056|INFO|concatenating clustered sub dataframes ...\n",
      "2018-07-27 14:49:52,397|INFO|grouping by ['seqname', 'strand']\n",
      "100%|██████████| 47/47 [00:00<00:00, 4078.12it/s]"
     ]
    },
    {
     "name": "stdout",
     "output_type": "stream",
     "text": [
      "0.7000000000000001,"
     ]
    },
    {
     "name": "stderr",
     "output_type": "stream",
     "text": [
      "\n",
      "2018-07-27 14:49:54,201|INFO|clustering clvs in parallel using 30 CPUs ...\n",
      "2018-07-27 14:49:54,511|INFO|concatenating clustered sub dataframes ...\n"
     ]
    },
    {
     "name": "stdout",
     "output_type": "stream",
     "text": [
      "0.75,0.8,0.8500000000000001,0.9,0.9500000000000001,1.0,CPU times: user 1h 21s, sys: 15min 9s, total: 1h 15min 30s\n",
      "Wall time: 1h 46min 47s\n"
     ]
    }
   ],
   "source": [
    "%%time\n",
    "dfs = []\n",
    "thresholds = np.arange(0, 1.01, 0.05)\n",
    "map_cutoff = 50\n",
    "for sample_id in ['HBRC4', 'HBRC6', 'UHRC1', 'UHRC2']:\n",
    "    adf = pd.read_pickle(f'../benchmark_transcriptome/{sample_id}.ml_ready.pkl')\n",
    "    assert adf[['seqname', 'strand', 'clv']].drop_duplicates().shape[0] == adf.shape[0]\n",
    "\n",
    "    df_ref = load_polya_seq_df(sample_id)\n",
    "\n",
    "    for tmax_depth, clf in clfs_dd.items():\n",
    "        adf['pred_prob'] = clf.predict_proba(adf[KARBOR_FEATURE_COLS])[:,1]\n",
    "        bdf = adf[['seqname', 'strand', 'clv', 'pred_prob']].copy()\n",
    "\n",
    "        df_res = calc_precision_recall_curve(\n",
    "            bdf, df_ref, map_cutoff=50, cluster_cutoff=20, thresholds=thresholds, num_cpus=30)\n",
    "        df_res['tree_max_depth'] = tmax_depth\n",
    "        df_res['sample_id'] = sample_id\n",
    "        dfs.append(df_res)"
   ]
  },
  {
   "cell_type": "code",
   "execution_count": 8,
   "metadata": {},
   "outputs": [],
   "source": [
    "ndf = pd.concat(dfs)"
   ]
  },
  {
   "cell_type": "code",
   "execution_count": 9,
   "metadata": {},
   "outputs": [
    {
     "data": {
      "text/plain": [
       "(84, 6)"
      ]
     },
     "execution_count": 9,
     "metadata": {},
     "output_type": "execute_result"
    }
   ],
   "source": [
    "ndf.shape"
   ]
  },
  {
   "cell_type": "code",
   "execution_count": 10,
   "metadata": {},
   "outputs": [],
   "source": [
    "ndf.to_csv('../benchmark_transcriptome/tcga-run-4/benchmark-automl.pr_curve.csv', index=False)"
   ]
  },
  {
   "cell_type": "code",
   "execution_count": 19,
   "metadata": {},
   "outputs": [
    {
     "data": {
      "text/plain": [
       "HBRC6    63\n",
       "UHRC2    63\n",
       "HBRC4    63\n",
       "UHRC1    63\n",
       "Name: sample_id, dtype: int64"
      ]
     },
     "execution_count": 19,
     "metadata": {},
     "output_type": "execute_result"
    }
   ],
   "source": [
    "ndf.sample_id.value_counts()"
   ]
  }
 ],
 "metadata": {
  "anaconda-cloud": {},
  "kernelspec": {
   "display_name": "Python 3",
   "language": "python",
   "name": "python3"
  },
  "language_info": {
   "codemirror_mode": {
    "name": "ipython",
    "version": 3
   },
   "file_extension": ".py",
   "mimetype": "text/x-python",
   "name": "python",
   "nbconvert_exporter": "python",
   "pygments_lexer": "ipython3",
   "version": "3.6.4"
  }
 },
 "nbformat": 4,
 "nbformat_minor": 2
}
