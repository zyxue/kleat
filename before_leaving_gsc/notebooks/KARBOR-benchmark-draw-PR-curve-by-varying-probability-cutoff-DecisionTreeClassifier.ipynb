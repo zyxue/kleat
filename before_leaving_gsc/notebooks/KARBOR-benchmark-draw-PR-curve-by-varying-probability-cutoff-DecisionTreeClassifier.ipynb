{
 "cells": [
  {
   "cell_type": "code",
   "execution_count": 1,
   "metadata": {},
   "outputs": [],
   "source": [
    "from eda_imports import *\n",
    "from adjustText import adjust_text"
   ]
  },
  {
   "cell_type": "code",
   "execution_count": 2,
   "metadata": {},
   "outputs": [],
   "source": [
    "from kleat.post import cluster_clv_parallel"
   ]
  },
  {
   "cell_type": "code",
   "execution_count": 3,
   "metadata": {},
   "outputs": [],
   "source": [
    "sys.path.insert(0, '../benchmark_scripts/')\n",
    "\n",
    "from train_arbor import load_df, load_polya_seq_df, map_to_ref, compare\n",
    "from ml_utils import KARBOR_FEATURE_COLS, calc_precision_recall_curve"
   ]
  },
  {
   "cell_type": "code",
   "execution_count": 4,
   "metadata": {},
   "outputs": [],
   "source": [
    "clf_pkl_files = sorted(glob.glob(\n",
    "    '../benchmark_transcriptome/tcga-run-4/benchmark-dt.DecisionTreeClassifier.tree_max_depth_*.pkl'\n",
    "))"
   ]
  },
  {
   "cell_type": "code",
   "execution_count": 5,
   "metadata": {},
   "outputs": [
    {
     "data": {
      "text/plain": [
       "19"
      ]
     },
     "execution_count": 5,
     "metadata": {},
     "output_type": "execute_result"
    }
   ],
   "source": [
    "len(clf_pkl_files)"
   ]
  },
  {
   "cell_type": "code",
   "execution_count": 6,
   "metadata": {},
   "outputs": [
    {
     "name": "stdout",
     "output_type": "stream",
     "text": [
      "working on benchmark-dt.DecisionTreeClassifier.tree_max_depth_1.pkl 1\n",
      "working on benchmark-dt.DecisionTreeClassifier.tree_max_depth_10.pkl 10\n",
      "working on benchmark-dt.DecisionTreeClassifier.tree_max_depth_11.pkl 11\n",
      "working on benchmark-dt.DecisionTreeClassifier.tree_max_depth_12.pkl 12\n",
      "working on benchmark-dt.DecisionTreeClassifier.tree_max_depth_13.pkl 13\n",
      "working on benchmark-dt.DecisionTreeClassifier.tree_max_depth_14.pkl 14\n",
      "working on benchmark-dt.DecisionTreeClassifier.tree_max_depth_15.pkl 15\n",
      "working on benchmark-dt.DecisionTreeClassifier.tree_max_depth_16.pkl 16\n",
      "working on benchmark-dt.DecisionTreeClassifier.tree_max_depth_17.pkl 17\n",
      "working on benchmark-dt.DecisionTreeClassifier.tree_max_depth_18.pkl 18\n",
      "working on benchmark-dt.DecisionTreeClassifier.tree_max_depth_19.pkl 19\n",
      "working on benchmark-dt.DecisionTreeClassifier.tree_max_depth_2.pkl 2\n",
      "working on benchmark-dt.DecisionTreeClassifier.tree_max_depth_3.pkl 3\n",
      "working on benchmark-dt.DecisionTreeClassifier.tree_max_depth_4.pkl 4\n",
      "working on benchmark-dt.DecisionTreeClassifier.tree_max_depth_5.pkl 5\n",
      "working on benchmark-dt.DecisionTreeClassifier.tree_max_depth_6.pkl 6\n",
      "working on benchmark-dt.DecisionTreeClassifier.tree_max_depth_7.pkl 7\n",
      "working on benchmark-dt.DecisionTreeClassifier.tree_max_depth_8.pkl 8\n",
      "working on benchmark-dt.DecisionTreeClassifier.tree_max_depth_9.pkl 9\n"
     ]
    }
   ],
   "source": [
    "clfs_dd = {}\n",
    "for pkl_file in clf_pkl_files:\n",
    "    tmax_depth = re.search('tree_max_depth_([0-9]+)', pkl_file).group(1)\n",
    "    tmax_depth = int(tmax_depth)\n",
    "    with open(pkl_file, 'rb') as inf:\n",
    "        print(f'working on {os.path.basename(pkl_file)}', tmax_depth)\n",
    "        clfs_dd[tmax_depth] = pickle.load(inf)"
   ]
  },
  {
   "cell_type": "code",
   "execution_count": 12,
   "metadata": {},
   "outputs": [],
   "source": [
    "%%time\n",
    "dfs = []\n",
    "thresholds = np.arange(0, 1.01, 0.05)\n",
    "for sample_id in ['HBRC4', 'HBRC6', 'UHRC1', 'UHRC2']:\n",
    "    adf = pd.read_pickle(f'../benchmark_transcriptome/{sample_id}.ml_ready.pkl')\n",
    "    assert adf[['seqname', 'strand', 'clv']].drop_duplicates().shape[0] == adf.shape[0]\n",
    "\n",
    "    for tmax_depth, clf in clfs_dd.items():\n",
    "        adf['pred_prob'] = clf.predict_proba(adf[KARBOR_FEATURE_COLS])[:,1]\n",
    "        bdf = adf[['seqname', 'strand', 'clv', 'pred_prob']].copy()\n",
    "\n",
    "        map_cutoff = 50\n",
    "        df_ref = load_polya_seq_df(sample_id)\n",
    "\n",
    "        df_res = calc_precision_recall_curve(\n",
    "            bdf, df_ref,  map_cutoff=50, cluster_cutoff=20, thresholds=thresholds, num_cpus=30)\n",
    "        df_res['tree_max_depth'] = tmax_depth\n",
    "        df_res['sample_id'] = sample_id\n",
    "        dfs.append(df_res)"
   ]
  },
  {
   "cell_type": "code",
   "execution_count": 9,
   "metadata": {},
   "outputs": [],
   "source": [
    "ndf = pd.concat(dfs)"
   ]
  },
  {
   "cell_type": "code",
   "execution_count": 10,
   "metadata": {},
   "outputs": [],
   "source": [
    "ndf.to_csv('../benchmark_transcriptome/tcga-run-4/benchmark-dt.pr_curve.csv', index=False)"
   ]
  },
  {
   "cell_type": "code",
   "execution_count": 11,
   "metadata": {},
   "outputs": [
    {
     "data": {
      "text/plain": [
       "(1596, 6)"
      ]
     },
     "execution_count": 11,
     "metadata": {},
     "output_type": "execute_result"
    }
   ],
   "source": [
    "ndf.shape"
   ]
  },
  {
   "cell_type": "code",
   "execution_count": 20,
   "metadata": {},
   "outputs": [
    {
     "data": {
      "text/plain": [
       "HBRC6    22\n",
       "UHRC2    22\n",
       "UHRC1    22\n",
       "HBRC4    22\n",
       "Name: sample_id, dtype: int64"
      ]
     },
     "execution_count": 20,
     "metadata": {},
     "output_type": "execute_result"
    }
   ],
   "source": [
    "ndf.sample_id.value_counts()"
   ]
  },
  {
   "cell_type": "code",
   "execution_count": 17,
   "metadata": {},
   "outputs": [
    {
     "data": {
      "text/html": [
       "<div>\n",
       "<style scoped>\n",
       "    .dataframe tbody tr th:only-of-type {\n",
       "        vertical-align: middle;\n",
       "    }\n",
       "\n",
       "    .dataframe tbody tr th {\n",
       "        vertical-align: top;\n",
       "    }\n",
       "\n",
       "    .dataframe thead th {\n",
       "        text-align: right;\n",
       "    }\n",
       "</style>\n",
       "<table border=\"1\" class=\"dataframe\">\n",
       "  <thead>\n",
       "    <tr style=\"text-align: right;\">\n",
       "      <th></th>\n",
       "      <th>recall</th>\n",
       "      <th>prec</th>\n",
       "      <th>f1</th>\n",
       "      <th>threshold</th>\n",
       "      <th>tree_max_depth</th>\n",
       "      <th>sample_id</th>\n",
       "    </tr>\n",
       "  </thead>\n",
       "  <tbody>\n",
       "    <tr>\n",
       "      <th>0</th>\n",
       "      <td>0.337573</td>\n",
       "      <td>0.034208</td>\n",
       "      <td>0.062120</td>\n",
       "      <td>0.00</td>\n",
       "      <td>1</td>\n",
       "      <td>HBRC4</td>\n",
       "    </tr>\n",
       "    <tr>\n",
       "      <th>1</th>\n",
       "      <td>0.254211</td>\n",
       "      <td>0.273257</td>\n",
       "      <td>0.263390</td>\n",
       "      <td>0.05</td>\n",
       "      <td>1</td>\n",
       "      <td>HBRC4</td>\n",
       "    </tr>\n",
       "    <tr>\n",
       "      <th>2</th>\n",
       "      <td>0.232344</td>\n",
       "      <td>0.367555</td>\n",
       "      <td>0.284712</td>\n",
       "      <td>0.10</td>\n",
       "      <td>1</td>\n",
       "      <td>HBRC4</td>\n",
       "    </tr>\n",
       "    <tr>\n",
       "      <th>3</th>\n",
       "      <td>0.188146</td>\n",
       "      <td>0.689252</td>\n",
       "      <td>0.295601</td>\n",
       "      <td>0.15</td>\n",
       "      <td>1</td>\n",
       "      <td>HBRC4</td>\n",
       "    </tr>\n",
       "    <tr>\n",
       "      <th>4</th>\n",
       "      <td>0.187552</td>\n",
       "      <td>0.695421</td>\n",
       "      <td>0.295429</td>\n",
       "      <td>0.20</td>\n",
       "      <td>1</td>\n",
       "      <td>HBRC4</td>\n",
       "    </tr>\n",
       "  </tbody>\n",
       "</table>\n",
       "</div>"
      ],
      "text/plain": [
       "     recall      prec        f1  threshold  tree_max_depth sample_id\n",
       "0  0.337573  0.034208  0.062120  0.00       1               HBRC4   \n",
       "1  0.254211  0.273257  0.263390  0.05       1               HBRC4   \n",
       "2  0.232344  0.367555  0.284712  0.10       1               HBRC4   \n",
       "3  0.188146  0.689252  0.295601  0.15       1               HBRC4   \n",
       "4  0.187552  0.695421  0.295429  0.20       1               HBRC4   "
      ]
     },
     "execution_count": 17,
     "metadata": {},
     "output_type": "execute_result"
    }
   ],
   "source": [
    "ndf.head()"
   ]
  },
  {
   "cell_type": "code",
   "execution_count": null,
   "metadata": {},
   "outputs": [],
   "source": []
  }
 ],
 "metadata": {
  "anaconda-cloud": {},
  "kernelspec": {
   "display_name": "Python 3",
   "language": "python",
   "name": "python3"
  },
  "language_info": {
   "codemirror_mode": {
    "name": "ipython",
    "version": 3
   },
   "file_extension": ".py",
   "mimetype": "text/x-python",
   "name": "python",
   "nbconvert_exporter": "python",
   "pygments_lexer": "ipython3",
   "version": "3.6.4"
  }
 },
 "nbformat": 4,
 "nbformat_minor": 2
}
