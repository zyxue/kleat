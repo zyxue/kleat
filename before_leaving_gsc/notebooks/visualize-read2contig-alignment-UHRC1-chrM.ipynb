{
 "cells": [
  {
   "cell_type": "code",
   "execution_count": 1,
   "metadata": {},
   "outputs": [
    {
     "name": "stdout",
     "output_type": "stream",
     "text": [
      "seaborn not found\n"
     ]
    }
   ],
   "source": [
    "from eda_imports import *\n",
    "\n",
    "import pysam\n",
    "from tqdm import tqdm\n",
    "\n",
    "import kleat.misc.settings as S\n",
    "import kleat.misc.utils as U\n",
    "from kleat.misc.apautils import calc_genome_offset\n",
    "from kleat.evidence import bridge\n",
    "\n",
    "from kleat.visaln import visaln"
   ]
  },
  {
   "cell_type": "code",
   "execution_count": null,
   "metadata": {},
   "outputs": [],
   "source": [
    "ls ../../kleat/benchmark_transcriptome/UHRC1/"
   ]
  },
  {
   "cell_type": "code",
   "execution_count": 7,
   "metadata": {},
   "outputs": [],
   "source": [
    "# DATA_DIR='/projects/btl/zxue/tasrkleat-TCGA-results/tasrkleat-TCGA-analysis-scripts/benchmark-kleat.bk/UHR/C1/tasrkleat-results'\n",
    "DATA_DIR='../../kleat/'\n",
    "c2g_bam = pysam.AlignmentFile(os.path.join(DATA_DIR, './benchmark_transcriptome/UHRC1/c2g.bam'))\n",
    "r2c_bam = pysam.AlignmentFile(os.path.join(DATA_DIR, './benchmark_transcriptome/UHRC1/r2c_sorted.bam'))"
   ]
  },
  {
   "cell_type": "code",
   "execution_count": 8,
   "metadata": {},
   "outputs": [],
   "source": [
    "contig_name = 'E1.L.9227'\n",
    "reference_name = 'chrM'\n",
    "predicted_clvs = sorted([16565])"
   ]
  },
  {
   "cell_type": "code",
   "execution_count": 9,
   "metadata": {},
   "outputs": [
    {
     "name": "stdout",
     "output_type": "stream",
     "text": [
      "410M1D387M188S\n"
     ]
    }
   ],
   "source": [
    "for contig in c2g_bam:\n",
    "    if contig.query_name == contig_name and contig.reference_name == reference_name:\n",
    "#         if contig.reference_name == 'chr16' and contig.is_reverse:\n",
    "            print(contig.cigarstring)\n",
    "            break"
   ]
  },
  {
   "cell_type": "code",
   "execution_count": 10,
   "metadata": {},
   "outputs": [
    {
     "data": {
      "text/plain": [
       "'chrM'"
      ]
     },
     "execution_count": 10,
     "metadata": {},
     "output_type": "execute_result"
    }
   ],
   "source": [
    "contig.reference_name"
   ]
  },
  {
   "cell_type": "code",
   "execution_count": 11,
   "metadata": {},
   "outputs": [
    {
     "name": "stdout",
     "output_type": "stream",
     "text": [
      "E1.L.9227 False 15773\n",
      "410M1D387M188S\n"
     ]
    }
   ],
   "source": [
    "print(contig.query_name, contig.is_reverse, contig.reference_start)\n",
    "print(contig.cigarstring)"
   ]
  },
  {
   "cell_type": "code",
   "execution_count": 12,
   "metadata": {},
   "outputs": [],
   "source": [
    "reads = r2c_bam.fetch(contig.query_name)\n",
    "bdg_read_info = []\n",
    "for rd in reads:\n",
    "    if bridge.is_a_bridge_read(rd):\n",
    "        if contig.is_reverse:\n",
    "            contig_len = contig.infer_query_length(always=True)\n",
    "            bdg_read_info.append([\n",
    "                contig_len - rd.reference_end,\n",
    "                contig_len - rd.reference_start,\n",
    "                not rd.is_reverse,\n",
    "                f'rev({rd.cigarstring})',\n",
    "                tuple(reversed(rd.cigartuples))\n",
    "            ])\n",
    "        else:\n",
    "            contig_len = contig.infer_query_length(always=True)            \n",
    "            bdg_read_info.append([                \n",
    "                rd.reference_start,\n",
    "                rd.reference_end,\n",
    "                rd.is_reverse,\n",
    "                f'{rd.cigarstring}',\n",
    "                rd.cigartuples\n",
    "            ])"
   ]
  },
  {
   "cell_type": "code",
   "execution_count": 13,
   "metadata": {},
   "outputs": [],
   "source": [
    "df_bdg_read = pd.DataFrame(bdg_read_info, columns=['reference_start', 'reference_end', 'is_reverse', 'cigarstring', 'cigartuples'])\n",
    "df_bdg_read = df_bdg_read.sort_values('reference_start').reset_index(drop=True)"
   ]
  },
  {
   "cell_type": "code",
   "execution_count": 14,
   "metadata": {},
   "outputs": [
    {
     "data": {
      "text/plain": [
       "(35, 5)"
      ]
     },
     "execution_count": 14,
     "metadata": {},
     "output_type": "execute_result"
    }
   ],
   "source": [
    "df_bdg_read.shape"
   ]
  },
  {
   "cell_type": "code",
   "execution_count": 15,
   "metadata": {},
   "outputs": [
    {
     "data": {
      "text/html": [
       "<div>\n",
       "<style scoped>\n",
       "    .dataframe tbody tr th:only-of-type {\n",
       "        vertical-align: middle;\n",
       "    }\n",
       "\n",
       "    .dataframe tbody tr th {\n",
       "        vertical-align: top;\n",
       "    }\n",
       "\n",
       "    .dataframe thead th {\n",
       "        text-align: right;\n",
       "    }\n",
       "</style>\n",
       "<table border=\"1\" class=\"dataframe\">\n",
       "  <thead>\n",
       "    <tr style=\"text-align: right;\">\n",
       "      <th></th>\n",
       "      <th>reference_start</th>\n",
       "      <th>reference_end</th>\n",
       "      <th>is_reverse</th>\n",
       "      <th>cigarstring</th>\n",
       "      <th>cigartuples</th>\n",
       "    </tr>\n",
       "  </thead>\n",
       "  <tbody>\n",
       "    <tr>\n",
       "      <th>0</th>\n",
       "      <td>200</td>\n",
       "      <td>266</td>\n",
       "      <td>True</td>\n",
       "      <td>66M8S</td>\n",
       "      <td>[(0, 66), (4, 8)]</td>\n",
       "    </tr>\n",
       "    <tr>\n",
       "      <th>1</th>\n",
       "      <td>248</td>\n",
       "      <td>317</td>\n",
       "      <td>True</td>\n",
       "      <td>69M4S</td>\n",
       "      <td>[(0, 69), (4, 4)]</td>\n",
       "    </tr>\n",
       "    <tr>\n",
       "      <th>2</th>\n",
       "      <td>257</td>\n",
       "      <td>322</td>\n",
       "      <td>True</td>\n",
       "      <td>65M9S</td>\n",
       "      <td>[(0, 65), (4, 9)]</td>\n",
       "    </tr>\n",
       "    <tr>\n",
       "      <th>3</th>\n",
       "      <td>293</td>\n",
       "      <td>363</td>\n",
       "      <td>True</td>\n",
       "      <td>70M5S</td>\n",
       "      <td>[(0, 70), (4, 5)]</td>\n",
       "    </tr>\n",
       "    <tr>\n",
       "      <th>4</th>\n",
       "      <td>341</td>\n",
       "      <td>411</td>\n",
       "      <td>True</td>\n",
       "      <td>70M5S</td>\n",
       "      <td>[(0, 70), (4, 5)]</td>\n",
       "    </tr>\n",
       "    <tr>\n",
       "      <th>5</th>\n",
       "      <td>341</td>\n",
       "      <td>411</td>\n",
       "      <td>True</td>\n",
       "      <td>70M5S</td>\n",
       "      <td>[(0, 70), (4, 5)]</td>\n",
       "    </tr>\n",
       "    <tr>\n",
       "      <th>6</th>\n",
       "      <td>343</td>\n",
       "      <td>416</td>\n",
       "      <td>True</td>\n",
       "      <td>73M2S</td>\n",
       "      <td>[(0, 73), (4, 2)]</td>\n",
       "    </tr>\n",
       "    <tr>\n",
       "      <th>7</th>\n",
       "      <td>343</td>\n",
       "      <td>416</td>\n",
       "      <td>True</td>\n",
       "      <td>73M2S</td>\n",
       "      <td>[(0, 73), (4, 2)]</td>\n",
       "    </tr>\n",
       "    <tr>\n",
       "      <th>8</th>\n",
       "      <td>343</td>\n",
       "      <td>416</td>\n",
       "      <td>True</td>\n",
       "      <td>73M2S</td>\n",
       "      <td>[(0, 73), (4, 2)]</td>\n",
       "    </tr>\n",
       "    <tr>\n",
       "      <th>9</th>\n",
       "      <td>343</td>\n",
       "      <td>416</td>\n",
       "      <td>True</td>\n",
       "      <td>73M2S</td>\n",
       "      <td>[(0, 73), (4, 2)]</td>\n",
       "    </tr>\n",
       "    <tr>\n",
       "      <th>10</th>\n",
       "      <td>529</td>\n",
       "      <td>601</td>\n",
       "      <td>False</td>\n",
       "      <td>2S72M</td>\n",
       "      <td>[(4, 2), (0, 72)]</td>\n",
       "    </tr>\n",
       "    <tr>\n",
       "      <th>11</th>\n",
       "      <td>529</td>\n",
       "      <td>601</td>\n",
       "      <td>False</td>\n",
       "      <td>2S72M</td>\n",
       "      <td>[(4, 2), (0, 72)]</td>\n",
       "    </tr>\n",
       "    <tr>\n",
       "      <th>12</th>\n",
       "      <td>529</td>\n",
       "      <td>601</td>\n",
       "      <td>False</td>\n",
       "      <td>2S72M</td>\n",
       "      <td>[(4, 2), (0, 72)]</td>\n",
       "    </tr>\n",
       "    <tr>\n",
       "      <th>13</th>\n",
       "      <td>556</td>\n",
       "      <td>621</td>\n",
       "      <td>False</td>\n",
       "      <td>10S65M</td>\n",
       "      <td>[(4, 10), (0, 65)]</td>\n",
       "    </tr>\n",
       "    <tr>\n",
       "      <th>14</th>\n",
       "      <td>556</td>\n",
       "      <td>621</td>\n",
       "      <td>False</td>\n",
       "      <td>10S65M</td>\n",
       "      <td>[(4, 10), (0, 65)]</td>\n",
       "    </tr>\n",
       "    <tr>\n",
       "      <th>15</th>\n",
       "      <td>581</td>\n",
       "      <td>644</td>\n",
       "      <td>False</td>\n",
       "      <td>11S63M</td>\n",
       "      <td>[(4, 11), (0, 63)]</td>\n",
       "    </tr>\n",
       "    <tr>\n",
       "      <th>16</th>\n",
       "      <td>592</td>\n",
       "      <td>657</td>\n",
       "      <td>False</td>\n",
       "      <td>9S65M</td>\n",
       "      <td>[(4, 9), (0, 65)]</td>\n",
       "    </tr>\n",
       "    <tr>\n",
       "      <th>17</th>\n",
       "      <td>606</td>\n",
       "      <td>671</td>\n",
       "      <td>False</td>\n",
       "      <td>10S65M</td>\n",
       "      <td>[(4, 10), (0, 65)]</td>\n",
       "    </tr>\n",
       "    <tr>\n",
       "      <th>18</th>\n",
       "      <td>606</td>\n",
       "      <td>671</td>\n",
       "      <td>False</td>\n",
       "      <td>10S65M</td>\n",
       "      <td>[(4, 10), (0, 65)]</td>\n",
       "    </tr>\n",
       "    <tr>\n",
       "      <th>19</th>\n",
       "      <td>636</td>\n",
       "      <td>707</td>\n",
       "      <td>False</td>\n",
       "      <td>4S71M</td>\n",
       "      <td>[(4, 4), (0, 71)]</td>\n",
       "    </tr>\n",
       "    <tr>\n",
       "      <th>20</th>\n",
       "      <td>636</td>\n",
       "      <td>703</td>\n",
       "      <td>False</td>\n",
       "      <td>8S67M</td>\n",
       "      <td>[(4, 8), (0, 67)]</td>\n",
       "    </tr>\n",
       "    <tr>\n",
       "      <th>21</th>\n",
       "      <td>658</td>\n",
       "      <td>725</td>\n",
       "      <td>True</td>\n",
       "      <td>67M8S</td>\n",
       "      <td>[(0, 67), (4, 8)]</td>\n",
       "    </tr>\n",
       "    <tr>\n",
       "      <th>22</th>\n",
       "      <td>689</td>\n",
       "      <td>756</td>\n",
       "      <td>False</td>\n",
       "      <td>8S67M</td>\n",
       "      <td>[(4, 8), (0, 67)]</td>\n",
       "    </tr>\n",
       "    <tr>\n",
       "      <th>23</th>\n",
       "      <td>689</td>\n",
       "      <td>756</td>\n",
       "      <td>False</td>\n",
       "      <td>8S67M</td>\n",
       "      <td>[(4, 8), (0, 67)]</td>\n",
       "    </tr>\n",
       "    <tr>\n",
       "      <th>24</th>\n",
       "      <td>697</td>\n",
       "      <td>762</td>\n",
       "      <td>True</td>\n",
       "      <td>65M9S</td>\n",
       "      <td>[(0, 65), (4, 9)]</td>\n",
       "    </tr>\n",
       "    <tr>\n",
       "      <th>25</th>\n",
       "      <td>722</td>\n",
       "      <td>780</td>\n",
       "      <td>False</td>\n",
       "      <td>16S58M</td>\n",
       "      <td>[(4, 16), (0, 58)]</td>\n",
       "    </tr>\n",
       "    <tr>\n",
       "      <th>26</th>\n",
       "      <td>722</td>\n",
       "      <td>780</td>\n",
       "      <td>False</td>\n",
       "      <td>16S58M</td>\n",
       "      <td>[(4, 16), (0, 58)]</td>\n",
       "    </tr>\n",
       "    <tr>\n",
       "      <th>27</th>\n",
       "      <td>722</td>\n",
       "      <td>780</td>\n",
       "      <td>False</td>\n",
       "      <td>16S58M</td>\n",
       "      <td>[(4, 16), (0, 58)]</td>\n",
       "    </tr>\n",
       "    <tr>\n",
       "      <th>28</th>\n",
       "      <td>722</td>\n",
       "      <td>780</td>\n",
       "      <td>False</td>\n",
       "      <td>16S58M</td>\n",
       "      <td>[(4, 16), (0, 58)]</td>\n",
       "    </tr>\n",
       "    <tr>\n",
       "      <th>29</th>\n",
       "      <td>730</td>\n",
       "      <td>792</td>\n",
       "      <td>True</td>\n",
       "      <td>62M9S</td>\n",
       "      <td>[(0, 62), (4, 9)]</td>\n",
       "    </tr>\n",
       "    <tr>\n",
       "      <th>30</th>\n",
       "      <td>730</td>\n",
       "      <td>792</td>\n",
       "      <td>True</td>\n",
       "      <td>62M9S</td>\n",
       "      <td>[(0, 62), (4, 9)]</td>\n",
       "    </tr>\n",
       "    <tr>\n",
       "      <th>31</th>\n",
       "      <td>821</td>\n",
       "      <td>882</td>\n",
       "      <td>True</td>\n",
       "      <td>61M14S</td>\n",
       "      <td>[(0, 61), (4, 14)]</td>\n",
       "    </tr>\n",
       "    <tr>\n",
       "      <th>32</th>\n",
       "      <td>912</td>\n",
       "      <td>985</td>\n",
       "      <td>True</td>\n",
       "      <td>73M1S</td>\n",
       "      <td>[(0, 73), (4, 1)]</td>\n",
       "    </tr>\n",
       "    <tr>\n",
       "      <th>33</th>\n",
       "      <td>912</td>\n",
       "      <td>985</td>\n",
       "      <td>True</td>\n",
       "      <td>73M1S</td>\n",
       "      <td>[(0, 73), (4, 1)]</td>\n",
       "    </tr>\n",
       "    <tr>\n",
       "      <th>34</th>\n",
       "      <td>912</td>\n",
       "      <td>985</td>\n",
       "      <td>True</td>\n",
       "      <td>73M1S</td>\n",
       "      <td>[(0, 73), (4, 1)]</td>\n",
       "    </tr>\n",
       "  </tbody>\n",
       "</table>\n",
       "</div>"
      ],
      "text/plain": [
       "    reference_start  reference_end  is_reverse cigarstring         cigartuples\n",
       "0   200              266            True        66M8S       [(0, 66), (4, 8)] \n",
       "1   248              317            True        69M4S       [(0, 69), (4, 4)] \n",
       "2   257              322            True        65M9S       [(0, 65), (4, 9)] \n",
       "3   293              363            True        70M5S       [(0, 70), (4, 5)] \n",
       "4   341              411            True        70M5S       [(0, 70), (4, 5)] \n",
       "5   341              411            True        70M5S       [(0, 70), (4, 5)] \n",
       "6   343              416            True        73M2S       [(0, 73), (4, 2)] \n",
       "7   343              416            True        73M2S       [(0, 73), (4, 2)] \n",
       "8   343              416            True        73M2S       [(0, 73), (4, 2)] \n",
       "9   343              416            True        73M2S       [(0, 73), (4, 2)] \n",
       "10  529              601            False       2S72M       [(4, 2), (0, 72)] \n",
       "11  529              601            False       2S72M       [(4, 2), (0, 72)] \n",
       "12  529              601            False       2S72M       [(4, 2), (0, 72)] \n",
       "13  556              621            False       10S65M      [(4, 10), (0, 65)]\n",
       "14  556              621            False       10S65M      [(4, 10), (0, 65)]\n",
       "15  581              644            False       11S63M      [(4, 11), (0, 63)]\n",
       "16  592              657            False       9S65M       [(4, 9), (0, 65)] \n",
       "17  606              671            False       10S65M      [(4, 10), (0, 65)]\n",
       "18  606              671            False       10S65M      [(4, 10), (0, 65)]\n",
       "19  636              707            False       4S71M       [(4, 4), (0, 71)] \n",
       "20  636              703            False       8S67M       [(4, 8), (0, 67)] \n",
       "21  658              725            True        67M8S       [(0, 67), (4, 8)] \n",
       "22  689              756            False       8S67M       [(4, 8), (0, 67)] \n",
       "23  689              756            False       8S67M       [(4, 8), (0, 67)] \n",
       "24  697              762            True        65M9S       [(0, 65), (4, 9)] \n",
       "25  722              780            False       16S58M      [(4, 16), (0, 58)]\n",
       "26  722              780            False       16S58M      [(4, 16), (0, 58)]\n",
       "27  722              780            False       16S58M      [(4, 16), (0, 58)]\n",
       "28  722              780            False       16S58M      [(4, 16), (0, 58)]\n",
       "29  730              792            True        62M9S       [(0, 62), (4, 9)] \n",
       "30  730              792            True        62M9S       [(0, 62), (4, 9)] \n",
       "31  821              882            True        61M14S      [(0, 61), (4, 14)]\n",
       "32  912              985            True        73M1S       [(0, 73), (4, 1)] \n",
       "33  912              985            True        73M1S       [(0, 73), (4, 1)] \n",
       "34  912              985            True        73M1S       [(0, 73), (4, 1)] "
      ]
     },
     "execution_count": 15,
     "metadata": {},
     "output_type": "execute_result"
    }
   ],
   "source": [
    "df_bdg_read"
   ]
  },
  {
   "cell_type": "code",
   "execution_count": 16,
   "metadata": {},
   "outputs": [],
   "source": [
    "contig_sr = pd.Series(\n",
    "    [contig.reference_start, contig.reference_end, contig.cigarstring, contig.cigartuples], \n",
    "    index=['reference_start', 'reference_end', 'cigarstring', 'cigartuples']\n",
    ")"
   ]
  },
  {
   "cell_type": "code",
   "execution_count": 17,
   "metadata": {},
   "outputs": [
    {
     "data": {
      "text/html": [
       "<div>\n",
       "<style scoped>\n",
       "    .dataframe tbody tr th:only-of-type {\n",
       "        vertical-align: middle;\n",
       "    }\n",
       "\n",
       "    .dataframe tbody tr th {\n",
       "        vertical-align: top;\n",
       "    }\n",
       "\n",
       "    .dataframe thead th {\n",
       "        text-align: right;\n",
       "    }\n",
       "</style>\n",
       "<table border=\"1\" class=\"dataframe\">\n",
       "  <thead>\n",
       "    <tr style=\"text-align: right;\">\n",
       "      <th></th>\n",
       "      <th>reference_start</th>\n",
       "      <th>reference_end</th>\n",
       "      <th>cigarstring</th>\n",
       "      <th>cigartuples</th>\n",
       "    </tr>\n",
       "  </thead>\n",
       "  <tbody>\n",
       "    <tr>\n",
       "      <th>0</th>\n",
       "      <td>15773</td>\n",
       "      <td>16571</td>\n",
       "      <td>410M1D387M188S</td>\n",
       "      <td>[(0, 410), (2, 1), (0, 387), (4, 188)]</td>\n",
       "    </tr>\n",
       "  </tbody>\n",
       "</table>\n",
       "</div>"
      ],
      "text/plain": [
       "  reference_start reference_end     cigarstring                             cigartuples\n",
       "0  15773           16571         410M1D387M188S  [(0, 410), (2, 1), (0, 387), (4, 188)]"
      ]
     },
     "execution_count": 17,
     "metadata": {},
     "output_type": "execute_result"
    }
   ],
   "source": [
    "contig_sr.to_frame().T"
   ]
  },
  {
   "cell_type": "code",
   "execution_count": 18,
   "metadata": {},
   "outputs": [],
   "source": [
    "num_skips = visaln.calc_num_skips(contig)\n",
    "# TODO: turn this into accepting predicted_clvs\n",
    "df_xlims = visaln.calc_xlim_pairs(contig, predicted_clvs[0])"
   ]
  },
  {
   "cell_type": "code",
   "execution_count": 19,
   "metadata": {},
   "outputs": [
    {
     "data": {
      "text/html": [
       "<div>\n",
       "<style scoped>\n",
       "    .dataframe tbody tr th:only-of-type {\n",
       "        vertical-align: middle;\n",
       "    }\n",
       "\n",
       "    .dataframe tbody tr th {\n",
       "        vertical-align: top;\n",
       "    }\n",
       "\n",
       "    .dataframe thead th {\n",
       "        text-align: right;\n",
       "    }\n",
       "</style>\n",
       "<table border=\"1\" class=\"dataframe\">\n",
       "  <thead>\n",
       "    <tr style=\"text-align: right;\">\n",
       "      <th></th>\n",
       "      <th>xmin</th>\n",
       "      <th>xmax</th>\n",
       "      <th>span</th>\n",
       "      <th>cover_prd_clv</th>\n",
       "    </tr>\n",
       "  </thead>\n",
       "  <tbody>\n",
       "    <tr>\n",
       "      <th>0</th>\n",
       "      <td>15771</td>\n",
       "      <td>16760</td>\n",
       "      <td>989</td>\n",
       "      <td>True</td>\n",
       "    </tr>\n",
       "  </tbody>\n",
       "</table>\n",
       "</div>"
      ],
      "text/plain": [
       "    xmin   xmax  span  cover_prd_clv\n",
       "0  15771  16760  989   True         "
      ]
     },
     "execution_count": 19,
     "metadata": {},
     "output_type": "execute_result"
    }
   ],
   "source": [
    "df_xlims"
   ]
  },
  {
   "cell_type": "code",
   "execution_count": 23,
   "metadata": {},
   "outputs": [
    {
     "name": "stdout",
     "output_type": "stream",
     "text": [
      "15771 - 16760, covering clv True\n"
     ]
    },
    {
     "data": {
      "image/png": "[encoded data removed]",
      "text/plain": [
       "<Figure size 1152x518.4 with 1 Axes>"
      ]
     },
     "metadata": {},
     "output_type": "display_data"
    }
   ],
   "source": [
    "num_subplots = num_skips + 1\n",
    "fig_height = (df_bdg_read.shape[0] + 1) * 0.2\n",
    "\n",
    "fig, axes = plt.subplots(\n",
    "    1, num_skips + 1, figsize=(16, fig_height), sharey=True, \n",
    "    gridspec_kw = {\n",
    "        'width_ratios':df_xlims.span, \n",
    "        'hspace': 0.5\n",
    "    }\n",
    ")\n",
    "\n",
    "if num_subplots == 1:\n",
    "    axes = [axes]\n",
    "else:\n",
    "    axes = axes.ravel()\n",
    "\n",
    "for ki, row in df_xlims.iterrows():\n",
    "    ax = axes[ki]\n",
    "    height = 0.6\n",
    "    for k, read in df_bdg_read.iterrows():\n",
    "        cx = visaln.get_abs_start(read)\n",
    "        cx = visaln.convert_contig2genome_coord(cx, contig)\n",
    "        cy = k\n",
    "        visaln.draw_alignment(ax, cx, cy, read)\n",
    "\n",
    "    cx = visaln.get_abs_start(contig)\n",
    "    visaln.draw_alignment(ax, cx, cy=-1, aln=contig)\n",
    "\n",
    "    ylim = [-2, df_bdg_read.shape[0] + 1]\n",
    "\n",
    "    for _clv in predicted_clvs:\n",
    "        ax.plot([_clv, _clv], ylim, color='black')\n",
    "    ax.set_ylim(ylim)\n",
    "    print(f'{row.xmin} - {row.xmax}, covering clv {row.xmin <= _clv <= row.xmax}')\n",
    "    ax.set_xlim(row.xmin, row.xmax)\n",
    "    \n",
    "    for tick in ax.get_xticklabels(): tick.set_rotation(90)    \n",
    "    \n",
    "    if ki > 0:\n",
    "        ax.spines['left'].set_visible(False)\n",
    "    ax.spines['right'].set_visible(False)\n",
    "    ax.spines['top'].set_visible(False)\n",
    "\n",
    "    if ki == 0:\n",
    "        ax.tick_params(top=False, right=False)\n",
    "    if ki > 0:\n",
    "        ax.tick_params(top=False, right=False, left=False)\n",
    "        \n",
    "    ax.yaxis.grid()\n",
    "    ax.xaxis.grid()\n",
    "    \n",
    "strand = '-' if contig.is_reverse else '+'\n",
    "fig.suptitle(f'{contig.query_name}, {contig.cigarstring}, {contig.reference_name}, ({strand}), clv: {_clv}', fontsize=20, y =1.02)\n",
    "\n",
    "# xlim = ax.get_xlim()\n",
    "# ax.set_xlim(xlim[0] -50, xlim[1] + 50)\n",
    "\n",
    "xlim = ax.get_xlim()\n",
    "# ax.set_xlim(xlim[0] + 2640, xlim[1] - 190)"
   ]
  },
  {
   "cell_type": "code",
   "execution_count": null,
   "metadata": {},
   "outputs": [],
   "source": []
  },
  {
   "cell_type": "code",
   "execution_count": null,
   "metadata": {},
   "outputs": [],
   "source": []
  },
  {
   "cell_type": "code",
   "execution_count": null,
   "metadata": {},
   "outputs": [],
   "source": []
  },
  {
   "cell_type": "code",
   "execution_count": 75,
   "metadata": {},
   "outputs": [
    {
     "name": "stdout",
     "output_type": "stream",
     "text": [
      "26256756 - 26257810, covering clv False\n",
      "26321323 - 26321797, covering clv False\n",
      "26332429 - 26332981, covering clv False\n",
      "26349805 - 26350308, covering clv False\n",
      "26350511 - 26351026, covering clv False\n",
      "26357599 - 26360496, covering clv True\n"
     ]
    },
    {
     "data": {
      "text/plain": [
       "(26360239.0, 26360306.0)"
      ]
     },
     "execution_count": 75,
     "metadata": {},
     "output_type": "execute_result"
    },
    {
     "data": {
      "image/png": "[encoded data removed]",
      "text/plain": [
       "<Figure size 1152x468 with 6 Axes>"
      ]
     },
     "metadata": {},
     "output_type": "display_data"
    }
   ],
   "source": [
    "num_subplots = num_skips + 1\n",
    "fig_height = (df_bdg_read.shape[0] + 1) * 0.5\n",
    "\n",
    "fig, axes = plt.subplots(\n",
    "    1, num_skips + 1, figsize=(16, fig_height), sharey=True, \n",
    "    gridspec_kw = {\n",
    "        'width_ratios':df_xlims.span, \n",
    "        'hspace': 0.5\n",
    "    }\n",
    ")\n",
    "\n",
    "if num_subplots == 1:\n",
    "    axes = [axes]\n",
    "else:\n",
    "    axes = axes.ravel()\n",
    "\n",
    "for ki, row in df_xlims.iterrows():\n",
    "    ax = axes[ki]\n",
    "    height = 0.6\n",
    "    for k, read in df_bdg_read.iterrows():\n",
    "        cx = visaln.get_abs_start(read)\n",
    "        cx = visaln.convert_contig2genome_coord(cx, contig)\n",
    "        cy = k\n",
    "        visaln.draw_alignment(ax, cx, cy, read)\n",
    "\n",
    "    cx = visaln.get_abs_start(contig)\n",
    "    visaln.draw_alignment(ax, cx, cy=-1, aln=contig)\n",
    "\n",
    "    ylim = [-2, df_bdg_read.shape[0] + 1]\n",
    "\n",
    "    for _clv in predicted_clvs:\n",
    "        ax.plot([_clv, _clv], ylim, color='black')\n",
    "    ax.set_ylim(ylim)\n",
    "    print(f'{row.xmin} - {row.xmax}, covering clv {row.xmin <= _clv <= row.xmax}')\n",
    "    ax.set_xlim(row.xmin, row.xmax)\n",
    "    \n",
    "    for tick in ax.get_xticklabels(): tick.set_rotation(90)    \n",
    "    \n",
    "    if ki > 0:\n",
    "        ax.spines['left'].set_visible(False)\n",
    "    ax.spines['right'].set_visible(False)\n",
    "    ax.spines['top'].set_visible(False)\n",
    "\n",
    "    if ki == 0:\n",
    "        ax.tick_params(top=False, right=False)\n",
    "    if ki > 0:\n",
    "        ax.tick_params(top=False, right=False, left=False)\n",
    "        \n",
    "    ax.yaxis.grid()\n",
    "    ax.xaxis.grid()\n",
    "    \n",
    "strand = '-' if contig.is_reverse else '+'\n",
    "fig.suptitle(f'{contig.query_name}, {contig.cigarstring}, {contig.reference_name}, ({strand}), clv: {_clv}', fontsize=20, y =1.02)\n",
    "\n",
    "# xlim = ax.get_xlim()\n",
    "# ax.set_xlim(xlim[0] -50, xlim[1] + 50)\n",
    "\n",
    "# xlim = ax.get_xlim()\n",
    "ax.set_xlim(xlim[0] + 2640, xlim[1] - 190)"
   ]
  },
  {
   "cell_type": "code",
   "execution_count": null,
   "metadata": {},
   "outputs": [],
   "source": []
  },
  {
   "cell_type": "code",
   "execution_count": null,
   "metadata": {},
   "outputs": [],
   "source": []
  },
  {
   "cell_type": "code",
   "execution_count": null,
   "metadata": {},
   "outputs": [],
   "source": []
  },
  {
   "cell_type": "code",
   "execution_count": null,
   "metadata": {},
   "outputs": [],
   "source": []
  },
  {
   "cell_type": "code",
   "execution_count": null,
   "metadata": {},
   "outputs": [],
   "source": []
  },
  {
   "cell_type": "code",
   "execution_count": null,
   "metadata": {},
   "outputs": [],
   "source": []
  },
  {
   "cell_type": "code",
   "execution_count": 2,
   "metadata": {},
   "outputs": [],
   "source": [
    "c2g_bam_file = '/projects/btl/zxue/tasrkleat-TCGA-results/tasrkleat-PAS-dynamics-analysis/../tcga/BRCA/RNA/RNA-Seq/UNC-LCCC/ILLUMINA/UNCID_2185669.176b2422-3599-41c5-be62-ae6e28d60b90.121205_UNC14-SN744_0276_AC19W1ACXX_6_CAGATC.tar.gz/tasrkleat-results/align_contigs2genome/cba.sorted.bam'\n",
    "r2c_bam_file = '/projects/btl/zxue/tasrkleat-TCGA-results/tasrkleat-PAS-dynamics-analysis/../tcga/BRCA/RNA/RNA-Seq/UNC-LCCC/ILLUMINA/UNCID_2185669.176b2422-3599-41c5-be62-ae6e28d60b90.121205_UNC14-SN744_0276_AC19W1ACXX_6_CAGATC.tar.gz/tasrkleat-results/align_reads2contigs/cba.sorted.bam'"
   ]
  },
  {
   "cell_type": "code",
   "execution_count": 3,
   "metadata": {},
   "outputs": [],
   "source": [
    "c2g_bam = pysam.AlignmentFile(c2g_bam_file)\n",
    "r2c_bam = pysam.AlignmentFile(r2c_bam_file)"
   ]
  },
  {
   "cell_type": "code",
   "execution_count": 4,
   "metadata": {},
   "outputs": [],
   "source": [
    "contig_name = 'A0.R247312'\n",
    "reference_name = 'chr10'\n",
    "predicted_clvs = sorted([89731686])"
   ]
  }
 ],
 "metadata": {
  "kernelspec": {
   "display_name": "Python 3",
   "language": "python",
   "name": "python3"
  },
  "language_info": {
   "codemirror_mode": {
    "name": "ipython",
    "version": 3
   },
   "file_extension": ".py",
   "mimetype": "text/x-python",
   "name": "python",
   "nbconvert_exporter": "python",
   "pygments_lexer": "ipython3",
   "version": "3.6.4"
  }
 },
 "nbformat": 4,
 "nbformat_minor": 2
}
